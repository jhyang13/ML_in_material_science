{
 "cells": [
  {
   "cell_type": "code",
   "execution_count": 1,
   "metadata": {},
   "outputs": [],
   "source": [
    "from selenium import webdriver\n",
    "from selenium.webdriver.common.by import By\n",
    "from selenium.webdriver.support.ui import WebDriverWait\n",
    "from selenium.webdriver.support import expected_conditions as EC\n",
    "from selenium.webdriver.support.ui import Select\n",
    "from selenium.common.exceptions import ElementClickInterceptedException\n",
    "import time\n",
    "import sys\n",
    "import re\n",
    "import requests\n",
    "from bs4 import BeautifulSoup\n",
    "from math import ceil\n",
    "import pandas as pd\n",
    "\n",
    "\n",
    "import pickle\n",
    "import pandas as pd\n",
    "from rdkit import Chem\n",
    "import numpy as np"
   ]
  },
  {
   "cell_type": "code",
   "execution_count": null,
   "metadata": {},
   "outputs": [],
   "source": [
    "time.sleep(sleepTime())"
   ]
  },
  {
   "cell_type": "code",
   "execution_count": null,
   "metadata": {},
   "outputs": [],
   "source": [
    "def sleepTime():\n",
    "    return random.uniform(4.5, 8.1)"
   ]
  },
  {
   "cell_type": "code",
   "execution_count": 2,
   "metadata": {},
   "outputs": [],
   "source": [
    "driver = webdriver.Chrome(executable_path=r\"C:\\Users\\let20002\\Downloads\\chromedriver.exe\")"
   ]
  },
  {
   "cell_type": "code",
   "execution_count": 3,
   "metadata": {},
   "outputs": [],
   "source": [
    "driver.get(\"https://www.polymergenome.org/predict/index.php?m=11\")"
   ]
  },
  {
   "cell_type": "code",
   "execution_count": 4,
   "metadata": {},
   "outputs": [],
   "source": [
    "username =  'weikang.xian@uconn.edu'\n",
    "password = 'YingLiLab123456'\n",
    "\n",
    "username_textbox = driver.find_element_by_id(\"PyPG_account_username\")\n",
    "username_textbox.send_keys(username)\n",
    "\n",
    "password_textbox = driver.find_element_by_id(\"PyPG_account_passcode\")\n",
    "password_textbox.send_keys(password)\n",
    "\n",
    "login_button = driver.find_elements_by_xpath('/html/body/table/tbody/tr[2]/td/center/div/table/tbody/tr/td/table/tbody/tr[5]/td/center/input')[0]\n",
    "login_button.click()"
   ]
  },
  {
   "cell_type": "code",
   "execution_count": 5,
   "metadata": {},
   "outputs": [],
   "source": [
    "# dataset_2 = pd.read_csv('../PolyInfo_Web_Scrap/external_data/polymer_noTg.txt', header = None, sep=\"\\t\")\n",
    "# dataset_2.rename(columns = {0:'Smiles', 1:'ID'}, inplace = True)\n",
    "# dataset_2.iloc[2915].Smiles = '[*]C1=CC2=C(S1)CC(=N2)[*]'"
   ]
  },
  {
   "cell_type": "code",
   "execution_count": 6,
   "metadata": {},
   "outputs": [],
   "source": [
    "# dataset_2['Tg_pred'] = dataset_2['ID']\n",
    "# dataset_2['Tg_uncertainty'] = dataset_2['ID']"
   ]
  },
  {
   "cell_type": "code",
   "execution_count": 7,
   "metadata": {},
   "outputs": [],
   "source": [
    "dataset_2 = pickle.load(open(\"dataset_2_PolymerGenome.pkl\",\"rb\"))"
   ]
  },
  {
   "cell_type": "code",
   "execution_count": null,
   "metadata": {},
   "outputs": [
    {
     "name": "stdout",
     "output_type": "stream",
     "text": [
      "3050 496\n",
      "3051 306\n",
      "3052 325\n",
      "3053 319\n",
      "query failed for smile: *c1sc(cc1CCCCCCCCCC(COC(=O)C)OC(=O)C)*\n",
      "query failed for smile: *c1sc(cc1CCCCCCCCCC1OC(OC1)c1ccccc1)*\n",
      "query failed for smile: *c1sc(cc1COCCCCCCCCCCOc1ccc(cc1)c1ccc(cc1)C#N)C=C*\n",
      "query failed for smile: *=c1sc(cs1)c1ccc(cc1)C=*\n",
      "query failed for smile: *=c1sc(cs1)c1ccc(cc1)c1ccc(cc1)C=*\n",
      "query failed for smile: *=c1sc(cs1)c1cc2Cc3c(c2cc1)ccc(c3)C=*\n",
      "query failed for smile: *=c1sc(cs1)c1cc(ccc1)C=*\n",
      "query failed for smile: *c1sc(cc1CCCCCCBr)*\n",
      "query failed for smile: *c1sc(cc1CCCCCCCCCCBr)*\n",
      "query failed for smile: *c1sc(cc1CCCS(=O)(=O)O)*\n",
      "query failed for smile: *c1sc(c(c1)CCCCCC)c1sc(cc1CCCCCC)/C=C/*\n",
      "query failed for smile: *c1sc(cc1CCCCCCCCCC1OC1)*\n",
      "query failed for smile: *SS/C=C/*\n",
      "query failed for smile: *c1sc(cc1)C#Cc1c(cc(c(c1)OCCCCCCCCCCCCCCCCCC)C#C*)OCCCCCCCCCCCCCCCCCC\n",
      "query failed for smile: *c1nc(ccc1)c1sc(cc1)c1sc(cc1)*\n",
      "query failed for smile: *c1ncc(cc1)c1sc(cc1)c1sc(cc1)*\n",
      "query failed for smile: *c1sc(cc1CC(=O)OCCCCCCCCCCOc1ccc(cc1)C1CCC(CC1)CCCCC)C=C*\n",
      "query failed for smile: *c1sc(cc1CC(=O)OCCCCCCCCCCOc1ccc(cc1)C1CCC(CC1)CCCCC)*\n",
      "query failed for smile: *c1sc(c(c1c1ccccc1)c1ccccc1)c1ccc(cc1)NC(=O)c1c(cc(c(c1)C(=O)Nc1ccc(cc1)*)C(=O)O)C(=O)O\n",
      "query failed for smile: *c1sc(cc1CCCCCCCCCC1OC2(OC1)CCCCC2)*\n",
      "query failed for smile: *c1sc(cc1)c1sc(cc1)C(=c1sc(=c2sc(=C(*)c3sccc3)cc2)cc1)c1sccc1\n",
      "query failed for smile: *c1c2c(c(s1)*)nc(c(n2)C)C\n",
      "query failed for smile: *c1c2c(c(s1)*)nc(c(n2)C)c1ccccc1\n",
      "query failed for smile: *c1c2c(c(s1)*)nc(c(n2)CC)CC\n",
      "query failed for smile: *c1c2c(c(s1)*)nc(c(n2)CC)CCCCCCC\n",
      "query failed for smile: *c1c2c(c(s1)*)nc(c(n2)c1ccccc1)CC\n",
      "query failed for smile: *c1c2c(c(s1)*)nc(c(n2)CCCCCCC)CCCCCCC\n",
      "query failed for smile: *c1c2c(c(s1)*)nc(c(n2)c1ccccc1)CCCCCCC\n",
      "query failed for smile: *c1c2c(c(s1)*)nc(c(n2)c1ccccc1)c1ccccc1\n",
      "query failed for smile: *c1cc2C(=C(C#N)C#N)c3c(c2s1)sc(c3)*\n",
      "query failed for smile: *=c1sc2c(s1)SC(=C(C(=*)c1ccccc1)c1ccccc1)S2\n",
      "query failed for smile: *=c1sc2c(s1)SC(=C(C(=*)c1sccc1)c1sccc1)S2\n",
      "query failed for smile: *c1c2c(ccs2)c(cc1)C=C*\n",
      "query failed for smile: *c1sc(cc1C#N)*\n",
      "query failed for smile: *C1=C(SC(=C2SC(=C(S2)c2ccc(cc2)*)CC)S1)CC\n",
      "query failed for smile: *c1sc(cc1)[Si](*)(c1ccccc1)C\n",
      "query failed for smile: *c1sc(cc1)[Si](*)(c1ccccc1)c1ccccc1\n",
      "query failed for smile: *c1sc(cc1)[Si]([Si]([Si]([Si]([Si]([Si](*)(C)C)(C)C)(C)C)(C)C)(C)C)(C)C\n",
      "query failed for smile: *c1sc(cc1)[Si](C#C[Si](*)(C)C)(C)C\n",
      "query failed for smile: *c1sc(cc1)c1sc(cc1)c1sc(cc1)[Si]([Si]([Si]([Si]([Si]([Si](*)(C)C)(C)C)(C)C)(C)C)(C)C)(C)C\n",
      "query failed for smile: *c1sc(cc1)c1sc(cc1)c1sc(cc1)[Si](*)(CCCCCC)c1ccccc1\n",
      "query failed for smile: *c1sc(cc1)C=c1sc(=c2sc(=C*)cc2)cc1\n",
      "query failed for smile: *c1n(c(cc1)c1sc(cc1)c1sc(cc1)*)C\n",
      "query failed for smile: *c1sc2cc3c(cc2n1)sc(n3)c1c(cc(cc1)*)S(=O)(=O)O[Na]\n",
      "query failed for smile: *c1sc2cc3c(cc2n1)sc(n3)c1cc(cc(c1)S(=O)(=O)O[Na])*\n",
      "query failed for smile: *c1sc2cc3c(cc2n1)sc(n3)c1c(cc(c(c1)*)S(=O)(=O)O[K])S(=O)(=O)O[K]\n",
      "query failed for smile: *Sc1ccc(cc1)SC(=Cc1ccc(cc1)C=C(*)C)C\n",
      "query failed for smile: *Sc1ccc(cc1)Sc1ccc(cc1)SC(=Cc1ccc(cc1)C=C(*)C)C\n"
     ]
    }
   ],
   "source": [
    "for i in range(3050,len(dataset_2.Smiles)):\n",
    "    smile = dataset_2.Smiles.iloc[i]\n",
    "    try:\n",
    "        time.sleep(1)\n",
    "        driver.get(\"https://www.polymergenome.org/predict/index.php?m=11\")\n",
    "        \n",
    "        smile_bracket = smile.replace('*','[*]')\n",
    "        pageNumber = driver.find_elements_by_xpath('/html/body/table/tbody/tr[3]/td/center/div/center/table/tbody/tr/td/center/table/tbody/tr/td[2]/p/input')[0]\n",
    "        pageNumber.clear()\n",
    "        pageNumber.send_keys(smile_bracket)\n",
    "\n",
    "        page_button = driver.find_elements_by_xpath('/html/body/table/tbody/tr[3]/td/center/div/center/table/tbody/tr/td/center/table/tbody/tr/td[3]/input')[0]\n",
    "        page_button.click()\n",
    "        \n",
    "        Tg_html = driver.find_elements_by_xpath('/html/body/table/tbody/tr[3]/td/center/center/table/tbody/tr[2]/td/center/table[1]/tbody/tr[1]/td[3]/table/tbody/tr[4]/td[3]/iframe')[0]\n",
    "        src = Tg_html.get_attribute(\"src\")\n",
    "        driver.get(src)\n",
    "        Tg_value = driver.find_elements_by_xpath('/html/body/table/tbody/tr/td/font')[0]\n",
    "        dataset_2['Tg_pred'].iloc[i] = Tg_value.text.split(' K')[0].split(' ± ')[0]\n",
    "        dataset_2['Tg_uncertainty'].iloc[i] = Tg_value.text.split(' K')[0].split(' ± ')[1]\n",
    "        print(i, dataset_2['Tg_pred'].iloc[i])\n",
    "    except:\n",
    "        print('query failed for smile: {}'.format(smile))\n",
    "        dataset_2['Tg_pred'].iloc[i] = np.nan\n",
    "        dataset_2['Tg_uncertainty'].iloc[i] = np.nan"
   ]
  },
  {
   "cell_type": "code",
   "execution_count": 15,
   "metadata": {},
   "outputs": [],
   "source": [
    "with open(f\"dataset_2_PolymerGenome.pkl\", \"wb\") as f:\n",
    "    pickle.dump(dataset_2, f)"
   ]
  },
  {
   "cell_type": "code",
   "execution_count": 1,
   "metadata": {},
   "outputs": [
    {
     "ename": "NameError",
     "evalue": "name 'dataset_2' is not defined",
     "output_type": "error",
     "traceback": [
      "\u001b[1;31m---------------------------------------------------------------------------\u001b[0m",
      "\u001b[1;31mNameError\u001b[0m                                 Traceback (most recent call last)",
      "\u001b[1;32m<ipython-input-1-2919dbeabc41>\u001b[0m in \u001b[0;36m<module>\u001b[1;34m\u001b[0m\n\u001b[1;32m----> 1\u001b[1;33m \u001b[0mdataset_2\u001b[0m\u001b[1;33m.\u001b[0m\u001b[0mdropna\u001b[0m\u001b[1;33m(\u001b[0m\u001b[1;33m)\u001b[0m\u001b[1;33m\u001b[0m\u001b[1;33m\u001b[0m\u001b[0m\n\u001b[0m",
      "\u001b[1;31mNameError\u001b[0m: name 'dataset_2' is not defined"
     ]
    }
   ],
   "source": [
    "dataset_2.dropna()"
   ]
  }
 ],
 "metadata": {
  "kernelspec": {
   "display_name": "MyBase",
   "language": "python",
   "name": "base"
  },
  "language_info": {
   "codemirror_mode": {
    "name": "ipython",
    "version": 3
   },
   "file_extension": ".py",
   "mimetype": "text/x-python",
   "name": "python",
   "nbconvert_exporter": "python",
   "pygments_lexer": "ipython3",
   "version": "3.7.4"
  }
 },
 "nbformat": 4,
 "nbformat_minor": 4
}
