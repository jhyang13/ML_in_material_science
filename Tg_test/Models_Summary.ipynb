{
 "cells": [
  {
   "cell_type": "code",
   "execution_count": 1,
   "metadata": {},
   "outputs": [],
   "source": [
    "#https://stackoverflow.com/questions/43990046/tensorflow-blas-gemm-launch-failed\n",
    "import tensorflow as tf\n",
    "physical_devices = tf.config.list_physical_devices('GPU') \n",
    "tf.config.experimental.set_memory_growth(physical_devices[0], True)"
   ]
  },
  {
   "cell_type": "code",
   "execution_count": 11,
   "metadata": {},
   "outputs": [],
   "source": [
    "import numpy as np\n",
    "import matplotlib.pyplot as plt\n",
    "import pandas as pd\n",
    "\n",
    "from rdkit import Chem\n",
    "from rdkit.Chem import AllChem\n",
    "from rdkit.Chem import Descriptors\n",
    "from rdkit.Chem import rdMolDescriptors\n",
    "from rdkit.Chem.Draw import IPythonConsole\n",
    "from rdkit.Chem import Draw\n",
    "\n",
    "from sklearn.metrics import r2_score, mean_squared_error, mean_absolute_error\n",
    "from sklearn.model_selection import train_test_split\n",
    "\n",
    "from sklearn.ensemble import RandomForestRegressor\n",
    "from sklearn.neural_network import MLPRegressor\n",
    "from sklearn.svm import SVR\n",
    "from sklearn.linear_model import Lasso, LassoCV\n",
    "from sklearn.model_selection import train_test_split, cross_val_predict, cross_validate\n",
    "from sklearn.preprocessing import StandardScaler\n",
    "from sklearn.utils import shuffle\n",
    "from math import sqrt\n",
    "\n",
    "from kerastuner.tuners import RandomSearch\n",
    "from kerastuner.engine.hyperparameters import HyperParameters\n",
    "from tensorflow.keras.models import Sequential, save_model, load_model\n",
    "from tensorflow.keras.layers import Dense, Activation, Dropout\n",
    "from tensorflow.keras.optimizers import Adam\n",
    "from tensorflow import keras\n",
    "from tensorflow.keras.layers import Conv2D, MaxPooling2D, Conv1D, MaxPooling1D, Dense, Flatten, Activation\n",
    "import time\n",
    "from sklearn.metrics import r2_score\n",
    "import kerastuner as kt\n",
    "\n",
    "from collections import Counter \n",
    "import pickle\n",
    "import pandas as pd\n",
    "import collections\n",
    "import seaborn as sns\n",
    "\n",
    "import re\n",
    "\n",
    "from sklearn.model_selection import cross_validate\n",
    "from sklearn.metrics import r2_score, mean_squared_error, mean_absolute_error, mean_absolute_percentage_error"
   ]
  },
  {
   "cell_type": "code",
   "execution_count": 3,
   "metadata": {},
   "outputs": [],
   "source": [
    "#dataset-1 with Tg\n",
    "Dataset1_Smiles_Tg = pd.read_csv(\"Dataset1_Smiles_Tg.csv\")"
   ]
  },
  {
   "cell_type": "code",
   "execution_count": 5,
   "metadata": {},
   "outputs": [],
   "source": [
    "# for i in Dataset1_Smiles_Tg['Smiles']:\n",
    "#     if i[0] != \"*\":\n",
    "#         print(i)\n",
    "#         continue\n",
    "#     #[pos for pos, char in enumerate(i) if char == '*']\n",
    "#     Expand = '*'+i[1:].replace(\"*\", i[1:], 1)"
   ]
  },
  {
   "cell_type": "code",
   "execution_count": 4,
   "metadata": {},
   "outputs": [],
   "source": [
    "#dataset-1 fingerprint\n",
    "molecules = Dataset1_Smiles_Tg.Smiles.apply(Chem.MolFromSmiles)\n",
    "\n",
    "fp = molecules.apply(lambda m: AllChem.GetMorganFingerprint(m, radius=3))\n",
    "fp_n = fp.apply(lambda m: m.GetNonzeroElements())"
   ]
  },
  {
   "cell_type": "code",
   "execution_count": 7,
   "metadata": {},
   "outputs": [],
   "source": [
    "#dataset-2 no Tg\n",
    "ID_noTg_pred = pd.read_csv(\"Dataset2_Smiles.csv\")"
   ]
  },
  {
   "cell_type": "code",
   "execution_count": 5,
   "metadata": {},
   "outputs": [],
   "source": [
    "#566 MD simulations from dataset-2 no Tg\n",
    "ID_noTg_pred = pickle.load(open(\"../600_MD_input/Tg_MD_566.pickle\",\"rb\"))"
   ]
  },
  {
   "cell_type": "code",
   "execution_count": 6,
   "metadata": {},
   "outputs": [],
   "source": [
    "#dataset-2 fingerprint\n",
    "molecules_noTg_pred = ID_noTg_pred.Smiles.apply(Chem.MolFromSmiles)\n",
    "\n",
    "fp_noTg_pred = molecules_noTg_pred.apply(lambda m: AllChem.GetMorganFingerprint(m, radius=3))\n",
    "fp_noTg_pred_n = fp_noTg_pred.apply(lambda m: m.GetNonzeroElements())"
   ]
  },
  {
   "cell_type": "code",
   "execution_count": 7,
   "metadata": {},
   "outputs": [],
   "source": [
    "# using substructures in dataset-1 to construct a dictionary\n",
    "HashCode = []\n",
    "for i in fp_n:\n",
    "    for j in i.keys():\n",
    "        HashCode.append(j)\n",
    "        \n",
    "unique_set = set(HashCode)\n",
    "unique_list = list(unique_set)\n",
    "\n",
    "Corr_df = pd.DataFrame(unique_list).reset_index()"
   ]
  },
  {
   "cell_type": "code",
   "execution_count": 8,
   "metadata": {},
   "outputs": [],
   "source": [
    "#construct dataset-1 input\n",
    "MY_finger = []\n",
    "for polymer in fp_n:\n",
    "    my_finger = [0] * len(unique_list)\n",
    "    for key in polymer.keys():\n",
    "        index = Corr_df[Corr_df[0] == key]['index'].values[0]\n",
    "        my_finger[index] = polymer[key]\n",
    "    MY_finger.append(my_finger)\n",
    "    \n",
    "MY_finger_dataset_1 = pd.DataFrame(MY_finger)  "
   ]
  },
  {
   "cell_type": "code",
   "execution_count": 9,
   "metadata": {},
   "outputs": [],
   "source": [
    "#construct dataset-2 input\n",
    "MY_finger = []\n",
    "for polymer in fp_noTg_pred_n:\n",
    "    my_finger = [0] * len(unique_list)\n",
    "    for key in polymer.keys():\n",
    "        if key in list(Corr_df[0]):\n",
    "            index = Corr_df[Corr_df[0] == key]['index'].values[0]\n",
    "            my_finger[index] = polymer[key]\n",
    "    MY_finger.append(my_finger)\n",
    "\n",
    "MY_finger_dataset_2 = pd.DataFrame(MY_finger)"
   ]
  },
  {
   "cell_type": "code",
   "execution_count": 96,
   "metadata": {},
   "outputs": [
    {
     "name": "stdout",
     "output_type": "stream",
     "text": [
      "98\n"
     ]
    }
   ],
   "source": [
    "# filter input into the most popular 124 substructures\n",
    "Zero_Sum = (MY_finger_dataset_1 == 0).astype(int).sum()\n",
    "NumberOfZero = 6260 #6400\n",
    "print(len(Zero_Sum[Zero_Sum < NumberOfZero]))\n",
    "X_dataset_1 = MY_finger_dataset_1[Zero_Sum[Zero_Sum < NumberOfZero].index]\n",
    "X_dataset_2 = MY_finger_dataset_2[Zero_Sum[Zero_Sum < NumberOfZero].index]"
   ]
  },
  {
   "cell_type": "markdown",
   "metadata": {},
   "source": [
    "#### GaussianProcessRegressor"
   ]
  },
  {
   "cell_type": "code",
   "execution_count": 87,
   "metadata": {},
   "outputs": [],
   "source": [
    "from sklearn.gaussian_process import GaussianProcessRegressor\n",
    "from sklearn.gaussian_process.kernels import WhiteKernel, ExpSineSquared\n",
    "from sklearn.gaussian_process.kernels import RBF, ConstantKernel as C"
   ]
  },
  {
   "cell_type": "code",
   "execution_count": 88,
   "metadata": {},
   "outputs": [
    {
     "name": "stdout",
     "output_type": "stream",
     "text": [
      "Average train_r2 0.9\n",
      "Average train_MAE 23.96\n",
      "Average train_RMSE 34.91\n"
     ]
    },
    {
     "ename": "KeyboardInterrupt",
     "evalue": "",
     "output_type": "error",
     "traceback": [
      "\u001b[1;31m---------------------------------------------------------------------------\u001b[0m",
      "\u001b[1;31mKeyboardInterrupt\u001b[0m                         Traceback (most recent call last)",
      "\u001b[1;32m<ipython-input-88-0e208ebe1630>\u001b[0m in \u001b[0;36m<module>\u001b[1;34m\u001b[0m\n\u001b[0;32m     17\u001b[0m \u001b[0mprint\u001b[0m\u001b[1;33m(\u001b[0m\u001b[1;34m'Average train_RMSE'\u001b[0m\u001b[1;33m,\u001b[0m \u001b[0mround\u001b[0m\u001b[1;33m(\u001b[0m\u001b[0mabs\u001b[0m\u001b[1;33m(\u001b[0m\u001b[0mscores\u001b[0m\u001b[1;33m[\u001b[0m\u001b[1;34m'train_neg_root_mean_squared_error'\u001b[0m\u001b[1;33m]\u001b[0m\u001b[1;33m.\u001b[0m\u001b[0mmean\u001b[0m\u001b[1;33m(\u001b[0m\u001b[1;33m)\u001b[0m\u001b[1;33m)\u001b[0m\u001b[1;33m,\u001b[0m\u001b[1;36m2\u001b[0m\u001b[1;33m)\u001b[0m\u001b[1;33m)\u001b[0m\u001b[1;33m\u001b[0m\u001b[1;33m\u001b[0m\u001b[0m\n\u001b[0;32m     18\u001b[0m \u001b[1;33m\u001b[0m\u001b[0m\n\u001b[1;32m---> 19\u001b[1;33m \u001b[0mmodel\u001b[0m\u001b[1;33m.\u001b[0m\u001b[0mfit\u001b[0m\u001b[1;33m(\u001b[0m\u001b[0mX_train\u001b[0m\u001b[1;33m,\u001b[0m \u001b[0my_train\u001b[0m\u001b[1;33m)\u001b[0m\u001b[1;33m\u001b[0m\u001b[1;33m\u001b[0m\u001b[0m\n\u001b[0m\u001b[0;32m     20\u001b[0m \u001b[1;33m\u001b[0m\u001b[0m\n\u001b[0;32m     21\u001b[0m \u001b[0my_pred_train\u001b[0m \u001b[1;33m=\u001b[0m \u001b[0mmodel\u001b[0m\u001b[1;33m.\u001b[0m\u001b[0mpredict\u001b[0m\u001b[1;33m(\u001b[0m\u001b[1;33m(\u001b[0m\u001b[0mX_train\u001b[0m\u001b[1;33m)\u001b[0m\u001b[1;33m)\u001b[0m\u001b[1;33m\u001b[0m\u001b[1;33m\u001b[0m\u001b[0m\n",
      "\u001b[1;32mC:\\ProgramData\\Anaconda3\\lib\\site-packages\\sklearn\\gaussian_process\\_gpr.py\u001b[0m in \u001b[0;36mfit\u001b[1;34m(self, X, y)\u001b[0m\n\u001b[0;32m    235\u001b[0m             optima = [(self._constrained_optimization(obj_func,\n\u001b[0;32m    236\u001b[0m                                                       \u001b[0mself\u001b[0m\u001b[1;33m.\u001b[0m\u001b[0mkernel_\u001b[0m\u001b[1;33m.\u001b[0m\u001b[0mtheta\u001b[0m\u001b[1;33m,\u001b[0m\u001b[1;33m\u001b[0m\u001b[1;33m\u001b[0m\u001b[0m\n\u001b[1;32m--> 237\u001b[1;33m                                                       self.kernel_.bounds))]\n\u001b[0m\u001b[0;32m    238\u001b[0m \u001b[1;33m\u001b[0m\u001b[0m\n\u001b[0;32m    239\u001b[0m             \u001b[1;31m# Additional runs are performed from log-uniform chosen initial\u001b[0m\u001b[1;33m\u001b[0m\u001b[1;33m\u001b[0m\u001b[1;33m\u001b[0m\u001b[0m\n",
      "\u001b[1;32mC:\\ProgramData\\Anaconda3\\lib\\site-packages\\sklearn\\gaussian_process\\_gpr.py\u001b[0m in \u001b[0;36m_constrained_optimization\u001b[1;34m(self, obj_func, initial_theta, bounds)\u001b[0m\n\u001b[0;32m    506\u001b[0m             opt_res = scipy.optimize.minimize(\n\u001b[0;32m    507\u001b[0m                 \u001b[0mobj_func\u001b[0m\u001b[1;33m,\u001b[0m \u001b[0minitial_theta\u001b[0m\u001b[1;33m,\u001b[0m \u001b[0mmethod\u001b[0m\u001b[1;33m=\u001b[0m\u001b[1;34m\"L-BFGS-B\"\u001b[0m\u001b[1;33m,\u001b[0m \u001b[0mjac\u001b[0m\u001b[1;33m=\u001b[0m\u001b[1;32mTrue\u001b[0m\u001b[1;33m,\u001b[0m\u001b[1;33m\u001b[0m\u001b[1;33m\u001b[0m\u001b[0m\n\u001b[1;32m--> 508\u001b[1;33m                 bounds=bounds)\n\u001b[0m\u001b[0;32m    509\u001b[0m             \u001b[0m_check_optimize_result\u001b[0m\u001b[1;33m(\u001b[0m\u001b[1;34m\"lbfgs\"\u001b[0m\u001b[1;33m,\u001b[0m \u001b[0mopt_res\u001b[0m\u001b[1;33m)\u001b[0m\u001b[1;33m\u001b[0m\u001b[1;33m\u001b[0m\u001b[0m\n\u001b[0;32m    510\u001b[0m             \u001b[0mtheta_opt\u001b[0m\u001b[1;33m,\u001b[0m \u001b[0mfunc_min\u001b[0m \u001b[1;33m=\u001b[0m \u001b[0mopt_res\u001b[0m\u001b[1;33m.\u001b[0m\u001b[0mx\u001b[0m\u001b[1;33m,\u001b[0m \u001b[0mopt_res\u001b[0m\u001b[1;33m.\u001b[0m\u001b[0mfun\u001b[0m\u001b[1;33m\u001b[0m\u001b[1;33m\u001b[0m\u001b[0m\n",
      "\u001b[1;32mC:\\ProgramData\\Anaconda3\\lib\\site-packages\\scipy\\optimize\\_minimize.py\u001b[0m in \u001b[0;36mminimize\u001b[1;34m(fun, x0, args, method, jac, hess, hessp, bounds, constraints, tol, callback, options)\u001b[0m\n\u001b[0;32m    608\u001b[0m     \u001b[1;32melif\u001b[0m \u001b[0mmeth\u001b[0m \u001b[1;33m==\u001b[0m \u001b[1;34m'l-bfgs-b'\u001b[0m\u001b[1;33m:\u001b[0m\u001b[1;33m\u001b[0m\u001b[1;33m\u001b[0m\u001b[0m\n\u001b[0;32m    609\u001b[0m         return _minimize_lbfgsb(fun, x0, args, jac, bounds,\n\u001b[1;32m--> 610\u001b[1;33m                                 callback=callback, **options)\n\u001b[0m\u001b[0;32m    611\u001b[0m     \u001b[1;32melif\u001b[0m \u001b[0mmeth\u001b[0m \u001b[1;33m==\u001b[0m \u001b[1;34m'tnc'\u001b[0m\u001b[1;33m:\u001b[0m\u001b[1;33m\u001b[0m\u001b[1;33m\u001b[0m\u001b[0m\n\u001b[0;32m    612\u001b[0m         return _minimize_tnc(fun, x0, args, jac, bounds, callback=callback,\n",
      "\u001b[1;32mC:\\ProgramData\\Anaconda3\\lib\\site-packages\\scipy\\optimize\\lbfgsb.py\u001b[0m in \u001b[0;36m_minimize_lbfgsb\u001b[1;34m(fun, x0, args, jac, bounds, disp, maxcor, ftol, gtol, eps, maxfun, maxiter, iprint, callback, maxls, **unknown_options)\u001b[0m\n\u001b[0;32m    343\u001b[0m             \u001b[1;31m# until the completion of the current minimization iteration.\u001b[0m\u001b[1;33m\u001b[0m\u001b[1;33m\u001b[0m\u001b[1;33m\u001b[0m\u001b[0m\n\u001b[0;32m    344\u001b[0m             \u001b[1;31m# Overwrite f and g:\u001b[0m\u001b[1;33m\u001b[0m\u001b[1;33m\u001b[0m\u001b[1;33m\u001b[0m\u001b[0m\n\u001b[1;32m--> 345\u001b[1;33m             \u001b[0mf\u001b[0m\u001b[1;33m,\u001b[0m \u001b[0mg\u001b[0m \u001b[1;33m=\u001b[0m \u001b[0mfunc_and_grad\u001b[0m\u001b[1;33m(\u001b[0m\u001b[0mx\u001b[0m\u001b[1;33m)\u001b[0m\u001b[1;33m\u001b[0m\u001b[1;33m\u001b[0m\u001b[0m\n\u001b[0m\u001b[0;32m    346\u001b[0m         \u001b[1;32melif\u001b[0m \u001b[0mtask_str\u001b[0m\u001b[1;33m.\u001b[0m\u001b[0mstartswith\u001b[0m\u001b[1;33m(\u001b[0m\u001b[1;34mb'NEW_X'\u001b[0m\u001b[1;33m)\u001b[0m\u001b[1;33m:\u001b[0m\u001b[1;33m\u001b[0m\u001b[1;33m\u001b[0m\u001b[0m\n\u001b[0;32m    347\u001b[0m             \u001b[1;31m# new iteration\u001b[0m\u001b[1;33m\u001b[0m\u001b[1;33m\u001b[0m\u001b[1;33m\u001b[0m\u001b[0m\n",
      "\u001b[1;32mC:\\ProgramData\\Anaconda3\\lib\\site-packages\\scipy\\optimize\\lbfgsb.py\u001b[0m in \u001b[0;36mfunc_and_grad\u001b[1;34m(x)\u001b[0m\n\u001b[0;32m    293\u001b[0m     \u001b[1;32melse\u001b[0m\u001b[1;33m:\u001b[0m\u001b[1;33m\u001b[0m\u001b[1;33m\u001b[0m\u001b[0m\n\u001b[0;32m    294\u001b[0m         \u001b[1;32mdef\u001b[0m \u001b[0mfunc_and_grad\u001b[0m\u001b[1;33m(\u001b[0m\u001b[0mx\u001b[0m\u001b[1;33m)\u001b[0m\u001b[1;33m:\u001b[0m\u001b[1;33m\u001b[0m\u001b[1;33m\u001b[0m\u001b[0m\n\u001b[1;32m--> 295\u001b[1;33m             \u001b[0mf\u001b[0m \u001b[1;33m=\u001b[0m \u001b[0mfun\u001b[0m\u001b[1;33m(\u001b[0m\u001b[0mx\u001b[0m\u001b[1;33m,\u001b[0m \u001b[1;33m*\u001b[0m\u001b[0margs\u001b[0m\u001b[1;33m)\u001b[0m\u001b[1;33m\u001b[0m\u001b[1;33m\u001b[0m\u001b[0m\n\u001b[0m\u001b[0;32m    296\u001b[0m             \u001b[0mg\u001b[0m \u001b[1;33m=\u001b[0m \u001b[0mjac\u001b[0m\u001b[1;33m(\u001b[0m\u001b[0mx\u001b[0m\u001b[1;33m,\u001b[0m \u001b[1;33m*\u001b[0m\u001b[0margs\u001b[0m\u001b[1;33m)\u001b[0m\u001b[1;33m\u001b[0m\u001b[1;33m\u001b[0m\u001b[0m\n\u001b[0;32m    297\u001b[0m             \u001b[1;32mreturn\u001b[0m \u001b[0mf\u001b[0m\u001b[1;33m,\u001b[0m \u001b[0mg\u001b[0m\u001b[1;33m\u001b[0m\u001b[1;33m\u001b[0m\u001b[0m\n",
      "\u001b[1;32mC:\\ProgramData\\Anaconda3\\lib\\site-packages\\scipy\\optimize\\optimize.py\u001b[0m in \u001b[0;36mfunction_wrapper\u001b[1;34m(*wrapper_args)\u001b[0m\n\u001b[0;32m    325\u001b[0m     \u001b[1;32mdef\u001b[0m \u001b[0mfunction_wrapper\u001b[0m\u001b[1;33m(\u001b[0m\u001b[1;33m*\u001b[0m\u001b[0mwrapper_args\u001b[0m\u001b[1;33m)\u001b[0m\u001b[1;33m:\u001b[0m\u001b[1;33m\u001b[0m\u001b[1;33m\u001b[0m\u001b[0m\n\u001b[0;32m    326\u001b[0m         \u001b[0mncalls\u001b[0m\u001b[1;33m[\u001b[0m\u001b[1;36m0\u001b[0m\u001b[1;33m]\u001b[0m \u001b[1;33m+=\u001b[0m \u001b[1;36m1\u001b[0m\u001b[1;33m\u001b[0m\u001b[1;33m\u001b[0m\u001b[0m\n\u001b[1;32m--> 327\u001b[1;33m         \u001b[1;32mreturn\u001b[0m \u001b[0mfunction\u001b[0m\u001b[1;33m(\u001b[0m\u001b[1;33m*\u001b[0m\u001b[1;33m(\u001b[0m\u001b[0mwrapper_args\u001b[0m \u001b[1;33m+\u001b[0m \u001b[0margs\u001b[0m\u001b[1;33m)\u001b[0m\u001b[1;33m)\u001b[0m\u001b[1;33m\u001b[0m\u001b[1;33m\u001b[0m\u001b[0m\n\u001b[0m\u001b[0;32m    328\u001b[0m \u001b[1;33m\u001b[0m\u001b[0m\n\u001b[0;32m    329\u001b[0m     \u001b[1;32mreturn\u001b[0m \u001b[0mncalls\u001b[0m\u001b[1;33m,\u001b[0m \u001b[0mfunction_wrapper\u001b[0m\u001b[1;33m\u001b[0m\u001b[1;33m\u001b[0m\u001b[0m\n",
      "\u001b[1;32mC:\\ProgramData\\Anaconda3\\lib\\site-packages\\scipy\\optimize\\optimize.py\u001b[0m in \u001b[0;36m__call__\u001b[1;34m(self, x, *args)\u001b[0m\n\u001b[0;32m     63\u001b[0m     \u001b[1;32mdef\u001b[0m \u001b[0m__call__\u001b[0m\u001b[1;33m(\u001b[0m\u001b[0mself\u001b[0m\u001b[1;33m,\u001b[0m \u001b[0mx\u001b[0m\u001b[1;33m,\u001b[0m \u001b[1;33m*\u001b[0m\u001b[0margs\u001b[0m\u001b[1;33m)\u001b[0m\u001b[1;33m:\u001b[0m\u001b[1;33m\u001b[0m\u001b[1;33m\u001b[0m\u001b[0m\n\u001b[0;32m     64\u001b[0m         \u001b[0mself\u001b[0m\u001b[1;33m.\u001b[0m\u001b[0mx\u001b[0m \u001b[1;33m=\u001b[0m \u001b[0mnumpy\u001b[0m\u001b[1;33m.\u001b[0m\u001b[0masarray\u001b[0m\u001b[1;33m(\u001b[0m\u001b[0mx\u001b[0m\u001b[1;33m)\u001b[0m\u001b[1;33m.\u001b[0m\u001b[0mcopy\u001b[0m\u001b[1;33m(\u001b[0m\u001b[1;33m)\u001b[0m\u001b[1;33m\u001b[0m\u001b[1;33m\u001b[0m\u001b[0m\n\u001b[1;32m---> 65\u001b[1;33m         \u001b[0mfg\u001b[0m \u001b[1;33m=\u001b[0m \u001b[0mself\u001b[0m\u001b[1;33m.\u001b[0m\u001b[0mfun\u001b[0m\u001b[1;33m(\u001b[0m\u001b[0mx\u001b[0m\u001b[1;33m,\u001b[0m \u001b[1;33m*\u001b[0m\u001b[0margs\u001b[0m\u001b[1;33m)\u001b[0m\u001b[1;33m\u001b[0m\u001b[1;33m\u001b[0m\u001b[0m\n\u001b[0m\u001b[0;32m     66\u001b[0m         \u001b[0mself\u001b[0m\u001b[1;33m.\u001b[0m\u001b[0mjac\u001b[0m \u001b[1;33m=\u001b[0m \u001b[0mfg\u001b[0m\u001b[1;33m[\u001b[0m\u001b[1;36m1\u001b[0m\u001b[1;33m]\u001b[0m\u001b[1;33m\u001b[0m\u001b[1;33m\u001b[0m\u001b[0m\n\u001b[0;32m     67\u001b[0m         \u001b[1;32mreturn\u001b[0m \u001b[0mfg\u001b[0m\u001b[1;33m[\u001b[0m\u001b[1;36m0\u001b[0m\u001b[1;33m]\u001b[0m\u001b[1;33m\u001b[0m\u001b[1;33m\u001b[0m\u001b[0m\n",
      "\u001b[1;32mC:\\ProgramData\\Anaconda3\\lib\\site-packages\\sklearn\\gaussian_process\\_gpr.py\u001b[0m in \u001b[0;36mobj_func\u001b[1;34m(theta, eval_gradient)\u001b[0m\n\u001b[0;32m    226\u001b[0m                 \u001b[1;32mif\u001b[0m \u001b[0meval_gradient\u001b[0m\u001b[1;33m:\u001b[0m\u001b[1;33m\u001b[0m\u001b[1;33m\u001b[0m\u001b[0m\n\u001b[0;32m    227\u001b[0m                     lml, grad = self.log_marginal_likelihood(\n\u001b[1;32m--> 228\u001b[1;33m                         theta, eval_gradient=True, clone_kernel=False)\n\u001b[0m\u001b[0;32m    229\u001b[0m                     \u001b[1;32mreturn\u001b[0m \u001b[1;33m-\u001b[0m\u001b[0mlml\u001b[0m\u001b[1;33m,\u001b[0m \u001b[1;33m-\u001b[0m\u001b[0mgrad\u001b[0m\u001b[1;33m\u001b[0m\u001b[1;33m\u001b[0m\u001b[0m\n\u001b[0;32m    230\u001b[0m                 \u001b[1;32melse\u001b[0m\u001b[1;33m:\u001b[0m\u001b[1;33m\u001b[0m\u001b[1;33m\u001b[0m\u001b[0m\n",
      "\u001b[1;32mC:\\ProgramData\\Anaconda3\\lib\\site-packages\\sklearn\\gaussian_process\\_gpr.py\u001b[0m in \u001b[0;36mlog_marginal_likelihood\u001b[1;34m(self, theta, eval_gradient, clone_kernel)\u001b[0m\n\u001b[0;32m    469\u001b[0m         \u001b[0mK\u001b[0m\u001b[1;33m[\u001b[0m\u001b[0mnp\u001b[0m\u001b[1;33m.\u001b[0m\u001b[0mdiag_indices_from\u001b[0m\u001b[1;33m(\u001b[0m\u001b[0mK\u001b[0m\u001b[1;33m)\u001b[0m\u001b[1;33m]\u001b[0m \u001b[1;33m+=\u001b[0m \u001b[0mself\u001b[0m\u001b[1;33m.\u001b[0m\u001b[0malpha\u001b[0m\u001b[1;33m\u001b[0m\u001b[1;33m\u001b[0m\u001b[0m\n\u001b[0;32m    470\u001b[0m         \u001b[1;32mtry\u001b[0m\u001b[1;33m:\u001b[0m\u001b[1;33m\u001b[0m\u001b[1;33m\u001b[0m\u001b[0m\n\u001b[1;32m--> 471\u001b[1;33m             \u001b[0mL\u001b[0m \u001b[1;33m=\u001b[0m \u001b[0mcholesky\u001b[0m\u001b[1;33m(\u001b[0m\u001b[0mK\u001b[0m\u001b[1;33m,\u001b[0m \u001b[0mlower\u001b[0m\u001b[1;33m=\u001b[0m\u001b[1;32mTrue\u001b[0m\u001b[1;33m)\u001b[0m  \u001b[1;31m# Line 2\u001b[0m\u001b[1;33m\u001b[0m\u001b[1;33m\u001b[0m\u001b[0m\n\u001b[0m\u001b[0;32m    472\u001b[0m         \u001b[1;32mexcept\u001b[0m \u001b[0mnp\u001b[0m\u001b[1;33m.\u001b[0m\u001b[0mlinalg\u001b[0m\u001b[1;33m.\u001b[0m\u001b[0mLinAlgError\u001b[0m\u001b[1;33m:\u001b[0m\u001b[1;33m\u001b[0m\u001b[1;33m\u001b[0m\u001b[0m\n\u001b[0;32m    473\u001b[0m             \u001b[1;32mreturn\u001b[0m \u001b[1;33m(\u001b[0m\u001b[1;33m-\u001b[0m\u001b[0mnp\u001b[0m\u001b[1;33m.\u001b[0m\u001b[0minf\u001b[0m\u001b[1;33m,\u001b[0m \u001b[0mnp\u001b[0m\u001b[1;33m.\u001b[0m\u001b[0mzeros_like\u001b[0m\u001b[1;33m(\u001b[0m\u001b[0mtheta\u001b[0m\u001b[1;33m)\u001b[0m\u001b[1;33m)\u001b[0m\u001b[0;31m \u001b[0m\u001b[0;31m\\\u001b[0m\u001b[1;33m\u001b[0m\u001b[1;33m\u001b[0m\u001b[0m\n",
      "\u001b[1;32mC:\\ProgramData\\Anaconda3\\lib\\site-packages\\scipy\\linalg\\decomp_cholesky.py\u001b[0m in \u001b[0;36mcholesky\u001b[1;34m(a, lower, overwrite_a, check_finite)\u001b[0m\n\u001b[0;32m     89\u001b[0m     \"\"\"\n\u001b[0;32m     90\u001b[0m     c, lower = _cholesky(a, lower=lower, overwrite_a=overwrite_a, clean=True,\n\u001b[1;32m---> 91\u001b[1;33m                          check_finite=check_finite)\n\u001b[0m\u001b[0;32m     92\u001b[0m     \u001b[1;32mreturn\u001b[0m \u001b[0mc\u001b[0m\u001b[1;33m\u001b[0m\u001b[1;33m\u001b[0m\u001b[0m\n\u001b[0;32m     93\u001b[0m \u001b[1;33m\u001b[0m\u001b[0m\n",
      "\u001b[1;32mC:\\ProgramData\\Anaconda3\\lib\\site-packages\\scipy\\linalg\\decomp_cholesky.py\u001b[0m in \u001b[0;36m_cholesky\u001b[1;34m(a, lower, overwrite_a, clean, check_finite)\u001b[0m\n\u001b[0;32m     35\u001b[0m     \u001b[0moverwrite_a\u001b[0m \u001b[1;33m=\u001b[0m \u001b[0moverwrite_a\u001b[0m \u001b[1;32mor\u001b[0m \u001b[0m_datacopied\u001b[0m\u001b[1;33m(\u001b[0m\u001b[0ma1\u001b[0m\u001b[1;33m,\u001b[0m \u001b[0ma\u001b[0m\u001b[1;33m)\u001b[0m\u001b[1;33m\u001b[0m\u001b[1;33m\u001b[0m\u001b[0m\n\u001b[0;32m     36\u001b[0m     \u001b[0mpotrf\u001b[0m\u001b[1;33m,\u001b[0m \u001b[1;33m=\u001b[0m \u001b[0mget_lapack_funcs\u001b[0m\u001b[1;33m(\u001b[0m\u001b[1;33m(\u001b[0m\u001b[1;34m'potrf'\u001b[0m\u001b[1;33m,\u001b[0m\u001b[1;33m)\u001b[0m\u001b[1;33m,\u001b[0m \u001b[1;33m(\u001b[0m\u001b[0ma1\u001b[0m\u001b[1;33m,\u001b[0m\u001b[1;33m)\u001b[0m\u001b[1;33m)\u001b[0m\u001b[1;33m\u001b[0m\u001b[1;33m\u001b[0m\u001b[0m\n\u001b[1;32m---> 37\u001b[1;33m     \u001b[0mc\u001b[0m\u001b[1;33m,\u001b[0m \u001b[0minfo\u001b[0m \u001b[1;33m=\u001b[0m \u001b[0mpotrf\u001b[0m\u001b[1;33m(\u001b[0m\u001b[0ma1\u001b[0m\u001b[1;33m,\u001b[0m \u001b[0mlower\u001b[0m\u001b[1;33m=\u001b[0m\u001b[0mlower\u001b[0m\u001b[1;33m,\u001b[0m \u001b[0moverwrite_a\u001b[0m\u001b[1;33m=\u001b[0m\u001b[0moverwrite_a\u001b[0m\u001b[1;33m,\u001b[0m \u001b[0mclean\u001b[0m\u001b[1;33m=\u001b[0m\u001b[0mclean\u001b[0m\u001b[1;33m)\u001b[0m\u001b[1;33m\u001b[0m\u001b[1;33m\u001b[0m\u001b[0m\n\u001b[0m\u001b[0;32m     38\u001b[0m     \u001b[1;32mif\u001b[0m \u001b[0minfo\u001b[0m \u001b[1;33m>\u001b[0m \u001b[1;36m0\u001b[0m\u001b[1;33m:\u001b[0m\u001b[1;33m\u001b[0m\u001b[1;33m\u001b[0m\u001b[0m\n\u001b[0;32m     39\u001b[0m         raise LinAlgError(\"%d-th leading minor of the array is not positive \"\n",
      "\u001b[1;31mKeyboardInterrupt\u001b[0m: "
     ]
    }
   ],
   "source": [
    "kernel = C(1.0) * RBF(1) + WhiteKernel(1e-1) \n",
    "model = GaussianProcessRegressor(kernel=kernel)\n",
    "\n",
    "X = X_dataset_1\n",
    "y = Dataset1_Smiles_Tg['Tg']\n",
    "\n",
    "X_train, X_test, y_train, y_test = train_test_split(X, y, \n",
    "                                                    test_size=0.2, \n",
    "                                                    random_state=2)\n",
    "\n",
    "scores = cross_validate(model, X_train, y_train, cv=5,\n",
    "                        scoring=('r2', 'neg_mean_absolute_error','neg_root_mean_squared_error'),\n",
    "                        return_train_score=True)\n",
    "\n",
    "print('Average train_r2', round(scores['train_r2'].mean(),2))\n",
    "print('Average train_MAE', round(abs(scores['train_neg_mean_absolute_error'].mean()),2))\n",
    "print('Average train_RMSE', round(abs(scores['train_neg_root_mean_squared_error'].mean()),2))\n",
    "\n",
    "model.fit(X_train, y_train)\n",
    "\n",
    "y_pred_train = model.predict((X_train))\n",
    "print(\"Train set R^2: \", r2_score(y_train, y_pred_train))\n",
    "print(\"Train MAE score: %.4f\" % mean_absolute_error(y_train, y_pred_train))\n",
    "print(\"Train RMSE score: %.4f\" % np.sqrt(mean_squared_error(y_train, y_pred_train)))\n",
    "\n",
    "y_pred_test = model.predict((X_test))\n",
    "print(\"Test set R^2: \", r2_score(y_test, y_pred_test))\n",
    "print(\"Test MAE score: %.4f\" % mean_absolute_error(y_test, y_pred_test))\n",
    "print(\"Test RMSE score: %.4f\" % np.sqrt(mean_squared_error(y_test, y_pred_test)))\n",
    "\n",
    "y_dataset_2 = model.predict((X_dataset_2))\n",
    "print(\"Dataset2 R^2: \", r2_score(ID_noTg_pred['MD'], y_dataset_2))\n",
    "print(\"Dataset2 MAE score: %.4f\" % mean_absolute_error(ID_noTg_pred['MD'], y_dataset_2))\n",
    "print(\"Dataset2 RMSE score: %.4f\" % np.sqrt(mean_squared_error(ID_noTg_pred['MD'], y_dataset_2)))"
   ]
  },
  {
   "cell_type": "code",
   "execution_count": null,
   "metadata": {},
   "outputs": [],
   "source": [
    "plt.figure(figsize=(7,14))\n",
    "\n",
    "ax=plt.subplot(1, 2, 1)\n",
    "plt.plot(y_train, y_pred_train, 'b.') \n",
    "plt.plot(y_test, y_pred_test, 'g.') \n",
    " \n",
    "plt.xlabel(\"Experiment ($^o$C)\",fontname=\"Times New Roman\", fontsize=12)\n",
    "plt.ylabel(\"Prediction ($^o$C)\",fontname=\"Times New Roman\", fontsize=12)\n",
    "x0, x1 = min(y_train), max(y_train)\n",
    "length = 750\n",
    "x_start, x_end = -200, 550\n",
    "plt.xlim([-200, 550])\n",
    "plt.ylim([-200, 550])\n",
    "ax.set_xticks([-200,-100,0,100,200,300,400,500])\n",
    "ax.set_yticks([-200,-100,0,100,200,300,400,500])\n",
    "plt.xticks(fontname=\"Times New Roman\", fontsize=12, fontweight='normal')\n",
    "plt.yticks(fontname=\"Times New Roman\", fontsize=12, fontweight='normal')\n",
    "plt.gca().set_aspect(\"equal\", adjustable=\"box\")\n",
    "# the unit line\n",
    "plt.plot(np.arange(x_start, x_end, 0.01*length),\n",
    "np.arange(x_start, x_end, 0.01*length), 'r-')\n",
    "plt.text(185, -118, \"Train $R^2={:.2f}$\".format(round(scores['train_r2'].mean(),2)),{'color':\"b\"})\n",
    "plt.text(185, -166, \"Test  $R^2 ={:.2f}$\".format(r2_score(y_test, y_pred_test)),{'color':\"g\"})\n",
    "plt.text(80, 500, \"Dataset_1\")\n",
    "\n",
    "ax=plt.subplot(1, 2, 2)\n",
    "#plt.plot(y, y_pred_train, 'b.') \n",
    "plt.plot(ID_noTg_pred['MD'], y_dataset_2, 'y.') \n",
    "plt.xlabel(\"MD simulation ($^o$C)\",fontname=\"Times New Roman\", fontsize=12)\n",
    "#plt.ylabel(\"Predicted value of Tg (C)\",fontname=\"Times New Roman\", fontsize=15)\n",
    "x0, x1 = min(y_train), max(y_train)\n",
    "length = 750\n",
    "x_start, x_end = -200, 550\n",
    "plt.xlim([-200, 550])\n",
    "plt.ylim([-200, 550])\n",
    "ax.set_xticks([-200,-100,0,100,200,300,400,500])\n",
    "#ax.set_yticks([-200,-100,0,100,200,300,400,500])\n",
    "plt.xticks(fontname=\"Times New Roman\", fontsize=12)\n",
    "plt.yticks(fontname=\"Times New Roman\", fontsize=12)\n",
    "plt.gca().set_aspect(\"equal\", adjustable=\"box\")\n",
    "# the unit line\n",
    "plt.plot(np.arange(x_start, x_end, 0.01*length),\n",
    "np.arange(x_start, x_end, 0.01*length), 'r-')\n",
    "plt.text(300, -118, \"$R^2={:.2f}$\".format(round(r2_score(ID_noTg_pred['MD'], y_dataset_2),2)),{'color':\"darkgoldenrod\"})\n",
    "plt.text(80, 500, \"Dataset_2\")\n",
    "plt.savefig(\"../Benchmark_Paper/Smiles_Fingerprint_GPR.png\", dpi=600, bbox_inches='tight') "
   ]
  },
  {
   "cell_type": "code",
   "execution_count": null,
   "metadata": {},
   "outputs": [],
   "source": []
  },
  {
   "cell_type": "code",
   "execution_count": null,
   "metadata": {},
   "outputs": [],
   "source": []
  },
  {
   "cell_type": "code",
   "execution_count": 12,
   "metadata": {},
   "outputs": [],
   "source": [
    "X = X_dataset_1\n",
    "y = Dataset1_Smiles_Tg['Tg']"
   ]
  },
  {
   "cell_type": "code",
   "execution_count": 13,
   "metadata": {},
   "outputs": [],
   "source": [
    "X_train, X_test, y_train, y_test = train_test_split(X, y, \n",
    "                                                    test_size=0.2, \n",
    "                                                    random_state=2)"
   ]
  },
  {
   "cell_type": "code",
   "execution_count": 14,
   "metadata": {},
   "outputs": [],
   "source": [
    "kernel = C(1.0) * RBF(1) + WhiteKernel(1e-1) \n",
    "model = GaussianProcessRegressor(kernel=kernel)"
   ]
  },
  {
   "cell_type": "code",
   "execution_count": null,
   "metadata": {},
   "outputs": [],
   "source": [
    "scores = cross_validate(model, X_train, y_train, cv=5,\n",
    "                        scoring=('r2', 'neg_mean_absolute_error','neg_root_mean_squared_error'),\n",
    "                        return_train_score=True)"
   ]
  },
  {
   "cell_type": "code",
   "execution_count": null,
   "metadata": {},
   "outputs": [],
   "source": [
    "print('train_r2', round(scores['train_r2'].mean(),2))\n",
    "print('train_MAE', round(abs(scores['train_neg_mean_absolute_error'].mean()),2))\n",
    "print('train_RMSE', round(abs(scores['train_neg_root_mean_squared_error'].mean()),2))"
   ]
  },
  {
   "cell_type": "code",
   "execution_count": null,
   "metadata": {},
   "outputs": [],
   "source": [
    "scores"
   ]
  },
  {
   "cell_type": "code",
   "execution_count": null,
   "metadata": {},
   "outputs": [],
   "source": [
    "model.fit(X_train, y_train)"
   ]
  },
  {
   "cell_type": "code",
   "execution_count": null,
   "metadata": {},
   "outputs": [],
   "source": [
    "y_pred_train = model.predict((X_train))\n",
    "print(\"Train set R^2: \", r2_score(y_train, y_pred_train))\n",
    "print(\"Train MAE score: %.4f\" % mean_absolute_error(y_train, y_pred_train))\n",
    "print(\"Train RMSE score: %.4f\" % np.sqrt(mean_squared_error(y_train, y_pred_train)))\n",
    "\n",
    "y_pred_test = model.predict((X_test))\n",
    "print(\"Test set R^2: \", r2_score(y_test, y_pred_test))\n",
    "print(\"Test MAE score: %.4f\" % mean_absolute_error(y_test, y_pred_test))\n",
    "print(\"Train RMSE score: %.4f\" % np.sqrt(mean_squared_error(y_test, y_pred_test)))\n",
    "\n",
    "ax=plt.subplot(1, 1, 1)\n",
    "plt.plot(y_train, y_pred_train, 'b.') \n",
    "plt.plot(y_test, y_pred_test, 'g.') \n",
    " \n",
    "plt.xlabel(\"True value of Tg (C)\",fontname=\"Times New Roman\", fontsize=15)\n",
    "plt.ylabel(\"Predicted value of Tg (C)\",fontname=\"Times New Roman\", fontsize=15)\n",
    "x0, x1 = min(y_train), max(y_train)\n",
    "length = x1 - x0\n",
    "x_start, x_end = x0-0.1*length, x1+0.1*length\n",
    "plt.xlim([x_start, x_end])\n",
    "plt.ylim([x_start, x_end])\n",
    "ax.set_xticks([-200,-100,0,100,200,300,400,500])\n",
    "ax.set_yticks([-200,-100,0,100,200,300,400,500])\n",
    "plt.xticks(fontname=\"Times New Roman\", fontsize=15, fontweight='normal')\n",
    "plt.yticks(fontname=\"Times New Roman\", fontsize=15, fontweight='normal')\n",
    "plt.gca().set_aspect(\"equal\", adjustable=\"box\")\n",
    "# the unit line\n",
    "plt.plot(np.arange(x_start, x_end, 0.01*length),\n",
    "np.arange(x_start, x_end, 0.01*length), 'r-')\n",
    "plt.text(x_end - 0.4*length, x_start + 0.10*length, \"$R^2={:.2f}$\".format(r2_score(y_train, y_pred_train)))\n",
    "plt.text(x_end - 0.4*length, x_start + 0.05*length, \"$R^2={:.2f}$\".format(r2_score(y_test, y_pred_test)))"
   ]
  },
  {
   "cell_type": "code",
   "execution_count": null,
   "metadata": {},
   "outputs": [],
   "source": []
  },
  {
   "cell_type": "code",
   "execution_count": null,
   "metadata": {},
   "outputs": [],
   "source": [
    "#model.fit(X, y)"
   ]
  },
  {
   "cell_type": "code",
   "execution_count": null,
   "metadata": {},
   "outputs": [],
   "source": [
    "#y_pred_train = model.predict((X))\n",
    "#print(\"Train set R^2: \", r2_score(y, y_pred_train))\n",
    "#print(\"Train MAE score: %.4f\" % mean_absolute_error(y, y_pred_train))\n",
    "#print(\"Train RMSE score: %.4f\" % np.sqrt(mean_squared_error(y, y_pred_train)))\n",
    "\n",
    "y_pred_test = model.predict((X_dataset_2))\n",
    "print(\"Test set R^2: \", r2_score(ID_noTg_pred['MD'], y_pred_test))\n",
    "print(\"Test MAE score: %.4f\" % mean_absolute_error(ID_noTg_pred['MD'], y_pred_test))\n",
    "print(\"Train RMSE score: %.4f\" % np.sqrt(mean_squared_error(ID_noTg_pred['MD'], y_pred_test)))\n",
    "\n",
    "ax=plt.subplot(1, 1, 1)\n",
    "#plt.plot(y, y_pred_train, 'b.') \n",
    "plt.plot(ID_noTg_pred['MD'], y_pred_test, 'g.') \n",
    " \n",
    "plt.xlabel(\"True value of Tg (C)\",fontname=\"Times New Roman\", fontsize=15)\n",
    "plt.ylabel(\"Predicted value of Tg (C)\",fontname=\"Times New Roman\", fontsize=15)\n",
    "x0, x1 = min(y_train), max(y_train)\n",
    "length = x1 - x0\n",
    "x_start, x_end = x0-0.1*length, x1+0.1*length\n",
    "plt.xlim([x_start, x_end])\n",
    "plt.ylim([x_start, x_end])\n",
    "ax.set_xticks([-200,-100,0,100,200,300,400,500])\n",
    "ax.set_yticks([-200,-100,0,100,200,300,400,500])\n",
    "plt.xticks(fontname=\"Times New Roman\", fontsize=15)\n",
    "plt.yticks(fontname=\"Times New Roman\", fontsize=15)\n",
    "plt.gca().set_aspect(\"equal\", adjustable=\"box\")\n",
    "# the unit line\n",
    "plt.plot(np.arange(x_start, x_end, 0.01*length),\n",
    "np.arange(x_start, x_end, 0.01*length), 'r-')"
   ]
  },
  {
   "cell_type": "markdown",
   "metadata": {},
   "source": [
    "### Lasso"
   ]
  },
  {
   "cell_type": "code",
   "execution_count": 12,
   "metadata": {},
   "outputs": [],
   "source": [
    "from sklearn.datasets import fetch_openml\n",
    "from sklearn.preprocessing import QuantileTransformer, quantile_transform"
   ]
  },
  {
   "cell_type": "code",
   "execution_count": 13,
   "metadata": {},
   "outputs": [],
   "source": [
    "rng = np.random.RandomState(304)\n",
    "qt = QuantileTransformer(n_quantiles=1000, output_distribution='normal',\n",
    "                         random_state=rng)"
   ]
  },
  {
   "cell_type": "code",
   "execution_count": 14,
   "metadata": {},
   "outputs": [],
   "source": [
    "Tg = Dataset1_Smiles_Tg['Tg']"
   ]
  },
  {
   "cell_type": "code",
   "execution_count": 15,
   "metadata": {},
   "outputs": [
    {
     "data": {
      "text/plain": [
       "<matplotlib.axes._subplots.AxesSubplot at 0x16fccb53348>"
      ]
     },
     "execution_count": 15,
     "metadata": {},
     "output_type": "execute_result"
    },
    {
     "data": {
      "image/png": "[encoded data removed]",
      "text/plain": [
       "<Figure size 432x288 with 1 Axes>"
      ]
     },
     "metadata": {
      "needs_background": "light"
     },
     "output_type": "display_data"
    }
   ],
   "source": [
    "sns.histplot( Tg, kde=True, color = 'black', alpha = 0.3, edgecolor='white')"
   ]
  },
  {
   "cell_type": "code",
   "execution_count": 16,
   "metadata": {},
   "outputs": [],
   "source": [
    "Y_trans = qt.fit(Tg.to_frame()).transform(Tg.to_frame())"
   ]
  },
  {
   "cell_type": "code",
   "execution_count": 17,
   "metadata": {},
   "outputs": [
    {
     "data": {
      "text/plain": [
       "<matplotlib.axes._subplots.AxesSubplot at 0x16fcca0f388>"
      ]
     },
     "execution_count": 17,
     "metadata": {},
     "output_type": "execute_result"
    },
    {
     "data": {
      "image/png": "[encoded data removed]",
      "text/plain": [
       "<Figure size 432x288 with 1 Axes>"
      ]
     },
     "metadata": {
      "needs_background": "light"
     },
     "output_type": "display_data"
    }
   ],
   "source": [
    "sns.histplot( Y_trans, kde=True, color = 'black', alpha = 0.3, edgecolor='white')"
   ]
  },
  {
   "cell_type": "code",
   "execution_count": 36,
   "metadata": {},
   "outputs": [],
   "source": [
    "Tg = Dataset1_Smiles_Tg['Tg']"
   ]
  },
  {
   "cell_type": "code",
   "execution_count": 97,
   "metadata": {},
   "outputs": [
    {
     "name": "stderr",
     "output_type": "stream",
     "text": [
      "C:\\ProgramData\\Anaconda3\\lib\\site-packages\\sklearn\\linear_model\\_coordinate_descent.py:532: ConvergenceWarning: Objective did not converge. You might want to increase the number of iterations. Duality gap: 538175.3885098342, tolerance: 5172.307322160397\n",
      "  positive)\n",
      "C:\\ProgramData\\Anaconda3\\lib\\site-packages\\sklearn\\linear_model\\_coordinate_descent.py:532: ConvergenceWarning: Objective did not converge. You might want to increase the number of iterations. Duality gap: 132799.48609285057, tolerance: 5216.773426251308\n",
      "  positive)\n",
      "C:\\ProgramData\\Anaconda3\\lib\\site-packages\\sklearn\\linear_model\\_coordinate_descent.py:532: ConvergenceWarning: Objective did not converge. You might want to increase the number of iterations. Duality gap: 39556.77542428486, tolerance: 5213.1458587064935\n",
      "  positive)\n",
      "C:\\ProgramData\\Anaconda3\\lib\\site-packages\\sklearn\\linear_model\\_coordinate_descent.py:532: ConvergenceWarning: Objective did not converge. You might want to increase the number of iterations. Duality gap: 440183.31794812717, tolerance: 5225.031825937656\n",
      "  positive)\n",
      "C:\\ProgramData\\Anaconda3\\lib\\site-packages\\sklearn\\linear_model\\_coordinate_descent.py:532: ConvergenceWarning: Objective did not converge. You might want to increase the number of iterations. Duality gap: 129344.9295949284, tolerance: 5336.9954767909585\n",
      "  positive)\n"
     ]
    },
    {
     "name": "stdout",
     "output_type": "stream",
     "text": [
      "Average train_r2 0.73\n",
      "Average train_MAE 42.92\n",
      "Average train_RMSE 55.97\n"
     ]
    },
    {
     "name": "stderr",
     "output_type": "stream",
     "text": [
      "C:\\ProgramData\\Anaconda3\\lib\\site-packages\\sklearn\\linear_model\\_coordinate_descent.py:532: ConvergenceWarning: Objective did not converge. You might want to increase the number of iterations. Duality gap: 277074.8525366243, tolerance: 6541.139163710228\n",
      "  positive)\n"
     ]
    },
    {
     "name": "stdout",
     "output_type": "stream",
     "text": [
      "Train set R^2:  0.7332400514131094\n",
      "Train MAE score: 43.0395\n",
      "Train RMSE score: 56.1320\n",
      "Test set R^2:  0.7338166643679842\n",
      "Test MAE score: 43.0769\n",
      "Test RMSE score: 57.2014\n",
      "Dataset2 R^2:  0.5696735063923135\n",
      "Dataset2 MAE score: 56.1759\n",
      "Dataset2 RMSE score: 73.0209\n"
     ]
    }
   ],
   "source": [
    "alpha = 0.1\n",
    "model = Lasso(alpha=alpha)\n",
    "\n",
    "X = X_dataset_1\n",
    "y = Dataset1_Smiles_Tg['Tg']\n",
    "\n",
    "X_train, X_test, y_train, y_test = train_test_split(X, y, \n",
    "                                                    test_size=0.2, \n",
    "                                                    random_state=2)\n",
    "\n",
    "scores = cross_validate(model, X_train, y_train, cv=5,\n",
    "                        scoring=('r2', 'neg_mean_absolute_error','neg_root_mean_squared_error'),\n",
    "                        return_train_score=True)\n",
    "\n",
    "print('Average train_r2', round(scores['train_r2'].mean(),2))\n",
    "print('Average train_MAE', round(abs(scores['train_neg_mean_absolute_error'].mean()),2))\n",
    "print('Average train_RMSE', round(abs(scores['train_neg_root_mean_squared_error'].mean()),2))\n",
    "\n",
    "model.fit(X_train, y_train)\n",
    "\n",
    "y_pred_train = model.predict((X_train))\n",
    "print(\"Train set R^2: \", r2_score(y_train, y_pred_train))\n",
    "print(\"Train MAE score: %.4f\" % mean_absolute_error(y_train, y_pred_train))\n",
    "print(\"Train RMSE score: %.4f\" % np.sqrt(mean_squared_error(y_train, y_pred_train)))\n",
    "\n",
    "y_pred_test = model.predict((X_test))\n",
    "print(\"Test set R^2: \", r2_score(y_test, y_pred_test))\n",
    "print(\"Test MAE score: %.4f\" % mean_absolute_error(y_test, y_pred_test))\n",
    "print(\"Test RMSE score: %.4f\" % np.sqrt(mean_squared_error(y_test, y_pred_test)))\n",
    "\n",
    "y_dataset_2 = model.predict((X_dataset_2))\n",
    "print(\"Dataset2 R^2: \", r2_score(ID_noTg_pred['MD'], y_dataset_2))\n",
    "print(\"Dataset2 MAE score: %.4f\" % mean_absolute_error(ID_noTg_pred['MD'], y_dataset_2))\n",
    "print(\"Dataset2 RMSE score: %.4f\" % np.sqrt(mean_squared_error(ID_noTg_pred['MD'], y_dataset_2)))"
   ]
  },
  {
   "cell_type": "code",
   "execution_count": 98,
   "metadata": {},
   "outputs": [
    {
     "data": {
      "image/png": "[encoded data removed]",
      "text/plain": [
       "<Figure size 504x1008 with 2 Axes>"
      ]
     },
     "metadata": {
      "needs_background": "light"
     },
     "output_type": "display_data"
    }
   ],
   "source": [
    "plt.figure(figsize=(7,14))\n",
    "\n",
    "ax=plt.subplot(1, 2, 1)\n",
    "plt.plot(y_train, y_pred_train, 'b.') \n",
    "plt.plot(y_test, y_pred_test, 'g.') \n",
    " \n",
    "plt.xlabel(\"Experiment ($^o$C)\",fontname=\"Times New Roman\", fontsize=12)\n",
    "plt.ylabel(\"Prediction ($^o$C)\",fontname=\"Times New Roman\", fontsize=12)\n",
    "x0, x1 = min(y_train), max(y_train)\n",
    "length = 750\n",
    "x_start, x_end = -200, 550\n",
    "plt.xlim([-200, 550])\n",
    "plt.ylim([-200, 550])\n",
    "ax.set_xticks([-200,-100,0,100,200,300,400,500])\n",
    "ax.set_yticks([-200,-100,0,100,200,300,400,500])\n",
    "plt.xticks(fontname=\"Times New Roman\", fontsize=12, fontweight='normal')\n",
    "plt.yticks(fontname=\"Times New Roman\", fontsize=12, fontweight='normal')\n",
    "plt.gca().set_aspect(\"equal\", adjustable=\"box\")\n",
    "# the unit line\n",
    "plt.plot(np.arange(x_start, x_end, 0.01*length),\n",
    "np.arange(x_start, x_end, 0.01*length), 'r-')\n",
    "plt.text(185, -118, \"Train $R^2={:.2f}$\".format(round(scores['train_r2'].mean(),2)),{'color':\"b\"})\n",
    "plt.text(185, -166, \"Test  $R^2 ={:.2f}$\".format(r2_score(y_test, y_pred_test)),{'color':\"g\"})\n",
    "plt.text(80, 500, \"Dataset_1\")\n",
    "\n",
    "ax=plt.subplot(1, 2, 2)\n",
    "#plt.plot(y, y_pred_train, 'b.') \n",
    "plt.plot(ID_noTg_pred['MD'], y_dataset_2, 'y.') \n",
    "plt.xlabel(\"MD simulation ($^o$C)\",fontname=\"Times New Roman\", fontsize=12)\n",
    "#plt.ylabel(\"Predicted value of Tg (C)\",fontname=\"Times New Roman\", fontsize=15)\n",
    "x0, x1 = min(y_train), max(y_train)\n",
    "length = 750\n",
    "x_start, x_end = -200, 550\n",
    "plt.xlim([-200, 550])\n",
    "plt.ylim([-200, 550])\n",
    "ax.set_xticks([-200,-100,0,100,200,300,400,500])\n",
    "#ax.set_yticks([-200,-100,0,100,200,300,400,500])\n",
    "plt.xticks(fontname=\"Times New Roman\", fontsize=12)\n",
    "plt.yticks(fontname=\"Times New Roman\", fontsize=12)\n",
    "plt.gca().set_aspect(\"equal\", adjustable=\"box\")\n",
    "# the unit line\n",
    "plt.plot(np.arange(x_start, x_end, 0.01*length),\n",
    "np.arange(x_start, x_end, 0.01*length), 'r-')\n",
    "plt.text(300, -118, \"$R^2={:.2f}$\".format(round(r2_score(ID_noTg_pred['MD'], y_dataset_2),2)),{'color':\"darkgoldenrod\"})\n",
    "plt.text(80, 500, \"Dataset_2\")\n",
    "plt.savefig(\"../Benchmark_Paper/Smiles_Fingerprint_Lasso.png\", dpi=600, bbox_inches='tight') "
   ]
  },
  {
   "cell_type": "code",
   "execution_count": null,
   "metadata": {},
   "outputs": [],
   "source": []
  },
  {
   "cell_type": "code",
   "execution_count": null,
   "metadata": {},
   "outputs": [],
   "source": []
  },
  {
   "cell_type": "code",
   "execution_count": 37,
   "metadata": {},
   "outputs": [
    {
     "name": "stderr",
     "output_type": "stream",
     "text": [
      "C:\\ProgramData\\Anaconda3\\lib\\site-packages\\sklearn\\linear_model\\_coordinate_descent.py:532: ConvergenceWarning: Objective did not converge. You might want to increase the number of iterations. Duality gap: 104792.16711119376, tolerance: 6723.157167479421\n",
      "  positive)\n",
      "C:\\ProgramData\\Anaconda3\\lib\\site-packages\\sklearn\\linear_model\\_coordinate_descent.py:532: ConvergenceWarning: Objective did not converge. You might want to increase the number of iterations. Duality gap: 86404.74881475233, tolerance: 6092.677497765714\n",
      "  positive)\n",
      "C:\\ProgramData\\Anaconda3\\lib\\site-packages\\sklearn\\linear_model\\_coordinate_descent.py:532: ConvergenceWarning: Objective did not converge. You might want to increase the number of iterations. Duality gap: 26961.66310959868, tolerance: 6079.969833099359\n",
      "  positive)\n",
      "C:\\ProgramData\\Anaconda3\\lib\\site-packages\\sklearn\\linear_model\\_coordinate_descent.py:532: ConvergenceWarning: Objective did not converge. You might want to increase the number of iterations. Duality gap: 29693.183143513277, tolerance: 6049.800775819928\n",
      "  positive)\n",
      "C:\\ProgramData\\Anaconda3\\lib\\site-packages\\sklearn\\linear_model\\_coordinate_descent.py:532: ConvergenceWarning: Objective did not converge. You might want to increase the number of iterations. Duality gap: 37025.67202343419, tolerance: 6093.780919710619\n",
      "  positive)\n",
      "C:\\ProgramData\\Anaconda3\\lib\\site-packages\\sklearn\\linear_model\\_coordinate_descent.py:532: ConvergenceWarning: Objective did not converge. You might want to increase the number of iterations. Duality gap: 82285.81491426006, tolerance: 6077.9270777685\n",
      "  positive)\n",
      "C:\\ProgramData\\Anaconda3\\lib\\site-packages\\sklearn\\linear_model\\_coordinate_descent.py:532: ConvergenceWarning: Objective did not converge. You might want to increase the number of iterations. Duality gap: 31735.306259972975, tolerance: 6011.297489281302\n",
      "  positive)\n",
      "C:\\ProgramData\\Anaconda3\\lib\\site-packages\\sklearn\\linear_model\\_coordinate_descent.py:532: ConvergenceWarning: Objective did not converge. You might want to increase the number of iterations. Duality gap: 119455.01361171901, tolerance: 6029.831526494216\n",
      "  positive)\n",
      "C:\\ProgramData\\Anaconda3\\lib\\site-packages\\sklearn\\linear_model\\_coordinate_descent.py:532: ConvergenceWarning: Objective did not converge. You might want to increase the number of iterations. Duality gap: 317804.7164400369, tolerance: 5962.7272061441245\n",
      "  positive)\n",
      "C:\\ProgramData\\Anaconda3\\lib\\site-packages\\sklearn\\linear_model\\_coordinate_descent.py:532: ConvergenceWarning: Objective did not converge. You might want to increase the number of iterations. Duality gap: 104567.60432166979, tolerance: 6074.314004368856\n",
      "  positive)\n",
      "C:\\ProgramData\\Anaconda3\\lib\\site-packages\\sklearn\\linear_model\\_coordinate_descent.py:532: ConvergenceWarning: Objective did not converge. You might want to increase the number of iterations. Duality gap: 67525.56610491313, tolerance: 6035.2425708158735\n",
      "  positive)\n",
      "C:\\ProgramData\\Anaconda3\\lib\\site-packages\\sklearn\\linear_model\\_coordinate_descent.py:532: ConvergenceWarning: Objective did not converge. You might want to increase the number of iterations. Duality gap: 86404.74881475233, tolerance: 6092.677497765714\n",
      "  positive)\n",
      "C:\\ProgramData\\Anaconda3\\lib\\site-packages\\sklearn\\linear_model\\_coordinate_descent.py:532: ConvergenceWarning: Objective did not converge. You might want to increase the number of iterations. Duality gap: 26961.66310959868, tolerance: 6079.969833099359\n",
      "  positive)\n",
      "C:\\ProgramData\\Anaconda3\\lib\\site-packages\\sklearn\\linear_model\\_coordinate_descent.py:532: ConvergenceWarning: Objective did not converge. You might want to increase the number of iterations. Duality gap: 29693.183143513277, tolerance: 6049.800775819928\n",
      "  positive)\n",
      "C:\\ProgramData\\Anaconda3\\lib\\site-packages\\sklearn\\linear_model\\_coordinate_descent.py:532: ConvergenceWarning: Objective did not converge. You might want to increase the number of iterations. Duality gap: 37025.67202343419, tolerance: 6093.780919710619\n",
      "  positive)\n",
      "C:\\ProgramData\\Anaconda3\\lib\\site-packages\\sklearn\\linear_model\\_coordinate_descent.py:532: ConvergenceWarning: Objective did not converge. You might want to increase the number of iterations. Duality gap: 82285.81491426006, tolerance: 6077.9270777685\n",
      "  positive)\n",
      "C:\\ProgramData\\Anaconda3\\lib\\site-packages\\sklearn\\linear_model\\_coordinate_descent.py:532: ConvergenceWarning: Objective did not converge. You might want to increase the number of iterations. Duality gap: 31735.306259972975, tolerance: 6011.297489281302\n",
      "  positive)\n",
      "C:\\ProgramData\\Anaconda3\\lib\\site-packages\\sklearn\\linear_model\\_coordinate_descent.py:532: ConvergenceWarning: Objective did not converge. You might want to increase the number of iterations. Duality gap: 119455.01361171901, tolerance: 6029.831526494216\n",
      "  positive)\n",
      "C:\\ProgramData\\Anaconda3\\lib\\site-packages\\sklearn\\linear_model\\_coordinate_descent.py:532: ConvergenceWarning: Objective did not converge. You might want to increase the number of iterations. Duality gap: 317804.7164400369, tolerance: 5962.7272061441245\n",
      "  positive)\n",
      "C:\\ProgramData\\Anaconda3\\lib\\site-packages\\sklearn\\linear_model\\_coordinate_descent.py:532: ConvergenceWarning: Objective did not converge. You might want to increase the number of iterations. Duality gap: 104567.60432166979, tolerance: 6074.314004368856\n",
      "  positive)\n",
      "C:\\ProgramData\\Anaconda3\\lib\\site-packages\\sklearn\\linear_model\\_coordinate_descent.py:532: ConvergenceWarning: Objective did not converge. You might want to increase the number of iterations. Duality gap: 67525.56610491313, tolerance: 6035.2425708158735\n",
      "  positive)\n"
     ]
    }
   ],
   "source": [
    "# hyperparameters\n",
    "X_dataset_1, Tg = shuffle(X_dataset_1, Tg, random_state=0)\n",
    "alpha = 0.1\n",
    "cv = 10\n",
    "# build model\n",
    "model = Lasso(alpha=alpha).fit(X_dataset_1[:5600], Tg[:5600])\n",
    "# get prediction\n",
    "Tg_pred = cross_val_predict(model, X_dataset_1[:5600], Tg[:5600], cv=cv) # cross-validation\n",
    "# calculate the metrics\n",
    "final_R2 = r2_score(Tg[:5600],Tg_pred)\n",
    "final_MAE = mean_absolute_error(Tg[:5600],Tg_pred)\n",
    "# metrics of the score\n",
    "scores = cross_validate(model, X_dataset_1[:5600], Tg[:5600], cv=cv,\n",
    "scoring=('r2', 'neg_mean_absolute_error'),return_train_score=True)\n",
    "# save the score\n",
    "score_df = pd.DataFrame.from_dict(scores)\n",
    "# save the model\n",
    "#pickle.dump(model, open(\"./LASSO.model\", 'wb'))\n",
    "wts = model.coef_\n",
    "#np.savetxt(\"./weights.txt\", wts, fmt=\"%5.3f\")"
   ]
  },
  {
   "cell_type": "code",
   "execution_count": 38,
   "metadata": {
    "scrolled": true
   },
   "outputs": [
    {
     "name": "stderr",
     "output_type": "stream",
     "text": [
      "C:\\ProgramData\\Anaconda3\\lib\\site-packages\\sklearn\\linear_model\\_coordinate_descent.py:532: ConvergenceWarning: Objective did not converge. You might want to increase the number of iterations. Duality gap: 65035.04633418145, tolerance: 1393.5173560371095\n",
      "  positive)\n",
      "C:\\ProgramData\\Anaconda3\\lib\\site-packages\\sklearn\\linear_model\\_coordinate_descent.py:532: ConvergenceWarning: Objective did not converge. You might want to increase the number of iterations. Duality gap: 205218.71876885346, tolerance: 1378.45880755379\n",
      "  positive)\n",
      "C:\\ProgramData\\Anaconda3\\lib\\site-packages\\sklearn\\linear_model\\_coordinate_descent.py:532: ConvergenceWarning: Objective did not converge. You might want to increase the number of iterations. Duality gap: 34111.88121691765, tolerance: 1363.5743733440002\n",
      "  positive)\n",
      "C:\\ProgramData\\Anaconda3\\lib\\site-packages\\sklearn\\linear_model\\_coordinate_descent.py:532: ConvergenceWarning: Objective did not converge. You might want to increase the number of iterations. Duality gap: 1377.7725329678506, tolerance: 1361.6309165157345\n",
      "  positive)\n",
      "C:\\ProgramData\\Anaconda3\\lib\\site-packages\\sklearn\\linear_model\\_coordinate_descent.py:532: ConvergenceWarning: Objective did not converge. You might want to increase the number of iterations. Duality gap: 70605.3293372416, tolerance: 1376.0656024023342\n",
      "  positive)\n",
      "C:\\ProgramData\\Anaconda3\\lib\\site-packages\\sklearn\\linear_model\\_coordinate_descent.py:532: ConvergenceWarning: Objective did not converge. You might want to increase the number of iterations. Duality gap: 41720.45636119787, tolerance: 1340.7492558003694\n",
      "  positive)\n",
      "C:\\ProgramData\\Anaconda3\\lib\\site-packages\\sklearn\\linear_model\\_coordinate_descent.py:532: ConvergenceWarning: Objective did not converge. You might want to increase the number of iterations. Duality gap: 29475.182995668147, tolerance: 1378.0102891516374\n",
      "  positive)\n",
      "C:\\ProgramData\\Anaconda3\\lib\\site-packages\\sklearn\\linear_model\\_coordinate_descent.py:532: ConvergenceWarning: Objective did not converge. You might want to increase the number of iterations. Duality gap: 80352.2391923368, tolerance: 1368.364641010025\n",
      "  positive)\n",
      "C:\\ProgramData\\Anaconda3\\lib\\site-packages\\sklearn\\linear_model\\_coordinate_descent.py:532: ConvergenceWarning: Objective did not converge. You might want to increase the number of iterations. Duality gap: 21993.062703473493, tolerance: 1354.2627521326447\n",
      "  positive)\n",
      "C:\\ProgramData\\Anaconda3\\lib\\site-packages\\sklearn\\linear_model\\_coordinate_descent.py:532: ConvergenceWarning: Objective did not converge. You might want to increase the number of iterations. Duality gap: 20396.48254192993, tolerance: 1367.8740127988583\n",
      "  positive)\n"
     ]
    },
    {
     "data": {
      "image/png": "[encoded data removed]",
      "text/plain": [
       "<Figure size 432x288 with 1 Axes>"
      ]
     },
     "metadata": {
      "needs_background": "light"
     },
     "output_type": "display_data"
    }
   ],
   "source": [
    "# plot the result\n",
    "ax=plt.subplot(1, 1, 1)\n",
    "plt.plot(Tg[:5600],Tg_pred, 'b.')\n",
    "plt.plot(Tg[5600:],cross_val_predict(model, X_dataset_1[5600:], Tg[5600:], cv=cv), 'g.')\n",
    "plt.xlabel(\"True value of Tg (C)\",fontname=\"Times New Roman\", fontsize=15)\n",
    "plt.ylabel(\"Predicted value of Tg (C)\",fontname=\"Times New Roman\", fontsize=15)\n",
    "x0, x1 = -200, 500\n",
    "length = x1 - x0\n",
    "x_start, x_end = x0-0.1*length, x1+0.1*length\n",
    "plt.xlim([x_start, x_end])\n",
    "plt.ylim([x_start, x_end])\n",
    "ax.set_xticks([-200,-100,0,100,200,300,400,500])\n",
    "ax.set_yticks([-200,-100,0,100,200,300,400,500])\n",
    "plt.xticks(fontname=\"Times New Roman\", fontsize=15)\n",
    "plt.yticks(fontname=\"Times New Roman\", fontsize=15)\n",
    "plt.gca().set_aspect(\"equal\", adjustable=\"box\")\n",
    "# the unit line\n",
    "plt.plot(np.arange(x_start, x_end, 0.01*length),\n",
    "np.arange(x_start, x_end, 0.01*length), 'r-')\n",
    "#plt.text(x_end - 0.4*length, x_start + 0.10*length, \"$R^2={:.2f}$\".format(final_R2))\n",
    "#plt.text(x_end - 0.4*length, x_start + 0.05*length, \"MAE={:.2f}\".format(final_MAE))\n",
    "#plt.savefig(\"./LASSO_cv_fingerprint.png\", dpi=600, bbox_inches='tight')\n",
    "plt.savefig(\"LASSO_cv_fingerprint.svg\", bbox_inches='tight')\n",
    "plt.show()"
   ]
  },
  {
   "cell_type": "code",
   "execution_count": 39,
   "metadata": {},
   "outputs": [
    {
     "name": "stdout",
     "output_type": "stream",
     "text": [
      "Training R2: 0.737047430443974\n",
      "Training MAE: 42.546043204942286\n"
     ]
    },
    {
     "name": "stderr",
     "output_type": "stream",
     "text": [
      "C:\\ProgramData\\Anaconda3\\lib\\site-packages\\sklearn\\linear_model\\_coordinate_descent.py:532: ConvergenceWarning: Objective did not converge. You might want to increase the number of iterations. Duality gap: 65035.04633418145, tolerance: 1393.5173560371095\n",
      "  positive)\n",
      "C:\\ProgramData\\Anaconda3\\lib\\site-packages\\sklearn\\linear_model\\_coordinate_descent.py:532: ConvergenceWarning: Objective did not converge. You might want to increase the number of iterations. Duality gap: 205218.71876885346, tolerance: 1378.45880755379\n",
      "  positive)\n",
      "C:\\ProgramData\\Anaconda3\\lib\\site-packages\\sklearn\\linear_model\\_coordinate_descent.py:532: ConvergenceWarning: Objective did not converge. You might want to increase the number of iterations. Duality gap: 34111.88121691765, tolerance: 1363.5743733440002\n",
      "  positive)\n",
      "C:\\ProgramData\\Anaconda3\\lib\\site-packages\\sklearn\\linear_model\\_coordinate_descent.py:532: ConvergenceWarning: Objective did not converge. You might want to increase the number of iterations. Duality gap: 1377.7725329678506, tolerance: 1361.6309165157345\n",
      "  positive)\n",
      "C:\\ProgramData\\Anaconda3\\lib\\site-packages\\sklearn\\linear_model\\_coordinate_descent.py:532: ConvergenceWarning: Objective did not converge. You might want to increase the number of iterations. Duality gap: 70605.3293372416, tolerance: 1376.0656024023342\n",
      "  positive)\n",
      "C:\\ProgramData\\Anaconda3\\lib\\site-packages\\sklearn\\linear_model\\_coordinate_descent.py:532: ConvergenceWarning: Objective did not converge. You might want to increase the number of iterations. Duality gap: 41720.45636119787, tolerance: 1340.7492558003694\n",
      "  positive)\n",
      "C:\\ProgramData\\Anaconda3\\lib\\site-packages\\sklearn\\linear_model\\_coordinate_descent.py:532: ConvergenceWarning: Objective did not converge. You might want to increase the number of iterations. Duality gap: 29475.182995668147, tolerance: 1378.0102891516374\n",
      "  positive)\n",
      "C:\\ProgramData\\Anaconda3\\lib\\site-packages\\sklearn\\linear_model\\_coordinate_descent.py:532: ConvergenceWarning: Objective did not converge. You might want to increase the number of iterations. Duality gap: 80352.2391923368, tolerance: 1368.364641010025\n",
      "  positive)\n",
      "C:\\ProgramData\\Anaconda3\\lib\\site-packages\\sklearn\\linear_model\\_coordinate_descent.py:532: ConvergenceWarning: Objective did not converge. You might want to increase the number of iterations. Duality gap: 21993.062703473493, tolerance: 1354.2627521326447\n",
      "  positive)\n",
      "C:\\ProgramData\\Anaconda3\\lib\\site-packages\\sklearn\\linear_model\\_coordinate_descent.py:532: ConvergenceWarning: Objective did not converge. You might want to increase the number of iterations. Duality gap: 20396.48254192993, tolerance: 1367.8740127988583\n",
      "  positive)\n"
     ]
    },
    {
     "name": "stdout",
     "output_type": "stream",
     "text": [
      "Test R2: 0.7258600048746593\n"
     ]
    },
    {
     "name": "stderr",
     "output_type": "stream",
     "text": [
      "C:\\ProgramData\\Anaconda3\\lib\\site-packages\\sklearn\\linear_model\\_coordinate_descent.py:532: ConvergenceWarning: Objective did not converge. You might want to increase the number of iterations. Duality gap: 65035.04633418145, tolerance: 1393.5173560371095\n",
      "  positive)\n",
      "C:\\ProgramData\\Anaconda3\\lib\\site-packages\\sklearn\\linear_model\\_coordinate_descent.py:532: ConvergenceWarning: Objective did not converge. You might want to increase the number of iterations. Duality gap: 205218.71876885346, tolerance: 1378.45880755379\n",
      "  positive)\n",
      "C:\\ProgramData\\Anaconda3\\lib\\site-packages\\sklearn\\linear_model\\_coordinate_descent.py:532: ConvergenceWarning: Objective did not converge. You might want to increase the number of iterations. Duality gap: 34111.88121691765, tolerance: 1363.5743733440002\n",
      "  positive)\n",
      "C:\\ProgramData\\Anaconda3\\lib\\site-packages\\sklearn\\linear_model\\_coordinate_descent.py:532: ConvergenceWarning: Objective did not converge. You might want to increase the number of iterations. Duality gap: 1377.7725329678506, tolerance: 1361.6309165157345\n",
      "  positive)\n",
      "C:\\ProgramData\\Anaconda3\\lib\\site-packages\\sklearn\\linear_model\\_coordinate_descent.py:532: ConvergenceWarning: Objective did not converge. You might want to increase the number of iterations. Duality gap: 70605.3293372416, tolerance: 1376.0656024023342\n",
      "  positive)\n",
      "C:\\ProgramData\\Anaconda3\\lib\\site-packages\\sklearn\\linear_model\\_coordinate_descent.py:532: ConvergenceWarning: Objective did not converge. You might want to increase the number of iterations. Duality gap: 41720.45636119787, tolerance: 1340.7492558003694\n",
      "  positive)\n",
      "C:\\ProgramData\\Anaconda3\\lib\\site-packages\\sklearn\\linear_model\\_coordinate_descent.py:532: ConvergenceWarning: Objective did not converge. You might want to increase the number of iterations. Duality gap: 29475.182995668147, tolerance: 1378.0102891516374\n",
      "  positive)\n",
      "C:\\ProgramData\\Anaconda3\\lib\\site-packages\\sklearn\\linear_model\\_coordinate_descent.py:532: ConvergenceWarning: Objective did not converge. You might want to increase the number of iterations. Duality gap: 80352.2391923368, tolerance: 1368.364641010025\n",
      "  positive)\n",
      "C:\\ProgramData\\Anaconda3\\lib\\site-packages\\sklearn\\linear_model\\_coordinate_descent.py:532: ConvergenceWarning: Objective did not converge. You might want to increase the number of iterations. Duality gap: 21993.062703473493, tolerance: 1354.2627521326447\n",
      "  positive)\n",
      "C:\\ProgramData\\Anaconda3\\lib\\site-packages\\sklearn\\linear_model\\_coordinate_descent.py:532: ConvergenceWarning: Objective did not converge. You might want to increase the number of iterations. Duality gap: 20396.48254192993, tolerance: 1367.8740127988583\n",
      "  positive)\n"
     ]
    },
    {
     "name": "stdout",
     "output_type": "stream",
     "text": [
      "Test MAE: 41.943619585194604\n"
     ]
    }
   ],
   "source": [
    "print('Training R2:',r2_score(Tg[:5600],Tg_pred[:5600]))\n",
    "print('Training MAE:',mean_absolute_error(Tg[:5600],Tg_pred[:5600]))\n",
    "print('Test R2:',r2_score(Tg[5600:],cross_val_predict(model, X_dataset_1[5600:], Tg[5600:], cv=cv)))\n",
    "print('Test MAE:',mean_absolute_error(Tg[5600:],cross_val_predict(model, X_dataset_1[5600:], Tg[5600:], cv=cv)))"
   ]
  },
  {
   "cell_type": "code",
   "execution_count": 41,
   "metadata": {},
   "outputs": [
    {
     "name": "stdout",
     "output_type": "stream",
     "text": [
      "Train set R^2:  0.7500085413933699\n",
      "Train MAE score: 39.6887\n"
     ]
    },
    {
     "data": {
      "text/plain": [
       "[<matplotlib.lines.Line2D at 0x26458459e48>]"
      ]
     },
     "execution_count": 41,
     "metadata": {},
     "output_type": "execute_result"
    },
    {
     "data": {
      "image/png": "[encoded data removed]",
      "text/plain": [
       "<Figure size 432x288 with 1 Axes>"
      ]
     },
     "metadata": {
      "needs_background": "light"
     },
     "output_type": "display_data"
    }
   ],
   "source": [
    "y_pred_train = model.predict(X_dataset_1[5600:])\n",
    "y_train = Tg[5600:]\n",
    "\n",
    "#y_pred_test = df[df['MD']<1000][df['MD']>-150]['Tg_pred_Lasso_finger']\n",
    "#y_test = df[df['MD']<1000][df['MD']>-150]['MD']\n",
    "\n",
    "print(\"Train set R^2: \", r2_score(y_train, y_pred_train))\n",
    "print(\"Train MAE score: %.4f\" % mean_absolute_error(y_train, y_pred_train))\n",
    "\n",
    "#print(\"Test set R^2: \", r2_score(y_test, y_pred_test))\n",
    "#print(\"Test MAE score: %.4f\" % mean_absolute_error(y_test, y_pred_test))\n",
    "\n",
    "ax=plt.subplot(1, 1, 1)\n",
    "plt.plot(y_train, y_pred_train, 'b.') \n",
    "#plt.plot(y_test, y_pred_test, 'g.') \n",
    " \n",
    "plt.xlabel(\"True value of Tg (C)\",fontname=\"Times New Roman\", fontsize=15)\n",
    "plt.ylabel(\"Predicted value of Tg (C)\",fontname=\"Times New Roman\", fontsize=15)\n",
    "x0, x1 = min(y_train), max(y_train)\n",
    "length = x1 - x0\n",
    "x_start, x_end = x0-0.1*length, x1+0.1*length\n",
    "#plt.xlim([x_start, x_end])\n",
    "#plt.ylim([x_start, x_end])\n",
    "#ax.set_xticks([-200,-100,0,100,200,300,400,500])\n",
    "#ax.set_yticks([-200,-100,0,100,200,300,400,500])\n",
    "plt.xticks(fontname=\"Times New Roman\", fontsize=15)\n",
    "plt.yticks(fontname=\"Times New Roman\", fontsize=15)\n",
    "plt.gca().set_aspect(\"equal\", adjustable=\"box\")\n",
    "# the unit line\n",
    "plt.plot(np.arange(x_start, x_end, 0.01*length),\n",
    "np.arange(x_start, x_end, 0.01*length), 'r-')"
   ]
  },
  {
   "cell_type": "code",
   "execution_count": 40,
   "metadata": {},
   "outputs": [
    {
     "name": "stdout",
     "output_type": "stream",
     "text": [
      "Train set R^2:  0.5822045551314464\n",
      "Train MAE score: 55.2428\n"
     ]
    },
    {
     "data": {
      "text/plain": [
       "[<matplotlib.lines.Line2D at 0x2645929a848>]"
      ]
     },
     "execution_count": 40,
     "metadata": {},
     "output_type": "execute_result"
    },
    {
     "data": {
      "image/png": "[encoded data removed]",
      "text/plain": [
       "<Figure size 432x288 with 1 Axes>"
      ]
     },
     "metadata": {
      "needs_background": "light"
     },
     "output_type": "display_data"
    }
   ],
   "source": [
    "y_pred_train = model.predict(X_dataset_2)\n",
    "y_train = ID_noTg_pred['MD']\n",
    "\n",
    "#y_pred_test = df[df['MD']<1000][df['MD']>-150]['Tg_pred_Lasso_finger']\n",
    "#y_test = df[df['MD']<1000][df['MD']>-150]['MD']\n",
    "\n",
    "print(\"Train set R^2: \", r2_score(y_train, y_pred_train))\n",
    "print(\"Train MAE score: %.4f\" % mean_absolute_error(y_train, y_pred_train))\n",
    "\n",
    "#print(\"Test set R^2: \", r2_score(y_test, y_pred_test))\n",
    "#print(\"Test MAE score: %.4f\" % mean_absolute_error(y_test, y_pred_test))\n",
    "\n",
    "ax=plt.subplot(1, 1, 1)\n",
    "plt.plot(y_train, y_pred_train, 'b.') \n",
    "#plt.plot(y_test, y_pred_test, 'g.') \n",
    " \n",
    "plt.xlabel(\"True value of Tg (C)\",fontname=\"Times New Roman\", fontsize=15)\n",
    "plt.ylabel(\"Predicted value of Tg (C)\",fontname=\"Times New Roman\", fontsize=15)\n",
    "x0, x1 = min(y_train), max(y_train)\n",
    "length = x1 - x0\n",
    "x_start, x_end = x0-0.1*length, x1+0.1*length\n",
    "#plt.xlim([x_start, x_end])\n",
    "#plt.ylim([x_start, x_end])\n",
    "#ax.set_xticks([-200,-100,0,100,200,300,400,500])\n",
    "#ax.set_yticks([-200,-100,0,100,200,300,400,500])\n",
    "plt.xticks(fontname=\"Times New Roman\", fontsize=15)\n",
    "plt.yticks(fontname=\"Times New Roman\", fontsize=15)\n",
    "plt.gca().set_aspect(\"equal\", adjustable=\"box\")\n",
    "# the unit line\n",
    "plt.plot(np.arange(x_start, x_end, 0.01*length),\n",
    "np.arange(x_start, x_end, 0.01*length), 'r-')"
   ]
  },
  {
   "cell_type": "code",
   "execution_count": 20,
   "metadata": {},
   "outputs": [],
   "source": [
    "weights_df = pd.DataFrame()"
   ]
  },
  {
   "cell_type": "code",
   "execution_count": 21,
   "metadata": {},
   "outputs": [
    {
     "name": "stdout",
     "output_type": "stream",
     "text": [
      "     descriptor_id         wt      abswt     ratio    cumsum\n",
      "84           16406  30.326958  30.326958  0.044004  0.044004\n",
      "89           17748  29.773489  29.773489  0.043201  0.087206\n",
      "114          24417 -25.499196  25.499196  0.036999  0.124205\n",
      "46            7968  24.131836  24.131836  0.035015  0.159220\n",
      "2              426  24.117823  24.117823  0.034995  0.194215\n",
      "..             ...        ...        ...       ...       ...\n",
      "92           18464  -0.000000   0.000000  0.000000  1.000000\n",
      "61           11555  -0.000000   0.000000  0.000000  1.000000\n",
      "31            4660   0.000000   0.000000  0.000000  1.000000\n",
      "98           21179  -0.000000   0.000000  0.000000  1.000000\n",
      "62           11856  -0.000000   0.000000  0.000000  1.000000\n",
      "\n",
      "[124 rows x 5 columns]\n",
      "       index           0\n",
      "0          0  4093640732\n",
      "1          1   687341608\n",
      "2          2  3670016041\n",
      "3          3   583794733\n",
      "4          4  1563557952\n",
      "...      ...         ...\n",
      "26451  26451   351010789\n",
      "26452  26452   563085300\n",
      "26453  26453   578551797\n",
      "26454  26454  1084489719\n",
      "26455  26455  3359768574\n",
      "\n",
      "[26456 rows x 2 columns]\n"
     ]
    }
   ],
   "source": [
    "weights_df['descriptor_id'] = Zero_Sum[Zero_Sum < NumberOfZero].index\n",
    "weights_df['wt'] = wts\n",
    "weights_df['abswt'] = abs(wts)\n",
    "\n",
    "# find the main feature\n",
    "coeffs = abs(wts)\n",
    "coeffs = coeffs/sum(coeffs)\n",
    "weights_df['ratio'] = coeffs\n",
    "\n",
    "ordered_wts = weights_df.sort_values(['ratio'], ascending=0)\n",
    "# add cumulative sum\n",
    "ordered_wts['cumsum'] = ordered_wts['ratio'].to_numpy().cumsum()\n",
    "ordered_wts[ordered_wts['cumsum'] <0.8]\n",
    "\n",
    "print(ordered_wts)\n",
    "print(Corr_df)"
   ]
  },
  {
   "cell_type": "code",
   "execution_count": 22,
   "metadata": {
    "scrolled": true
   },
   "outputs": [
    {
     "data": {
      "text/html": [
       "<div>\n",
       "<style scoped>\n",
       "    .dataframe tbody tr th:only-of-type {\n",
       "        vertical-align: middle;\n",
       "    }\n",
       "\n",
       "    .dataframe tbody tr th {\n",
       "        vertical-align: top;\n",
       "    }\n",
       "\n",
       "    .dataframe thead th {\n",
       "        text-align: right;\n",
       "    }\n",
       "</style>\n",
       "<table border=\"1\" class=\"dataframe\">\n",
       "  <thead>\n",
       "    <tr style=\"text-align: right;\">\n",
       "      <th></th>\n",
       "      <th>descriptor_id</th>\n",
       "      <th>wt</th>\n",
       "      <th>abswt</th>\n",
       "      <th>ratio</th>\n",
       "      <th>cumsum</th>\n",
       "    </tr>\n",
       "  </thead>\n",
       "  <tbody>\n",
       "    <tr>\n",
       "      <td>84</td>\n",
       "      <td>16406</td>\n",
       "      <td>30.326958</td>\n",
       "      <td>30.326958</td>\n",
       "      <td>0.044004</td>\n",
       "      <td>0.044004</td>\n",
       "    </tr>\n",
       "    <tr>\n",
       "      <td>89</td>\n",
       "      <td>17748</td>\n",
       "      <td>29.773489</td>\n",
       "      <td>29.773489</td>\n",
       "      <td>0.043201</td>\n",
       "      <td>0.087206</td>\n",
       "    </tr>\n",
       "    <tr>\n",
       "      <td>114</td>\n",
       "      <td>24417</td>\n",
       "      <td>-25.499196</td>\n",
       "      <td>25.499196</td>\n",
       "      <td>0.036999</td>\n",
       "      <td>0.124205</td>\n",
       "    </tr>\n",
       "    <tr>\n",
       "      <td>46</td>\n",
       "      <td>7968</td>\n",
       "      <td>24.131836</td>\n",
       "      <td>24.131836</td>\n",
       "      <td>0.035015</td>\n",
       "      <td>0.159220</td>\n",
       "    </tr>\n",
       "    <tr>\n",
       "      <td>2</td>\n",
       "      <td>426</td>\n",
       "      <td>24.117823</td>\n",
       "      <td>24.117823</td>\n",
       "      <td>0.034995</td>\n",
       "      <td>0.194215</td>\n",
       "    </tr>\n",
       "    <tr>\n",
       "      <td>110</td>\n",
       "      <td>24060</td>\n",
       "      <td>21.368356</td>\n",
       "      <td>21.368356</td>\n",
       "      <td>0.031005</td>\n",
       "      <td>0.225220</td>\n",
       "    </tr>\n",
       "    <tr>\n",
       "      <td>4</td>\n",
       "      <td>770</td>\n",
       "      <td>-19.587993</td>\n",
       "      <td>19.587993</td>\n",
       "      <td>0.028422</td>\n",
       "      <td>0.253642</td>\n",
       "    </tr>\n",
       "    <tr>\n",
       "      <td>104</td>\n",
       "      <td>22566</td>\n",
       "      <td>18.040026</td>\n",
       "      <td>18.040026</td>\n",
       "      <td>0.026176</td>\n",
       "      <td>0.279818</td>\n",
       "    </tr>\n",
       "    <tr>\n",
       "      <td>88</td>\n",
       "      <td>17618</td>\n",
       "      <td>17.323779</td>\n",
       "      <td>17.323779</td>\n",
       "      <td>0.025137</td>\n",
       "      <td>0.304955</td>\n",
       "    </tr>\n",
       "    <tr>\n",
       "      <td>60</td>\n",
       "      <td>11362</td>\n",
       "      <td>16.660818</td>\n",
       "      <td>16.660818</td>\n",
       "      <td>0.024175</td>\n",
       "      <td>0.329130</td>\n",
       "    </tr>\n",
       "    <tr>\n",
       "      <td>63</td>\n",
       "      <td>11881</td>\n",
       "      <td>16.146561</td>\n",
       "      <td>16.146561</td>\n",
       "      <td>0.023429</td>\n",
       "      <td>0.352558</td>\n",
       "    </tr>\n",
       "    <tr>\n",
       "      <td>48</td>\n",
       "      <td>8814</td>\n",
       "      <td>15.368609</td>\n",
       "      <td>15.368609</td>\n",
       "      <td>0.022300</td>\n",
       "      <td>0.374858</td>\n",
       "    </tr>\n",
       "    <tr>\n",
       "      <td>59</td>\n",
       "      <td>11337</td>\n",
       "      <td>-15.212459</td>\n",
       "      <td>15.212459</td>\n",
       "      <td>0.022073</td>\n",
       "      <td>0.396931</td>\n",
       "    </tr>\n",
       "    <tr>\n",
       "      <td>108</td>\n",
       "      <td>23586</td>\n",
       "      <td>-15.121861</td>\n",
       "      <td>15.121861</td>\n",
       "      <td>0.021942</td>\n",
       "      <td>0.418873</td>\n",
       "    </tr>\n",
       "    <tr>\n",
       "      <td>35</td>\n",
       "      <td>4916</td>\n",
       "      <td>13.952323</td>\n",
       "      <td>13.952323</td>\n",
       "      <td>0.020245</td>\n",
       "      <td>0.439118</td>\n",
       "    </tr>\n",
       "    <tr>\n",
       "      <td>43</td>\n",
       "      <td>7305</td>\n",
       "      <td>-13.092089</td>\n",
       "      <td>13.092089</td>\n",
       "      <td>0.018997</td>\n",
       "      <td>0.458115</td>\n",
       "    </tr>\n",
       "    <tr>\n",
       "      <td>86</td>\n",
       "      <td>17135</td>\n",
       "      <td>-12.469768</td>\n",
       "      <td>12.469768</td>\n",
       "      <td>0.018094</td>\n",
       "      <td>0.476208</td>\n",
       "    </tr>\n",
       "    <tr>\n",
       "      <td>118</td>\n",
       "      <td>25398</td>\n",
       "      <td>11.870216</td>\n",
       "      <td>11.870216</td>\n",
       "      <td>0.017224</td>\n",
       "      <td>0.493432</td>\n",
       "    </tr>\n",
       "    <tr>\n",
       "      <td>29</td>\n",
       "      <td>4470</td>\n",
       "      <td>-11.644772</td>\n",
       "      <td>11.644772</td>\n",
       "      <td>0.016897</td>\n",
       "      <td>0.510328</td>\n",
       "    </tr>\n",
       "    <tr>\n",
       "      <td>87</td>\n",
       "      <td>17579</td>\n",
       "      <td>11.328579</td>\n",
       "      <td>11.328579</td>\n",
       "      <td>0.016438</td>\n",
       "      <td>0.526766</td>\n",
       "    </tr>\n",
       "    <tr>\n",
       "      <td>79</td>\n",
       "      <td>14500</td>\n",
       "      <td>11.240116</td>\n",
       "      <td>11.240116</td>\n",
       "      <td>0.016309</td>\n",
       "      <td>0.543075</td>\n",
       "    </tr>\n",
       "    <tr>\n",
       "      <td>117</td>\n",
       "      <td>24993</td>\n",
       "      <td>-10.772973</td>\n",
       "      <td>10.772973</td>\n",
       "      <td>0.015632</td>\n",
       "      <td>0.558707</td>\n",
       "    </tr>\n",
       "    <tr>\n",
       "      <td>115</td>\n",
       "      <td>24462</td>\n",
       "      <td>-10.754880</td>\n",
       "      <td>10.754880</td>\n",
       "      <td>0.015605</td>\n",
       "      <td>0.574312</td>\n",
       "    </tr>\n",
       "    <tr>\n",
       "      <td>111</td>\n",
       "      <td>24090</td>\n",
       "      <td>10.581805</td>\n",
       "      <td>10.581805</td>\n",
       "      <td>0.015354</td>\n",
       "      <td>0.589666</td>\n",
       "    </tr>\n",
       "    <tr>\n",
       "      <td>34</td>\n",
       "      <td>4900</td>\n",
       "      <td>10.202947</td>\n",
       "      <td>10.202947</td>\n",
       "      <td>0.014804</td>\n",
       "      <td>0.604471</td>\n",
       "    </tr>\n",
       "    <tr>\n",
       "      <td>83</td>\n",
       "      <td>16132</td>\n",
       "      <td>-10.145485</td>\n",
       "      <td>10.145485</td>\n",
       "      <td>0.014721</td>\n",
       "      <td>0.619192</td>\n",
       "    </tr>\n",
       "    <tr>\n",
       "      <td>121</td>\n",
       "      <td>26194</td>\n",
       "      <td>9.197333</td>\n",
       "      <td>9.197333</td>\n",
       "      <td>0.013345</td>\n",
       "      <td>0.632537</td>\n",
       "    </tr>\n",
       "    <tr>\n",
       "      <td>94</td>\n",
       "      <td>19002</td>\n",
       "      <td>-9.151843</td>\n",
       "      <td>9.151843</td>\n",
       "      <td>0.013279</td>\n",
       "      <td>0.645816</td>\n",
       "    </tr>\n",
       "    <tr>\n",
       "      <td>107</td>\n",
       "      <td>23051</td>\n",
       "      <td>8.909796</td>\n",
       "      <td>8.909796</td>\n",
       "      <td>0.012928</td>\n",
       "      <td>0.658745</td>\n",
       "    </tr>\n",
       "    <tr>\n",
       "      <td>96</td>\n",
       "      <td>20829</td>\n",
       "      <td>8.720453</td>\n",
       "      <td>8.720453</td>\n",
       "      <td>0.012653</td>\n",
       "      <td>0.671398</td>\n",
       "    </tr>\n",
       "    <tr>\n",
       "      <td>47</td>\n",
       "      <td>8360</td>\n",
       "      <td>8.636534</td>\n",
       "      <td>8.636534</td>\n",
       "      <td>0.012532</td>\n",
       "      <td>0.683929</td>\n",
       "    </tr>\n",
       "    <tr>\n",
       "      <td>97</td>\n",
       "      <td>21006</td>\n",
       "      <td>8.482209</td>\n",
       "      <td>8.482209</td>\n",
       "      <td>0.012308</td>\n",
       "      <td>0.696237</td>\n",
       "    </tr>\n",
       "    <tr>\n",
       "      <td>85</td>\n",
       "      <td>16628</td>\n",
       "      <td>8.429876</td>\n",
       "      <td>8.429876</td>\n",
       "      <td>0.012232</td>\n",
       "      <td>0.708469</td>\n",
       "    </tr>\n",
       "    <tr>\n",
       "      <td>36</td>\n",
       "      <td>5104</td>\n",
       "      <td>8.287033</td>\n",
       "      <td>8.287033</td>\n",
       "      <td>0.012024</td>\n",
       "      <td>0.720493</td>\n",
       "    </tr>\n",
       "    <tr>\n",
       "      <td>49</td>\n",
       "      <td>8921</td>\n",
       "      <td>-8.216427</td>\n",
       "      <td>8.216427</td>\n",
       "      <td>0.011922</td>\n",
       "      <td>0.732415</td>\n",
       "    </tr>\n",
       "    <tr>\n",
       "      <td>65</td>\n",
       "      <td>12179</td>\n",
       "      <td>8.088889</td>\n",
       "      <td>8.088889</td>\n",
       "      <td>0.011737</td>\n",
       "      <td>0.744152</td>\n",
       "    </tr>\n",
       "    <tr>\n",
       "      <td>123</td>\n",
       "      <td>26395</td>\n",
       "      <td>7.867557</td>\n",
       "      <td>7.867557</td>\n",
       "      <td>0.011416</td>\n",
       "      <td>0.755568</td>\n",
       "    </tr>\n",
       "    <tr>\n",
       "      <td>58</td>\n",
       "      <td>11317</td>\n",
       "      <td>7.843595</td>\n",
       "      <td>7.843595</td>\n",
       "      <td>0.011381</td>\n",
       "      <td>0.766949</td>\n",
       "    </tr>\n",
       "    <tr>\n",
       "      <td>91</td>\n",
       "      <td>18126</td>\n",
       "      <td>-7.759868</td>\n",
       "      <td>7.759868</td>\n",
       "      <td>0.011260</td>\n",
       "      <td>0.778209</td>\n",
       "    </tr>\n",
       "    <tr>\n",
       "      <td>66</td>\n",
       "      <td>12364</td>\n",
       "      <td>-7.711621</td>\n",
       "      <td>7.711621</td>\n",
       "      <td>0.011190</td>\n",
       "      <td>0.789398</td>\n",
       "    </tr>\n",
       "  </tbody>\n",
       "</table>\n",
       "</div>"
      ],
      "text/plain": [
       "     descriptor_id         wt      abswt     ratio    cumsum\n",
       "84           16406  30.326958  30.326958  0.044004  0.044004\n",
       "89           17748  29.773489  29.773489  0.043201  0.087206\n",
       "114          24417 -25.499196  25.499196  0.036999  0.124205\n",
       "46            7968  24.131836  24.131836  0.035015  0.159220\n",
       "2              426  24.117823  24.117823  0.034995  0.194215\n",
       "110          24060  21.368356  21.368356  0.031005  0.225220\n",
       "4              770 -19.587993  19.587993  0.028422  0.253642\n",
       "104          22566  18.040026  18.040026  0.026176  0.279818\n",
       "88           17618  17.323779  17.323779  0.025137  0.304955\n",
       "60           11362  16.660818  16.660818  0.024175  0.329130\n",
       "63           11881  16.146561  16.146561  0.023429  0.352558\n",
       "48            8814  15.368609  15.368609  0.022300  0.374858\n",
       "59           11337 -15.212459  15.212459  0.022073  0.396931\n",
       "108          23586 -15.121861  15.121861  0.021942  0.418873\n",
       "35            4916  13.952323  13.952323  0.020245  0.439118\n",
       "43            7305 -13.092089  13.092089  0.018997  0.458115\n",
       "86           17135 -12.469768  12.469768  0.018094  0.476208\n",
       "118          25398  11.870216  11.870216  0.017224  0.493432\n",
       "29            4470 -11.644772  11.644772  0.016897  0.510328\n",
       "87           17579  11.328579  11.328579  0.016438  0.526766\n",
       "79           14500  11.240116  11.240116  0.016309  0.543075\n",
       "117          24993 -10.772973  10.772973  0.015632  0.558707\n",
       "115          24462 -10.754880  10.754880  0.015605  0.574312\n",
       "111          24090  10.581805  10.581805  0.015354  0.589666\n",
       "34            4900  10.202947  10.202947  0.014804  0.604471\n",
       "83           16132 -10.145485  10.145485  0.014721  0.619192\n",
       "121          26194   9.197333   9.197333  0.013345  0.632537\n",
       "94           19002  -9.151843   9.151843  0.013279  0.645816\n",
       "107          23051   8.909796   8.909796  0.012928  0.658745\n",
       "96           20829   8.720453   8.720453  0.012653  0.671398\n",
       "47            8360   8.636534   8.636534  0.012532  0.683929\n",
       "97           21006   8.482209   8.482209  0.012308  0.696237\n",
       "85           16628   8.429876   8.429876  0.012232  0.708469\n",
       "36            5104   8.287033   8.287033  0.012024  0.720493\n",
       "49            8921  -8.216427   8.216427  0.011922  0.732415\n",
       "65           12179   8.088889   8.088889  0.011737  0.744152\n",
       "123          26395   7.867557   7.867557  0.011416  0.755568\n",
       "58           11317   7.843595   7.843595  0.011381  0.766949\n",
       "91           18126  -7.759868   7.759868  0.011260  0.778209\n",
       "66           12364  -7.711621   7.711621  0.011190  0.789398"
      ]
     },
     "execution_count": 22,
     "metadata": {},
     "output_type": "execute_result"
    }
   ],
   "source": [
    "ordered_wts[ordered_wts['cumsum'] <0.8]"
   ]
  },
  {
   "cell_type": "markdown",
   "metadata": {},
   "source": [
    "#### plot substructure"
   ]
  },
  {
   "cell_type": "code",
   "execution_count": 24,
   "metadata": {},
   "outputs": [
    {
     "data": {
      "image/svg+xml": [
       "<svg baseProfile=\"full\" height=\"450px\" version=\"1.1\" viewBox=\"0 0 900 450\" width=\"900px\" xml:space=\"preserve\" xmlns=\"http://www.w3.org/2000/svg\" xmlns:rdkit=\"http://www.rdkit.org/xml\" xmlns:xlink=\"http://www.w3.org/1999/xlink\">\n",
       "<!-- END OF HEADER -->\n",
       "<rect height=\"450\" style=\"opacity:1.0;fill:#FFFFFF;stroke:none\" width=\"900\" x=\"0\" y=\"0\"> </rect>\n",
       "<rect height=\"450\" style=\"opacity:1.0;fill:#FFFFFF;stroke:none\" width=\"900\" x=\"0\" y=\"0\"> </rect>\n",
       "<rect height=\"450\" style=\"opacity:1.0;fill:#FFFFFF;stroke:none\" width=\"900\" x=\"0\" y=\"0\"> </rect>\n",
       "<rect height=\"450\" style=\"opacity:1.0;fill:#FFFFFF;stroke:none\" width=\"900\" x=\"0\" y=\"0\"> </rect>\n",
       "<rect height=\"450\" style=\"opacity:1.0;fill:#FFFFFF;stroke:none\" width=\"900\" x=\"0\" y=\"0\"> </rect>\n",
       "<rect height=\"450\" style=\"opacity:1.0;fill:#FFFFFF;stroke:none\" width=\"900\" x=\"0\" y=\"0\"> </rect>\n",
       "<rect height=\"450\" style=\"opacity:1.0;fill:#FFFFFF;stroke:none\" width=\"900\" x=\"0\" y=\"0\"> </rect>\n",
       "<rect height=\"450\" style=\"opacity:1.0;fill:#FFFFFF;stroke:none\" width=\"900\" x=\"0\" y=\"0\"> </rect>\n",
       "<rect height=\"450\" style=\"opacity:1.0;fill:#FFFFFF;stroke:none\" width=\"900\" x=\"0\" y=\"0\"> </rect>\n",
       "<rect height=\"450\" style=\"opacity:1.0;fill:#FFFFFF;stroke:none\" width=\"900\" x=\"0\" y=\"0\"> </rect>\n",
       "<rect height=\"450\" style=\"opacity:1.0;fill:#FFFFFF;stroke:none\" width=\"900\" x=\"0\" y=\"0\"> </rect>\n",
       "<rect height=\"450\" style=\"opacity:1.0;fill:#FFFFFF;stroke:none\" width=\"900\" x=\"0\" y=\"0\"> </rect>\n",
       "<rect height=\"450\" style=\"opacity:1.0;fill:#FFFFFF;stroke:none\" width=\"900\" x=\"0\" y=\"0\"> </rect>\n",
       "<rect height=\"450\" style=\"opacity:1.0;fill:#FFFFFF;stroke:none\" width=\"900\" x=\"0\" y=\"0\"> </rect>\n",
       "<rect height=\"450\" style=\"opacity:1.0;fill:#FFFFFF;stroke:none\" width=\"900\" x=\"0\" y=\"0\"> </rect>\n",
       "<rect height=\"450\" style=\"opacity:1.0;fill:#FFFFFF;stroke:none\" width=\"900\" x=\"0\" y=\"0\"> </rect>\n",
       "<rect height=\"450\" style=\"opacity:1.0;fill:#FFFFFF;stroke:none\" width=\"900\" x=\"0\" y=\"0\"> </rect>\n",
       "<rect height=\"450\" style=\"opacity:1.0;fill:#FFFFFF;stroke:none\" width=\"900\" x=\"0\" y=\"0\"> </rect>\n",
       "<rect height=\"450\" style=\"opacity:1.0;fill:#FFFFFF;stroke:none\" width=\"900\" x=\"0\" y=\"0\"> </rect>\n",
       "<ellipse cx=\"24.4354\" cy=\"80.493\" rx=\"1.71747\" ry=\"1.71747\" style=\"fill:#E5E533;fill-rule:evenodd;stroke:#E5E533;stroke-width:2px;stroke-linecap:butt;stroke-linejoin:miter;stroke-opacity:1\"/>\n",
       "<ellipse cx=\"17.0925\" cy=\"76.0405\" rx=\"1.71747\" ry=\"1.71747\" style=\"fill:#E5E533;fill-rule:evenodd;stroke:#E5E533;stroke-width:2px;stroke-linecap:butt;stroke-linejoin:miter;stroke-opacity:1\"/>\n",
       "<ellipse cx=\"17.277\" cy=\"67.4551\" rx=\"1.71747\" ry=\"1.71747\" style=\"fill:#E5E533;fill-rule:evenodd;stroke:#E5E533;stroke-width:2px;stroke-linecap:butt;stroke-linejoin:miter;stroke-opacity:1\"/>\n",
       "<ellipse cx=\"9.56514\" cy=\"80.1734\" rx=\"1.71747\" ry=\"1.71747\" style=\"fill:#9999E5;fill-rule:evenodd;stroke:#9999E5;stroke-width:2px;stroke-linecap:butt;stroke-linejoin:miter;stroke-opacity:1\"/>\n",
       "<path class=\"bond-0\" d=\"M 30.8812,75.9743 L 24.0221,79.7402\" style=\"fill:none;fill-rule:evenodd;stroke:#E5E5E5;stroke-width:2px;stroke-linecap:butt;stroke-linejoin:miter;stroke-opacity:1\"/>\n",
       "<path class=\"bond-0\" d=\"M 31.7078,77.4797 L 24.8487,81.2457\" style=\"fill:none;fill-rule:evenodd;stroke:#E5E5E5;stroke-width:2px;stroke-linecap:butt;stroke-linejoin:miter;stroke-opacity:1;stroke-dasharray:6,6\"/>\n",
       "<path class=\"bond-1\" d=\"M 24.4354,80.493 L 17.0925,76.0405\" style=\"fill:none;fill-rule:evenodd;stroke:#000000;stroke-width:2px;stroke-linecap:butt;stroke-linejoin:miter;stroke-opacity:1\"/>\n",
       "<path class=\"bond-1\" d=\"M 24.2245,78.3565 L 19.0845,75.2398\" style=\"fill:none;fill-rule:evenodd;stroke:#000000;stroke-width:2px;stroke-linecap:butt;stroke-linejoin:miter;stroke-opacity:1;stroke-dasharray:6,6\"/>\n",
       "<path class=\"bond-2\" d=\"M 17.0925,76.0405 L 17.277,67.4551\" style=\"fill:none;fill-rule:evenodd;stroke:#000000;stroke-width:2px;stroke-linecap:butt;stroke-linejoin:miter;stroke-opacity:1\"/>\n",
       "<path class=\"bond-2\" d=\"M 18.8373,74.7896 L 18.9664,68.7798\" style=\"fill:none;fill-rule:evenodd;stroke:#000000;stroke-width:2px;stroke-linecap:butt;stroke-linejoin:miter;stroke-opacity:1;stroke-dasharray:6,6\"/>\n",
       "<path class=\"bond-4\" d=\"M 17.0925,76.0405 L 9.56514,80.1734\" style=\"fill:none;fill-rule:evenodd;stroke:#000000;stroke-width:2px;stroke-linecap:butt;stroke-linejoin:miter;stroke-opacity:1\"/>\n",
       "<path class=\"bond-3\" d=\"M 17.6903,68.2079 L 24.5493,64.4419\" style=\"fill:none;fill-rule:evenodd;stroke:#E5E5E5;stroke-width:2px;stroke-linecap:butt;stroke-linejoin:miter;stroke-opacity:1\"/>\n",
       "<path class=\"bond-3\" d=\"M 16.8637,66.7024 L 23.7227,62.9364\" style=\"fill:none;fill-rule:evenodd;stroke:#E5E5E5;stroke-width:2px;stroke-linecap:butt;stroke-linejoin:miter;stroke-opacity:1;stroke-dasharray:6,6\"/>\n",
       "<path class=\"bond-5\" d=\"M 8.7066,80.155 L 8.62974,83.7321\" style=\"fill:none;fill-rule:evenodd;stroke:#000000;stroke-width:2px;stroke-linecap:butt;stroke-linejoin:miter;stroke-opacity:1\"/>\n",
       "<path class=\"bond-5\" d=\"M 8.62974,83.7321 L 8.55288,87.3091\" style=\"fill:none;fill-rule:evenodd;stroke:#FF0000;stroke-width:2px;stroke-linecap:butt;stroke-linejoin:miter;stroke-opacity:1\"/>\n",
       "<path class=\"bond-5\" d=\"M 10.4237,80.1919 L 10.3468,83.769\" style=\"fill:none;fill-rule:evenodd;stroke:#000000;stroke-width:2px;stroke-linecap:butt;stroke-linejoin:miter;stroke-opacity:1\"/>\n",
       "<path class=\"bond-5\" d=\"M 10.3468,83.769 L 10.27,87.346\" style=\"fill:none;fill-rule:evenodd;stroke:#FF0000;stroke-width:2px;stroke-linecap:butt;stroke-linejoin:miter;stroke-opacity:1\"/>\n",
       "<path class=\"bond-6\" d=\"M 9.56514,80.1734 L 6.22787,78.1499\" style=\"fill:none;fill-rule:evenodd;stroke:#000000;stroke-width:2px;stroke-linecap:butt;stroke-linejoin:miter;stroke-opacity:1\"/>\n",
       "<path class=\"bond-6\" d=\"M 6.22787,78.1499 L 2.89059,76.1263\" style=\"fill:none;fill-rule:evenodd;stroke:#7F7F7F;stroke-width:2px;stroke-linecap:butt;stroke-linejoin:miter;stroke-opacity:1\"/>\n",
       "<text dominant-baseline=\"central\" style=\"font-size:2px;font-style:normal;font-weight:normal;fill-opacity:1;stroke:none;font-family:sans-serif;fill:#7F7F7F\" text-anchor=\"start\" x=\"31.5807\" y=\"76.7894\"><tspan>*</tspan></text>\n",
       "<text dominant-baseline=\"central\" style=\"font-size:2px;font-style:normal;font-weight:normal;fill-opacity:1;stroke:none;font-family:sans-serif;fill:#7F7F7F\" text-anchor=\"start\" x=\"24.4223\" y=\"63.7516\"><tspan>*</tspan></text>\n",
       "<text dominant-baseline=\"central\" style=\"font-size:2px;font-style:normal;font-weight:normal;fill-opacity:1;stroke:none;font-family:sans-serif;fill:#FF0000\" text-anchor=\"start\" x=\"8.33019\" y=\"89.1882\"><tspan>O</tspan></text>\n",
       "<text dominant-baseline=\"central\" style=\"font-size:2px;font-style:normal;font-weight:normal;fill-opacity:1;stroke:none;font-family:sans-serif;fill:#7F7F7F\" text-anchor=\"end\" x=\"2.60435\" y=\"76.1504\"><tspan>*</tspan></text>\n",
       "<text dominant-baseline=\"central\" style=\"font-size:12px;font-style:normal;font-weight:normal;fill-opacity:1;stroke:none;font-family:sans-serif;fill:#000000\" text-anchor=\"middle\" x=\"75\" y=\"142.8\"><tspan>16406</tspan></text>\n",
       "<ellipse cx=\"209.242\" cy=\"77.1465\" rx=\"1.71747\" ry=\"1.71747\" style=\"fill:#9999E5;fill-rule:evenodd;stroke:#9999E5;stroke-width:2px;stroke-linecap:butt;stroke-linejoin:miter;stroke-opacity:1\"/>\n",
       "<ellipse cx=\"217.739\" cy=\"75.9048\" rx=\"1.71747\" ry=\"1.71747\" style=\"fill:#E5E533;fill-rule:evenodd;stroke:#E5E533;stroke-width:2px;stroke-linecap:butt;stroke-linejoin:miter;stroke-opacity:1\"/>\n",
       "<path class=\"bond-0\" d=\"M 204.587,71.2545 L 206.349,73.4849\" style=\"fill:none;fill-rule:evenodd;stroke:#7F7F7F;stroke-width:2px;stroke-linecap:butt;stroke-linejoin:miter;stroke-opacity:1\"/>\n",
       "<path class=\"bond-0\" d=\"M 206.349,73.4849 L 208.111,75.7153\" style=\"fill:none;fill-rule:evenodd;stroke:#FF0000;stroke-width:2px;stroke-linecap:butt;stroke-linejoin:miter;stroke-opacity:1\"/>\n",
       "<path class=\"bond-1\" d=\"M 210.579,76.9511 L 214.159,76.428\" style=\"fill:none;fill-rule:evenodd;stroke:#FF0000;stroke-width:2px;stroke-linecap:butt;stroke-linejoin:miter;stroke-opacity:1\"/>\n",
       "<path class=\"bond-1\" d=\"M 214.159,76.428 L 217.739,75.9048\" style=\"fill:none;fill-rule:evenodd;stroke:#000000;stroke-width:2px;stroke-linecap:butt;stroke-linejoin:miter;stroke-opacity:1\"/>\n",
       "<path class=\"bond-2\" d=\"M 218.537,76.2222 L 221.141,69.6738\" style=\"fill:none;fill-rule:evenodd;stroke:#E5E5E5;stroke-width:2px;stroke-linecap:butt;stroke-linejoin:miter;stroke-opacity:1\"/>\n",
       "<path class=\"bond-2\" d=\"M 216.941,75.5875 L 219.545,69.0392\" style=\"fill:none;fill-rule:evenodd;stroke:#E5E5E5;stroke-width:2px;stroke-linecap:butt;stroke-linejoin:miter;stroke-opacity:1;stroke-dasharray:6,6\"/>\n",
       "<path class=\"bond-3\" d=\"M 217.065,76.4372 L 221.721,82.3292\" style=\"fill:none;fill-rule:evenodd;stroke:#E5E5E5;stroke-width:2px;stroke-linecap:butt;stroke-linejoin:miter;stroke-opacity:1\"/>\n",
       "<path class=\"bond-3\" d=\"M 218.413,75.3724 L 223.069,81.2644\" style=\"fill:none;fill-rule:evenodd;stroke:#E5E5E5;stroke-width:2px;stroke-linecap:butt;stroke-linejoin:miter;stroke-opacity:1;stroke-dasharray:6,6\"/>\n",
       "<text dominant-baseline=\"central\" style=\"font-size:2px;font-style:normal;font-weight:normal;fill-opacity:1;stroke:none;font-family:sans-serif;fill:#7F7F7F\" text-anchor=\"end\" x=\"204.3\" y=\"70.838\"><tspan>*</tspan></text>\n",
       "<text dominant-baseline=\"central\" style=\"font-size:2px;font-style:normal;font-weight:normal;fill-opacity:1;stroke:none;font-family:sans-serif;fill:#FF0000\" text-anchor=\"end\" x=\"210.293\" y=\"77.5758\"><tspan>O</tspan></text>\n",
       "<text dominant-baseline=\"central\" style=\"font-size:2px;font-style:normal;font-weight:normal;fill-opacity:1;stroke:none;font-family:sans-serif;fill:#7F7F7F\" text-anchor=\"start\" x=\"220.53\" y=\"68.3547\"><tspan>*</tspan></text>\n",
       "<text dominant-baseline=\"central\" style=\"font-size:2px;font-style:normal;font-weight:normal;fill-opacity:1;stroke:none;font-family:sans-serif;fill:#7F7F7F\" text-anchor=\"start\" x=\"222.681\" y=\"83.0721\"><tspan>*</tspan></text>\n",
       "<text dominant-baseline=\"central\" style=\"font-size:12px;font-style:normal;font-weight:normal;fill-opacity:1;stroke:none;font-family:sans-serif;fill:#000000\" text-anchor=\"middle\" x=\"225\" y=\"142.8\"><tspan>17748</tspan></text>\n",
       "<ellipse cx=\"438.913\" cy=\"72.9224\" rx=\"1.71747\" ry=\"1.71747\" style=\"fill:#CCCCCC;fill-rule:evenodd;stroke:#CCCCCC;stroke-width:2px;stroke-linecap:butt;stroke-linejoin:miter;stroke-opacity:1\"/>\n",
       "<ellipse cx=\"434.87\" cy=\"80.4985\" rx=\"1.71747\" ry=\"1.71747\" style=\"fill:#CCCCCC;fill-rule:evenodd;stroke:#CCCCCC;stroke-width:2px;stroke-linecap:butt;stroke-linejoin:miter;stroke-opacity:1\"/>\n",
       "<ellipse cx=\"426.416\" cy=\"78.9946\" rx=\"1.71747\" ry=\"1.71747\" style=\"fill:#9999E5;fill-rule:evenodd;stroke:#9999E5;stroke-width:2px;stroke-linecap:butt;stroke-linejoin:miter;stroke-opacity:1\"/>\n",
       "<ellipse cx=\"425.233\" cy=\"70.489\" rx=\"1.71747\" ry=\"1.71747\" style=\"fill:#E5E533;fill-rule:evenodd;stroke:#E5E533;stroke-width:2px;stroke-linecap:butt;stroke-linejoin:miter;stroke-opacity:1\"/>\n",
       "<ellipse cx=\"432.957\" cy=\"66.7362\" rx=\"1.71747\" ry=\"1.71747\" style=\"fill:#CCCCCC;fill-rule:evenodd;stroke:#CCCCCC;stroke-width:2px;stroke-linecap:butt;stroke-linejoin:miter;stroke-opacity:1\"/>\n",
       "<ellipse cx=\"417.276\" cy=\"67.2601\" rx=\"1.71747\" ry=\"1.71747\" style=\"fill:#E5E533;fill-rule:evenodd;stroke:#E5E533;stroke-width:2px;stroke-linecap:butt;stroke-linejoin:miter;stroke-opacity:1\"/>\n",
       "<ellipse cx=\"411.684\" cy=\"81.0424\" rx=\"1.71747\" ry=\"1.71747\" style=\"fill:#E5E533;fill-rule:evenodd;stroke:#E5E533;stroke-width:2px;stroke-linecap:butt;stroke-linejoin:miter;stroke-opacity:1\"/>\n",
       "<ellipse cx=\"419.641\" cy=\"84.2712\" rx=\"1.71747\" ry=\"1.71747\" style=\"fill:#E5E533;fill-rule:evenodd;stroke:#E5E533;stroke-width:2px;stroke-linecap:butt;stroke-linejoin:miter;stroke-opacity:1\"/>\n",
       "<path class=\"bond-0\" d=\"M 446.751,71.833 L 440.154,72.75\" style=\"fill:none;fill-rule:evenodd;stroke:#E5E5E5;stroke-width:2px;stroke-linecap:butt;stroke-linejoin:miter;stroke-opacity:1\"/>\n",
       "<path class=\"bond-1\" d=\"M 438.15,74.3536 L 436.51,77.4261\" style=\"fill:none;fill-rule:evenodd;stroke:#0000FF;stroke-width:2px;stroke-linecap:butt;stroke-linejoin:miter;stroke-opacity:1\"/>\n",
       "<path class=\"bond-1\" d=\"M 436.51,77.4261 L 434.87,80.4985\" style=\"fill:none;fill-rule:evenodd;stroke:#000000;stroke-width:2px;stroke-linecap:butt;stroke-linejoin:miter;stroke-opacity:1\"/>\n",
       "<path class=\"bond-11\" d=\"M 437.673,71.6339 L 432.957,66.7362\" style=\"fill:none;fill-rule:evenodd;stroke:#E5E5E5;stroke-width:2px;stroke-linecap:butt;stroke-linejoin:miter;stroke-opacity:1\"/>\n",
       "<path class=\"bond-2\" d=\"M 434.098,80.8738 L 435.627,84.0201\" style=\"fill:none;fill-rule:evenodd;stroke:#000000;stroke-width:2px;stroke-linecap:butt;stroke-linejoin:miter;stroke-opacity:1\"/>\n",
       "<path class=\"bond-2\" d=\"M 435.627,84.0201 L 437.155,87.1665\" style=\"fill:none;fill-rule:evenodd;stroke:#FF0000;stroke-width:2px;stroke-linecap:butt;stroke-linejoin:miter;stroke-opacity:1\"/>\n",
       "<path class=\"bond-2\" d=\"M 435.643,80.1232 L 437.171,83.2696\" style=\"fill:none;fill-rule:evenodd;stroke:#000000;stroke-width:2px;stroke-linecap:butt;stroke-linejoin:miter;stroke-opacity:1\"/>\n",
       "<path class=\"bond-2\" d=\"M 437.171,83.2696 L 438.7,86.4159\" style=\"fill:none;fill-rule:evenodd;stroke:#FF0000;stroke-width:2px;stroke-linecap:butt;stroke-linejoin:miter;stroke-opacity:1\"/>\n",
       "<path class=\"bond-3\" d=\"M 434.87,80.4985 L 426.416,78.9946\" style=\"fill:none;fill-rule:evenodd;stroke:#000000;stroke-width:2px;stroke-linecap:butt;stroke-linejoin:miter;stroke-opacity:1\"/>\n",
       "<path class=\"bond-4\" d=\"M 426.416,78.9946 L 425.233,70.489\" style=\"fill:none;fill-rule:evenodd;stroke:#000000;stroke-width:2px;stroke-linecap:butt;stroke-linejoin:miter;stroke-opacity:1\"/>\n",
       "<path class=\"bond-4\" d=\"M 424.537,77.9552 L 423.71,72.0013\" style=\"fill:none;fill-rule:evenodd;stroke:#000000;stroke-width:2px;stroke-linecap:butt;stroke-linejoin:miter;stroke-opacity:1\"/>\n",
       "<path class=\"bond-12\" d=\"M 426.416,78.9946 L 419.641,84.2712\" style=\"fill:none;fill-rule:evenodd;stroke:#000000;stroke-width:2px;stroke-linecap:butt;stroke-linejoin:miter;stroke-opacity:1\"/>\n",
       "<path class=\"bond-5\" d=\"M 425.233,70.489 L 432.957,66.7362\" style=\"fill:none;fill-rule:evenodd;stroke:#000000;stroke-width:2px;stroke-linecap:butt;stroke-linejoin:miter;stroke-opacity:1\"/>\n",
       "<path class=\"bond-7\" d=\"M 425.233,70.489 L 417.276,67.2601\" style=\"fill:none;fill-rule:evenodd;stroke:#000000;stroke-width:2px;stroke-linecap:butt;stroke-linejoin:miter;stroke-opacity:1\"/>\n",
       "<path class=\"bond-6\" d=\"M 433.803,66.8866 L 435.052,59.8632\" style=\"fill:none;fill-rule:evenodd;stroke:#E5E5E5;stroke-width:2px;stroke-linecap:butt;stroke-linejoin:miter;stroke-opacity:1\"/>\n",
       "<path class=\"bond-6\" d=\"M 432.112,66.5858 L 433.361,59.5624\" style=\"fill:none;fill-rule:evenodd;stroke:#E5E5E5;stroke-width:2px;stroke-linecap:butt;stroke-linejoin:miter;stroke-opacity:1\"/>\n",
       "<path class=\"bond-8\" d=\"M 417.276,67.2601 L 411.17,72.0162\" style=\"fill:none;fill-rule:evenodd;stroke:#E5E5E5;stroke-width:2px;stroke-linecap:butt;stroke-linejoin:miter;stroke-opacity:1\"/>\n",
       "<path class=\"bond-8\" d=\"M 417.416,69.3285 L 413.141,72.6578\" style=\"fill:none;fill-rule:evenodd;stroke:#E5E5E5;stroke-width:2px;stroke-linecap:butt;stroke-linejoin:miter;stroke-opacity:1\"/>\n",
       "<path class=\"bond-9\" d=\"M 410.7,73.968 L 411.684,81.0424\" style=\"fill:none;fill-rule:evenodd;stroke:#E5E5E5;stroke-width:2px;stroke-linecap:butt;stroke-linejoin:miter;stroke-opacity:1\"/>\n",
       "<path class=\"bond-10\" d=\"M 411.684,81.0424 L 419.641,84.2712\" style=\"fill:none;fill-rule:evenodd;stroke:#000000;stroke-width:2px;stroke-linecap:butt;stroke-linejoin:miter;stroke-opacity:1\"/>\n",
       "<path class=\"bond-10\" d=\"M 413.523,79.9353 L 419.093,82.1955\" style=\"fill:none;fill-rule:evenodd;stroke:#000000;stroke-width:2px;stroke-linecap:butt;stroke-linejoin:miter;stroke-opacity:1\"/>\n",
       "<text dominant-baseline=\"central\" style=\"font-size:2px;font-style:normal;font-weight:normal;fill-opacity:1;stroke:none;font-family:sans-serif;fill:#7F7F7F\" text-anchor=\"start\" x=\"447.037\" y=\"72.1695\"><tspan>*</tspan></text>\n",
       "<text dominant-baseline=\"central\" style=\"font-size:2px;font-style:normal;font-weight:normal;fill-opacity:1;stroke:none;font-family:sans-serif;fill:#0000FF\" text-anchor=\"start\" x=\"437.959\" y=\"73.3518\"><tspan>N</tspan></text>\n",
       "<text dominant-baseline=\"central\" style=\"font-size:2px;font-style:normal;font-weight:normal;fill-opacity:1;stroke:none;font-family:sans-serif;fill:#FF0000\" text-anchor=\"start\" x=\"437.573\" y=\"88.6518\"><tspan>O</tspan></text>\n",
       "<text dominant-baseline=\"central\" style=\"font-size:2px;font-style:normal;font-weight:normal;fill-opacity:1;stroke:none;font-family:sans-serif;fill:#7F7F7F\" text-anchor=\"start\" x=\"434.079\" y=\"58.7109\"><tspan>*</tspan></text>\n",
       "<text dominant-baseline=\"central\" style=\"font-size:2px;font-style:normal;font-weight:normal;fill-opacity:1;stroke:none;font-family:sans-serif;fill:#7F7F7F\" text-anchor=\"end\" x=\"410.883\" y=\"72.9661\"><tspan>*</tspan></text>\n",
       "<text dominant-baseline=\"central\" style=\"font-size:12px;font-style:normal;font-weight:normal;fill-opacity:1;stroke:none;font-family:sans-serif;fill:#000000\" text-anchor=\"middle\" x=\"375\" y=\"142.8\"><tspan>24417</tspan></text>\n",
       "<ellipse cx=\"521.094\" cy=\"77.1894\" rx=\"1.71747\" ry=\"1.71747\" style=\"fill:#9999E5;fill-rule:evenodd;stroke:#9999E5;stroke-width:2px;stroke-linecap:butt;stroke-linejoin:miter;stroke-opacity:1\"/>\n",
       "<path class=\"bond-0\" d=\"M 518.197,83.5795 L 521.094,77.1894\" style=\"fill:none;fill-rule:evenodd;stroke:#E5E5E5;stroke-width:2px;stroke-linecap:butt;stroke-linejoin:miter;stroke-opacity:1\"/>\n",
       "<path class=\"bond-1\" d=\"M 521.094,77.1894 L 521.64,70.0584\" style=\"fill:none;fill-rule:evenodd;stroke:#E5E5E5;stroke-width:2px;stroke-linecap:butt;stroke-linejoin:miter;stroke-opacity:1\"/>\n",
       "<path class=\"bond-2\" d=\"M 521.094,77.1894 L 513.444,75.2274\" style=\"fill:none;fill-rule:evenodd;stroke:#E5E5E5;stroke-width:2px;stroke-linecap:butt;stroke-linejoin:miter;stroke-opacity:1\"/>\n",
       "<path class=\"bond-3\" d=\"M 521.094,77.1894 L 527.512,81.5818\" style=\"fill:none;fill-rule:evenodd;stroke:#E5E5E5;stroke-width:2px;stroke-linecap:butt;stroke-linejoin:miter;stroke-opacity:1\"/>\n",
       "<text dominant-baseline=\"central\" style=\"font-size:2px;font-style:normal;font-weight:normal;fill-opacity:1;stroke:none;font-family:sans-serif;fill:#7F7F7F\" text-anchor=\"end\" x=\"517.93\" y=\"85.4401\"><tspan>*</tspan></text>\n",
       "<text dominant-baseline=\"central\" style=\"font-size:2px;font-style:normal;font-weight:normal;fill-opacity:1;stroke:none;font-family:sans-serif;fill:#7F7F7F\" text-anchor=\"start\" x=\"521.368\" y=\"69.0566\"><tspan>*</tspan></text>\n",
       "<text dominant-baseline=\"central\" style=\"font-size:2px;font-style:normal;font-weight:normal;fill-opacity:1;stroke:none;font-family:sans-serif;fill:#7F7F7F\" text-anchor=\"end\" x=\"513.158\" y=\"75.4853\"><tspan>*</tspan></text>\n",
       "<text dominant-baseline=\"central\" style=\"font-size:2px;font-style:normal;font-weight:normal;fill-opacity:1;stroke:none;font-family:sans-serif;fill:#7F7F7F\" text-anchor=\"start\" x=\"527.798\" y=\"82.4685\"><tspan>*</tspan></text>\n",
       "<text dominant-baseline=\"central\" style=\"font-size:12px;font-style:normal;font-weight:normal;fill-opacity:1;stroke:none;font-family:sans-serif;fill:#000000\" text-anchor=\"middle\" x=\"525\" y=\"142.8\"><tspan>7968</tspan></text>\n",
       "<ellipse cx=\"738.913\" cy=\"72.9224\" rx=\"1.71747\" ry=\"1.71747\" style=\"fill:#CCCCCC;fill-rule:evenodd;stroke:#CCCCCC;stroke-width:2px;stroke-linecap:butt;stroke-linejoin:miter;stroke-opacity:1\"/>\n",
       "<ellipse cx=\"734.87\" cy=\"80.4985\" rx=\"1.71747\" ry=\"1.71747\" style=\"fill:#CCCCCC;fill-rule:evenodd;stroke:#CCCCCC;stroke-width:2px;stroke-linecap:butt;stroke-linejoin:miter;stroke-opacity:1\"/>\n",
       "<ellipse cx=\"726.416\" cy=\"78.9946\" rx=\"1.71747\" ry=\"1.71747\" style=\"fill:#E5E533;fill-rule:evenodd;stroke:#E5E533;stroke-width:2px;stroke-linecap:butt;stroke-linejoin:miter;stroke-opacity:1\"/>\n",
       "<ellipse cx=\"725.233\" cy=\"70.489\" rx=\"1.71747\" ry=\"1.71747\" style=\"fill:#E5E533;fill-rule:evenodd;stroke:#E5E533;stroke-width:2px;stroke-linecap:butt;stroke-linejoin:miter;stroke-opacity:1\"/>\n",
       "<ellipse cx=\"732.957\" cy=\"66.7362\" rx=\"1.71747\" ry=\"1.71747\" style=\"fill:#9999E5;fill-rule:evenodd;stroke:#9999E5;stroke-width:2px;stroke-linecap:butt;stroke-linejoin:miter;stroke-opacity:1\"/>\n",
       "<ellipse cx=\"717.276\" cy=\"67.2601\" rx=\"1.71747\" ry=\"1.71747\" style=\"fill:#E5E533;fill-rule:evenodd;stroke:#E5E533;stroke-width:2px;stroke-linecap:butt;stroke-linejoin:miter;stroke-opacity:1\"/>\n",
       "<path class=\"bond-0\" d=\"M 746.751,71.833 L 743.452,72.2915\" style=\"fill:none;fill-rule:evenodd;stroke:#7F7F7F;stroke-width:2px;stroke-linecap:butt;stroke-linejoin:miter;stroke-opacity:1\"/>\n",
       "<path class=\"bond-0\" d=\"M 743.452,72.2915 L 740.154,72.75\" style=\"fill:none;fill-rule:evenodd;stroke:#0000FF;stroke-width:2px;stroke-linecap:butt;stroke-linejoin:miter;stroke-opacity:1\"/>\n",
       "<path class=\"bond-1\" d=\"M 738.15,74.3536 L 736.51,77.4261\" style=\"fill:none;fill-rule:evenodd;stroke:#0000FF;stroke-width:2px;stroke-linecap:butt;stroke-linejoin:miter;stroke-opacity:1\"/>\n",
       "<path class=\"bond-1\" d=\"M 736.51,77.4261 L 734.87,80.4985\" style=\"fill:none;fill-rule:evenodd;stroke:#000000;stroke-width:2px;stroke-linecap:butt;stroke-linejoin:miter;stroke-opacity:1\"/>\n",
       "<path class=\"bond-9\" d=\"M 737.673,71.6339 L 735.315,69.1851\" style=\"fill:none;fill-rule:evenodd;stroke:#0000FF;stroke-width:2px;stroke-linecap:butt;stroke-linejoin:miter;stroke-opacity:1\"/>\n",
       "<path class=\"bond-9\" d=\"M 735.315,69.1851 L 732.957,66.7362\" style=\"fill:none;fill-rule:evenodd;stroke:#000000;stroke-width:2px;stroke-linecap:butt;stroke-linejoin:miter;stroke-opacity:1\"/>\n",
       "<path class=\"bond-2\" d=\"M 734.098,80.8738 L 737.182,87.2221\" style=\"fill:none;fill-rule:evenodd;stroke:#E5E5E5;stroke-width:2px;stroke-linecap:butt;stroke-linejoin:miter;stroke-opacity:1\"/>\n",
       "<path class=\"bond-2\" d=\"M 735.643,80.1232 L 738.727,86.4715\" style=\"fill:none;fill-rule:evenodd;stroke:#E5E5E5;stroke-width:2px;stroke-linecap:butt;stroke-linejoin:miter;stroke-opacity:1\"/>\n",
       "<path class=\"bond-3\" d=\"M 734.87,80.4985 L 726.416,78.9946\" style=\"fill:none;fill-rule:evenodd;stroke:#E5E5E5;stroke-width:2px;stroke-linecap:butt;stroke-linejoin:miter;stroke-opacity:1\"/>\n",
       "<path class=\"bond-4\" d=\"M 726.416,78.9946 L 725.233,70.489\" style=\"fill:none;fill-rule:evenodd;stroke:#000000;stroke-width:2px;stroke-linecap:butt;stroke-linejoin:miter;stroke-opacity:1\"/>\n",
       "<path class=\"bond-4\" d=\"M 727.94,77.4823 L 727.112,71.5284\" style=\"fill:none;fill-rule:evenodd;stroke:#000000;stroke-width:2px;stroke-linecap:butt;stroke-linejoin:miter;stroke-opacity:1\"/>\n",
       "<path class=\"bond-10\" d=\"M 726.416,78.9946 L 720.309,83.7507\" style=\"fill:none;fill-rule:evenodd;stroke:#E5E5E5;stroke-width:2px;stroke-linecap:butt;stroke-linejoin:miter;stroke-opacity:1\"/>\n",
       "<path class=\"bond-5\" d=\"M 725.233,70.489 L 732.957,66.7362\" style=\"fill:none;fill-rule:evenodd;stroke:#000000;stroke-width:2px;stroke-linecap:butt;stroke-linejoin:miter;stroke-opacity:1\"/>\n",
       "<path class=\"bond-7\" d=\"M 725.233,70.489 L 717.276,67.2601\" style=\"fill:none;fill-rule:evenodd;stroke:#000000;stroke-width:2px;stroke-linecap:butt;stroke-linejoin:miter;stroke-opacity:1\"/>\n",
       "<path class=\"bond-6\" d=\"M 733.803,66.8866 L 734.428,63.3749\" style=\"fill:none;fill-rule:evenodd;stroke:#000000;stroke-width:2px;stroke-linecap:butt;stroke-linejoin:miter;stroke-opacity:1\"/>\n",
       "<path class=\"bond-6\" d=\"M 734.428,63.3749 L 735.052,59.8632\" style=\"fill:none;fill-rule:evenodd;stroke:#FF0000;stroke-width:2px;stroke-linecap:butt;stroke-linejoin:miter;stroke-opacity:1\"/>\n",
       "<path class=\"bond-6\" d=\"M 732.112,66.5858 L 732.737,63.0741\" style=\"fill:none;fill-rule:evenodd;stroke:#000000;stroke-width:2px;stroke-linecap:butt;stroke-linejoin:miter;stroke-opacity:1\"/>\n",
       "<path class=\"bond-6\" d=\"M 732.737,63.0741 L 733.361,59.5624\" style=\"fill:none;fill-rule:evenodd;stroke:#FF0000;stroke-width:2px;stroke-linecap:butt;stroke-linejoin:miter;stroke-opacity:1\"/>\n",
       "<path class=\"bond-8\" d=\"M 716.749,66.5826 L 710.642,71.3387\" style=\"fill:none;fill-rule:evenodd;stroke:#E5E5E5;stroke-width:2px;stroke-linecap:butt;stroke-linejoin:miter;stroke-opacity:1\"/>\n",
       "<path class=\"bond-8\" d=\"M 717.804,67.9376 L 711.697,72.6937\" style=\"fill:none;fill-rule:evenodd;stroke:#E5E5E5;stroke-width:2px;stroke-linecap:butt;stroke-linejoin:miter;stroke-opacity:1;stroke-dasharray:6,6\"/>\n",
       "<text dominant-baseline=\"central\" style=\"font-size:2px;font-style:normal;font-weight:normal;fill-opacity:1;stroke:none;font-family:sans-serif;fill:#7F7F7F\" text-anchor=\"start\" x=\"747.037\" y=\"72.1695\"><tspan>*</tspan></text>\n",
       "<text dominant-baseline=\"central\" style=\"font-size:2px;font-style:normal;font-weight:normal;fill-opacity:1;stroke:none;font-family:sans-serif;fill:#0000FF\" text-anchor=\"start\" x=\"737.959\" y=\"73.3518\"><tspan>N</tspan></text>\n",
       "<text dominant-baseline=\"central\" style=\"font-size:2px;font-style:normal;font-weight:normal;fill-opacity:1;stroke:none;font-family:sans-serif;fill:#7F7F7F\" text-anchor=\"start\" x=\"738.241\" y=\"88.6518\"><tspan>*</tspan></text>\n",
       "<text dominant-baseline=\"central\" style=\"font-size:2px;font-style:normal;font-weight:normal;fill-opacity:1;stroke:none;font-family:sans-serif;fill:#FF0000\" text-anchor=\"start\" x=\"733.411\" y=\"58.7109\"><tspan>O</tspan></text>\n",
       "<text dominant-baseline=\"central\" style=\"font-size:2px;font-style:normal;font-weight:normal;fill-opacity:1;stroke:none;font-family:sans-serif;fill:#7F7F7F\" text-anchor=\"end\" x=\"710.883\" y=\"72.9661\"><tspan>*</tspan></text>\n",
       "<text dominant-baseline=\"central\" style=\"font-size:2px;font-style:normal;font-weight:normal;fill-opacity:1;stroke:none;font-family:sans-serif;fill:#7F7F7F\" text-anchor=\"end\" x=\"720.023\" y=\"84.7006\"><tspan>*</tspan></text>\n",
       "<text dominant-baseline=\"central\" style=\"font-size:12px;font-style:normal;font-weight:normal;fill-opacity:1;stroke:none;font-family:sans-serif;fill:#000000\" text-anchor=\"middle\" x=\"675\" y=\"142.8\"><tspan>426</tspan></text>\n",
       "<ellipse cx=\"816.32\" cy=\"75.6217\" rx=\"1.71747\" ry=\"1.71747\" style=\"fill:#9999E5;fill-rule:evenodd;stroke:#9999E5;stroke-width:2px;stroke-linecap:butt;stroke-linejoin:miter;stroke-opacity:1\"/>\n",
       "<path class=\"bond-0\" d=\"M 816.988,75.2358 L 823.088,71.7139\" style=\"fill:none;fill-rule:evenodd;stroke:#E5E5E5;stroke-width:2px;stroke-linecap:butt;stroke-linejoin:miter;stroke-opacity:1\"/>\n",
       "<text dominant-baseline=\"central\" style=\"font-size:2px;font-style:normal;font-weight:normal;fill-opacity:1;stroke:none;font-family:sans-serif;fill:#7F7F7F\" text-anchor=\"end\" x=\"816.702\" y=\"76.051\"><tspan>*</tspan></text>\n",
       "<text dominant-baseline=\"central\" style=\"font-size:2px;font-style:normal;font-weight:normal;fill-opacity:1;stroke:none;font-family:sans-serif;fill:#7F7F7F\" text-anchor=\"start\" x=\"823.374\" y=\"71.7574\"><tspan>*</tspan></text>\n",
       "<text dominant-baseline=\"central\" style=\"font-size:12px;font-style:normal;font-weight:normal;fill-opacity:1;stroke:none;font-family:sans-serif;fill:#000000\" text-anchor=\"middle\" x=\"825\" y=\"142.8\"><tspan>24060</tspan></text>\n",
       "<ellipse cx=\"62.4235\" cy=\"224.972\" rx=\"1.71747\" ry=\"1.71747\" style=\"fill:#9999E5;fill-rule:evenodd;stroke:#9999E5;stroke-width:2px;stroke-linecap:butt;stroke-linejoin:miter;stroke-opacity:1\"/>\n",
       "<path class=\"bond-0\" d=\"M 63.0919,224.687 L 66.0402,223.433\" style=\"fill:none;fill-rule:evenodd;stroke:#7F7F7F;stroke-width:2px;stroke-linecap:butt;stroke-linejoin:miter;stroke-opacity:1\"/>\n",
       "<path class=\"bond-0\" d=\"M 66.0402,223.433 L 68.9885,222.178\" style=\"fill:none;fill-rule:evenodd;stroke:#FF0000;stroke-width:2px;stroke-linecap:butt;stroke-linejoin:miter;stroke-opacity:1\"/>\n",
       "<path class=\"bond-1\" d=\"M 71.6619,222.615 L 76.5196,226.269\" style=\"fill:none;fill-rule:evenodd;stroke:#E5E5E5;stroke-width:2px;stroke-linecap:butt;stroke-linejoin:miter;stroke-opacity:1\"/>\n",
       "<text dominant-baseline=\"central\" style=\"font-size:2px;font-style:normal;font-weight:normal;fill-opacity:1;stroke:none;font-family:sans-serif;fill:#7F7F7F\" text-anchor=\"end\" x=\"62.8056\" y=\"225.401\"><tspan>*</tspan></text>\n",
       "<text dominant-baseline=\"central\" style=\"font-size:2px;font-style:normal;font-weight:normal;fill-opacity:1;stroke:none;font-family:sans-serif;fill:#FF0000\" text-anchor=\"middle\" x=\"70.3252\" y=\"222.039\"><tspan>O</tspan></text>\n",
       "<text dominant-baseline=\"central\" style=\"font-size:2px;font-style:normal;font-weight:normal;fill-opacity:1;stroke:none;font-family:sans-serif;fill:#7F7F7F\" text-anchor=\"start\" x=\"76.8059\" y=\"227.201\"><tspan>*</tspan></text>\n",
       "<text dominant-baseline=\"central\" style=\"font-size:12px;font-style:normal;font-weight:normal;fill-opacity:1;stroke:none;font-family:sans-serif;fill:#000000\" text-anchor=\"middle\" x=\"75\" y=\"292.8\"><tspan>770</tspan></text>\n",
       "<ellipse cx=\"216.984\" cy=\"216.754\" rx=\"1.71747\" ry=\"1.71747\" style=\"fill:#9999E5;fill-rule:evenodd;stroke:#9999E5;stroke-width:2px;stroke-linecap:butt;stroke-linejoin:miter;stroke-opacity:1\"/>\n",
       "<path class=\"bond-0\" d=\"M 217.652,217.911 L 219.465,221.051\" style=\"fill:none;fill-rule:evenodd;stroke:#7F7F7F;stroke-width:2px;stroke-linecap:butt;stroke-linejoin:miter;stroke-opacity:1\"/>\n",
       "<path class=\"bond-0\" d=\"M 219.465,221.051 L 221.278,224.19\" style=\"fill:none;fill-rule:evenodd;stroke:#000000;stroke-width:2px;stroke-linecap:butt;stroke-linejoin:miter;stroke-opacity:1\"/>\n",
       "<path class=\"bond-1\" d=\"M 221.278,224.19 L 228.046,220.283\" style=\"fill:none;fill-rule:evenodd;stroke:#E5E5E5;stroke-width:2px;stroke-linecap:butt;stroke-linejoin:miter;stroke-opacity:1\"/>\n",
       "<path class=\"bond-2\" d=\"M 221.278,224.19 L 224.903,230.47\" style=\"fill:none;fill-rule:evenodd;stroke:#E5E5E5;stroke-width:2px;stroke-linecap:butt;stroke-linejoin:miter;stroke-opacity:1\"/>\n",
       "<path class=\"bond-3\" d=\"M 221.278,224.19 L 214.509,228.098\" style=\"fill:none;fill-rule:evenodd;stroke:#E5E5E5;stroke-width:2px;stroke-linecap:butt;stroke-linejoin:miter;stroke-opacity:1\"/>\n",
       "<text dominant-baseline=\"central\" style=\"font-size:2px;font-style:normal;font-weight:normal;fill-opacity:1;stroke:none;font-family:sans-serif;fill:#7F7F7F\" text-anchor=\"end\" x=\"217.366\" y=\"217.183\"><tspan>*</tspan></text>\n",
       "<text dominant-baseline=\"central\" style=\"font-size:2px;font-style:normal;font-weight:normal;fill-opacity:1;stroke:none;font-family:sans-serif;fill:#7F7F7F\" text-anchor=\"start\" x=\"228.332\" y=\"220.326\"><tspan>*</tspan></text>\n",
       "<text dominant-baseline=\"central\" style=\"font-size:2px;font-style:normal;font-weight:normal;fill-opacity:1;stroke:none;font-family:sans-serif;fill:#7F7F7F\" text-anchor=\"start\" x=\"225.189\" y=\"232.057\"><tspan>*</tspan></text>\n",
       "<text dominant-baseline=\"central\" style=\"font-size:2px;font-style:normal;font-weight:normal;fill-opacity:1;stroke:none;font-family:sans-serif;fill:#7F7F7F\" text-anchor=\"end\" x=\"214.223\" y=\"228.913\"><tspan>*</tspan></text>\n",
       "<text dominant-baseline=\"central\" style=\"font-size:12px;font-style:normal;font-weight:normal;fill-opacity:1;stroke:none;font-family:sans-serif;fill:#000000\" text-anchor=\"middle\" x=\"225\" y=\"292.8\"><tspan>22566</tspan></text>\n",
       "<ellipse cx=\"379.41\" cy=\"216.684\" rx=\"1.71747\" ry=\"1.71747\" style=\"fill:#E5E533;fill-rule:evenodd;stroke:#E5E533;stroke-width:2px;stroke-linecap:butt;stroke-linejoin:miter;stroke-opacity:1\"/>\n",
       "<ellipse cx=\"384.733\" cy=\"223.422\" rx=\"1.71747\" ry=\"1.71747\" style=\"fill:#9999E5;fill-rule:evenodd;stroke:#9999E5;stroke-width:2px;stroke-linecap:butt;stroke-linejoin:miter;stroke-opacity:1\"/>\n",
       "<ellipse cx=\"381.56\" cy=\"231.401\" rx=\"1.71747\" ry=\"1.71747\" style=\"fill:#E5E533;fill-rule:evenodd;stroke:#E5E533;stroke-width:2px;stroke-linecap:butt;stroke-linejoin:miter;stroke-opacity:1\"/>\n",
       "<path class=\"bond-0\" d=\"M 371.705,218.677 L 379.534,217.533\" style=\"fill:none;fill-rule:evenodd;stroke:#E5E5E5;stroke-width:2px;stroke-linecap:butt;stroke-linejoin:miter;stroke-opacity:1\"/>\n",
       "<path class=\"bond-0\" d=\"M 371.457,216.978 L 379.285,215.834\" style=\"fill:none;fill-rule:evenodd;stroke:#E5E5E5;stroke-width:2px;stroke-linecap:butt;stroke-linejoin:miter;stroke-opacity:1;stroke-dasharray:6,6\"/>\n",
       "<path class=\"bond-1\" d=\"M 379.41,216.684 L 384.733,223.422\" style=\"fill:none;fill-rule:evenodd;stroke:#000000;stroke-width:2px;stroke-linecap:butt;stroke-linejoin:miter;stroke-opacity:1\"/>\n",
       "<path class=\"bond-1\" d=\"M 378.861,218.759 L 382.587,223.476\" style=\"fill:none;fill-rule:evenodd;stroke:#000000;stroke-width:2px;stroke-linecap:butt;stroke-linejoin:miter;stroke-opacity:1;stroke-dasharray:6,6\"/>\n",
       "<path class=\"bond-2\" d=\"M 384.733,223.422 L 381.56,231.401\" style=\"fill:none;fill-rule:evenodd;stroke:#000000;stroke-width:2px;stroke-linecap:butt;stroke-linejoin:miter;stroke-opacity:1\"/>\n",
       "<path class=\"bond-2\" d=\"M 382.662,223.984 L 380.44,229.569\" style=\"fill:none;fill-rule:evenodd;stroke:#000000;stroke-width:2px;stroke-linecap:butt;stroke-linejoin:miter;stroke-opacity:1;stroke-dasharray:6,6\"/>\n",
       "<path class=\"bond-4\" d=\"M 384.733,223.422 L 388.648,222.85\" style=\"fill:none;fill-rule:evenodd;stroke:#000000;stroke-width:2px;stroke-linecap:butt;stroke-linejoin:miter;stroke-opacity:1\"/>\n",
       "<path class=\"bond-4\" d=\"M 388.648,222.85 L 392.562,222.278\" style=\"fill:none;fill-rule:evenodd;stroke:#7F7F7F;stroke-width:2px;stroke-linecap:butt;stroke-linejoin:miter;stroke-opacity:1\"/>\n",
       "<path class=\"bond-3\" d=\"M 381.436,230.551 L 373.607,231.695\" style=\"fill:none;fill-rule:evenodd;stroke:#E5E5E5;stroke-width:2px;stroke-linecap:butt;stroke-linejoin:miter;stroke-opacity:1\"/>\n",
       "<path class=\"bond-3\" d=\"M 381.684,232.251 L 373.856,233.395\" style=\"fill:none;fill-rule:evenodd;stroke:#E5E5E5;stroke-width:2px;stroke-linecap:butt;stroke-linejoin:miter;stroke-opacity:1;stroke-dasharray:6,6\"/>\n",
       "<text dominant-baseline=\"central\" style=\"font-size:2px;font-style:normal;font-weight:normal;fill-opacity:1;stroke:none;font-family:sans-serif;fill:#7F7F7F\" text-anchor=\"end\" x=\"371.295\" y=\"218.355\"><tspan>*</tspan></text>\n",
       "<text dominant-baseline=\"central\" style=\"font-size:2px;font-style:normal;font-weight:normal;fill-opacity:1;stroke:none;font-family:sans-serif;fill:#7F7F7F\" text-anchor=\"end\" x=\"373.445\" y=\"233.072\"><tspan>*</tspan></text>\n",
       "<text dominant-baseline=\"central\" style=\"font-size:2px;font-style:normal;font-weight:normal;fill-opacity:1;stroke:none;font-family:sans-serif;fill:#7F7F7F\" text-anchor=\"start\" x=\"392.848\" y=\"222.609\"><tspan>*</tspan></text>\n",
       "<text dominant-baseline=\"central\" style=\"font-size:12px;font-style:normal;font-weight:normal;fill-opacity:1;stroke:none;font-family:sans-serif;fill:#000000\" text-anchor=\"middle\" x=\"375\" y=\"292.8\"><tspan>17618</tspan></text>\n",
       "<ellipse cx=\"506.582\" cy=\"228.44\" rx=\"1.71747\" ry=\"1.71747\" style=\"fill:#9999E5;fill-rule:evenodd;stroke:#9999E5;stroke-width:2px;stroke-linecap:butt;stroke-linejoin:miter;stroke-opacity:1\"/>\n",
       "<path class=\"bond-0\" d=\"M 514.501,228.44 L 507.822,228.44\" style=\"fill:none;fill-rule:evenodd;stroke:#E5E5E5;stroke-width:2px;stroke-linecap:butt;stroke-linejoin:miter;stroke-opacity:1\"/>\n",
       "<path class=\"bond-1\" d=\"M 505.756,229.871 L 502.957,234.719\" style=\"fill:none;fill-rule:evenodd;stroke:#E5E5E5;stroke-width:2px;stroke-linecap:butt;stroke-linejoin:miter;stroke-opacity:1\"/>\n",
       "<text dominant-baseline=\"central\" style=\"font-size:2px;font-style:normal;font-weight:normal;fill-opacity:1;stroke:none;font-family:sans-serif;fill:#7F7F7F\" text-anchor=\"start\" x=\"514.787\" y=\"228.869\"><tspan>*</tspan></text>\n",
       "<text dominant-baseline=\"central\" style=\"font-size:2px;font-style:normal;font-weight:normal;fill-opacity:1;stroke:none;font-family:sans-serif;fill:#0000FF\" text-anchor=\"end\" x=\"507.536\" y=\"228.869\"><tspan>HN</tspan></text>\n",
       "<text dominant-baseline=\"central\" style=\"font-size:2px;font-style:normal;font-weight:normal;fill-opacity:1;stroke:none;font-family:sans-serif;fill:#7F7F7F\" text-anchor=\"end\" x=\"502.67\" y=\"236.306\"><tspan>*</tspan></text>\n",
       "<text dominant-baseline=\"central\" style=\"font-size:12px;font-style:normal;font-weight:normal;fill-opacity:1;stroke:none;font-family:sans-serif;fill:#000000\" text-anchor=\"middle\" x=\"525\" y=\"292.8\"><tspan>11362</tspan></text>\n",
       "<ellipse cx=\"658.301\" cy=\"221.105\" rx=\"1.71747\" ry=\"1.71747\" style=\"fill:#9999E5;fill-rule:evenodd;stroke:#9999E5;stroke-width:2px;stroke-linecap:butt;stroke-linejoin:miter;stroke-opacity:1\"/>\n",
       "<ellipse cx=\"651.241\" cy=\"216.216\" rx=\"1.71747\" ry=\"1.71747\" style=\"fill:#E5E533;fill-rule:evenodd;stroke:#E5E533;stroke-width:2px;stroke-linecap:butt;stroke-linejoin:miter;stroke-opacity:1\"/>\n",
       "<ellipse cx=\"643.477\" cy=\"219.886\" rx=\"1.71747\" ry=\"1.71747\" style=\"fill:#E5E533;fill-rule:evenodd;stroke:#E5E533;stroke-width:2px;stroke-linecap:butt;stroke-linejoin:miter;stroke-opacity:1\"/>\n",
       "<ellipse cx=\"649.833\" cy=\"233.333\" rx=\"1.71747\" ry=\"1.71747\" style=\"fill:#E5E533;fill-rule:evenodd;stroke:#E5E533;stroke-width:2px;stroke-linecap:butt;stroke-linejoin:miter;stroke-opacity:1\"/>\n",
       "<ellipse cx=\"657.597\" cy=\"229.663\" rx=\"1.71747\" ry=\"1.71747\" style=\"fill:#E5E533;fill-rule:evenodd;stroke:#E5E533;stroke-width:2px;stroke-linecap:butt;stroke-linejoin:miter;stroke-opacity:1\"/>\n",
       "<path class=\"bond-0\" d=\"M 680.22,218.971 L 673.125,222.324\" style=\"fill:none;fill-rule:evenodd;stroke:#E5E5E5;stroke-width:2px;stroke-linecap:butt;stroke-linejoin:miter;stroke-opacity:1\"/>\n",
       "<path class=\"bond-1\" d=\"M 672.269,222.254 L 671.682,229.381\" style=\"fill:none;fill-rule:evenodd;stroke:#E5E5E5;stroke-width:2px;stroke-linecap:butt;stroke-linejoin:miter;stroke-opacity:1\"/>\n",
       "<path class=\"bond-1\" d=\"M 673.98,222.395 L 673.394,229.522\" style=\"fill:none;fill-rule:evenodd;stroke:#E5E5E5;stroke-width:2px;stroke-linecap:butt;stroke-linejoin:miter;stroke-opacity:1\"/>\n",
       "<path class=\"bond-2\" d=\"M 673.125,222.324 L 670.263,220.343\" style=\"fill:none;fill-rule:evenodd;stroke:#000000;stroke-width:2px;stroke-linecap:butt;stroke-linejoin:miter;stroke-opacity:1\"/>\n",
       "<path class=\"bond-2\" d=\"M 670.263,220.343 L 667.402,218.361\" style=\"fill:none;fill-rule:evenodd;stroke:#FF0000;stroke-width:2px;stroke-linecap:butt;stroke-linejoin:miter;stroke-opacity:1\"/>\n",
       "<path class=\"bond-3\" d=\"M 664.728,218.067 L 661.515,219.586\" style=\"fill:none;fill-rule:evenodd;stroke:#FF0000;stroke-width:2px;stroke-linecap:butt;stroke-linejoin:miter;stroke-opacity:1\"/>\n",
       "<path class=\"bond-3\" d=\"M 661.515,219.586 L 658.301,221.105\" style=\"fill:none;fill-rule:evenodd;stroke:#000000;stroke-width:2px;stroke-linecap:butt;stroke-linejoin:miter;stroke-opacity:1\"/>\n",
       "<path class=\"bond-4\" d=\"M 658.301,221.105 L 651.241,216.216\" style=\"fill:none;fill-rule:evenodd;stroke:#000000;stroke-width:2px;stroke-linecap:butt;stroke-linejoin:miter;stroke-opacity:1\"/>\n",
       "<path class=\"bond-4\" d=\"M 656.264,221.784 L 651.322,218.361\" style=\"fill:none;fill-rule:evenodd;stroke:#000000;stroke-width:2px;stroke-linecap:butt;stroke-linejoin:miter;stroke-opacity:1\"/>\n",
       "<path class=\"bond-9\" d=\"M 658.301,221.105 L 657.597,229.663\" style=\"fill:none;fill-rule:evenodd;stroke:#000000;stroke-width:2px;stroke-linecap:butt;stroke-linejoin:miter;stroke-opacity:1\"/>\n",
       "<path class=\"bond-5\" d=\"M 651.241,216.216 L 643.477,219.886\" style=\"fill:none;fill-rule:evenodd;stroke:#000000;stroke-width:2px;stroke-linecap:butt;stroke-linejoin:miter;stroke-opacity:1\"/>\n",
       "<path class=\"bond-6\" d=\"M 643.477,219.886 L 642.891,227.013\" style=\"fill:none;fill-rule:evenodd;stroke:#E5E5E5;stroke-width:2px;stroke-linecap:butt;stroke-linejoin:miter;stroke-opacity:1\"/>\n",
       "<path class=\"bond-6\" d=\"M 645.101,221.096 L 644.691,226.085\" style=\"fill:none;fill-rule:evenodd;stroke:#E5E5E5;stroke-width:2px;stroke-linecap:butt;stroke-linejoin:miter;stroke-opacity:1\"/>\n",
       "<path class=\"bond-7\" d=\"M 643.442,228.907 L 649.833,233.333\" style=\"fill:none;fill-rule:evenodd;stroke:#E5E5E5;stroke-width:2px;stroke-linecap:butt;stroke-linejoin:miter;stroke-opacity:1\"/>\n",
       "<path class=\"bond-8\" d=\"M 649.833,233.333 L 657.597,229.663\" style=\"fill:none;fill-rule:evenodd;stroke:#000000;stroke-width:2px;stroke-linecap:butt;stroke-linejoin:miter;stroke-opacity:1\"/>\n",
       "<path class=\"bond-8\" d=\"M 650.264,231.23 L 655.698,228.661\" style=\"fill:none;fill-rule:evenodd;stroke:#000000;stroke-width:2px;stroke-linecap:butt;stroke-linejoin:miter;stroke-opacity:1\"/>\n",
       "<text dominant-baseline=\"central\" style=\"font-size:2px;font-style:normal;font-weight:normal;fill-opacity:1;stroke:none;font-family:sans-serif;fill:#7F7F7F\" text-anchor=\"start\" x=\"680.506\" y=\"219.084\"><tspan>*</tspan></text>\n",
       "<text dominant-baseline=\"central\" style=\"font-size:2px;font-style:normal;font-weight:normal;fill-opacity:1;stroke:none;font-family:sans-serif;fill:#7F7F7F\" text-anchor=\"start\" x=\"672.038\" y=\"231.312\"><tspan>*</tspan></text>\n",
       "<text dominant-baseline=\"central\" style=\"font-size:2px;font-style:normal;font-weight:normal;fill-opacity:1;stroke:none;font-family:sans-serif;fill:#FF0000\" text-anchor=\"middle\" x=\"666.065\" y=\"217.865\"><tspan>O</tspan></text>\n",
       "<text dominant-baseline=\"central\" style=\"font-size:2px;font-style:normal;font-weight:normal;fill-opacity:1;stroke:none;font-family:sans-serif;fill:#7F7F7F\" text-anchor=\"end\" x=\"643.155\" y=\"228.873\"><tspan>*</tspan></text>\n",
       "<text dominant-baseline=\"central\" style=\"font-size:12px;font-style:normal;font-weight:normal;fill-opacity:1;stroke:none;font-family:sans-serif;fill:#000000\" text-anchor=\"middle\" x=\"675\" y=\"292.8\"><tspan>11881</tspan></text>\n",
       "<ellipse cx=\"821.514\" cy=\"224.688\" rx=\"1.71747\" ry=\"1.71747\" style=\"fill:#9999E5;fill-rule:evenodd;stroke:#9999E5;stroke-width:2px;stroke-linecap:butt;stroke-linejoin:miter;stroke-opacity:1\"/>\n",
       "<path class=\"bond-0\" d=\"M 829.337,225.867 L 821.514,224.688\" style=\"fill:none;fill-rule:evenodd;stroke:#E5E5E5;stroke-width:2px;stroke-linecap:butt;stroke-linejoin:miter;stroke-opacity:1\"/>\n",
       "<path class=\"bond-1\" d=\"M 821.514,224.688 L 818.226,218.354\" style=\"fill:none;fill-rule:evenodd;stroke:#E5E5E5;stroke-width:2px;stroke-linecap:butt;stroke-linejoin:miter;stroke-opacity:1\"/>\n",
       "<path class=\"bond-2\" d=\"M 821.514,224.688 L 816.156,230.127\" style=\"fill:none;fill-rule:evenodd;stroke:#E5E5E5;stroke-width:2px;stroke-linecap:butt;stroke-linejoin:miter;stroke-opacity:1\"/>\n",
       "<text dominant-baseline=\"central\" style=\"font-size:2px;font-style:normal;font-weight:normal;fill-opacity:1;stroke:none;font-family:sans-serif;fill:#7F7F7F\" text-anchor=\"start\" x=\"829.623\" y=\"226.397\"><tspan>*</tspan></text>\n",
       "<text dominant-baseline=\"central\" style=\"font-size:2px;font-style:normal;font-weight:normal;fill-opacity:1;stroke:none;font-family:sans-serif;fill:#7F7F7F\" text-anchor=\"end\" x=\"817.94\" y=\"217.496\"><tspan>*</tspan></text>\n",
       "<text dominant-baseline=\"central\" style=\"font-size:2px;font-style:normal;font-weight:normal;fill-opacity:1;stroke:none;font-family:sans-serif;fill:#7F7F7F\" text-anchor=\"end\" x=\"815.87\" y=\"231.235\"><tspan>*</tspan></text>\n",
       "<text dominant-baseline=\"central\" style=\"font-size:12px;font-style:normal;font-weight:normal;fill-opacity:1;stroke:none;font-family:sans-serif;fill:#000000\" text-anchor=\"middle\" x=\"825\" y=\"292.8\"><tspan>8814</tspan></text>\n",
       "<ellipse cx=\"75.7263\" cy=\"363.733\" rx=\"1.71747\" ry=\"1.71747\" style=\"fill:#E5E533;fill-rule:evenodd;stroke:#E5E533;stroke-width:2px;stroke-linecap:butt;stroke-linejoin:miter;stroke-opacity:1\"/>\n",
       "<ellipse cx=\"80.9914\" cy=\"370.516\" rx=\"1.71747\" ry=\"1.71747\" style=\"fill:#E5E533;fill-rule:evenodd;stroke:#E5E533;stroke-width:2px;stroke-linecap:butt;stroke-linejoin:miter;stroke-opacity:1\"/>\n",
       "<ellipse cx=\"77.749\" cy=\"378.468\" rx=\"1.71747\" ry=\"1.71747\" style=\"fill:#E5E533;fill-rule:evenodd;stroke:#E5E533;stroke-width:2px;stroke-linecap:butt;stroke-linejoin:miter;stroke-opacity:1\"/>\n",
       "<ellipse cx=\"89.499\" cy=\"369.349\" rx=\"1.71747\" ry=\"1.71747\" style=\"fill:#9999E5;fill-rule:evenodd;stroke:#9999E5;stroke-width:2px;stroke-linecap:butt;stroke-linejoin:miter;stroke-opacity:1\"/>\n",
       "<path class=\"bond-0\" d=\"M 68.0038,365.659 L 75.843,364.583\" style=\"fill:none;fill-rule:evenodd;stroke:#E5E5E5;stroke-width:2px;stroke-linecap:butt;stroke-linejoin:miter;stroke-opacity:1\"/>\n",
       "<path class=\"bond-0\" d=\"M 67.7703,363.958 L 75.6095,362.882\" style=\"fill:none;fill-rule:evenodd;stroke:#E5E5E5;stroke-width:2px;stroke-linecap:butt;stroke-linejoin:miter;stroke-opacity:1;stroke-dasharray:6,6\"/>\n",
       "<path class=\"bond-1\" d=\"M 75.7263,363.733 L 80.9914,370.516\" style=\"fill:none;fill-rule:evenodd;stroke:#000000;stroke-width:2px;stroke-linecap:butt;stroke-linejoin:miter;stroke-opacity:1\"/>\n",
       "<path class=\"bond-1\" d=\"M 75.1593,365.803 L 78.8449,370.552\" style=\"fill:none;fill-rule:evenodd;stroke:#000000;stroke-width:2px;stroke-linecap:butt;stroke-linejoin:miter;stroke-opacity:1;stroke-dasharray:6,6\"/>\n",
       "<path class=\"bond-2\" d=\"M 80.9914,370.516 L 77.749,378.468\" style=\"fill:none;fill-rule:evenodd;stroke:#000000;stroke-width:2px;stroke-linecap:butt;stroke-linejoin:miter;stroke-opacity:1\"/>\n",
       "<path class=\"bond-2\" d=\"M 78.9147,371.061 L 76.6451,376.627\" style=\"fill:none;fill-rule:evenodd;stroke:#000000;stroke-width:2px;stroke-linecap:butt;stroke-linejoin:miter;stroke-opacity:1;stroke-dasharray:6,6\"/>\n",
       "<path class=\"bond-4\" d=\"M 80.9914,370.516 L 84.5769,370.024\" style=\"fill:none;fill-rule:evenodd;stroke:#000000;stroke-width:2px;stroke-linecap:butt;stroke-linejoin:miter;stroke-opacity:1\"/>\n",
       "<path class=\"bond-4\" d=\"M 84.5769,370.024 L 88.1623,369.532\" style=\"fill:none;fill-rule:evenodd;stroke:#FF0000;stroke-width:2px;stroke-linecap:butt;stroke-linejoin:miter;stroke-opacity:1\"/>\n",
       "<path class=\"bond-3\" d=\"M 77.6322,377.617 L 69.793,378.693\" style=\"fill:none;fill-rule:evenodd;stroke:#E5E5E5;stroke-width:2px;stroke-linecap:butt;stroke-linejoin:miter;stroke-opacity:1\"/>\n",
       "<path class=\"bond-3\" d=\"M 77.8658,379.319 L 70.0266,380.395\" style=\"fill:none;fill-rule:evenodd;stroke:#E5E5E5;stroke-width:2px;stroke-linecap:butt;stroke-linejoin:miter;stroke-opacity:1;stroke-dasharray:6,6\"/>\n",
       "<path class=\"bond-5\" d=\"M 90.6098,370.78 L 92.687,373.456\" style=\"fill:none;fill-rule:evenodd;stroke:#FF0000;stroke-width:2px;stroke-linecap:butt;stroke-linejoin:miter;stroke-opacity:1\"/>\n",
       "<path class=\"bond-5\" d=\"M 92.687,373.456 L 94.7642,376.132\" style=\"fill:none;fill-rule:evenodd;stroke:#000000;stroke-width:2px;stroke-linecap:butt;stroke-linejoin:miter;stroke-opacity:1\"/>\n",
       "<path class=\"bond-6\" d=\"M 94.7642,376.132 L 103.272,374.965\" style=\"fill:none;fill-rule:evenodd;stroke:#000000;stroke-width:2px;stroke-linecap:butt;stroke-linejoin:miter;stroke-opacity:1\"/>\n",
       "<path class=\"bond-7\" d=\"M 103.272,374.965 L 107.869,380.887\" style=\"fill:none;fill-rule:evenodd;stroke:#E5E5E5;stroke-width:2px;stroke-linecap:butt;stroke-linejoin:miter;stroke-opacity:1\"/>\n",
       "<text dominant-baseline=\"central\" style=\"font-size:2px;font-style:normal;font-weight:normal;fill-opacity:1;stroke:none;font-family:sans-serif;fill:#7F7F7F\" text-anchor=\"end\" x=\"67.6008\" y=\"365.33\"><tspan>*</tspan></text>\n",
       "<text dominant-baseline=\"central\" style=\"font-size:2px;font-style:normal;font-weight:normal;fill-opacity:1;stroke:none;font-family:sans-serif;fill:#7F7F7F\" text-anchor=\"end\" x=\"69.6236\" y=\"380.065\"><tspan>*</tspan></text>\n",
       "<text dominant-baseline=\"central\" style=\"font-size:2px;font-style:normal;font-weight:normal;fill-opacity:1;stroke:none;font-family:sans-serif;fill:#FF0000\" text-anchor=\"start\" x=\"88.4485\" y=\"369.778\"><tspan>O</tspan></text>\n",
       "<text dominant-baseline=\"central\" style=\"font-size:2px;font-style:normal;font-weight:normal;fill-opacity:1;stroke:none;font-family:sans-serif;fill:#7F7F7F\" text-anchor=\"start\" x=\"108.155\" y=\"382.178\"><tspan>*</tspan></text>\n",
       "<text dominant-baseline=\"central\" style=\"font-size:12px;font-style:normal;font-weight:normal;fill-opacity:1;stroke:none;font-family:sans-serif;fill:#000000\" text-anchor=\"middle\" x=\"75\" y=\"442.8\"><tspan>11337</tspan></text>\n",
       "<ellipse cx=\"219.463\" cy=\"385.877\" rx=\"1.71747\" ry=\"1.71747\" style=\"fill:#9999E5;fill-rule:evenodd;stroke:#9999E5;stroke-width:2px;stroke-linecap:butt;stroke-linejoin:miter;stroke-opacity:1\"/>\n",
       "<path class=\"bond-0\" d=\"M 218.795,372.161 L 215.169,378.44\" style=\"fill:none;fill-rule:evenodd;stroke:#E5E5E5;stroke-width:2px;stroke-linecap:butt;stroke-linejoin:miter;stroke-opacity:1\"/>\n",
       "<path class=\"bond-1\" d=\"M 214.426,378.869 L 216.159,381.872\" style=\"fill:none;fill-rule:evenodd;stroke:#000000;stroke-width:2px;stroke-linecap:butt;stroke-linejoin:miter;stroke-opacity:1\"/>\n",
       "<path class=\"bond-1\" d=\"M 216.159,381.872 L 217.893,384.875\" style=\"fill:none;fill-rule:evenodd;stroke:#FF0000;stroke-width:2px;stroke-linecap:butt;stroke-linejoin:miter;stroke-opacity:1\"/>\n",
       "<path class=\"bond-1\" d=\"M 215.913,378.011 L 217.647,381.014\" style=\"fill:none;fill-rule:evenodd;stroke:#000000;stroke-width:2px;stroke-linecap:butt;stroke-linejoin:miter;stroke-opacity:1\"/>\n",
       "<path class=\"bond-1\" d=\"M 217.647,381.014 L 219.38,384.016\" style=\"fill:none;fill-rule:evenodd;stroke:#FF0000;stroke-width:2px;stroke-linecap:butt;stroke-linejoin:miter;stroke-opacity:1\"/>\n",
       "<path class=\"bond-2\" d=\"M 215.169,378.44 L 207.25,378.44\" style=\"fill:none;fill-rule:evenodd;stroke:#E5E5E5;stroke-width:2px;stroke-linecap:butt;stroke-linejoin:miter;stroke-opacity:1\"/>\n",
       "<text dominant-baseline=\"central\" style=\"font-size:2px;font-style:normal;font-weight:normal;fill-opacity:1;stroke:none;font-family:sans-serif;fill:#7F7F7F\" text-anchor=\"start\" x=\"219.081\" y=\"371.433\"><tspan>*</tspan></text>\n",
       "<text dominant-baseline=\"central\" style=\"font-size:2px;font-style:normal;font-weight:normal;fill-opacity:1;stroke:none;font-family:sans-serif;fill:#FF0000\" text-anchor=\"start\" x=\"218.412\" y=\"386.306\"><tspan>O</tspan></text>\n",
       "<text dominant-baseline=\"central\" style=\"font-size:2px;font-style:normal;font-weight:normal;fill-opacity:1;stroke:none;font-family:sans-serif;fill:#7F7F7F\" text-anchor=\"end\" x=\"206.964\" y=\"378.869\"><tspan>*</tspan></text>\n",
       "<text dominant-baseline=\"central\" style=\"font-size:12px;font-style:normal;font-weight:normal;fill-opacity:1;stroke:none;font-family:sans-serif;fill:#000000\" text-anchor=\"middle\" x=\"225\" y=\"442.8\"><tspan>23586</tspan></text>\n",
       "<ellipse cx=\"370.608\" cy=\"365.199\" rx=\"1.71747\" ry=\"1.71747\" style=\"fill:#E5E533;fill-rule:evenodd;stroke:#E5E533;stroke-width:2px;stroke-linecap:butt;stroke-linejoin:miter;stroke-opacity:1\"/>\n",
       "<ellipse cx=\"379.182\" cy=\"364.72\" rx=\"1.71747\" ry=\"1.71747\" style=\"fill:#E5E533;fill-rule:evenodd;stroke:#E5E533;stroke-width:2px;stroke-linecap:butt;stroke-linejoin:miter;stroke-opacity:1\"/>\n",
       "<ellipse cx=\"383.884\" cy=\"371.906\" rx=\"1.71747\" ry=\"1.71747\" style=\"fill:#9999E5;fill-rule:evenodd;stroke:#9999E5;stroke-width:2px;stroke-linecap:butt;stroke-linejoin:miter;stroke-opacity:1\"/>\n",
       "<ellipse cx=\"380.012\" cy=\"379.571\" rx=\"1.71747\" ry=\"1.71747\" style=\"fill:#E5E533;fill-rule:evenodd;stroke:#E5E533;stroke-width:2px;stroke-linecap:butt;stroke-linejoin:miter;stroke-opacity:1\"/>\n",
       "<ellipse cx=\"371.438\" cy=\"380.05\" rx=\"1.71747\" ry=\"1.71747\" style=\"fill:#E5E533;fill-rule:evenodd;stroke:#E5E533;stroke-width:2px;stroke-linecap:butt;stroke-linejoin:miter;stroke-opacity:1\"/>\n",
       "<path class=\"bond-0\" d=\"M 367.404,371.541 L 370.608,365.199\" style=\"fill:none;fill-rule:evenodd;stroke:#E5E5E5;stroke-width:2px;stroke-linecap:butt;stroke-linejoin:miter;stroke-opacity:1\"/>\n",
       "<path class=\"bond-0\" d=\"M 369.418,371.364 L 371.66,366.925\" style=\"fill:none;fill-rule:evenodd;stroke:#E5E5E5;stroke-width:2px;stroke-linecap:butt;stroke-linejoin:miter;stroke-opacity:1\"/>\n",
       "<path class=\"bond-8\" d=\"M 367.404,373.885 L 371.438,380.05\" style=\"fill:none;fill-rule:evenodd;stroke:#E5E5E5;stroke-width:2px;stroke-linecap:butt;stroke-linejoin:miter;stroke-opacity:1\"/>\n",
       "<path class=\"bond-1\" d=\"M 370.608,365.199 L 379.182,364.72\" style=\"fill:none;fill-rule:evenodd;stroke:#000000;stroke-width:2px;stroke-linecap:butt;stroke-linejoin:miter;stroke-opacity:1\"/>\n",
       "<path class=\"bond-2\" d=\"M 379.182,364.72 L 383.884,371.906\" style=\"fill:none;fill-rule:evenodd;stroke:#000000;stroke-width:2px;stroke-linecap:butt;stroke-linejoin:miter;stroke-opacity:1\"/>\n",
       "<path class=\"bond-2\" d=\"M 378.45,366.738 L 381.741,371.768\" style=\"fill:none;fill-rule:evenodd;stroke:#000000;stroke-width:2px;stroke-linecap:butt;stroke-linejoin:miter;stroke-opacity:1\"/>\n",
       "<path class=\"bond-3\" d=\"M 383.884,371.906 L 380.012,379.571\" style=\"fill:none;fill-rule:evenodd;stroke:#000000;stroke-width:2px;stroke-linecap:butt;stroke-linejoin:miter;stroke-opacity:1\"/>\n",
       "<path class=\"bond-5\" d=\"M 383.884,371.906 L 387.502,371.703\" style=\"fill:none;fill-rule:evenodd;stroke:#000000;stroke-width:2px;stroke-linecap:butt;stroke-linejoin:miter;stroke-opacity:1\"/>\n",
       "<path class=\"bond-5\" d=\"M 387.502,371.703 L 391.121,371.501\" style=\"fill:none;fill-rule:evenodd;stroke:#FF0000;stroke-width:2px;stroke-linecap:butt;stroke-linejoin:miter;stroke-opacity:1\"/>\n",
       "<path class=\"bond-4\" d=\"M 380.012,379.571 L 371.438,380.05\" style=\"fill:none;fill-rule:evenodd;stroke:#000000;stroke-width:2px;stroke-linecap:butt;stroke-linejoin:miter;stroke-opacity:1\"/>\n",
       "<path class=\"bond-4\" d=\"M 378.63,377.928 L 372.628,378.263\" style=\"fill:none;fill-rule:evenodd;stroke:#000000;stroke-width:2px;stroke-linecap:butt;stroke-linejoin:miter;stroke-opacity:1\"/>\n",
       "<path class=\"bond-6\" d=\"M 393.394,372.858 L 395.277,375.735\" style=\"fill:none;fill-rule:evenodd;stroke:#FF0000;stroke-width:2px;stroke-linecap:butt;stroke-linejoin:miter;stroke-opacity:1\"/>\n",
       "<path class=\"bond-6\" d=\"M 395.277,375.735 L 397.16,378.612\" style=\"fill:none;fill-rule:evenodd;stroke:#000000;stroke-width:2px;stroke-linecap:butt;stroke-linejoin:miter;stroke-opacity:1\"/>\n",
       "<path class=\"bond-7\" d=\"M 397.16,378.612 L 405.065,378.171\" style=\"fill:none;fill-rule:evenodd;stroke:#E5E5E5;stroke-width:2px;stroke-linecap:butt;stroke-linejoin:miter;stroke-opacity:1\"/>\n",
       "<text dominant-baseline=\"central\" style=\"font-size:2px;font-style:normal;font-weight:normal;fill-opacity:1;stroke:none;font-family:sans-serif;fill:#7F7F7F\" text-anchor=\"end\" x=\"367.118\" y=\"373.293\"><tspan>*</tspan></text>\n",
       "<text dominant-baseline=\"central\" style=\"font-size:2px;font-style:normal;font-weight:normal;fill-opacity:1;stroke:none;font-family:sans-serif;fill:#FF0000\" text-anchor=\"start\" x=\"391.407\" y=\"371.856\"><tspan>O</tspan></text>\n",
       "<text dominant-baseline=\"central\" style=\"font-size:2px;font-style:normal;font-weight:normal;fill-opacity:1;stroke:none;font-family:sans-serif;fill:#7F7F7F\" text-anchor=\"start\" x=\"405.351\" y=\"378.563\"><tspan>*</tspan></text>\n",
       "<text dominant-baseline=\"central\" style=\"font-size:12px;font-style:normal;font-weight:normal;fill-opacity:1;stroke:none;font-family:sans-serif;fill:#000000\" text-anchor=\"middle\" x=\"375\" y=\"442.8\"><tspan>4916</tspan></text>\n",
       "<ellipse cx=\"516.065\" cy=\"367.436\" rx=\"1.71747\" ry=\"1.71747\" style=\"fill:#9999E5;fill-rule:evenodd;stroke:#9999E5;stroke-width:2px;stroke-linecap:butt;stroke-linejoin:miter;stroke-opacity:1\"/>\n",
       "<ellipse cx=\"508.301\" cy=\"371.105\" rx=\"1.71747\" ry=\"1.71747\" style=\"fill:#E5E533;fill-rule:evenodd;stroke:#E5E533;stroke-width:2px;stroke-linecap:butt;stroke-linejoin:miter;stroke-opacity:1\"/>\n",
       "<path class=\"bond-0\" d=\"M 530.22,368.971 L 523.125,372.324\" style=\"fill:none;fill-rule:evenodd;stroke:#E5E5E5;stroke-width:2px;stroke-linecap:butt;stroke-linejoin:miter;stroke-opacity:1\"/>\n",
       "<path class=\"bond-1\" d=\"M 522.269,372.254 L 521.682,379.381\" style=\"fill:none;fill-rule:evenodd;stroke:#E5E5E5;stroke-width:2px;stroke-linecap:butt;stroke-linejoin:miter;stroke-opacity:1\"/>\n",
       "<path class=\"bond-1\" d=\"M 523.98,372.395 L 523.394,379.522\" style=\"fill:none;fill-rule:evenodd;stroke:#E5E5E5;stroke-width:2px;stroke-linecap:butt;stroke-linejoin:miter;stroke-opacity:1\"/>\n",
       "<path class=\"bond-2\" d=\"M 523.125,372.324 L 520.263,370.343\" style=\"fill:none;fill-rule:evenodd;stroke:#000000;stroke-width:2px;stroke-linecap:butt;stroke-linejoin:miter;stroke-opacity:1\"/>\n",
       "<path class=\"bond-2\" d=\"M 520.263,370.343 L 517.402,368.361\" style=\"fill:none;fill-rule:evenodd;stroke:#FF0000;stroke-width:2px;stroke-linecap:butt;stroke-linejoin:miter;stroke-opacity:1\"/>\n",
       "<path class=\"bond-3\" d=\"M 514.728,368.067 L 511.515,369.586\" style=\"fill:none;fill-rule:evenodd;stroke:#FF0000;stroke-width:2px;stroke-linecap:butt;stroke-linejoin:miter;stroke-opacity:1\"/>\n",
       "<path class=\"bond-3\" d=\"M 511.515,369.586 L 508.301,371.105\" style=\"fill:none;fill-rule:evenodd;stroke:#000000;stroke-width:2px;stroke-linecap:butt;stroke-linejoin:miter;stroke-opacity:1\"/>\n",
       "<path class=\"bond-4\" d=\"M 508.79,370.399 L 502.398,365.973\" style=\"fill:none;fill-rule:evenodd;stroke:#E5E5E5;stroke-width:2px;stroke-linecap:butt;stroke-linejoin:miter;stroke-opacity:1\"/>\n",
       "<path class=\"bond-4\" d=\"M 507.812,371.811 L 501.421,367.385\" style=\"fill:none;fill-rule:evenodd;stroke:#E5E5E5;stroke-width:2px;stroke-linecap:butt;stroke-linejoin:miter;stroke-opacity:1;stroke-dasharray:6,6\"/>\n",
       "<path class=\"bond-5\" d=\"M 507.445,371.035 L 506.859,378.162\" style=\"fill:none;fill-rule:evenodd;stroke:#E5E5E5;stroke-width:2px;stroke-linecap:butt;stroke-linejoin:miter;stroke-opacity:1\"/>\n",
       "<path class=\"bond-5\" d=\"M 509.157,371.175 L 508.571,378.303\" style=\"fill:none;fill-rule:evenodd;stroke:#E5E5E5;stroke-width:2px;stroke-linecap:butt;stroke-linejoin:miter;stroke-opacity:1;stroke-dasharray:6,6\"/>\n",
       "<text dominant-baseline=\"central\" style=\"font-size:2px;font-style:normal;font-weight:normal;fill-opacity:1;stroke:none;font-family:sans-serif;fill:#7F7F7F\" text-anchor=\"start\" x=\"530.506\" y=\"369.084\"><tspan>*</tspan></text>\n",
       "<text dominant-baseline=\"central\" style=\"font-size:2px;font-style:normal;font-weight:normal;fill-opacity:1;stroke:none;font-family:sans-serif;fill:#7F7F7F\" text-anchor=\"start\" x=\"522.038\" y=\"381.312\"><tspan>*</tspan></text>\n",
       "<text dominant-baseline=\"central\" style=\"font-size:2px;font-style:normal;font-weight:normal;fill-opacity:1;stroke:none;font-family:sans-serif;fill:#FF0000\" text-anchor=\"middle\" x=\"516.065\" y=\"367.865\"><tspan>O</tspan></text>\n",
       "<text dominant-baseline=\"central\" style=\"font-size:2px;font-style:normal;font-weight:normal;fill-opacity:1;stroke:none;font-family:sans-serif;fill:#7F7F7F\" text-anchor=\"end\" x=\"501.623\" y=\"366.645\"><tspan>*</tspan></text>\n",
       "<text dominant-baseline=\"central\" style=\"font-size:2px;font-style:normal;font-weight:normal;fill-opacity:1;stroke:none;font-family:sans-serif;fill:#7F7F7F\" text-anchor=\"start\" x=\"507.215\" y=\"380.093\"><tspan>*</tspan></text>\n",
       "<text dominant-baseline=\"central\" style=\"font-size:12px;font-style:normal;font-weight:normal;fill-opacity:1;stroke:none;font-family:sans-serif;fill:#000000\" text-anchor=\"middle\" x=\"525\" y=\"442.8\"><tspan>7305</tspan></text>\n",
       "<ellipse cx=\"646.77\" cy=\"369.539\" rx=\"1.71747\" ry=\"1.71747\" style=\"fill:#CCCCCC;fill-rule:evenodd;stroke:#CCCCCC;stroke-width:2px;stroke-linecap:butt;stroke-linejoin:miter;stroke-opacity:1\"/>\n",
       "<ellipse cx=\"643.001\" cy=\"377.255\" rx=\"1.71747\" ry=\"1.71747\" style=\"fill:#CCCCCC;fill-rule:evenodd;stroke:#CCCCCC;stroke-width:2px;stroke-linecap:butt;stroke-linejoin:miter;stroke-opacity:1\"/>\n",
       "<ellipse cx=\"649.175\" cy=\"383.224\" rx=\"1.71747\" ry=\"1.71747\" style=\"fill:#CCCCCC;fill-rule:evenodd;stroke:#CCCCCC;stroke-width:2px;stroke-linecap:butt;stroke-linejoin:miter;stroke-opacity:1\"/>\n",
       "<ellipse cx=\"634.543\" cy=\"378.74\" rx=\"1.71747\" ry=\"1.71747\" style=\"fill:#9999E5;fill-rule:evenodd;stroke:#9999E5;stroke-width:2px;stroke-linecap:butt;stroke-linejoin:miter;stroke-opacity:1\"/>\n",
       "<ellipse cx=\"629.028\" cy=\"372.159\" rx=\"1.71747\" ry=\"1.71747\" style=\"fill:#E5E533;fill-rule:evenodd;stroke:#E5E533;stroke-width:2px;stroke-linecap:butt;stroke-linejoin:miter;stroke-opacity:1\"/>\n",
       "<ellipse cx=\"620.57\" cy=\"373.644\" rx=\"1.71747\" ry=\"1.71747\" style=\"fill:#E5E533;fill-rule:evenodd;stroke:#E5E533;stroke-width:2px;stroke-linecap:butt;stroke-linejoin:miter;stroke-opacity:1\"/>\n",
       "<ellipse cx=\"623.143\" cy=\"388.294\" rx=\"1.71747\" ry=\"1.71747\" style=\"fill:#E5E533;fill-rule:evenodd;stroke:#E5E533;stroke-width:2px;stroke-linecap:butt;stroke-linejoin:miter;stroke-opacity:1\"/>\n",
       "<ellipse cx=\"631.601\" cy=\"386.808\" rx=\"1.71747\" ry=\"1.71747\" style=\"fill:#E5E533;fill-rule:evenodd;stroke:#E5E533;stroke-width:2px;stroke-linecap:butt;stroke-linejoin:miter;stroke-opacity:1\"/>\n",
       "<path class=\"bond-0\" d=\"M 654.605,370.645 L 646.77,369.539\" style=\"fill:none;fill-rule:evenodd;stroke:#E5E5E5;stroke-width:2px;stroke-linecap:butt;stroke-linejoin:miter;stroke-opacity:1\"/>\n",
       "<path class=\"bond-1\" d=\"M 647.529,369.136 L 644.171,362.81\" style=\"fill:none;fill-rule:evenodd;stroke:#E5E5E5;stroke-width:2px;stroke-linecap:butt;stroke-linejoin:miter;stroke-opacity:1\"/>\n",
       "<path class=\"bond-1\" d=\"M 646.012,369.941 L 642.654,363.616\" style=\"fill:none;fill-rule:evenodd;stroke:#E5E5E5;stroke-width:2px;stroke-linecap:butt;stroke-linejoin:miter;stroke-opacity:1\"/>\n",
       "<path class=\"bond-2\" d=\"M 646.77,369.539 L 645.235,372.681\" style=\"fill:none;fill-rule:evenodd;stroke:#000000;stroke-width:2px;stroke-linecap:butt;stroke-linejoin:miter;stroke-opacity:1\"/>\n",
       "<path class=\"bond-2\" d=\"M 645.235,372.681 L 643.7,375.823\" style=\"fill:none;fill-rule:evenodd;stroke:#0000FF;stroke-width:2px;stroke-linecap:butt;stroke-linejoin:miter;stroke-opacity:1\"/>\n",
       "<path class=\"bond-3\" d=\"M 644.242,378.454 L 646.708,380.839\" style=\"fill:none;fill-rule:evenodd;stroke:#0000FF;stroke-width:2px;stroke-linecap:butt;stroke-linejoin:miter;stroke-opacity:1\"/>\n",
       "<path class=\"bond-3\" d=\"M 646.708,380.839 L 649.175,383.224\" style=\"fill:none;fill-rule:evenodd;stroke:#000000;stroke-width:2px;stroke-linecap:butt;stroke-linejoin:miter;stroke-opacity:1\"/>\n",
       "<path class=\"bond-5\" d=\"M 641.761,377.473 L 638.152,378.106\" style=\"fill:none;fill-rule:evenodd;stroke:#0000FF;stroke-width:2px;stroke-linecap:butt;stroke-linejoin:miter;stroke-opacity:1\"/>\n",
       "<path class=\"bond-5\" d=\"M 638.152,378.106 L 634.543,378.74\" style=\"fill:none;fill-rule:evenodd;stroke:#000000;stroke-width:2px;stroke-linecap:butt;stroke-linejoin:miter;stroke-opacity:1\"/>\n",
       "<path class=\"bond-4\" d=\"M 648.324,383.104 L 647.326,390.176\" style=\"fill:none;fill-rule:evenodd;stroke:#E5E5E5;stroke-width:2px;stroke-linecap:butt;stroke-linejoin:miter;stroke-opacity:1\"/>\n",
       "<path class=\"bond-4\" d=\"M 650.025,383.344 L 649.026,390.416\" style=\"fill:none;fill-rule:evenodd;stroke:#E5E5E5;stroke-width:2px;stroke-linecap:butt;stroke-linejoin:miter;stroke-opacity:1\"/>\n",
       "<path class=\"bond-11\" d=\"M 649.175,383.224 L 656.091,379.552\" style=\"fill:none;fill-rule:evenodd;stroke:#E5E5E5;stroke-width:2px;stroke-linecap:butt;stroke-linejoin:miter;stroke-opacity:1\"/>\n",
       "<path class=\"bond-6\" d=\"M 634.543,378.74 L 629.028,372.159\" style=\"fill:none;fill-rule:evenodd;stroke:#000000;stroke-width:2px;stroke-linecap:butt;stroke-linejoin:miter;stroke-opacity:1\"/>\n",
       "<path class=\"bond-6\" d=\"M 632.4,378.856 L 628.539,374.249\" style=\"fill:none;fill-rule:evenodd;stroke:#000000;stroke-width:2px;stroke-linecap:butt;stroke-linejoin:miter;stroke-opacity:1\"/>\n",
       "<path class=\"bond-12\" d=\"M 634.543,378.74 L 631.601,386.808\" style=\"fill:none;fill-rule:evenodd;stroke:#000000;stroke-width:2px;stroke-linecap:butt;stroke-linejoin:miter;stroke-opacity:1\"/>\n",
       "<path class=\"bond-7\" d=\"M 629.028,372.159 L 620.57,373.644\" style=\"fill:none;fill-rule:evenodd;stroke:#000000;stroke-width:2px;stroke-linecap:butt;stroke-linejoin:miter;stroke-opacity:1\"/>\n",
       "<path class=\"bond-8\" d=\"M 620.57,373.644 L 618.15,380.281\" style=\"fill:none;fill-rule:evenodd;stroke:#E5E5E5;stroke-width:2px;stroke-linecap:butt;stroke-linejoin:miter;stroke-opacity:1\"/>\n",
       "<path class=\"bond-8\" d=\"M 621.82,375.228 L 620.126,379.874\" style=\"fill:none;fill-rule:evenodd;stroke:#E5E5E5;stroke-width:2px;stroke-linecap:butt;stroke-linejoin:miter;stroke-opacity:1\"/>\n",
       "<path class=\"bond-9\" d=\"M 618.296,382.51 L 623.143,388.294\" style=\"fill:none;fill-rule:evenodd;stroke:#E5E5E5;stroke-width:2px;stroke-linecap:butt;stroke-linejoin:miter;stroke-opacity:1\"/>\n",
       "<path class=\"bond-10\" d=\"M 623.143,388.294 L 631.601,386.808\" style=\"fill:none;fill-rule:evenodd;stroke:#000000;stroke-width:2px;stroke-linecap:butt;stroke-linejoin:miter;stroke-opacity:1\"/>\n",
       "<path class=\"bond-10\" d=\"M 624.115,386.379 L 630.035,385.339\" style=\"fill:none;fill-rule:evenodd;stroke:#000000;stroke-width:2px;stroke-linecap:butt;stroke-linejoin:miter;stroke-opacity:1\"/>\n",
       "<text dominant-baseline=\"central\" style=\"font-size:2px;font-style:normal;font-weight:normal;fill-opacity:1;stroke:none;font-family:sans-serif;fill:#7F7F7F\" text-anchor=\"start\" x=\"654.891\" y=\"371.169\"><tspan>*</tspan></text>\n",
       "<text dominant-baseline=\"central\" style=\"font-size:2px;font-style:normal;font-weight:normal;fill-opacity:1;stroke:none;font-family:sans-serif;fill:#7F7F7F\" text-anchor=\"end\" x=\"643.126\" y=\"362.383\"><tspan>*</tspan></text>\n",
       "<text dominant-baseline=\"central\" style=\"font-size:2px;font-style:normal;font-weight:normal;fill-opacity:1;stroke:none;font-family:sans-serif;fill:#0000FF\" text-anchor=\"end\" x=\"643.955\" y=\"377.684\"><tspan>N</tspan></text>\n",
       "<text dominant-baseline=\"central\" style=\"font-size:2px;font-style:normal;font-weight:normal;fill-opacity:1;stroke:none;font-family:sans-serif;fill:#7F7F7F\" text-anchor=\"start\" x=\"647.592\" y=\"392.156\"><tspan>*</tspan></text>\n",
       "<text dominant-baseline=\"central\" style=\"font-size:2px;font-style:normal;font-weight:normal;fill-opacity:1;stroke:none;font-family:sans-serif;fill:#7F7F7F\" text-anchor=\"end\" x=\"618.01\" y=\"382.141\"><tspan>*</tspan></text>\n",
       "<text dominant-baseline=\"central\" style=\"font-size:2px;font-style:normal;font-weight:normal;fill-opacity:1;stroke:none;font-family:sans-serif;fill:#7F7F7F\" text-anchor=\"start\" x=\"656.377\" y=\"379.626\"><tspan>*</tspan></text>\n",
       "<text dominant-baseline=\"central\" style=\"font-size:12px;font-style:normal;font-weight:normal;fill-opacity:1;stroke:none;font-family:sans-serif;fill:#000000\" text-anchor=\"middle\" x=\"675\" y=\"442.8\"><tspan>17135</tspan></text>\n",
       "<ellipse cx=\"840.206\" cy=\"366.634\" rx=\"1.71747\" ry=\"1.71747\" style=\"fill:#9999E5;fill-rule:evenodd;stroke:#9999E5;stroke-width:2px;stroke-linecap:butt;stroke-linejoin:miter;stroke-opacity:1\"/>\n",
       "<path class=\"bond-0\" d=\"M 845.809,361.392 L 840.206,366.634\" style=\"fill:none;fill-rule:evenodd;stroke:#E5E5E5;stroke-width:2px;stroke-linecap:butt;stroke-linejoin:miter;stroke-opacity:1\"/>\n",
       "<path class=\"bond-1\" d=\"M 839.37,366.829 L 840.983,373.761\" style=\"fill:none;fill-rule:evenodd;stroke:#E5E5E5;stroke-width:2px;stroke-linecap:butt;stroke-linejoin:miter;stroke-opacity:1\"/>\n",
       "<path class=\"bond-1\" d=\"M 841.043,366.439 L 842.655,373.372\" style=\"fill:none;fill-rule:evenodd;stroke:#E5E5E5;stroke-width:2px;stroke-linecap:butt;stroke-linejoin:miter;stroke-opacity:1\"/>\n",
       "<path class=\"bond-2\" d=\"M 840.206,366.634 L 832.659,364.34\" style=\"fill:none;fill-rule:evenodd;stroke:#E5E5E5;stroke-width:2px;stroke-linecap:butt;stroke-linejoin:miter;stroke-opacity:1\"/>\n",
       "<text dominant-baseline=\"central\" style=\"font-size:2px;font-style:normal;font-weight:normal;fill-opacity:1;stroke:none;font-family:sans-serif;fill:#7F7F7F\" text-anchor=\"start\" x=\"846.095\" y=\"361.197\"><tspan>*</tspan></text>\n",
       "<text dominant-baseline=\"central\" style=\"font-size:2px;font-style:normal;font-weight:normal;fill-opacity:1;stroke:none;font-family:sans-serif;fill:#7F7F7F\" text-anchor=\"start\" x=\"841.77\" y=\"375.427\"><tspan>*</tspan></text>\n",
       "<text dominant-baseline=\"central\" style=\"font-size:2px;font-style:normal;font-weight:normal;fill-opacity:1;stroke:none;font-family:sans-serif;fill:#7F7F7F\" text-anchor=\"end\" x=\"832.372\" y=\"364.566\"><tspan>*</tspan></text>\n",
       "<text dominant-baseline=\"central\" style=\"font-size:12px;font-style:normal;font-weight:normal;fill-opacity:1;stroke:none;font-family:sans-serif;fill:#000000\" text-anchor=\"middle\" x=\"825\" y=\"442.8\"><tspan>25398</tspan></text>\n",
       "</svg>"
      ],
      "text/plain": [
       "<IPython.core.display.SVG object>"
      ]
     },
     "execution_count": 24,
     "metadata": {},
     "output_type": "execute_result"
    }
   ],
   "source": [
    "# Save as svg file for high resolution\n",
    "tpls = []\n",
    "Num = 0\n",
    "for x in ordered_wts['descriptor_id'][:18]:\n",
    "    for i in range(len(fp_n)):\n",
    "        Code = (Corr_df[Corr_df['index'] == x][0].values[0])\n",
    "        if Code in fp_n.iloc[i].keys():\n",
    "            mol = Chem.MolFromSmiles(Dataset1_Smiles_Tg.Smiles.iloc[i]) \n",
    "            bi = {}\n",
    "            fp = rdMolDescriptors.GetMorganFingerprint(mol, radius=3, bitInfo=bi)\n",
    "            tpls.append((mol,Code,bi))\n",
    "            img = Draw.DrawMorganBit(mol,Code,bi, useSVG=True)\n",
    "            with open('FrequentFingerprint_{}'.format(Num)+'_{}.svg'.format(x), 'w') as f_handle:\n",
    "                f_handle.write(img.data)                        \n",
    "            Num = Num + 1\n",
    "            break\n",
    "            \n",
    "            \n",
    "img = Draw.DrawMorganBits(tpls,molsPerRow=6,legends=[str(x) for x in ordered_wts['descriptor_id'][:18]], useSVG=True)\n",
    "with open('FrequentFingerprint_all.svg', 'w') as f_handle:\n",
    "    f_handle.write(img.data)\n",
    "img"
   ]
  },
  {
   "cell_type": "code",
   "execution_count": 25,
   "metadata": {},
   "outputs": [
    {
     "data": {
      "image/png": "[encoded data removed]",
      "text/plain": [
       "<PIL.PngImagePlugin.PngImageFile image mode=RGB size=900x450 at 0x1A6CA376108>"
      ]
     },
     "execution_count": 25,
     "metadata": {},
     "output_type": "execute_result"
    }
   ],
   "source": [
    "# Save as png file\n",
    "tpls = []\n",
    "Num = 0\n",
    "for x in ordered_wts['descriptor_id'][:18]:\n",
    "    for i in range(len(fp_n)):\n",
    "        Code = (Corr_df[Corr_df['index'] == x][0].values[0])\n",
    "        if Code in fp_n.iloc[i].keys():\n",
    "            mol = Chem.MolFromSmiles(Dataset1_Smiles_Tg.Smiles.iloc[i]) \n",
    "            bi = {}\n",
    "            fp = rdMolDescriptors.GetMorganFingerprint(mol, radius=3, bitInfo=bi)\n",
    "            tpls.append((mol,Code,bi))\n",
    "            img = Draw.DrawMorganBit(mol,Code,bi)\n",
    "            img.save('FrequentFingerprint_{}'.format(Num)+'_{}.png'.format(x))\n",
    "            Num = Num + 1\n",
    "            break\n",
    "            \n",
    "            \n",
    "img = Draw.DrawMorganBits(tpls,molsPerRow=6,legends=[str(x) for x in ordered_wts['descriptor_id'][:18]])\n",
    "img.save('FrequentFingerprint_{}'.format(Num)+'_{}.png'.format(x))\n",
    "img"
   ]
  },
  {
   "cell_type": "markdown",
   "metadata": {},
   "source": [
    "### CNN"
   ]
  },
  {
   "cell_type": "code",
   "execution_count": 42,
   "metadata": {},
   "outputs": [],
   "source": [
    "from sklearn.preprocessing import OneHotEncoder"
   ]
  },
  {
   "cell_type": "code",
   "execution_count": 50,
   "metadata": {},
   "outputs": [],
   "source": [
    "def encoding(df):\n",
    "  encoded=[]\n",
    "  elements = [['c'], ['n'], ['o'], ['C'], ['N'], ['F'], ['='], ['O'], \n",
    "              ['('], [')'], ['*'],['['], [']'], ['1'], ['2'],['3'],['#'],['Cl'],['/'],['S'],['Br']]\n",
    "  \n",
    "\n",
    "  enc = OneHotEncoder(handle_unknown='ignore')\n",
    "  enc.fit(elements)\n",
    "  enc.categories_\n",
    "  df1=df[\"Smiles\"].apply(lambda x: pd.Series(list(x)))\n",
    "  for i in range(df1.shape[0]):\n",
    "    x=enc.transform(pd.DataFrame(df1.iloc[i,:]).dropna(how=\"all\").values).toarray()\n",
    "    y=np.zeros(((df1.shape[1]-x.shape[0]),len(elements)))\n",
    "    encoded.append(np.vstack((x,y)))\n",
    "  return encoded\n",
    "\n",
    "def encoded_generate_images(df):\n",
    "  listt=encoding(df)\n",
    "  plt.figure(figsize=(20,100))\n",
    "  for i in range(len(listt)):\n",
    "    plt.subplot(len(listt),5,i+1)\n",
    "    plt.imshow(listt[i])"
   ]
  },
  {
   "cell_type": "code",
   "execution_count": 62,
   "metadata": {},
   "outputs": [],
   "source": [
    "X_all = encoding(ID_noTg_pred)\n",
    "X_2 = np.array(X_all)\n"
   ]
  },
  {
   "cell_type": "code",
   "execution_count": 63,
   "metadata": {},
   "outputs": [
    {
     "data": {
      "text/plain": [
       "(566, 209, 21)"
      ]
     },
     "execution_count": 63,
     "metadata": {},
     "output_type": "execute_result"
    }
   ],
   "source": [
    "X_2.shape"
   ]
  },
  {
   "cell_type": "code",
   "execution_count": null,
   "metadata": {},
   "outputs": [],
   "source": [
    "X = X.reshape((6923, 310, 21, 1))\n",
    "X.shape"
   ]
  },
  {
   "cell_type": "code",
   "execution_count": 51,
   "metadata": {},
   "outputs": [
    {
     "data": {
      "text/plain": [
       "(6923, 310, 21, 1)"
      ]
     },
     "execution_count": 51,
     "metadata": {},
     "output_type": "execute_result"
    }
   ],
   "source": [
    "#X=encoding(df.iloc[:100])\n",
    "X_all=encoding(Dataset1_Smiles_Tg)\n",
    "X=np.array(X_all[:6923])\n",
    "X = X.reshape((6923, 310, 21, 1))\n",
    "X.shape"
   ]
  },
  {
   "cell_type": "code",
   "execution_count": 52,
   "metadata": {},
   "outputs": [
    {
     "data": {
      "text/plain": [
       "(6923,)"
      ]
     },
     "execution_count": 52,
     "metadata": {},
     "output_type": "execute_result"
    }
   ],
   "source": [
    "Y=Dataset1_Smiles_Tg[\"Tg\"].values\n",
    "Y.shape"
   ]
  },
  {
   "cell_type": "code",
   "execution_count": 53,
   "metadata": {},
   "outputs": [
    {
     "name": "stdout",
     "output_type": "stream",
     "text": [
      "                                                 Smiles           ID       id  \\\n",
      "6130  *N1C(=O)C2C3C4C(C(C2C1=O)C=C3)C(=O)N(C4=O)c1cc...  P433282.mol  P433282   \n",
      "6131  *N1C(=O)C2C3C4C(C(C2C1=O)C=C3)C(=O)N(C4=O)c1cc...  P433283.mol  P433283   \n",
      "6132  *N1C(=O)c2c(C1=O)cc(cc2)Oc1cc2c(C(=O)N(C2=O)c2...  P433284.mol  P433284   \n",
      "6133  *N1C(=O)c2c(C1=O)cc(cc2)Oc1cc2c(C(=O)N(C2=O)c2...  P433285.mol  P433285   \n",
      "6134  *N1C(=O)c2c(C1=O)cc(cc2)Oc1cc2c(C(=O)N(C2=O)c2...  P433286.mol  P433286   \n",
      "6135  *N1C(=O)c2c(C1=O)cc(cc2)Oc1cc2c(C(=O)N(C2=O)c2...  P433287.mol  P433287   \n",
      "6136  *N1C(=O)c2c(C1=O)cc(cc2)Oc1cc2c(C(=O)N(C2=O)c2...  P433292.mol  P433292   \n",
      "6137  *c1cc2c(C(=O)N(C2=O)c2ccc(cc2)Oc2ccc(cc2)C(=O)...  P433293.mol  P433293   \n",
      "6138  *c1cc2c(C(=O)N(C2=O)c2ccc(cc2)Oc2ccc(cc2)C(=O)...  P433294.mol  P433294   \n",
      "6139  *N1C(=O)C(CC1=O)(SCCOCCSC1(C(=O)N(C(=O)C1)CCCC...  P433302.mol  P433302   \n",
      "\n",
      "                                                 SMILES     Tg  \n",
      "6130  CCc1ccc(N2C(=O)c3cc(Sc4ccccc4)c(Sc4ccc(N5C(=O)...  320.0  \n",
      "6131  CN(C)CCN1C(=O)c2cc(Sc3ccccc3)c(Sc3ccc(N4C(=O)C...  310.0  \n",
      "6132  CCCCCCCCCCCCCCCCN1C(=O)c2cc(Sc3ccccc3)c(Sc3ccc...  156.0  \n",
      "6133  O=C1NC(=O)c2cc(Oc3ccc4c(c3)C(=O)N(c3ccc(Sc5cc6...  218.0  \n",
      "6134  CCc1ccc(N2C(=O)c3cc(Sc4ccccc4)c(Sc4ccc(N5C(=O)...  271.0  \n",
      "6135  CN(CCOc1cc(COc2ccc(C(c3ccc(OCc4cc(OCCN(C)c5ccc...  178.0  \n",
      "6136  O=C(c1ccc(Oc2ccccc2)cc1)c1cccc(C(=O)c2ccc(Oc3c...  208.6  \n",
      "6137  O=Cc1ccc2c(c1)C(=O)N(c1ccc(Oc3ccc(C(=O)c4cccc(...  314.5  \n",
      "6138  O=C(c1ccc(Oc2ccc(N3C(=O)c4ccccc4C3=O)cc2)cc1)c...  226.9  \n",
      "6139  CCCCCCN1C(=O)C(C)C(SCCOCCSC2C(=O)N(CCCCCCN3C(=...   78.0  \n"
     ]
    },
    {
     "data": {
      "image/png": "[encoded data removed]",
      "text/plain": [
       "<Figure size 1440x7200 with 10 Axes>"
      ]
     },
     "metadata": {
      "needs_background": "light"
     },
     "output_type": "display_data"
    }
   ],
   "source": [
    "print(Dataset1_Smiles_Tg.iloc[6130:6140])\n",
    "encoded_generate_images(Dataset1_Smiles_Tg.iloc[6130:6140])"
   ]
  },
  {
   "cell_type": "code",
   "execution_count": 58,
   "metadata": {
    "scrolled": true
   },
   "outputs": [
    {
     "name": "stdout",
     "output_type": "stream",
     "text": [
      "Epoch 1/75\n",
      "312/312 [==============================] - ETA: 0s - loss: 173.017 - ETA: 1s - loss: 115.731 - ETA: 0s - loss: 103.218 - ETA: 0s - loss: 96.428 - ETA: 0s - loss: 91.82 - ETA: 0s - loss: 87.38 - ETA: 0s - loss: 84.32 - ETA: 0s - loss: 82.50 - ETA: 0s - loss: 79.97 - ETA: 0s - loss: 77.92 - ETA: 0s - loss: 76.52 - ETA: 0s - loss: 74.83 - ETA: 0s - loss: 73.53 - ETA: 0s - loss: 72.39 - ETA: 0s - loss: 71.60 - ETA: 0s - loss: 70.63 - ETA: 0s - loss: 69.78 - ETA: 0s - loss: 69.11 - ETA: 0s - loss: 68.27 - ETA: 0s - loss: 68.14 - 1s 4ms/step - loss: 68.1446 - val_loss: 57.1607\n",
      "Epoch 2/75\n",
      "312/312 [==============================] - ETA: 0s - loss: 51.40 - ETA: 0s - loss: 52.88 - ETA: 0s - loss: 54.78 - ETA: 0s - loss: 55.17 - ETA: 0s - loss: 54.84 - ETA: 0s - loss: 55.21 - ETA: 0s - loss: 54.18 - ETA: 0s - loss: 53.38 - ETA: 0s - loss: 53.34 - ETA: 0s - loss: 53.07 - ETA: 0s - loss: 52.79 - ETA: 0s - loss: 52.63 - ETA: 0s - loss: 52.18 - ETA: 0s - loss: 52.28 - ETA: 0s - loss: 52.09 - ETA: 0s - loss: 51.96 - 1s 3ms/step - loss: 51.8436 - val_loss: 49.4244\n",
      "Epoch 3/75\n",
      "312/312 [==============================] - ETA: 0s - loss: 33.08 - ETA: 0s - loss: 44.96 - ETA: 0s - loss: 46.41 - ETA: 0s - loss: 48.87 - ETA: 0s - loss: 48.77 - ETA: 0s - loss: 48.47 - ETA: 0s - loss: 48.02 - ETA: 0s - loss: 48.41 - ETA: 0s - loss: 48.53 - ETA: 0s - loss: 48.46 - ETA: 0s - loss: 48.15 - ETA: 0s - loss: 48.01 - ETA: 0s - loss: 47.90 - ETA: 0s - loss: 47.69 - ETA: 0s - loss: 47.31 - 1s 3ms/step - loss: 47.1910 - val_loss: 45.2631\n",
      "Epoch 4/75\n",
      "312/312 [==============================] - ETA: 0s - loss: 26.79 - ETA: 0s - loss: 46.52 - ETA: 0s - loss: 44.20 - ETA: 0s - loss: 44.22 - ETA: 0s - loss: 44.35 - ETA: 0s - loss: 44.22 - ETA: 0s - loss: 44.85 - ETA: 0s - loss: 44.64 - ETA: 0s - loss: 44.46 - ETA: 0s - loss: 44.15 - ETA: 0s - loss: 44.14 - ETA: 0s - loss: 44.44 - ETA: 0s - loss: 44.23 - ETA: 0s - loss: 44.15 - ETA: 0s - loss: 44.26 - 1s 3ms/step - loss: 44.2557 - val_loss: 42.7382\n",
      "Epoch 5/75\n",
      "312/312 [==============================] - ETA: 0s - loss: 87.79 - ETA: 0s - loss: 44.19 - ETA: 0s - loss: 41.95 - ETA: 0s - loss: 42.59 - ETA: 0s - loss: 43.01 - ETA: 0s - loss: 42.52 - ETA: 0s - loss: 42.58 - ETA: 0s - loss: 42.42 - ETA: 0s - loss: 42.30 - ETA: 0s - loss: 42.43 - ETA: 0s - loss: 42.34 - ETA: 0s - loss: 42.40 - ETA: 0s - loss: 42.37 - ETA: 0s - loss: 42.28 - ETA: 0s - loss: 42.38 - 1s 3ms/step - loss: 42.3221 - val_loss: 41.7492\n",
      "Epoch 6/75\n",
      "312/312 [==============================] - ETA: 0s - loss: 31.01 - ETA: 0s - loss: 40.02 - ETA: 0s - loss: 40.11 - ETA: 0s - loss: 41.53 - ETA: 0s - loss: 41.10 - ETA: 0s - loss: 40.25 - ETA: 0s - loss: 40.02 - ETA: 0s - loss: 40.25 - ETA: 0s - loss: 40.67 - ETA: 0s - loss: 40.89 - ETA: 0s - loss: 41.15 - ETA: 0s - loss: 41.08 - ETA: 0s - loss: 41.19 - ETA: 0s - loss: 40.90 - ETA: 0s - loss: 41.02 - ETA: 0s - loss: 41.24 - 1s 3ms/step - loss: 41.2799 - val_loss: 41.8810\n",
      "Epoch 7/75\n",
      "312/312 [==============================] - ETA: 0s - loss: 38.87 - ETA: 0s - loss: 39.60 - ETA: 0s - loss: 39.79 - ETA: 0s - loss: 40.43 - ETA: 0s - loss: 40.86 - ETA: 0s - loss: 40.99 - ETA: 0s - loss: 41.15 - ETA: 0s - loss: 41.37 - ETA: 0s - loss: 40.75 - ETA: 0s - loss: 40.73 - ETA: 0s - loss: 40.38 - ETA: 0s - loss: 40.37 - ETA: 0s - loss: 40.59 - ETA: 0s - loss: 40.55 - ETA: 0s - loss: 40.36 - ETA: 0s - loss: 40.22 - 1s 3ms/step - loss: 40.1978 - val_loss: 39.8369\n",
      "Epoch 8/75\n",
      "312/312 [==============================] - ETA: 0s - loss: 35.37 - ETA: 0s - loss: 38.25 - ETA: 0s - loss: 38.70 - ETA: 0s - loss: 39.00 - ETA: 0s - loss: 39.28 - ETA: 0s - loss: 39.53 - ETA: 0s - loss: 39.22 - ETA: 0s - loss: 39.41 - ETA: 0s - loss: 38.94 - ETA: 0s - loss: 38.83 - ETA: 0s - loss: 39.19 - ETA: 0s - loss: 39.38 - ETA: 0s - loss: 39.39 - ETA: 0s - loss: 39.36 - ETA: 0s - loss: 39.18 - 1s 3ms/step - loss: 38.9140 - val_loss: 42.2851\n",
      "Epoch 9/75\n",
      "312/312 [==============================] - ETA: 0s - loss: 37.70 - ETA: 0s - loss: 39.45 - ETA: 0s - loss: 39.38 - ETA: 0s - loss: 39.71 - ETA: 0s - loss: 39.42 - ETA: 0s - loss: 38.86 - ETA: 0s - loss: 38.64 - ETA: 0s - loss: 38.34 - ETA: 0s - loss: 38.38 - ETA: 0s - loss: 38.24 - ETA: 0s - loss: 38.52 - ETA: 0s - loss: 38.31 - ETA: 0s - loss: 38.40 - ETA: 0s - loss: 38.60 - ETA: 0s - loss: 38.64 - 1s 3ms/step - loss: 38.7245 - val_loss: 38.3287\n",
      "Epoch 10/75\n",
      "312/312 [==============================] - ETA: 0s - loss: 41.98 - ETA: 0s - loss: 39.45 - ETA: 0s - loss: 37.60 - ETA: 0s - loss: 36.62 - ETA: 0s - loss: 36.59 - ETA: 0s - loss: 36.86 - ETA: 0s - loss: 36.97 - ETA: 0s - loss: 37.01 - ETA: 0s - loss: 37.46 - ETA: 0s - loss: 37.51 - ETA: 0s - loss: 37.30 - ETA: 0s - loss: 37.29 - ETA: 0s - loss: 37.50 - ETA: 0s - loss: 37.85 - ETA: 0s - loss: 37.84 - 1s 3ms/step - loss: 37.8493 - val_loss: 38.1543\n",
      "Epoch 11/75\n",
      "312/312 [==============================] - ETA: 0s - loss: 52.24 - ETA: 0s - loss: 39.00 - ETA: 0s - loss: 40.36 - ETA: 0s - loss: 40.01 - ETA: 0s - loss: 40.58 - ETA: 0s - loss: 40.25 - ETA: 0s - loss: 39.63 - ETA: 0s - loss: 38.79 - ETA: 0s - loss: 38.68 - ETA: 0s - loss: 38.00 - ETA: 0s - loss: 37.96 - ETA: 0s - loss: 37.79 - ETA: 0s - loss: 37.89 - ETA: 0s - loss: 37.68 - ETA: 0s - loss: 37.54 - 1s 3ms/step - loss: 37.4182 - val_loss: 39.6908\n",
      "Epoch 12/75\n",
      "312/312 [==============================] - ETA: 0s - loss: 30.17 - ETA: 0s - loss: 36.88 - ETA: 0s - loss: 37.21 - ETA: 0s - loss: 37.76 - ETA: 0s - loss: 38.07 - ETA: 0s - loss: 38.00 - ETA: 0s - loss: 37.67 - ETA: 0s - loss: 36.94 - ETA: 0s - loss: 37.08 - ETA: 0s - loss: 37.14 - ETA: 0s - loss: 37.05 - ETA: 0s - loss: 36.87 - ETA: 0s - loss: 36.69 - ETA: 0s - loss: 36.74 - ETA: 0s - loss: 36.67 - 1s 3ms/step - loss: 36.6372 - val_loss: 40.9143\n",
      "Epoch 13/75\n",
      "312/312 [==============================] - ETA: 0s - loss: 43.88 - ETA: 0s - loss: 34.57 - ETA: 0s - loss: 35.22 - ETA: 0s - loss: 35.59 - ETA: 0s - loss: 35.86 - ETA: 0s - loss: 36.85 - ETA: 0s - loss: 36.63 - ETA: 0s - loss: 36.15 - ETA: 0s - loss: 36.46 - ETA: 0s - loss: 36.46 - ETA: 0s - loss: 36.08 - ETA: 0s - loss: 36.46 - ETA: 0s - loss: 36.22 - ETA: 0s - loss: 36.18 - ETA: 0s - loss: 36.07 - ETA: 0s - loss: 36.00 - 1s 3ms/step - loss: 36.0088 - val_loss: 38.0831\n",
      "Epoch 14/75\n",
      "312/312 [==============================] - ETA: 0s - loss: 30.00 - ETA: 0s - loss: 37.78 - ETA: 0s - loss: 35.36 - ETA: 0s - loss: 36.20 - ETA: 0s - loss: 35.84 - ETA: 0s - loss: 35.69 - ETA: 0s - loss: 35.37 - ETA: 0s - loss: 35.37 - ETA: 0s - loss: 35.64 - ETA: 0s - loss: 35.48 - ETA: 0s - loss: 35.59 - ETA: 0s - loss: 35.53 - ETA: 0s - loss: 35.44 - ETA: 0s - loss: 35.27 - ETA: 0s - loss: 35.18 - ETA: 0s - loss: 35.46 - 1s 3ms/step - loss: 35.4669 - val_loss: 35.6960\n",
      "Epoch 15/75\n",
      "312/312 [==============================] - ETA: 0s - loss: 31.03 - ETA: 0s - loss: 31.28 - ETA: 0s - loss: 33.95 - ETA: 0s - loss: 34.67 - ETA: 0s - loss: 34.91 - ETA: 0s - loss: 34.69 - ETA: 0s - loss: 34.95 - ETA: 0s - loss: 35.17 - ETA: 0s - loss: 35.36 - ETA: 0s - loss: 35.15 - ETA: 0s - loss: 35.16 - ETA: 0s - loss: 34.96 - ETA: 0s - loss: 35.02 - ETA: 0s - loss: 35.18 - ETA: 0s - loss: 35.36 - ETA: 0s - loss: 35.15 - 1s 3ms/step - loss: 35.2101 - val_loss: 36.0681\n",
      "Epoch 16/75\n",
      "312/312 [==============================] - ETA: 0s - loss: 48.77 - ETA: 0s - loss: 38.06 - ETA: 0s - loss: 34.79 - ETA: 0s - loss: 34.76 - ETA: 0s - loss: 35.34 - ETA: 0s - loss: 35.28 - ETA: 0s - loss: 35.34 - ETA: 0s - loss: 35.04 - ETA: 0s - loss: 35.18 - ETA: 0s - loss: 35.23 - ETA: 0s - loss: 35.07 - ETA: 0s - loss: 35.02 - ETA: 0s - loss: 35.00 - ETA: 0s - loss: 35.02 - ETA: 0s - loss: 35.05 - ETA: 0s - loss: 34.92 - 1s 3ms/step - loss: 34.8378 - val_loss: 35.2982\n",
      "Epoch 17/75\n",
      "312/312 [==============================] - ETA: 0s - loss: 30.61 - ETA: 0s - loss: 33.28 - ETA: 0s - loss: 34.31 - ETA: 0s - loss: 34.57 - ETA: 0s - loss: 33.96 - ETA: 0s - loss: 34.72 - ETA: 0s - loss: 34.18 - ETA: 0s - loss: 34.19 - ETA: 0s - loss: 34.28 - ETA: 0s - loss: 34.02 - ETA: 0s - loss: 34.18 - ETA: 0s - loss: 34.50 - ETA: 0s - loss: 34.47 - ETA: 0s - loss: 34.64 - ETA: 0s - loss: 34.82 - 1s 3ms/step - loss: 34.8291 - val_loss: 38.7514\n",
      "Epoch 18/75\n",
      "312/312 [==============================] - ETA: 0s - loss: 25.65 - ETA: 0s - loss: 30.89 - ETA: 0s - loss: 32.21 - ETA: 0s - loss: 31.75 - ETA: 0s - loss: 32.28 - ETA: 0s - loss: 32.89 - ETA: 0s - loss: 33.88 - ETA: 0s - loss: 34.05 - ETA: 0s - loss: 34.06 - ETA: 0s - loss: 34.39 - ETA: 0s - loss: 34.41 - ETA: 0s - loss: 34.54 - ETA: 0s - loss: 34.57 - ETA: 0s - loss: 34.84 - 1s 3ms/step - loss: 34.6729 - val_loss: 35.3048\n",
      "Epoch 19/75\n",
      "312/312 [==============================] - ETA: 0s - loss: 30.55 - ETA: 0s - loss: 33.66 - ETA: 0s - loss: 33.87 - ETA: 0s - loss: 33.96 - ETA: 0s - loss: 33.56 - ETA: 0s - loss: 34.20 - ETA: 0s - loss: 33.81 - ETA: 0s - loss: 34.22 - ETA: 0s - loss: 34.29 - ETA: 0s - loss: 34.23 - ETA: 0s - loss: 34.34 - ETA: 0s - loss: 34.32 - ETA: 0s - loss: 34.25 - ETA: 0s - loss: 34.32 - 1s 3ms/step - loss: 34.4052 - val_loss: 35.3791\n",
      "Epoch 20/75\n",
      "312/312 [==============================] - ETA: 0s - loss: 25.72 - ETA: 0s - loss: 29.85 - ETA: 0s - loss: 31.38 - ETA: 0s - loss: 33.23 - ETA: 0s - loss: 33.92 - ETA: 0s - loss: 33.52 - ETA: 0s - loss: 33.34 - ETA: 0s - loss: 33.80 - ETA: 0s - loss: 33.86 - ETA: 0s - loss: 33.72 - ETA: 0s - loss: 33.74 - ETA: 0s - loss: 33.85 - ETA: 0s - loss: 33.78 - ETA: 0s - loss: 33.65 - 1s 3ms/step - loss: 33.6393 - val_loss: 35.2264\n",
      "Epoch 21/75\n",
      "312/312 [==============================] - ETA: 0s - loss: 27.19 - ETA: 0s - loss: 32.12 - ETA: 0s - loss: 33.06 - ETA: 0s - loss: 33.03 - ETA: 0s - loss: 33.34 - ETA: 0s - loss: 33.45 - ETA: 0s - loss: 33.39 - ETA: 0s - loss: 33.83 - ETA: 0s - loss: 33.94 - ETA: 0s - loss: 33.92 - ETA: 0s - loss: 34.04 - ETA: 0s - loss: 33.81 - ETA: 0s - loss: 33.74 - ETA: 0s - loss: 33.73 - 1s 2ms/step - loss: 33.7304 - val_loss: 36.3741\n",
      "Epoch 22/75\n",
      "312/312 [==============================] - ETA: 0s - loss: 27.42 - ETA: 0s - loss: 29.85 - ETA: 0s - loss: 30.65 - ETA: 0s - loss: 31.94 - ETA: 0s - loss: 33.11 - ETA: 0s - loss: 32.72 - ETA: 0s - loss: 33.42 - ETA: 0s - loss: 33.53 - ETA: 0s - loss: 33.43 - ETA: 0s - loss: 33.42 - ETA: 0s - loss: 33.27 - ETA: 0s - loss: 33.07 - ETA: 0s - loss: 33.23 - ETA: 0s - loss: 33.31 - 1s 2ms/step - loss: 33.3473 - val_loss: 33.8325\n",
      "Epoch 23/75\n",
      "312/312 [==============================] - ETA: 0s - loss: 35.83 - ETA: 0s - loss: 32.66 - ETA: 0s - loss: 31.59 - ETA: 0s - loss: 32.42 - ETA: 0s - loss: 32.51 - ETA: 0s - loss: 32.86 - ETA: 0s - loss: 32.86 - ETA: 0s - loss: 32.96 - ETA: 0s - loss: 32.95 - ETA: 0s - loss: 32.88 - ETA: 0s - loss: 32.96 - ETA: 0s - loss: 32.86 - ETA: 0s - loss: 32.99 - ETA: 0s - loss: 33.03 - 1s 3ms/step - loss: 33.0634 - val_loss: 33.8695\n",
      "Epoch 24/75\n",
      "312/312 [==============================] - ETA: 0s - loss: 30.28 - ETA: 0s - loss: 33.26 - ETA: 0s - loss: 32.19 - ETA: 0s - loss: 31.68 - ETA: 0s - loss: 31.45 - ETA: 0s - loss: 31.90 - ETA: 0s - loss: 31.82 - ETA: 0s - loss: 32.13 - ETA: 0s - loss: 32.10 - ETA: 0s - loss: 32.46 - ETA: 0s - loss: 32.52 - ETA: 0s - loss: 32.75 - ETA: 0s - loss: 32.67 - ETA: 0s - loss: 32.80 - 1s 2ms/step - loss: 32.8218 - val_loss: 34.2946\n",
      "Epoch 25/75\n",
      "312/312 [==============================] - ETA: 0s - loss: 32.47 - ETA: 0s - loss: 30.23 - ETA: 0s - loss: 30.61 - ETA: 0s - loss: 32.44 - ETA: 0s - loss: 32.55 - ETA: 0s - loss: 32.47 - ETA: 0s - loss: 32.56 - ETA: 0s - loss: 32.16 - ETA: 0s - loss: 32.10 - ETA: 0s - loss: 32.20 - ETA: 0s - loss: 32.13 - ETA: 0s - loss: 32.25 - ETA: 0s - loss: 32.29 - ETA: 0s - loss: 32.14 - 1s 2ms/step - loss: 32.2029 - val_loss: 33.5652\n",
      "Epoch 26/75\n",
      "312/312 [==============================] - ETA: 0s - loss: 31.78 - ETA: 0s - loss: 32.17 - ETA: 0s - loss: 32.09 - ETA: 0s - loss: 32.53 - ETA: 0s - loss: 32.62 - ETA: 0s - loss: 32.64 - ETA: 0s - loss: 32.08 - ETA: 0s - loss: 31.92 - ETA: 0s - loss: 31.91 - ETA: 0s - loss: 31.83 - ETA: 0s - loss: 32.01 - ETA: 0s - loss: 32.08 - ETA: 0s - loss: 32.06 - ETA: 0s - loss: 32.01 - 1s 3ms/step - loss: 32.0336 - val_loss: 34.5884\n",
      "Epoch 27/75\n",
      "312/312 [==============================] - ETA: 0s - loss: 25.55 - ETA: 0s - loss: 32.22 - ETA: 0s - loss: 31.28 - ETA: 0s - loss: 30.88 - ETA: 0s - loss: 31.68 - ETA: 0s - loss: 31.64 - ETA: 0s - loss: 32.11 - ETA: 0s - loss: 32.42 - ETA: 0s - loss: 32.10 - ETA: 0s - loss: 31.75 - ETA: 0s - loss: 31.79 - ETA: 0s - loss: 31.97 - ETA: 0s - loss: 31.72 - ETA: 0s - loss: 31.72 - ETA: 0s - loss: 31.67 - 1s 3ms/step - loss: 31.6710 - val_loss: 33.5814\n",
      "Epoch 28/75\n",
      "312/312 [==============================] - ETA: 0s - loss: 32.10 - ETA: 0s - loss: 30.99 - ETA: 0s - loss: 30.95 - ETA: 0s - loss: 30.72 - ETA: 0s - loss: 30.42 - ETA: 0s - loss: 31.21 - ETA: 0s - loss: 31.53 - ETA: 0s - loss: 31.55 - ETA: 0s - loss: 31.75 - ETA: 0s - loss: 31.77 - ETA: 0s - loss: 31.71 - ETA: 0s - loss: 31.82 - ETA: 0s - loss: 31.92 - ETA: 0s - loss: 31.94 - ETA: 0s - loss: 31.89 - 1s 3ms/step - loss: 31.8914 - val_loss: 34.6126\n",
      "Epoch 29/75\n",
      "312/312 [==============================] - ETA: 0s - loss: 39.29 - ETA: 0s - loss: 31.81 - ETA: 0s - loss: 30.34 - ETA: 0s - loss: 30.67 - ETA: 0s - loss: 31.07 - ETA: 0s - loss: 31.11 - ETA: 0s - loss: 30.95 - ETA: 0s - loss: 31.01 - ETA: 0s - loss: 31.04 - ETA: 0s - loss: 31.00 - ETA: 0s - loss: 31.02 - ETA: 0s - loss: 31.00 - ETA: 0s - loss: 31.02 - ETA: 0s - loss: 31.16 - 1s 3ms/step - loss: 31.1831 - val_loss: 34.5644\n",
      "Epoch 30/75\n",
      "312/312 [==============================] - ETA: 0s - loss: 22.24 - ETA: 0s - loss: 28.43 - ETA: 0s - loss: 28.97 - ETA: 0s - loss: 29.99 - ETA: 0s - loss: 29.99 - ETA: 0s - loss: 30.12 - ETA: 0s - loss: 30.64 - ETA: 0s - loss: 30.45 - ETA: 0s - loss: 30.74 - ETA: 0s - loss: 30.73 - ETA: 0s - loss: 31.18 - ETA: 0s - loss: 31.84 - ETA: 0s - loss: 32.21 - ETA: 0s - loss: 32.33 - 1s 2ms/step - loss: 32.2626 - val_loss: 33.2326\n",
      "Epoch 31/75\n",
      "312/312 [==============================] - ETA: 0s - loss: 36.70 - ETA: 0s - loss: 30.71 - ETA: 0s - loss: 31.35 - ETA: 0s - loss: 30.82 - ETA: 0s - loss: 31.46 - ETA: 0s - loss: 30.99 - ETA: 0s - loss: 31.38 - ETA: 0s - loss: 31.41 - ETA: 0s - loss: 31.34 - ETA: 0s - loss: 31.33 - ETA: 0s - loss: 31.52 - ETA: 0s - loss: 31.38 - ETA: 0s - loss: 31.33 - ETA: 0s - loss: 31.42 - 1s 2ms/step - loss: 31.4730 - val_loss: 33.2135\n",
      "Epoch 32/75\n",
      "312/312 [==============================] - ETA: 0s - loss: 27.13 - ETA: 0s - loss: 30.78 - ETA: 0s - loss: 29.02 - ETA: 0s - loss: 29.50 - ETA: 0s - loss: 29.89 - ETA: 0s - loss: 29.90 - ETA: 0s - loss: 29.58 - ETA: 0s - loss: 29.57 - ETA: 0s - loss: 29.63 - ETA: 0s - loss: 29.73 - ETA: 0s - loss: 30.22 - ETA: 0s - loss: 30.49 - ETA: 0s - loss: 30.39 - ETA: 0s - loss: 30.40 - 1s 2ms/step - loss: 30.4503 - val_loss: 33.8694\n",
      "Epoch 33/75\n",
      "312/312 [==============================] - ETA: 0s - loss: 41.14 - ETA: 0s - loss: 31.68 - ETA: 0s - loss: 32.01 - ETA: 0s - loss: 31.91 - ETA: 0s - loss: 31.64 - ETA: 0s - loss: 31.40 - ETA: 0s - loss: 31.18 - ETA: 0s - loss: 31.08 - ETA: 0s - loss: 30.98 - ETA: 0s - loss: 31.05 - ETA: 0s - loss: 31.08 - ETA: 0s - loss: 30.94 - ETA: 0s - loss: 30.89 - ETA: 0s - loss: 30.67 - 1s 3ms/step - loss: 30.6992 - val_loss: 32.5681\n",
      "Epoch 34/75\n",
      "312/312 [==============================] - ETA: 0s - loss: 33.34 - ETA: 0s - loss: 28.95 - ETA: 0s - loss: 29.16 - ETA: 0s - loss: 29.15 - ETA: 0s - loss: 29.57 - ETA: 0s - loss: 30.52 - ETA: 0s - loss: 30.36 - ETA: 0s - loss: 30.47 - ETA: 0s - loss: 30.42 - ETA: 0s - loss: 30.44 - ETA: 0s - loss: 30.73 - ETA: 0s - loss: 30.50 - ETA: 0s - loss: 30.53 - ETA: 0s - loss: 30.43 - 1s 3ms/step - loss: 30.4525 - val_loss: 32.2621\n",
      "Epoch 35/75\n",
      "312/312 [==============================] - ETA: 0s - loss: 24.33 - ETA: 0s - loss: 29.71 - ETA: 0s - loss: 30.12 - ETA: 0s - loss: 30.28 - ETA: 0s - loss: 30.03 - ETA: 0s - loss: 30.21 - ETA: 0s - loss: 30.14 - ETA: 0s - loss: 30.38 - ETA: 0s - loss: 30.36 - ETA: 0s - loss: 30.55 - ETA: 0s - loss: 30.61 - ETA: 0s - loss: 30.58 - ETA: 0s - loss: 30.49 - 1s 2ms/step - loss: 30.5315 - val_loss: 32.3076\n",
      "Epoch 36/75\n"
     ]
    },
    {
     "name": "stdout",
     "output_type": "stream",
     "text": [
      "312/312 [==============================] - ETA: 0s - loss: 40.75 - ETA: 0s - loss: 33.05 - ETA: 0s - loss: 30.91 - ETA: 0s - loss: 30.09 - ETA: 0s - loss: 29.87 - ETA: 0s - loss: 30.35 - ETA: 0s - loss: 30.26 - ETA: 0s - loss: 30.38 - ETA: 0s - loss: 30.44 - ETA: 0s - loss: 30.68 - ETA: 0s - loss: 30.55 - ETA: 0s - loss: 30.79 - 1s 2ms/step - loss: 30.7701 - val_loss: 33.1416\n",
      "Epoch 37/75\n",
      "312/312 [==============================] - ETA: 0s - loss: 32.57 - ETA: 0s - loss: 31.99 - ETA: 0s - loss: 30.68 - ETA: 0s - loss: 29.62 - ETA: 0s - loss: 29.55 - ETA: 0s - loss: 29.61 - ETA: 0s - loss: 29.78 - ETA: 0s - loss: 29.99 - ETA: 0s - loss: 29.58 - ETA: 0s - loss: 29.54 - ETA: 0s - loss: 29.62 - ETA: 0s - loss: 29.70 - 1s 2ms/step - loss: 29.9507 - val_loss: 32.6060\n",
      "Epoch 38/75\n",
      "312/312 [==============================] - ETA: 0s - loss: 26.86 - ETA: 0s - loss: 29.26 - ETA: 0s - loss: 30.24 - ETA: 0s - loss: 30.33 - ETA: 0s - loss: 30.20 - ETA: 0s - loss: 29.87 - ETA: 0s - loss: 29.45 - ETA: 0s - loss: 29.37 - ETA: 0s - loss: 29.60 - ETA: 0s - loss: 29.51 - ETA: 0s - loss: 29.50 - ETA: 0s - loss: 29.67 - ETA: 0s - loss: 29.67 - 1s 2ms/step - loss: 29.7728 - val_loss: 32.5118\n",
      "Epoch 39/75\n",
      "312/312 [==============================] - ETA: 0s - loss: 51.05 - ETA: 0s - loss: 30.19 - ETA: 0s - loss: 30.72 - ETA: 0s - loss: 30.59 - ETA: 0s - loss: 30.26 - ETA: 0s - loss: 30.08 - ETA: 0s - loss: 30.46 - ETA: 0s - loss: 30.13 - ETA: 0s - loss: 30.36 - ETA: 0s - loss: 30.43 - ETA: 0s - loss: 30.46 - ETA: 0s - loss: 30.22 - ETA: 0s - loss: 30.34 - 1s 2ms/step - loss: 30.3453 - val_loss: 32.8059\n",
      "Epoch 40/75\n",
      "312/312 [==============================] - ETA: 0s - loss: 24.12 - ETA: 0s - loss: 30.30 - ETA: 0s - loss: 31.45 - ETA: 0s - loss: 30.80 - ETA: 0s - loss: 30.58 - ETA: 0s - loss: 30.19 - ETA: 0s - loss: 29.64 - ETA: 0s - loss: 29.25 - ETA: 0s - loss: 29.54 - ETA: 0s - loss: 29.79 - ETA: 0s - loss: 29.78 - 1s 2ms/step - loss: 29.9927 - val_loss: 32.6443\n",
      "Epoch 41/75\n",
      "312/312 [==============================] - ETA: 0s - loss: 21.13 - ETA: 0s - loss: 28.08 - ETA: 0s - loss: 29.39 - ETA: 0s - loss: 29.75 - ETA: 0s - loss: 29.18 - ETA: 0s - loss: 28.97 - ETA: 0s - loss: 29.22 - ETA: 0s - loss: 29.54 - ETA: 0s - loss: 29.46 - ETA: 0s - loss: 29.44 - ETA: 0s - loss: 29.50 - 1s 2ms/step - loss: 29.4130 - val_loss: 32.9425\n",
      "Epoch 42/75\n",
      "312/312 [==============================] - ETA: 0s - loss: 31.41 - ETA: 0s - loss: 27.70 - ETA: 0s - loss: 29.06 - ETA: 0s - loss: 29.47 - ETA: 0s - loss: 29.41 - ETA: 0s - loss: 29.64 - ETA: 0s - loss: 29.67 - ETA: 0s - loss: 29.36 - ETA: 0s - loss: 29.33 - ETA: 0s - loss: 29.38 - ETA: 0s - loss: 29.30 - 1s 2ms/step - loss: 29.3168 - val_loss: 32.5261\n",
      "Epoch 43/75\n",
      "312/312 [==============================] - ETA: 0s - loss: 22.85 - ETA: 0s - loss: 28.20 - ETA: 0s - loss: 28.95 - ETA: 0s - loss: 28.89 - ETA: 0s - loss: 28.89 - ETA: 0s - loss: 29.20 - ETA: 0s - loss: 29.30 - ETA: 0s - loss: 29.51 - ETA: 0s - loss: 29.25 - ETA: 0s - loss: 29.73 - ETA: 0s - loss: 29.81 - 1s 2ms/step - loss: 29.8025 - val_loss: 33.3793\n",
      "Epoch 44/75\n",
      "312/312 [==============================] - ETA: 0s - loss: 24.11 - ETA: 0s - loss: 30.73 - ETA: 0s - loss: 32.52 - ETA: 0s - loss: 31.24 - ETA: 0s - loss: 30.64 - ETA: 0s - loss: 30.32 - ETA: 0s - loss: 30.12 - ETA: 0s - loss: 30.03 - ETA: 0s - loss: 30.21 - ETA: 0s - loss: 30.07 - ETA: 0s - loss: 29.87 - 1s 2ms/step - loss: 29.8778 - val_loss: 32.2549\n",
      "Epoch 45/75\n",
      "312/312 [==============================] - ETA: 0s - loss: 28.05 - ETA: 0s - loss: 28.82 - ETA: 0s - loss: 28.25 - ETA: 0s - loss: 28.82 - ETA: 0s - loss: 28.48 - ETA: 0s - loss: 28.72 - ETA: 0s - loss: 29.29 - ETA: 0s - loss: 29.34 - ETA: 0s - loss: 29.73 - ETA: 0s - loss: 29.60 - ETA: 0s - loss: 29.44 - 1s 2ms/step - loss: 29.3278 - val_loss: 32.4858\n",
      "Epoch 46/75\n",
      "312/312 [==============================] - ETA: 0s - loss: 22.38 - ETA: 0s - loss: 28.42 - ETA: 0s - loss: 28.49 - ETA: 0s - loss: 28.41 - ETA: 0s - loss: 29.10 - ETA: 0s - loss: 29.05 - ETA: 0s - loss: 29.01 - ETA: 0s - loss: 29.39 - ETA: 0s - loss: 29.43 - ETA: 0s - loss: 29.20 - ETA: 0s - loss: 29.28 - 1s 2ms/step - loss: 29.3154 - val_loss: 32.6336\n",
      "Epoch 47/75\n",
      "312/312 [==============================] - ETA: 0s - loss: 46.48 - ETA: 0s - loss: 31.87 - ETA: 0s - loss: 30.95 - ETA: 0s - loss: 29.92 - ETA: 0s - loss: 29.97 - ETA: 0s - loss: 29.66 - ETA: 0s - loss: 29.53 - ETA: 0s - loss: 29.70 - ETA: 0s - loss: 29.63 - ETA: 0s - loss: 29.55 - ETA: 0s - loss: 29.49 - 1s 2ms/step - loss: 29.5764 - val_loss: 33.0892\n",
      "Epoch 48/75\n",
      "312/312 [==============================] - ETA: 0s - loss: 22.57 - ETA: 0s - loss: 28.08 - ETA: 0s - loss: 28.96 - ETA: 0s - loss: 28.51 - ETA: 0s - loss: 28.72 - ETA: 0s - loss: 28.88 - ETA: 0s - loss: 28.75 - ETA: 0s - loss: 28.72 - ETA: 0s - loss: 28.68 - ETA: 0s - loss: 28.73 - ETA: 0s - loss: 29.02 - 1s 2ms/step - loss: 29.0493 - val_loss: 31.6132\n",
      "Epoch 49/75\n",
      "312/312 [==============================] - ETA: 0s - loss: 24.05 - ETA: 0s - loss: 28.37 - ETA: 0s - loss: 28.50 - ETA: 0s - loss: 28.83 - ETA: 0s - loss: 29.09 - ETA: 0s - loss: 29.06 - ETA: 0s - loss: 29.06 - ETA: 0s - loss: 29.15 - ETA: 0s - loss: 28.81 - ETA: 0s - loss: 28.73 - ETA: 0s - loss: 28.88 - ETA: 0s - loss: 28.93 - 1s 2ms/step - loss: 28.8708 - val_loss: 32.3589\n",
      "Epoch 50/75\n",
      "312/312 [==============================] - ETA: 0s - loss: 32.67 - ETA: 0s - loss: 30.32 - ETA: 0s - loss: 30.06 - ETA: 0s - loss: 29.04 - ETA: 0s - loss: 29.42 - ETA: 0s - loss: 29.32 - ETA: 0s - loss: 29.20 - ETA: 0s - loss: 29.10 - ETA: 0s - loss: 28.96 - ETA: 0s - loss: 28.94 - ETA: 0s - loss: 29.17 - 1s 2ms/step - loss: 29.1253 - val_loss: 32.9828\n",
      "Epoch 51/75\n",
      "312/312 [==============================] - ETA: 0s - loss: 37.30 - ETA: 0s - loss: 28.65 - ETA: 0s - loss: 29.63 - ETA: 0s - loss: 28.23 - ETA: 0s - loss: 28.58 - ETA: 0s - loss: 28.87 - ETA: 0s - loss: 29.07 - ETA: 0s - loss: 28.95 - ETA: 0s - loss: 28.92 - ETA: 0s - loss: 28.80 - ETA: 0s - loss: 28.67 - 1s 2ms/step - loss: 28.7891 - val_loss: 32.8334\n",
      "Epoch 52/75\n",
      "312/312 [==============================] - ETA: 0s - loss: 24.54 - ETA: 0s - loss: 26.50 - ETA: 0s - loss: 26.68 - ETA: 0s - loss: 27.63 - ETA: 0s - loss: 27.79 - ETA: 0s - loss: 28.00 - ETA: 0s - loss: 28.26 - ETA: 0s - loss: 28.62 - ETA: 0s - loss: 28.74 - ETA: 0s - loss: 28.59 - ETA: 0s - loss: 28.60 - 1s 2ms/step - loss: 28.8134 - val_loss: 32.6539\n",
      "Epoch 53/75\n",
      "312/312 [==============================] - ETA: 0s - loss: 34.01 - ETA: 0s - loss: 28.71 - ETA: 0s - loss: 30.29 - ETA: 0s - loss: 30.02 - ETA: 0s - loss: 29.79 - ETA: 0s - loss: 29.28 - ETA: 0s - loss: 29.30 - ETA: 0s - loss: 29.26 - ETA: 0s - loss: 29.18 - ETA: 0s - loss: 29.16 - ETA: 0s - loss: 29.30 - 1s 2ms/step - loss: 29.2829 - val_loss: 31.5071\n",
      "Epoch 54/75\n",
      "312/312 [==============================] - ETA: 0s - loss: 29.44 - ETA: 0s - loss: 29.38 - ETA: 0s - loss: 28.89 - ETA: 0s - loss: 28.19 - ETA: 0s - loss: 28.53 - ETA: 0s - loss: 28.42 - ETA: 0s - loss: 28.61 - ETA: 0s - loss: 28.49 - ETA: 0s - loss: 28.55 - ETA: 0s - loss: 28.71 - ETA: 0s - loss: 28.86 - 1s 2ms/step - loss: 28.8906 - val_loss: 32.6049\n",
      "Epoch 55/75\n",
      "312/312 [==============================] - ETA: 0s - loss: 16.95 - ETA: 0s - loss: 28.75 - ETA: 0s - loss: 28.36 - ETA: 0s - loss: 28.47 - ETA: 0s - loss: 28.37 - ETA: 0s - loss: 28.55 - ETA: 0s - loss: 28.63 - ETA: 0s - loss: 28.56 - ETA: 0s - loss: 28.38 - ETA: 0s - loss: 28.28 - ETA: 0s - loss: 28.23 - ETA: 0s - loss: 28.28 - 1s 2ms/step - loss: 28.2358 - val_loss: 33.0089\n",
      "Epoch 56/75\n",
      "312/312 [==============================] - ETA: 0s - loss: 38.58 - ETA: 0s - loss: 29.11 - ETA: 0s - loss: 28.65 - ETA: 0s - loss: 28.80 - ETA: 0s - loss: 29.56 - ETA: 0s - loss: 29.57 - ETA: 0s - loss: 29.40 - ETA: 0s - loss: 29.43 - ETA: 0s - loss: 29.29 - ETA: 0s - loss: 29.46 - ETA: 0s - loss: 29.09 - ETA: 0s - loss: 29.09 - ETA: 0s - loss: 29.03 - 1s 2ms/step - loss: 29.0492 - val_loss: 36.1471\n",
      "Epoch 57/75\n",
      "312/312 [==============================] - ETA: 0s - loss: 23.58 - ETA: 0s - loss: 29.17 - ETA: 0s - loss: 28.74 - ETA: 0s - loss: 28.18 - ETA: 0s - loss: 28.01 - ETA: 0s - loss: 27.71 - ETA: 0s - loss: 27.86 - ETA: 0s - loss: 27.95 - ETA: 0s - loss: 28.19 - ETA: 0s - loss: 28.26 - ETA: 0s - loss: 28.22 - ETA: 0s - loss: 28.28 - ETA: 0s - loss: 28.24 - 1s 2ms/step - loss: 28.2589 - val_loss: 32.6091\n",
      "Epoch 58/75\n",
      "312/312 [==============================] - ETA: 0s - loss: 38.91 - ETA: 0s - loss: 28.56 - ETA: 0s - loss: 27.47 - ETA: 0s - loss: 28.36 - ETA: 0s - loss: 28.78 - ETA: 0s - loss: 28.60 - ETA: 0s - loss: 28.72 - ETA: 0s - loss: 28.75 - ETA: 0s - loss: 28.58 - ETA: 0s - loss: 28.56 - ETA: 0s - loss: 28.71 - ETA: 0s - loss: 28.88 - ETA: 0s - loss: 28.86 - ETA: 0s - loss: 28.89 - 1s 3ms/step - loss: 28.8835 - val_loss: 31.4775\n",
      "Epoch 59/75\n",
      "312/312 [==============================] - ETA: 0s - loss: 36.18 - ETA: 0s - loss: 28.53 - ETA: 0s - loss: 29.34 - ETA: 0s - loss: 29.57 - ETA: 0s - loss: 29.63 - ETA: 0s - loss: 28.85 - ETA: 0s - loss: 28.51 - ETA: 0s - loss: 28.66 - ETA: 0s - loss: 28.69 - ETA: 0s - loss: 28.49 - ETA: 0s - loss: 28.48 - ETA: 0s - loss: 28.53 - ETA: 0s - loss: 28.50 - 1s 2ms/step - loss: 28.5399 - val_loss: 34.2959\n",
      "Epoch 60/75\n",
      "312/312 [==============================] - ETA: 0s - loss: 27.15 - ETA: 0s - loss: 31.42 - ETA: 0s - loss: 30.60 - ETA: 0s - loss: 30.43 - ETA: 0s - loss: 29.55 - ETA: 0s - loss: 29.23 - ETA: 0s - loss: 29.08 - ETA: 0s - loss: 28.81 - ETA: 0s - loss: 28.66 - ETA: 0s - loss: 28.48 - ETA: 0s - loss: 28.45 - ETA: 0s - loss: 28.63 - ETA: 0s - loss: 28.68 - ETA: 0s - loss: 28.68 - 1s 2ms/step - loss: 28.6884 - val_loss: 34.2953\n",
      "Epoch 61/75\n",
      "312/312 [==============================] - ETA: 0s - loss: 21.24 - ETA: 0s - loss: 28.38 - ETA: 0s - loss: 27.41 - ETA: 0s - loss: 27.40 - ETA: 0s - loss: 27.47 - ETA: 0s - loss: 27.84 - ETA: 0s - loss: 27.70 - ETA: 0s - loss: 27.80 - ETA: 0s - loss: 28.05 - ETA: 0s - loss: 28.28 - ETA: 0s - loss: 28.37 - ETA: 0s - loss: 28.36 - ETA: 0s - loss: 28.31 - ETA: 0s - loss: 28.20 - 1s 2ms/step - loss: 28.2492 - val_loss: 31.3906\n",
      "Epoch 62/75\n",
      "312/312 [==============================] - ETA: 0s - loss: 23.10 - ETA: 0s - loss: 26.50 - ETA: 0s - loss: 27.35 - ETA: 0s - loss: 28.08 - ETA: 0s - loss: 27.94 - ETA: 0s - loss: 28.07 - ETA: 0s - loss: 28.09 - ETA: 0s - loss: 28.18 - ETA: 0s - loss: 27.88 - ETA: 0s - loss: 27.73 - ETA: 0s - loss: 28.08 - ETA: 0s - loss: 28.22 - ETA: 0s - loss: 28.38 - ETA: 0s - loss: 28.44 - 1s 3ms/step - loss: 28.4241 - val_loss: 33.0130\n",
      "Epoch 63/75\n",
      "312/312 [==============================] - ETA: 0s - loss: 23.58 - ETA: 0s - loss: 28.09 - ETA: 0s - loss: 29.72 - ETA: 0s - loss: 29.21 - ETA: 0s - loss: 28.97 - ETA: 0s - loss: 28.61 - ETA: 0s - loss: 28.55 - ETA: 0s - loss: 28.38 - ETA: 0s - loss: 28.47 - ETA: 0s - loss: 28.47 - ETA: 0s - loss: 28.49 - ETA: 0s - loss: 28.31 - ETA: 0s - loss: 28.72 - ETA: 0s - loss: 28.71 - 1s 3ms/step - loss: 28.5843 - val_loss: 31.1466\n",
      "Epoch 64/75\n",
      "312/312 [==============================] - ETA: 0s - loss: 19.56 - ETA: 0s - loss: 26.76 - ETA: 0s - loss: 27.81 - ETA: 0s - loss: 27.83 - ETA: 0s - loss: 28.69 - ETA: 0s - loss: 28.30 - ETA: 0s - loss: 28.72 - ETA: 0s - loss: 28.75 - ETA: 0s - loss: 28.65 - ETA: 0s - loss: 28.27 - ETA: 0s - loss: 28.14 - ETA: 0s - loss: 28.21 - ETA: 0s - loss: 28.35 - ETA: 0s - loss: 28.25 - 1s 3ms/step - loss: 28.2023 - val_loss: 34.2381\n",
      "Epoch 65/75\n",
      "312/312 [==============================] - ETA: 0s - loss: 28.35 - ETA: 0s - loss: 27.23 - ETA: 0s - loss: 28.46 - ETA: 0s - loss: 28.66 - ETA: 0s - loss: 28.21 - ETA: 0s - loss: 27.98 - ETA: 0s - loss: 28.10 - ETA: 0s - loss: 28.10 - ETA: 0s - loss: 28.05 - ETA: 0s - loss: 27.92 - ETA: 0s - loss: 28.00 - ETA: 0s - loss: 28.03 - ETA: 0s - loss: 28.10 - ETA: 0s - loss: 27.92 - 1s 2ms/step - loss: 27.8645 - val_loss: 33.3608\n",
      "Epoch 66/75\n",
      "312/312 [==============================] - ETA: 0s - loss: 26.89 - ETA: 0s - loss: 25.84 - ETA: 0s - loss: 27.84 - ETA: 0s - loss: 28.38 - ETA: 0s - loss: 28.50 - ETA: 0s - loss: 28.35 - ETA: 0s - loss: 28.03 - ETA: 0s - loss: 28.03 - ETA: 0s - loss: 28.24 - ETA: 0s - loss: 28.30 - ETA: 0s - loss: 28.41 - ETA: 0s - loss: 28.27 - ETA: 0s - loss: 28.11 - ETA: 0s - loss: 28.09 - ETA: 0s - loss: 28.12 - 1s 3ms/step - loss: 28.1150 - val_loss: 30.5842\n",
      "Epoch 67/75\n",
      "312/312 [==============================] - ETA: 0s - loss: 21.79 - ETA: 0s - loss: 26.26 - ETA: 0s - loss: 26.87 - ETA: 0s - loss: 27.87 - ETA: 0s - loss: 28.06 - ETA: 0s - loss: 27.98 - ETA: 0s - loss: 27.65 - ETA: 0s - loss: 27.85 - ETA: 0s - loss: 27.88 - ETA: 0s - loss: 28.00 - ETA: 0s - loss: 28.07 - ETA: 0s - loss: 28.13 - ETA: 0s - loss: 28.14 - ETA: 0s - loss: 28.15 - ETA: 0s - loss: 28.16 - 1s 3ms/step - loss: 28.0582 - val_loss: 31.9025\n",
      "Epoch 68/75\n",
      "312/312 [==============================] - ETA: 0s - loss: 26.81 - ETA: 0s - loss: 27.65 - ETA: 0s - loss: 27.39 - ETA: 0s - loss: 28.16 - ETA: 0s - loss: 27.97 - ETA: 0s - loss: 27.46 - ETA: 0s - loss: 27.60 - ETA: 0s - loss: 27.51 - ETA: 0s - loss: 27.58 - ETA: 0s - loss: 27.70 - ETA: 0s - loss: 27.88 - ETA: 0s - loss: 27.92 - ETA: 0s - loss: 28.13 - ETA: 0s - loss: 28.04 - 1s 3ms/step - loss: 28.0582 - val_loss: 33.1492\n",
      "Epoch 69/75\n",
      "312/312 [==============================] - ETA: 0s - loss: 27.36 - ETA: 0s - loss: 28.63 - ETA: 0s - loss: 27.75 - ETA: 0s - loss: 28.57 - ETA: 0s - loss: 28.13 - ETA: 0s - loss: 27.98 - ETA: 0s - loss: 28.16 - ETA: 0s - loss: 27.72 - ETA: 0s - loss: 27.60 - ETA: 0s - loss: 27.72 - ETA: 0s - loss: 27.64 - ETA: 0s - loss: 27.67 - ETA: 0s - loss: 27.63 - 1s 2ms/step - loss: 27.5108 - val_loss: 31.1685\n",
      "Epoch 70/75\n",
      "312/312 [==============================] - ETA: 0s - loss: 24.39 - ETA: 0s - loss: 28.94 - ETA: 0s - loss: 27.84 - ETA: 0s - loss: 27.54 - ETA: 0s - loss: 27.68 - ETA: 0s - loss: 27.91 - ETA: 0s - loss: 27.65 - ETA: 0s - loss: 27.58 - ETA: 0s - loss: 27.33 - ETA: 0s - loss: 27.45 - ETA: 0s - loss: 27.59 - 1s 2ms/step - loss: 27.5783 - val_loss: 31.8096\n",
      "Epoch 71/75\n",
      "312/312 [==============================] - ETA: 0s - loss: 25.12 - ETA: 0s - loss: 27.61 - ETA: 0s - loss: 27.51 - ETA: 0s - loss: 28.18 - ETA: 0s - loss: 28.04 - ETA: 0s - loss: 28.08 - ETA: 0s - loss: 27.95 - ETA: 0s - loss: 27.95 - ETA: 0s - loss: 27.93 - ETA: 0s - loss: 27.85 - ETA: 0s - loss: 27.79 - ETA: 0s - loss: 27.65 - ETA: 0s - loss: 27.77 - 1s 2ms/step - loss: 27.8640 - val_loss: 32.8620\n",
      "Epoch 72/75\n",
      "312/312 [==============================] - ETA: 0s - loss: 13.43 - ETA: 0s - loss: 25.89 - ETA: 0s - loss: 27.19 - ETA: 0s - loss: 27.00 - ETA: 0s - loss: 27.21 - ETA: 0s - loss: 27.60 - ETA: 0s - loss: 27.48 - ETA: 0s - loss: 27.58 - ETA: 0s - loss: 27.54 - ETA: 0s - loss: 27.49 - ETA: 0s - loss: 27.70 - ETA: 0s - loss: 27.73 - ETA: 0s - loss: 27.55 - 1s 2ms/step - loss: 27.5555 - val_loss: 32.2268\n",
      "Epoch 73/75\n",
      "312/312 [==============================] - ETA: 0s - loss: 45.81 - ETA: 0s - loss: 27.68 - ETA: 0s - loss: 27.47 - ETA: 0s - loss: 27.25 - ETA: 0s - loss: 27.27 - ETA: 0s - loss: 27.59 - ETA: 0s - loss: 27.94 - ETA: 0s - loss: 27.91 - ETA: 0s - loss: 27.87 - ETA: 0s - loss: 27.80 - ETA: 0s - loss: 27.82 - 1s 2ms/step - loss: 27.7589 - val_loss: 31.9939\n",
      "Epoch 74/75\n",
      "312/312 [==============================] - ETA: 0s - loss: 30.40 - ETA: 0s - loss: 27.98 - ETA: 0s - loss: 26.84 - ETA: 0s - loss: 26.60 - ETA: 0s - loss: 27.06 - ETA: 0s - loss: 27.36 - ETA: 0s - loss: 27.83 - ETA: 0s - loss: 27.61 - ETA: 0s - loss: 27.84 - ETA: 0s - loss: 27.80 - ETA: 0s - loss: 28.16 - ETA: 0s - loss: 28.09 - 1s 2ms/step - loss: 27.8666 - val_loss: 32.4241\n",
      "Epoch 75/75\n",
      "312/312 [==============================] - ETA: 0s - loss: 19.65 - ETA: 0s - loss: 26.42 - ETA: 0s - loss: 26.18 - ETA: 0s - loss: 27.14 - ETA: 0s - loss: 27.58 - ETA: 0s - loss: 27.68 - ETA: 0s - loss: 27.89 - ETA: 0s - loss: 28.03 - ETA: 0s - loss: 27.87 - ETA: 0s - loss: 27.96 - ETA: 0s - loss: 27.98 - ETA: 0s - loss: 27.89 - 1s 2ms/step - loss: 27.9470 - val_loss: 31.6997\n"
     ]
    }
   ],
   "source": [
    "X_train, X_test, y_train, y_test = train_test_split(X, Y, test_size=0.1, random_state=42)\n",
    "model = Sequential()\n",
    "model.add(Conv2D(8, (10, 10), activation='relu', input_shape=X_train.shape[1:]))\n",
    "model.add(Conv2D(8, (4, 4), activation='relu'))\n",
    "model.add(MaxPooling2D(pool_size=(2, 2)))\n",
    "model.add(Dropout(0.3))\n",
    "\n",
    "model.add(Flatten())\n",
    "model.add(Dense(1))\n",
    "optimizer=keras.optimizers.Adam(lr=0.005)\n",
    "model.compile(optimizer=optimizer, loss='mean_absolute_error')\n",
    "Model=model.fit(x=X_train,y=y_train,epochs=75,batch_size=16,validation_split=0.2)"
   ]
  },
  {
   "cell_type": "code",
   "execution_count": 59,
   "metadata": {},
   "outputs": [
    {
     "name": "stdout",
     "output_type": "stream",
     "text": [
      "Mean Absolute Error on Training Set =  23.837268092489936\n",
      "Mean Absolute Error on Test Set =  31.480019543428956\n"
     ]
    }
   ],
   "source": [
    "y_predtrain=model.predict(X_train)\n",
    "y_predtest=model.predict(X_test)\n",
    "MAE_test=abs(y_predtest.reshape(y_test.shape)-y_test).sum()/y_test.shape\n",
    "MAE_train=abs(y_predtrain.reshape(y_train.shape)-y_train).sum()/y_train.shape\n",
    "print(\"Mean Absolute Error on Training Set = \",MAE_train.item())\n",
    "print(\"Mean Absolute Error on Test Set = \",MAE_test.item())"
   ]
  },
  {
   "cell_type": "code",
   "execution_count": 61,
   "metadata": {},
   "outputs": [
    {
     "name": "stdout",
     "output_type": "stream",
     "text": [
      "0.8858038249798458\n",
      "0.8057422254794662\n"
     ]
    }
   ],
   "source": [
    "from sklearn.metrics import r2_score\n",
    "print(r2_score(y_predtrain,y_train.reshape(6230,1)))\n",
    "print(r2_score(y_predtest,y_test.reshape(693,1)))"
   ]
  },
  {
   "cell_type": "code",
   "execution_count": null,
   "metadata": {},
   "outputs": [],
   "source": [
    "from sklearn.metrics import r2_score\n",
    "print(r2_score(y_predtrain,y_train.reshape(6230,1)))\n",
    "print(r2_score(y_predtest,y_test.reshape(693,1)))"
   ]
  },
  {
   "cell_type": "code",
   "execution_count": 74,
   "metadata": {},
   "outputs": [
    {
     "data": {
      "text/plain": [
       "[<matplotlib.lines.Line2D at 0x24906420488>]"
      ]
     },
     "execution_count": 74,
     "metadata": {},
     "output_type": "execute_result"
    },
    {
     "data": {
      "image/png": "[encoded data removed]",
      "text/plain": [
       "<Figure size 432x288 with 1 Axes>"
      ]
     },
     "metadata": {
      "needs_background": "light"
     },
     "output_type": "display_data"
    }
   ],
   "source": [
    "ax=plt.subplot(1, 1, 1)\n",
    "plt.plot(y_predtrain, y_train.reshape(6230,1), 'b.')#, alpha=0.8, label=\"Train R^2: {}\".format(r2_score(y_train, y_pred_train)))\n",
    "plt.plot(y_predtest, y_test.reshape(693,1), 'g.')#, alpha=0.8, label=\"Test R^2: {}\".format(r2_score(y_test, y_pred_test)))\n",
    "#plt.legend(loc = 'best')\n",
    "plt.xlabel(\"True value of Tg (C)\",fontname=\"Times New Roman\", fontsize=15)\n",
    "plt.ylabel(\"Predicted value of Tg (C)\",fontname=\"Times New Roman\", fontsize=15)\n",
    "x0, x1 = -200, 500\n",
    "length = x1 - x0\n",
    "x_start, x_end = x0-0.1*length, x1+0.1*length\n",
    "plt.xlim([x_start, x_end])\n",
    "plt.ylim([x_start, x_end])\n",
    "ax.set_xticks([-200,-100,0,100,200,300,400,500])\n",
    "ax.set_yticks([-200,-100,0,100,200,300,400,500])\n",
    "plt.xticks(fontname=\"Times New Roman\", fontsize=15)\n",
    "plt.yticks(fontname=\"Times New Roman\", fontsize=15)\n",
    "plt.gca().set_aspect(\"equal\", adjustable=\"box\")\n",
    "# the unit line\n",
    "plt.plot(np.arange(x_start, x_end, 0.01*length),\n",
    "np.arange(x_start, x_end, 0.01*length), 'r-')\n",
    "#plt.text(x_end - 0.4*length, x_start + 0.10*length, \"$R^2={:.2f}$\".format(final_R2))\n",
    "#plt.text(x_end - 0.4*length, x_start + 0.05*length, \"MAE={:.2f}\".format(final_MAE))\n",
    "#plt.savefig(\"./CNN_image.png\", dpi=600, bbox_inches='tight')\n",
    "#plt.savefig(\"CNN_image.svg\", bbox_inches='tight')"
   ]
  },
  {
   "cell_type": "markdown",
   "metadata": {},
   "source": [
    "### RandomForestRegressor"
   ]
  },
  {
   "cell_type": "code",
   "execution_count": 36,
   "metadata": {},
   "outputs": [],
   "source": [
    "X = X_dataset_1\n",
    "y = Dataset1_Smiles_Tg['Tg']\n",
    "X_train, X_test, y_train, y_test = train_test_split(X, y, \n",
    "                                                    test_size=0.2, \n",
    "                                                    random_state=2)"
   ]
  },
  {
   "cell_type": "code",
   "execution_count": 37,
   "metadata": {},
   "outputs": [
    {
     "data": {
      "text/plain": [
       "RandomForestRegressor(random_state=0)"
      ]
     },
     "execution_count": 37,
     "metadata": {},
     "output_type": "execute_result"
    }
   ],
   "source": [
    "model = RandomForestRegressor(random_state=0)\n",
    "model.fit(X_train, y_train)"
   ]
  },
  {
   "cell_type": "code",
   "execution_count": 38,
   "metadata": {},
   "outputs": [
    {
     "name": "stdout",
     "output_type": "stream",
     "text": [
      "Train set R^2:  0.9806556271051803\n",
      "Train MAE score: 9.9111\n",
      "Test set R^2:  0.8783762593210919\n",
      "Test MAE score: 26.3666\n"
     ]
    },
    {
     "data": {
      "text/plain": [
       "[<matplotlib.lines.Line2D at 0x2813e437d48>]"
      ]
     },
     "execution_count": 38,
     "metadata": {},
     "output_type": "execute_result"
    },
    {
     "data": {
      "image/png": "[encoded data removed]",
      "text/plain": [
       "<Figure size 432x288 with 1 Axes>"
      ]
     },
     "metadata": {
      "needs_background": "light"
     },
     "output_type": "display_data"
    }
   ],
   "source": [
    "y_pred_train = model.predict((X_train))\n",
    "print(\"Train set R^2: \", r2_score(y_train, y_pred_train))\n",
    "print(\"Train MAE score: %.4f\" % mean_absolute_error(y_train, y_pred_train))\n",
    "\n",
    "y_pred_test = model.predict((X_test))\n",
    "print(\"Test set R^2: \", r2_score(y_test, y_pred_test))\n",
    "print(\"Test MAE score: %.4f\" % mean_absolute_error(y_test, y_pred_test))\n",
    "\n",
    "ax=plt.subplot(1, 1, 1)\n",
    "plt.plot(y_train, y_pred_train, 'b.') \n",
    "plt.plot(y_test, y_pred_test, 'g.') \n",
    " \n",
    "plt.xlabel(\"True value of Tg (C)\",fontname=\"Times New Roman\", fontsize=15)\n",
    "plt.ylabel(\"Predicted value of Tg (C)\",fontname=\"Times New Roman\", fontsize=15)\n",
    "x0, x1 = min(y_train), max(y_train)\n",
    "length = x1 - x0\n",
    "x_start, x_end = x0-0.1*length, x1+0.1*length\n",
    "plt.xlim([x_start, x_end])\n",
    "plt.ylim([x_start, x_end])\n",
    "ax.set_xticks([-200,-100,0,100,200,300,400,500])\n",
    "ax.set_yticks([-200,-100,0,100,200,300,400,500])\n",
    "plt.xticks(fontname=\"Times New Roman\", fontsize=15)\n",
    "plt.yticks(fontname=\"Times New Roman\", fontsize=15)\n",
    "plt.gca().set_aspect(\"equal\", adjustable=\"box\")\n",
    "# the unit line\n",
    "plt.plot(np.arange(x_start, x_end, 0.01*length),\n",
    "np.arange(x_start, x_end, 0.01*length), 'r-')"
   ]
  },
  {
   "cell_type": "markdown",
   "metadata": {},
   "source": [
    "### DNN"
   ]
  },
  {
   "cell_type": "code",
   "execution_count": 28,
   "metadata": {},
   "outputs": [],
   "source": [
    "X = X_dataset_1\n",
    "y = Dataset1_Smiles_Tg['Tg']\n",
    "X_train, X_test, y_train, y_test = train_test_split(X, y, \n",
    "                                                    test_size=0.2, \n",
    "                                                    random_state=2)"
   ]
  },
  {
   "cell_type": "code",
   "execution_count": 18,
   "metadata": {},
   "outputs": [],
   "source": [
    "# X = X_dataset_1\n",
    "# y = Dataset1_Smiles_Tg['Tg']\n",
    "\n",
    "# Y_trans = qt.fit(y.to_frame()).transform(y.to_frame())\n",
    "\n",
    "# X_train, X_test, y_train, y_test = train_test_split(X, Y_trans, \n",
    "#                                                     test_size=0.2, \n",
    "#                                                     random_state=2)"
   ]
  },
  {
   "cell_type": "code",
   "execution_count": 29,
   "metadata": {
    "scrolled": true
   },
   "outputs": [
    {
     "name": "stdout",
     "output_type": "stream",
     "text": [
      "Epoch 1/100\n",
      "174/174 - 0s - loss: 27382.0098 - val_loss: 17463.9336\n",
      "Epoch 2/100\n",
      "174/174 - 0s - loss: 9748.4824 - val_loss: 7487.9502\n",
      "Epoch 3/100\n",
      "174/174 - 0s - loss: 6496.9932 - val_loss: 6243.8281\n",
      "Epoch 4/100\n",
      "174/174 - 0s - loss: 5478.3096 - val_loss: 5357.1421\n",
      "Epoch 5/100\n",
      "174/174 - 0s - loss: 4774.2661 - val_loss: 4659.9478\n",
      "Epoch 6/100\n",
      "174/174 - 0s - loss: 4241.1865 - val_loss: 4110.6143\n",
      "Epoch 7/100\n",
      "174/174 - 0s - loss: 3794.8845 - val_loss: 3721.5542\n",
      "Epoch 8/100\n",
      "174/174 - 0s - loss: 3477.0830 - val_loss: 3422.8188\n",
      "Epoch 9/100\n",
      "174/174 - 0s - loss: 3245.6458 - val_loss: 3221.6221\n",
      "Epoch 10/100\n",
      "174/174 - 0s - loss: 3102.1931 - val_loss: 3074.6411\n",
      "Epoch 11/100\n",
      "174/174 - 0s - loss: 2994.6299 - val_loss: 2982.3218\n",
      "Epoch 12/100\n",
      "174/174 - 0s - loss: 2911.8418 - val_loss: 2915.1567\n",
      "Epoch 13/100\n",
      "174/174 - 0s - loss: 2859.6855 - val_loss: 2877.0579\n",
      "Epoch 14/100\n",
      "174/174 - 0s - loss: 2796.9734 - val_loss: 2855.6128\n",
      "Epoch 15/100\n",
      "174/174 - 0s - loss: 2758.8545 - val_loss: 2826.0415\n",
      "Epoch 16/100\n",
      "174/174 - 0s - loss: 2724.8372 - val_loss: 2751.6555\n",
      "Epoch 17/100\n",
      "174/174 - 0s - loss: 2692.0530 - val_loss: 2712.7971\n",
      "Epoch 18/100\n",
      "174/174 - 0s - loss: 2629.7178 - val_loss: 2686.4512\n",
      "Epoch 19/100\n",
      "174/174 - 0s - loss: 2576.2820 - val_loss: 2625.8501\n",
      "Epoch 20/100\n",
      "174/174 - 0s - loss: 2515.4744 - val_loss: 2574.5483\n",
      "Epoch 21/100\n",
      "174/174 - 0s - loss: 2467.9099 - val_loss: 2519.8635\n",
      "Epoch 22/100\n",
      "174/174 - 0s - loss: 2418.7847 - val_loss: 2479.5969\n",
      "Epoch 23/100\n",
      "174/174 - 0s - loss: 2375.1887 - val_loss: 2452.7222\n",
      "Epoch 24/100\n",
      "174/174 - 0s - loss: 2346.5430 - val_loss: 2427.6755\n",
      "Epoch 25/100\n",
      "174/174 - 0s - loss: 2319.0872 - val_loss: 2398.6628\n",
      "Epoch 26/100\n",
      "174/174 - 0s - loss: 2285.8113 - val_loss: 2383.5696\n",
      "Epoch 27/100\n",
      "174/174 - 0s - loss: 2260.5315 - val_loss: 2372.6282\n",
      "Epoch 28/100\n",
      "174/174 - 0s - loss: 2242.5503 - val_loss: 2372.0454\n",
      "Epoch 29/100\n",
      "174/174 - 0s - loss: 2220.5613 - val_loss: 2336.2996\n",
      "Epoch 30/100\n",
      "174/174 - 0s - loss: 2198.3623 - val_loss: 2322.2258\n",
      "Epoch 31/100\n",
      "174/174 - 0s - loss: 2175.2312 - val_loss: 2357.2900\n",
      "Epoch 32/100\n",
      "174/174 - 0s - loss: 2154.8755 - val_loss: 2301.7683\n",
      "Epoch 33/100\n",
      "174/174 - 0s - loss: 2142.8203 - val_loss: 2300.4658\n",
      "Epoch 34/100\n",
      "174/174 - 0s - loss: 2128.7341 - val_loss: 2295.4248\n",
      "Epoch 35/100\n",
      "174/174 - 0s - loss: 2128.2800 - val_loss: 2273.1628\n",
      "Epoch 36/100\n",
      "174/174 - 0s - loss: 2102.4138 - val_loss: 2271.6038\n",
      "Epoch 37/100\n",
      "174/174 - 0s - loss: 2097.6497 - val_loss: 2272.5032\n",
      "Epoch 38/100\n",
      "174/174 - 0s - loss: 2078.8638 - val_loss: 2414.7617\n",
      "Epoch 39/100\n",
      "174/174 - 0s - loss: 2095.5674 - val_loss: 2265.7036\n",
      "Epoch 40/100\n",
      "174/174 - 0s - loss: 2050.8831 - val_loss: 2250.6396\n",
      "Epoch 41/100\n",
      "174/174 - 0s - loss: 2046.0845 - val_loss: 2243.5579\n",
      "Epoch 42/100\n",
      "174/174 - 0s - loss: 2037.1410 - val_loss: 2283.8914\n",
      "Epoch 43/100\n",
      "174/174 - 0s - loss: 2024.9005 - val_loss: 2231.2476\n",
      "Epoch 44/100\n",
      "174/174 - 0s - loss: 2023.3248 - val_loss: 2230.4595\n",
      "Epoch 45/100\n",
      "174/174 - 0s - loss: 2007.5018 - val_loss: 2235.1125\n",
      "Epoch 46/100\n",
      "174/174 - 0s - loss: 1998.2452 - val_loss: 2220.9487\n",
      "Epoch 47/100\n",
      "174/174 - 0s - loss: 1993.6823 - val_loss: 2224.2354\n",
      "Epoch 48/100\n",
      "174/174 - 0s - loss: 1980.3953 - val_loss: 2234.8413\n",
      "Epoch 49/100\n",
      "174/174 - 0s - loss: 1986.9745 - val_loss: 2247.0288\n",
      "Epoch 50/100\n",
      "174/174 - 0s - loss: 1968.6187 - val_loss: 2198.4741\n",
      "Epoch 51/100\n",
      "174/174 - 0s - loss: 1971.1559 - val_loss: 2227.6399\n",
      "Epoch 52/100\n",
      "174/174 - 0s - loss: 1959.1891 - val_loss: 2216.0686\n",
      "Epoch 53/100\n",
      "174/174 - 0s - loss: 1961.7891 - val_loss: 2203.3994\n",
      "Epoch 54/100\n",
      "174/174 - 0s - loss: 1948.1646 - val_loss: 2197.2454\n",
      "Epoch 55/100\n",
      "174/174 - 0s - loss: 1952.5525 - val_loss: 2186.6038\n",
      "Epoch 56/100\n",
      "174/174 - 0s - loss: 1936.7234 - val_loss: 2215.5093\n",
      "Epoch 57/100\n",
      "174/174 - 0s - loss: 1935.9406 - val_loss: 2181.3474\n",
      "Epoch 58/100\n",
      "174/174 - 0s - loss: 1939.8346 - val_loss: 2202.9392\n",
      "Epoch 59/100\n",
      "174/174 - 0s - loss: 1937.8922 - val_loss: 2186.3286\n",
      "Epoch 60/100\n",
      "174/174 - 0s - loss: 1926.3014 - val_loss: 2181.0586\n",
      "Epoch 61/100\n",
      "174/174 - 0s - loss: 1926.0592 - val_loss: 2185.8433\n",
      "Epoch 62/100\n",
      "174/174 - 0s - loss: 1918.7439 - val_loss: 2174.6626\n",
      "Epoch 63/100\n",
      "174/174 - 0s - loss: 1910.8113 - val_loss: 2184.1748\n",
      "Epoch 64/100\n",
      "174/174 - 0s - loss: 1904.7992 - val_loss: 2162.7498\n",
      "Epoch 65/100\n",
      "174/174 - 0s - loss: 1901.3315 - val_loss: 2174.0725\n",
      "Epoch 66/100\n",
      "174/174 - 0s - loss: 1899.6876 - val_loss: 2159.2148\n",
      "Epoch 67/100\n",
      "174/174 - 0s - loss: 1896.4337 - val_loss: 2165.3750\n",
      "Epoch 68/100\n",
      "174/174 - 0s - loss: 1886.4088 - val_loss: 2164.7686\n",
      "Epoch 69/100\n",
      "174/174 - 0s - loss: 1894.9227 - val_loss: 2181.5193\n",
      "Epoch 70/100\n",
      "174/174 - 0s - loss: 1884.7521 - val_loss: 2145.3384\n",
      "Epoch 71/100\n",
      "174/174 - 0s - loss: 1875.5681 - val_loss: 2162.9609\n",
      "Epoch 72/100\n",
      "174/174 - 0s - loss: 1873.5400 - val_loss: 2143.9409\n",
      "Epoch 73/100\n",
      "174/174 - 0s - loss: 1876.2156 - val_loss: 2151.4832\n",
      "Epoch 74/100\n",
      "174/174 - 0s - loss: 1870.5309 - val_loss: 2173.1624\n",
      "Epoch 75/100\n",
      "174/174 - 0s - loss: 1869.5352 - val_loss: 2136.7783\n",
      "Epoch 76/100\n",
      "174/174 - 0s - loss: 1869.9585 - val_loss: 2168.4297\n",
      "Epoch 77/100\n",
      "174/174 - 0s - loss: 1861.1971 - val_loss: 2149.9126\n",
      "Epoch 78/100\n",
      "174/174 - 0s - loss: 1854.9620 - val_loss: 2137.6348\n",
      "Epoch 79/100\n",
      "174/174 - 0s - loss: 1858.3057 - val_loss: 2141.0081\n",
      "Epoch 80/100\n",
      "174/174 - 0s - loss: 1848.3580 - val_loss: 2147.6956\n",
      "Epoch 81/100\n",
      "174/174 - 0s - loss: 1853.5513 - val_loss: 2154.7905\n",
      "Epoch 82/100\n",
      "174/174 - 0s - loss: 1854.5630 - val_loss: 2168.8542\n",
      "Epoch 83/100\n",
      "174/174 - 0s - loss: 1837.5837 - val_loss: 2139.1370\n",
      "Epoch 84/100\n",
      "174/174 - 0s - loss: 1842.4243 - val_loss: 2172.2227\n",
      "Epoch 85/100\n",
      "174/174 - 0s - loss: 1836.4176 - val_loss: 2158.9854\n",
      "Epoch 86/100\n",
      "174/174 - 0s - loss: 1838.2994 - val_loss: 2141.2070\n",
      "Epoch 87/100\n",
      "174/174 - 0s - loss: 1827.5016 - val_loss: 2186.3306\n",
      "Epoch 88/100\n",
      "174/174 - 0s - loss: 1836.5415 - val_loss: 2137.7268\n",
      "Epoch 89/100\n",
      "174/174 - 0s - loss: 1827.1970 - val_loss: 2120.3923\n",
      "Epoch 90/100\n",
      "174/174 - 0s - loss: 1826.1360 - val_loss: 2131.4556\n",
      "Epoch 91/100\n",
      "174/174 - 0s - loss: 1823.8234 - val_loss: 2133.3823\n",
      "Epoch 92/100\n",
      "174/174 - 0s - loss: 1817.5463 - val_loss: 2134.7241\n",
      "Epoch 93/100\n",
      "174/174 - 0s - loss: 1814.5110 - val_loss: 2170.8625\n",
      "Epoch 94/100\n",
      "174/174 - 0s - loss: 1819.1860 - val_loss: 2110.1819\n",
      "Epoch 95/100\n",
      "174/174 - 0s - loss: 1808.7788 - val_loss: 2123.4211\n",
      "Epoch 96/100\n",
      "174/174 - 0s - loss: 1817.1885 - val_loss: 2118.3298\n",
      "Epoch 97/100\n",
      "174/174 - 0s - loss: 1810.2124 - val_loss: 2135.3269\n",
      "Epoch 98/100\n",
      "174/174 - 0s - loss: 1807.3727 - val_loss: 2137.9070\n",
      "Epoch 99/100\n",
      "174/174 - 0s - loss: 1813.8395 - val_loss: 2169.5886\n",
      "Epoch 100/100\n",
      "174/174 - 0s - loss: 1806.2814 - val_loss: 2139.7490\n"
     ]
    }
   ],
   "source": [
    "model = keras.models.Sequential()\n",
    "model.add(Dense(units = 8, input_dim = X.shape[1],activation='relu'))\n",
    "model.add(Dense(units = 8, activation='relu'))\n",
    "model.add(Dense(units = 1))\n",
    " \n",
    "# model.summary()\n",
    "\n",
    "model.compile(loss = 'mean_squared_error',\n",
    "    optimizer = 'adam')\n",
    "history = model.fit((X_train), y_train, epochs = 100, batch_size = 32,\n",
    "    validation_data = ((X_test), y_test), verbose=2)"
   ]
  },
  {
   "cell_type": "code",
   "execution_count": 30,
   "metadata": {},
   "outputs": [
    {
     "name": "stdout",
     "output_type": "stream",
     "text": [
      "Train set R^2:  0.8485783881698115\n",
      "Train MAE score: 30.3966\n",
      "Test set R^2:  0.825927232091195\n",
      "Test MAE score: 33.0013\n"
     ]
    },
    {
     "data": {
      "text/plain": [
       "[<matplotlib.lines.Line2D at 0x16f90f006c8>]"
      ]
     },
     "execution_count": 30,
     "metadata": {},
     "output_type": "execute_result"
    },
    {
     "data": {
      "image/png": "[encoded data removed]",
      "text/plain": [
       "<Figure size 432x288 with 1 Axes>"
      ]
     },
     "metadata": {
      "needs_background": "light"
     },
     "output_type": "display_data"
    }
   ],
   "source": [
    "y_pred_train = model.predict((X_train))\n",
    "print(\"Train set R^2: \", r2_score(y_train, y_pred_train))\n",
    "print(\"Train MAE score: %.4f\" % mean_absolute_error(y_train, y_pred_train))\n",
    "\n",
    "y_pred_test = model.predict((X_test))\n",
    "print(\"Test set R^2: \", r2_score(y_test, y_pred_test))\n",
    "print(\"Test MAE score: %.4f\" % mean_absolute_error(y_test, y_pred_test))\n",
    "\n",
    "ax=plt.subplot(1, 1, 1)\n",
    "plt.plot(y_train, y_pred_train, 'b.') \n",
    "plt.plot(y_test, y_pred_test, 'g.') \n",
    " \n",
    "plt.xlabel(\"True value of Tg (C)\",fontname=\"Times New Roman\", fontsize=15)\n",
    "plt.ylabel(\"Predicted value of Tg (C)\",fontname=\"Times New Roman\", fontsize=15)\n",
    "x0, x1 = min(y_train), max(y_train)\n",
    "length = x1 - x0\n",
    "x_start, x_end = x0-0.1*length, x1+0.1*length\n",
    "plt.xlim([x_start, x_end])\n",
    "plt.ylim([x_start, x_end])\n",
    "ax.set_xticks([-200,-100,0,100,200,300,400,500])\n",
    "ax.set_yticks([-200,-100,0,100,200,300,400,500])\n",
    "plt.xticks(fontname=\"Times New Roman\", fontsize=15)\n",
    "plt.yticks(fontname=\"Times New Roman\", fontsize=15)\n",
    "plt.gca().set_aspect(\"equal\", adjustable=\"box\")\n",
    "# the unit line\n",
    "plt.plot(np.arange(x_start, x_end, 0.01*length),\n",
    "np.arange(x_start, x_end, 0.01*length), 'r-')"
   ]
  },
  {
   "cell_type": "code",
   "execution_count": 31,
   "metadata": {},
   "outputs": [
    {
     "name": "stdout",
     "output_type": "stream",
     "text": [
      "Train set R^2:  0.6570555636763277\n",
      "Train MAE score: 48.3437\n"
     ]
    },
    {
     "data": {
      "text/plain": [
       "[<matplotlib.lines.Line2D at 0x16f9fcc0a48>]"
      ]
     },
     "execution_count": 31,
     "metadata": {},
     "output_type": "execute_result"
    },
    {
     "data": {
      "image/png": "[encoded data removed]",
      "text/plain": [
       "<Figure size 432x288 with 1 Axes>"
      ]
     },
     "metadata": {
      "needs_background": "light"
     },
     "output_type": "display_data"
    }
   ],
   "source": [
    "y_pred_train = model.predict(X_dataset_2)\n",
    "y_train = ID_noTg_pred['MD']\n",
    "\n",
    "#y_pred_test = df[df['MD']<1000][df['MD']>-150]['Tg_pred_Lasso_finger']\n",
    "#y_test = df[df['MD']<1000][df['MD']>-150]['MD']\n",
    "\n",
    "print(\"Train set R^2: \", r2_score(y_train, y_pred_train))\n",
    "print(\"Train MAE score: %.4f\" % mean_absolute_error(y_train, y_pred_train))\n",
    "\n",
    "#print(\"Test set R^2: \", r2_score(y_test, y_pred_test))\n",
    "#print(\"Test MAE score: %.4f\" % mean_absolute_error(y_test, y_pred_test))\n",
    "\n",
    "ax=plt.subplot(1, 1, 1)\n",
    "plt.plot(y_train, y_pred_train, 'b.') \n",
    "#plt.plot(y_test, y_pred_test, 'g.') \n",
    " \n",
    "plt.xlabel(\"True value of Tg (C)\",fontname=\"Times New Roman\", fontsize=15)\n",
    "plt.ylabel(\"Predicted value of Tg (C)\",fontname=\"Times New Roman\", fontsize=15)\n",
    "x0, x1 = min(y_train), max(y_train)\n",
    "length = x1 - x0\n",
    "x_start, x_end = x0-0.1*length, x1+0.1*length\n",
    "#plt.xlim([x_start, x_end])\n",
    "#plt.ylim([x_start, x_end])\n",
    "#ax.set_xticks([-200,-100,0,100,200,300,400,500])\n",
    "#ax.set_yticks([-200,-100,0,100,200,300,400,500])\n",
    "plt.xticks(fontname=\"Times New Roman\", fontsize=15)\n",
    "plt.yticks(fontname=\"Times New Roman\", fontsize=15)\n",
    "plt.gca().set_aspect(\"equal\", adjustable=\"box\")\n",
    "# the unit line\n",
    "plt.plot(np.arange(x_start, x_end, 0.01*length),\n",
    "np.arange(x_start, x_end, 0.01*length), 'r-')"
   ]
  },
  {
   "cell_type": "markdown",
   "metadata": {},
   "source": [
    "### RandomForestRegressor"
   ]
  },
  {
   "cell_type": "code",
   "execution_count": 19,
   "metadata": {},
   "outputs": [],
   "source": [
    "from sklearn.ensemble import RandomForestRegressor"
   ]
  },
  {
   "cell_type": "code",
   "execution_count": 20,
   "metadata": {},
   "outputs": [],
   "source": [
    "X = X_dataset_1\n",
    "y = Dataset1_Smiles_Tg['Tg']\n",
    "X_train, X_test, y_train, y_test = train_test_split(X, y, \n",
    "                                                    test_size=0.2, \n",
    "                                                    random_state=2)"
   ]
  },
  {
   "cell_type": "code",
   "execution_count": 21,
   "metadata": {},
   "outputs": [
    {
     "name": "stdout",
     "output_type": "stream",
     "text": [
      "Train set R^2:  0.9806556271051803\n",
      "Train MAE score: 9.9111\n",
      "Test set R^2:  0.8783762593210919\n",
      "Test MAE score: 26.3666\n"
     ]
    },
    {
     "data": {
      "text/plain": [
       "[<matplotlib.lines.Line2D at 0x1762ca68988>]"
      ]
     },
     "execution_count": 21,
     "metadata": {},
     "output_type": "execute_result"
    },
    {
     "data": {
      "image/png": "[encoded data removed]",
      "text/plain": [
       "<Figure size 432x288 with 1 Axes>"
      ]
     },
     "metadata": {
      "needs_background": "light"
     },
     "output_type": "display_data"
    }
   ],
   "source": [
    "model = RandomForestRegressor(random_state=0)\n",
    "model.fit(X_train, y_train)\n",
    "\n",
    "y_pred_train = model.predict((X_train))\n",
    "print(\"Train set R^2: \", r2_score(y_train, y_pred_train))\n",
    "print(\"Train MAE score: %.4f\" % mean_absolute_error(y_train, y_pred_train))\n",
    "\n",
    "y_pred_test = model.predict((X_test))\n",
    "print(\"Test set R^2: \", r2_score(y_test, y_pred_test))\n",
    "print(\"Test MAE score: %.4f\" % mean_absolute_error(y_test, y_pred_test))\n",
    "\n",
    "ax=plt.subplot(1, 1, 1)\n",
    "plt.plot(y_train, y_pred_train, 'b.') \n",
    "plt.plot(y_test, y_pred_test, 'g.') \n",
    " \n",
    "plt.xlabel(\"True value of Tg (C)\",fontname=\"Times New Roman\", fontsize=15)\n",
    "plt.ylabel(\"Predicted value of Tg (C)\",fontname=\"Times New Roman\", fontsize=15)\n",
    "x0, x1 = min(y_train), max(y_train)\n",
    "length = x1 - x0\n",
    "x_start, x_end = x0-0.1*length, x1+0.1*length\n",
    "plt.xlim([x_start, x_end])\n",
    "plt.ylim([x_start, x_end])\n",
    "ax.set_xticks([-200,-100,0,100,200,300,400,500])\n",
    "ax.set_yticks([-200,-100,0,100,200,300,400,500])\n",
    "plt.xticks(fontname=\"Times New Roman\", fontsize=15)\n",
    "plt.yticks(fontname=\"Times New Roman\", fontsize=15)\n",
    "plt.gca().set_aspect(\"equal\", adjustable=\"box\")\n",
    "# the unit line\n",
    "plt.plot(np.arange(x_start, x_end, 0.01*length),\n",
    "np.arange(x_start, x_end, 0.01*length), 'r-')"
   ]
  },
  {
   "cell_type": "code",
   "execution_count": 22,
   "metadata": {},
   "outputs": [
    {
     "name": "stdout",
     "output_type": "stream",
     "text": [
      "Train set R^2:  0.5925005605056114\n",
      "Train MAE score: 54.3140\n"
     ]
    },
    {
     "data": {
      "text/plain": [
       "[<matplotlib.lines.Line2D at 0x1762df85dc8>]"
      ]
     },
     "execution_count": 22,
     "metadata": {},
     "output_type": "execute_result"
    },
    {
     "data": {
      "image/png": "[encoded data removed]",
      "text/plain": [
       "<Figure size 432x288 with 1 Axes>"
      ]
     },
     "metadata": {
      "needs_background": "light"
     },
     "output_type": "display_data"
    }
   ],
   "source": [
    "y_pred_train = model.predict(X_dataset_2)\n",
    "y_train = ID_noTg_pred['MD']\n",
    "\n",
    "#y_pred_test = df[df['MD']<1000][df['MD']>-150]['Tg_pred_Lasso_finger']\n",
    "#y_test = df[df['MD']<1000][df['MD']>-150]['MD']\n",
    "\n",
    "print(\"Train set R^2: \", r2_score(y_train, y_pred_train))\n",
    "print(\"Train MAE score: %.4f\" % mean_absolute_error(y_train, y_pred_train))\n",
    "\n",
    "#print(\"Test set R^2: \", r2_score(y_test, y_pred_test))\n",
    "#print(\"Test MAE score: %.4f\" % mean_absolute_error(y_test, y_pred_test))\n",
    "\n",
    "ax=plt.subplot(1, 1, 1)\n",
    "plt.plot(y_train, y_pred_train, 'b.') \n",
    "#plt.plot(y_test, y_pred_test, 'g.') \n",
    " \n",
    "plt.xlabel(\"True value of Tg (C)\",fontname=\"Times New Roman\", fontsize=15)\n",
    "plt.ylabel(\"Predicted value of Tg (C)\",fontname=\"Times New Roman\", fontsize=15)\n",
    "x0, x1 = min(y_train), max(y_train)\n",
    "length = x1 - x0\n",
    "x_start, x_end = x0-0.1*length, x1+0.1*length\n",
    "#plt.xlim([x_start, x_end])\n",
    "#plt.ylim([x_start, x_end])\n",
    "#ax.set_xticks([-200,-100,0,100,200,300,400,500])\n",
    "#ax.set_yticks([-200,-100,0,100,200,300,400,500])\n",
    "plt.xticks(fontname=\"Times New Roman\", fontsize=15)\n",
    "plt.yticks(fontname=\"Times New Roman\", fontsize=15)\n",
    "plt.gca().set_aspect(\"equal\", adjustable=\"box\")\n",
    "# the unit line\n",
    "plt.plot(np.arange(x_start, x_end, 0.01*length),\n",
    "np.arange(x_start, x_end, 0.01*length), 'r-')"
   ]
  },
  {
   "cell_type": "code",
   "execution_count": 23,
   "metadata": {},
   "outputs": [],
   "source": [
    "from sklearn.svm import SVR"
   ]
  },
  {
   "cell_type": "code",
   "execution_count": 25,
   "metadata": {},
   "outputs": [],
   "source": [
    "X = X_dataset_1\n",
    "y = Dataset1_Smiles_Tg['Tg']\n",
    "X_train, X_test, y_train, y_test = train_test_split(X, y, \n",
    "                                                    test_size=0.2, \n",
    "                                                    random_state=2)"
   ]
  },
  {
   "cell_type": "code",
   "execution_count": 26,
   "metadata": {},
   "outputs": [
    {
     "name": "stdout",
     "output_type": "stream",
     "text": [
      "Train set R^2:  0.7378840476596997\n",
      "Train MAE score: 40.7238\n",
      "Test set R^2:  0.744695081466954\n",
      "Test MAE score: 41.1436\n"
     ]
    },
    {
     "data": {
      "text/plain": [
       "[<matplotlib.lines.Line2D at 0x1762c710d08>]"
      ]
     },
     "execution_count": 26,
     "metadata": {},
     "output_type": "execute_result"
    },
    {
     "data": {
      "image/png": "[encoded data removed]",
      "text/plain": [
       "<Figure size 432x288 with 1 Axes>"
      ]
     },
     "metadata": {
      "needs_background": "light"
     },
     "output_type": "display_data"
    }
   ],
   "source": [
    "\n",
    "model = SVR(kernel = 'linear')\n",
    "model.fit(X_train, y_train)\n",
    "\n",
    "y_pred_train = model.predict((X_train))\n",
    "print(\"Train set R^2: \", r2_score(y_train, y_pred_train))\n",
    "print(\"Train MAE score: %.4f\" % mean_absolute_error(y_train, y_pred_train))\n",
    "\n",
    "y_pred_test = model.predict((X_test))\n",
    "print(\"Test set R^2: \", r2_score(y_test, y_pred_test))\n",
    "print(\"Test MAE score: %.4f\" % mean_absolute_error(y_test, y_pred_test))\n",
    "\n",
    "ax=plt.subplot(1, 1, 1)\n",
    "plt.plot(y_train, y_pred_train, 'b.') \n",
    "plt.plot(y_test, y_pred_test, 'g.') \n",
    " \n",
    "plt.xlabel(\"True value of Tg (C)\",fontname=\"Times New Roman\", fontsize=15)\n",
    "plt.ylabel(\"Predicted value of Tg (C)\",fontname=\"Times New Roman\", fontsize=15)\n",
    "x0, x1 = min(y_train), max(y_train)\n",
    "length = x1 - x0\n",
    "x_start, x_end = x0-0.1*length, x1+0.1*length\n",
    "plt.xlim([x_start, x_end])\n",
    "plt.ylim([x_start, x_end])\n",
    "ax.set_xticks([-200,-100,0,100,200,300,400,500])\n",
    "ax.set_yticks([-200,-100,0,100,200,300,400,500])\n",
    "plt.xticks(fontname=\"Times New Roman\", fontsize=15)\n",
    "plt.yticks(fontname=\"Times New Roman\", fontsize=15)\n",
    "plt.gca().set_aspect(\"equal\", adjustable=\"box\")\n",
    "# the unit line\n",
    "plt.plot(np.arange(x_start, x_end, 0.01*length),\n",
    "np.arange(x_start, x_end, 0.01*length), 'r-')"
   ]
  },
  {
   "cell_type": "code",
   "execution_count": 27,
   "metadata": {},
   "outputs": [
    {
     "name": "stdout",
     "output_type": "stream",
     "text": [
      "Train set R^2:  0.56314491768984\n",
      "Train MAE score: 56.1753\n"
     ]
    },
    {
     "data": {
      "text/plain": [
       "[<matplotlib.lines.Line2D at 0x1762c78a548>]"
      ]
     },
     "execution_count": 27,
     "metadata": {},
     "output_type": "execute_result"
    },
    {
     "data": {
      "image/png": "[encoded data removed]",
      "text/plain": [
       "<Figure size 432x288 with 1 Axes>"
      ]
     },
     "metadata": {
      "needs_background": "light"
     },
     "output_type": "display_data"
    }
   ],
   "source": [
    "y_pred_train = model.predict(X_dataset_2)\n",
    "y_train = ID_noTg_pred['MD']\n",
    "\n",
    "#y_pred_test = df[df['MD']<1000][df['MD']>-150]['Tg_pred_Lasso_finger']\n",
    "#y_test = df[df['MD']<1000][df['MD']>-150]['MD']\n",
    "\n",
    "print(\"Train set R^2: \", r2_score(y_train, y_pred_train))\n",
    "print(\"Train MAE score: %.4f\" % mean_absolute_error(y_train, y_pred_train))\n",
    "\n",
    "#print(\"Test set R^2: \", r2_score(y_test, y_pred_test))\n",
    "#print(\"Test MAE score: %.4f\" % mean_absolute_error(y_test, y_pred_test))\n",
    "\n",
    "ax=plt.subplot(1, 1, 1)\n",
    "plt.plot(y_train, y_pred_train, 'b.') \n",
    "#plt.plot(y_test, y_pred_test, 'g.') \n",
    " \n",
    "plt.xlabel(\"True value of Tg (C)\",fontname=\"Times New Roman\", fontsize=15)\n",
    "plt.ylabel(\"Predicted value of Tg (C)\",fontname=\"Times New Roman\", fontsize=15)\n",
    "x0, x1 = min(y_train), max(y_train)\n",
    "length = x1 - x0\n",
    "x_start, x_end = x0-0.1*length, x1+0.1*length\n",
    "#plt.xlim([x_start, x_end])\n",
    "#plt.ylim([x_start, x_end])\n",
    "#ax.set_xticks([-200,-100,0,100,200,300,400,500])\n",
    "#ax.set_yticks([-200,-100,0,100,200,300,400,500])\n",
    "plt.xticks(fontname=\"Times New Roman\", fontsize=15)\n",
    "plt.yticks(fontname=\"Times New Roman\", fontsize=15)\n",
    "plt.gca().set_aspect(\"equal\", adjustable=\"box\")\n",
    "# the unit line\n",
    "plt.plot(np.arange(x_start, x_end, 0.01*length),\n",
    "np.arange(x_start, x_end, 0.01*length), 'r-')"
   ]
  },
  {
   "cell_type": "code",
   "execution_count": null,
   "metadata": {},
   "outputs": [],
   "source": []
  },
  {
   "cell_type": "markdown",
   "metadata": {},
   "source": [
    "# Embedding"
   ]
  },
  {
   "cell_type": "code",
   "execution_count": 5,
   "metadata": {},
   "outputs": [],
   "source": [
    "import numpy as np\n",
    "import pandas as pd\n",
    "import sys, os\n",
    "\n",
    "sys.path.append(os.path.dirname(os.path.dirname(os.getcwd()))+'/mol2vec')\n",
    "\n",
    "from rdkit import Chem\n",
    "from rdkit.Chem import PandasTools\n",
    "from rdkit.Chem.Draw import IPythonConsole\n",
    "\n",
    "from mol2vec.features import mol2alt_sentence, mol2sentence, MolSentence, DfVec, sentences2vec\n",
    "from gensim.models import word2vec"
   ]
  },
  {
   "cell_type": "code",
   "execution_count": 4,
   "metadata": {},
   "outputs": [
    {
     "data": {
      "text/html": [
       "<div>\n",
       "<style scoped>\n",
       "    .dataframe tbody tr th:only-of-type {\n",
       "        vertical-align: middle;\n",
       "    }\n",
       "\n",
       "    .dataframe tbody tr th {\n",
       "        vertical-align: top;\n",
       "    }\n",
       "\n",
       "    .dataframe thead th {\n",
       "        text-align: right;\n",
       "    }\n",
       "</style>\n",
       "<table border=\"1\" class=\"dataframe\">\n",
       "  <thead>\n",
       "    <tr style=\"text-align: right;\">\n",
       "      <th></th>\n",
       "      <th>Smiles</th>\n",
       "      <th>ID</th>\n",
       "      <th>id</th>\n",
       "      <th>SMILES</th>\n",
       "      <th>Tg</th>\n",
       "    </tr>\n",
       "  </thead>\n",
       "  <tbody>\n",
       "    <tr>\n",
       "      <td>0</td>\n",
       "      <td>*C*</td>\n",
       "      <td>P010001.mol</td>\n",
       "      <td>P010001</td>\n",
       "      <td>CC</td>\n",
       "      <td>-63.48</td>\n",
       "    </tr>\n",
       "    <tr>\n",
       "      <td>1</td>\n",
       "      <td>*C(C*)C</td>\n",
       "      <td>P010002.mol</td>\n",
       "      <td>P010002</td>\n",
       "      <td>CCC</td>\n",
       "      <td>-2.73</td>\n",
       "    </tr>\n",
       "    <tr>\n",
       "      <td>2</td>\n",
       "      <td>*C(C*)CC</td>\n",
       "      <td>P010003.mol</td>\n",
       "      <td>P010003</td>\n",
       "      <td>CCCC</td>\n",
       "      <td>-22.54</td>\n",
       "    </tr>\n",
       "    <tr>\n",
       "      <td>3</td>\n",
       "      <td>*C(C*)CCC</td>\n",
       "      <td>P010004.mol</td>\n",
       "      <td>P010004</td>\n",
       "      <td>CCCCC</td>\n",
       "      <td>-32.29</td>\n",
       "    </tr>\n",
       "    <tr>\n",
       "      <td>4</td>\n",
       "      <td>*C(C*)C(C)C</td>\n",
       "      <td>P010006.mol</td>\n",
       "      <td>P010006</td>\n",
       "      <td>CCC(C)C</td>\n",
       "      <td>10.97</td>\n",
       "    </tr>\n",
       "    <tr>\n",
       "      <td>...</td>\n",
       "      <td>...</td>\n",
       "      <td>...</td>\n",
       "      <td>...</td>\n",
       "      <td>...</td>\n",
       "      <td>...</td>\n",
       "    </tr>\n",
       "    <tr>\n",
       "      <td>6918</td>\n",
       "      <td>*C1C(CC(C1)C(O)(C(F)(F)F)C(F)(F)F)(C(C*)(F)F)F</td>\n",
       "      <td>P522048.mol</td>\n",
       "      <td>P522048</td>\n",
       "      <td>CC(F)(F)C1(F)CCC(C(O)(C(F)(F)F)C(F)(F)F)C1</td>\n",
       "      <td>118.00</td>\n",
       "    </tr>\n",
       "    <tr>\n",
       "      <td>6919</td>\n",
       "      <td>*c1cc2C3(CCC(CC3)(C3=NC(CO3)c3ccccc3)C3=NC(CO3...</td>\n",
       "      <td>P522049.mol</td>\n",
       "      <td>P522049</td>\n",
       "      <td>CCCCCCC1(CCCCCC)c2ccccc2-c2ccc(-c3ccc4c(c3)C3(...</td>\n",
       "      <td>161.00</td>\n",
       "    </tr>\n",
       "    <tr>\n",
       "      <td>6920</td>\n",
       "      <td>*c1cc2C3(CCC(CC3)(C3=NC(CO3)Cc3ccccc3)C3=NC(CO...</td>\n",
       "      <td>P522050.mol</td>\n",
       "      <td>P522050</td>\n",
       "      <td>CCCCCCC1(CCCCCC)c2ccccc2-c2ccc(-c3ccc4c(c3)C3(...</td>\n",
       "      <td>142.00</td>\n",
       "    </tr>\n",
       "    <tr>\n",
       "      <td>6921</td>\n",
       "      <td>*C(C*)(C(=O)OCC(Cl)(Cl)Cl)F</td>\n",
       "      <td>P522055.mol</td>\n",
       "      <td>P522055</td>\n",
       "      <td>CC(F)C(=O)OCC(Cl)(Cl)Cl</td>\n",
       "      <td>127.00</td>\n",
       "    </tr>\n",
       "    <tr>\n",
       "      <td>6922</td>\n",
       "      <td>*C(C(*)OCOC(*)C(*)(F)F)(F)F</td>\n",
       "      <td>P522066.mol</td>\n",
       "      <td>P522066</td>\n",
       "      <td>FC(F)COCOCC(F)F</td>\n",
       "      <td>122.00</td>\n",
       "    </tr>\n",
       "  </tbody>\n",
       "</table>\n",
       "<p>6923 rows × 5 columns</p>\n",
       "</div>"
      ],
      "text/plain": [
       "                                                 Smiles           ID       id  \\\n",
       "0                                                   *C*  P010001.mol  P010001   \n",
       "1                                               *C(C*)C  P010002.mol  P010002   \n",
       "2                                              *C(C*)CC  P010003.mol  P010003   \n",
       "3                                             *C(C*)CCC  P010004.mol  P010004   \n",
       "4                                           *C(C*)C(C)C  P010006.mol  P010006   \n",
       "...                                                 ...          ...      ...   \n",
       "6918     *C1C(CC(C1)C(O)(C(F)(F)F)C(F)(F)F)(C(C*)(F)F)F  P522048.mol  P522048   \n",
       "6919  *c1cc2C3(CCC(CC3)(C3=NC(CO3)c3ccccc3)C3=NC(CO3...  P522049.mol  P522049   \n",
       "6920  *c1cc2C3(CCC(CC3)(C3=NC(CO3)Cc3ccccc3)C3=NC(CO...  P522050.mol  P522050   \n",
       "6921                        *C(C*)(C(=O)OCC(Cl)(Cl)Cl)F  P522055.mol  P522055   \n",
       "6922                        *C(C(*)OCOC(*)C(*)(F)F)(F)F  P522066.mol  P522066   \n",
       "\n",
       "                                                 SMILES      Tg  \n",
       "0                                                    CC  -63.48  \n",
       "1                                                   CCC   -2.73  \n",
       "2                                                  CCCC  -22.54  \n",
       "3                                                 CCCCC  -32.29  \n",
       "4                                               CCC(C)C   10.97  \n",
       "...                                                 ...     ...  \n",
       "6918         CC(F)(F)C1(F)CCC(C(O)(C(F)(F)F)C(F)(F)F)C1  118.00  \n",
       "6919  CCCCCCC1(CCCCCC)c2ccccc2-c2ccc(-c3ccc4c(c3)C3(...  161.00  \n",
       "6920  CCCCCCC1(CCCCCC)c2ccccc2-c2ccc(-c3ccc4c(c3)C3(...  142.00  \n",
       "6921                            CC(F)C(=O)OCC(Cl)(Cl)Cl  127.00  \n",
       "6922                                    FC(F)COCOCC(F)F  122.00  \n",
       "\n",
       "[6923 rows x 5 columns]"
      ]
     },
     "execution_count": 4,
     "metadata": {},
     "output_type": "execute_result"
    }
   ],
   "source": [
    "Dataset1_Smiles_Tg"
   ]
  },
  {
   "cell_type": "code",
   "execution_count": 6,
   "metadata": {},
   "outputs": [],
   "source": [
    "DF = Dataset1_Smiles_Tg.copy()"
   ]
  },
  {
   "cell_type": "code",
   "execution_count": 41,
   "metadata": {},
   "outputs": [],
   "source": [
    "molecules = DF.Smiles.apply(Chem.MolFromSmiles)\n",
    "DF['molecules'] = molecules\n",
    "DF = DF.dropna()"
   ]
  },
  {
   "cell_type": "code",
   "execution_count": 42,
   "metadata": {},
   "outputs": [],
   "source": [
    "model = word2vec.Word2Vec.load('../mol2vec-master/examples/models/model_300dim.pkl')"
   ]
  },
  {
   "cell_type": "code",
   "execution_count": 43,
   "metadata": {},
   "outputs": [],
   "source": [
    "df = pd.DataFrame()"
   ]
  },
  {
   "cell_type": "code",
   "execution_count": 44,
   "metadata": {},
   "outputs": [],
   "source": [
    "df['sentence'] = DF.apply(lambda x: MolSentence(mol2alt_sentence(x['molecules'], 1)), axis=1)\n",
    "df['mol2vec'] = [DfVec(x) for x in sentences2vec(df['sentence'], model, unseen='UNK')]"
   ]
  },
  {
   "cell_type": "code",
   "execution_count": 45,
   "metadata": {},
   "outputs": [
    {
     "data": {
      "text/plain": [
       "['2342113506',\n",
       " '1302073591',\n",
       " '2245384272',\n",
       " '915669106',\n",
       " '2342113506',\n",
       " '1302073591']"
      ]
     },
     "execution_count": 45,
     "metadata": {},
     "output_type": "execute_result"
    }
   ],
   "source": [
    "a = df['sentence'][0]\n",
    "a.sentence"
   ]
  },
  {
   "cell_type": "code",
   "execution_count": 111,
   "metadata": {},
   "outputs": [],
   "source": [
    "X = np.array([x.vec for x in df['mol2vec']])"
   ]
  },
  {
   "cell_type": "code",
   "execution_count": 112,
   "metadata": {},
   "outputs": [
    {
     "data": {
      "text/plain": [
       "(6923, 300)"
      ]
     },
     "execution_count": 112,
     "metadata": {},
     "output_type": "execute_result"
    }
   ],
   "source": [
    "X.shape"
   ]
  },
  {
   "cell_type": "code",
   "execution_count": null,
   "metadata": {},
   "outputs": [],
   "source": []
  },
  {
   "cell_type": "code",
   "execution_count": 144,
   "metadata": {},
   "outputs": [],
   "source": [
    "Tg = DF['Tg']"
   ]
  },
  {
   "cell_type": "code",
   "execution_count": 145,
   "metadata": {},
   "outputs": [
    {
     "name": "stderr",
     "output_type": "stream",
     "text": [
      "C:\\ProgramData\\Anaconda3\\lib\\site-packages\\sklearn\\linear_model\\_coordinate_descent.py:532: ConvergenceWarning: Objective did not converge. You might want to increase the number of iterations. Duality gap: 6044684.5, tolerance: 6723.15673828125\n",
      "  positive)\n",
      "C:\\ProgramData\\Anaconda3\\lib\\site-packages\\sklearn\\linear_model\\_coordinate_descent.py:532: ConvergenceWarning: Objective did not converge. You might want to increase the number of iterations. Duality gap: 5541354.5, tolerance: 6092.67724609375\n",
      "  positive)\n",
      "C:\\ProgramData\\Anaconda3\\lib\\site-packages\\sklearn\\linear_model\\_coordinate_descent.py:532: ConvergenceWarning: Objective did not converge. You might want to increase the number of iterations. Duality gap: 5079455.0, tolerance: 6079.9697265625\n",
      "  positive)\n",
      "C:\\ProgramData\\Anaconda3\\lib\\site-packages\\sklearn\\linear_model\\_coordinate_descent.py:532: ConvergenceWarning: Objective did not converge. You might want to increase the number of iterations. Duality gap: 5214657.0, tolerance: 6049.80078125\n",
      "  positive)\n",
      "C:\\ProgramData\\Anaconda3\\lib\\site-packages\\sklearn\\linear_model\\_coordinate_descent.py:532: ConvergenceWarning: Objective did not converge. You might want to increase the number of iterations. Duality gap: 5264778.0, tolerance: 6093.77978515625\n",
      "  positive)\n",
      "C:\\ProgramData\\Anaconda3\\lib\\site-packages\\sklearn\\linear_model\\_coordinate_descent.py:532: ConvergenceWarning: Objective did not converge. You might want to increase the number of iterations. Duality gap: 5566886.5, tolerance: 6077.9267578125\n",
      "  positive)\n",
      "C:\\ProgramData\\Anaconda3\\lib\\site-packages\\sklearn\\linear_model\\_coordinate_descent.py:532: ConvergenceWarning: Objective did not converge. You might want to increase the number of iterations. Duality gap: 5288064.0, tolerance: 6011.296875\n",
      "  positive)\n",
      "C:\\ProgramData\\Anaconda3\\lib\\site-packages\\sklearn\\linear_model\\_coordinate_descent.py:532: ConvergenceWarning: Objective did not converge. You might want to increase the number of iterations. Duality gap: 5471987.5, tolerance: 6029.83154296875\n",
      "  positive)\n",
      "C:\\ProgramData\\Anaconda3\\lib\\site-packages\\sklearn\\linear_model\\_coordinate_descent.py:532: ConvergenceWarning: Objective did not converge. You might want to increase the number of iterations. Duality gap: 5419921.0, tolerance: 5962.72265625\n",
      "  positive)\n",
      "C:\\ProgramData\\Anaconda3\\lib\\site-packages\\sklearn\\linear_model\\_coordinate_descent.py:532: ConvergenceWarning: Objective did not converge. You might want to increase the number of iterations. Duality gap: 5253662.0, tolerance: 6074.31396484375\n",
      "  positive)\n",
      "C:\\ProgramData\\Anaconda3\\lib\\site-packages\\sklearn\\linear_model\\_coordinate_descent.py:532: ConvergenceWarning: Objective did not converge. You might want to increase the number of iterations. Duality gap: 5223961.0, tolerance: 6035.24267578125\n",
      "  positive)\n",
      "C:\\ProgramData\\Anaconda3\\lib\\site-packages\\sklearn\\linear_model\\_coordinate_descent.py:532: ConvergenceWarning: Objective did not converge. You might want to increase the number of iterations. Duality gap: 5541354.5, tolerance: 6092.67724609375\n",
      "  positive)\n",
      "C:\\ProgramData\\Anaconda3\\lib\\site-packages\\sklearn\\linear_model\\_coordinate_descent.py:532: ConvergenceWarning: Objective did not converge. You might want to increase the number of iterations. Duality gap: 5079455.0, tolerance: 6079.9697265625\n",
      "  positive)\n",
      "C:\\ProgramData\\Anaconda3\\lib\\site-packages\\sklearn\\linear_model\\_coordinate_descent.py:532: ConvergenceWarning: Objective did not converge. You might want to increase the number of iterations. Duality gap: 5214657.0, tolerance: 6049.80078125\n",
      "  positive)\n",
      "C:\\ProgramData\\Anaconda3\\lib\\site-packages\\sklearn\\linear_model\\_coordinate_descent.py:532: ConvergenceWarning: Objective did not converge. You might want to increase the number of iterations. Duality gap: 5264778.0, tolerance: 6093.77978515625\n",
      "  positive)\n",
      "C:\\ProgramData\\Anaconda3\\lib\\site-packages\\sklearn\\linear_model\\_coordinate_descent.py:532: ConvergenceWarning: Objective did not converge. You might want to increase the number of iterations. Duality gap: 5566886.5, tolerance: 6077.9267578125\n",
      "  positive)\n",
      "C:\\ProgramData\\Anaconda3\\lib\\site-packages\\sklearn\\linear_model\\_coordinate_descent.py:532: ConvergenceWarning: Objective did not converge. You might want to increase the number of iterations. Duality gap: 5288064.0, tolerance: 6011.296875\n",
      "  positive)\n",
      "C:\\ProgramData\\Anaconda3\\lib\\site-packages\\sklearn\\linear_model\\_coordinate_descent.py:532: ConvergenceWarning: Objective did not converge. You might want to increase the number of iterations. Duality gap: 5471987.5, tolerance: 6029.83154296875\n",
      "  positive)\n",
      "C:\\ProgramData\\Anaconda3\\lib\\site-packages\\sklearn\\linear_model\\_coordinate_descent.py:532: ConvergenceWarning: Objective did not converge. You might want to increase the number of iterations. Duality gap: 5419921.0, tolerance: 5962.72265625\n",
      "  positive)\n",
      "C:\\ProgramData\\Anaconda3\\lib\\site-packages\\sklearn\\linear_model\\_coordinate_descent.py:532: ConvergenceWarning: Objective did not converge. You might want to increase the number of iterations. Duality gap: 5253662.0, tolerance: 6074.31396484375\n",
      "  positive)\n",
      "C:\\ProgramData\\Anaconda3\\lib\\site-packages\\sklearn\\linear_model\\_coordinate_descent.py:532: ConvergenceWarning: Objective did not converge. You might want to increase the number of iterations. Duality gap: 5223961.0, tolerance: 6035.24267578125\n",
      "  positive)\n"
     ]
    }
   ],
   "source": [
    "# hyperparameters\n",
    "X_dataset_1, Tg = shuffle(X, Tg, random_state=0)\n",
    "alpha = 0.1\n",
    "cv = 10\n",
    "# build model\n",
    "model = Lasso(alpha=alpha).fit(X_dataset_1[:5600], Tg[:5600])\n",
    "# get prediction\n",
    "Tg_pred = cross_val_predict(model, X_dataset_1[:5600], Tg[:5600], cv=cv) # cross-validation\n",
    "# calculate the metrics\n",
    "final_R2 = r2_score(Tg[:5600],Tg_pred)\n",
    "final_MAE = mean_absolute_error(Tg[:5600],Tg_pred)\n",
    "# metrics of the score\n",
    "scores = cross_validate(model, X_dataset_1[:5600], Tg[:5600], cv=cv,\n",
    "scoring=('r2', 'neg_mean_absolute_error'),return_train_score=True)\n",
    "# save the score\n",
    "score_df = pd.DataFrame.from_dict(scores)\n",
    "# save the model\n",
    "#pickle.dump(model, open(\"./LASSO.model\", 'wb'))\n",
    "wts = model.coef_\n",
    "#np.savetxt(\"./weights.txt\", wts, fmt=\"%5.3f\")"
   ]
  },
  {
   "cell_type": "code",
   "execution_count": 146,
   "metadata": {},
   "outputs": [
    {
     "name": "stderr",
     "output_type": "stream",
     "text": [
      "C:\\ProgramData\\Anaconda3\\lib\\site-packages\\sklearn\\linear_model\\_coordinate_descent.py:532: ConvergenceWarning: Objective did not converge. You might want to increase the number of iterations. Duality gap: 876765.6875, tolerance: 1393.517333984375\n",
      "  positive)\n",
      "C:\\ProgramData\\Anaconda3\\lib\\site-packages\\sklearn\\linear_model\\_coordinate_descent.py:532: ConvergenceWarning: Objective did not converge. You might want to increase the number of iterations. Duality gap: 986140.1875, tolerance: 1378.458740234375\n",
      "  positive)\n",
      "C:\\ProgramData\\Anaconda3\\lib\\site-packages\\sklearn\\linear_model\\_coordinate_descent.py:532: ConvergenceWarning: Objective did not converge. You might want to increase the number of iterations. Duality gap: 992522.4375, tolerance: 1363.5743408203125\n",
      "  positive)\n",
      "C:\\ProgramData\\Anaconda3\\lib\\site-packages\\sklearn\\linear_model\\_coordinate_descent.py:532: ConvergenceWarning: Objective did not converge. You might want to increase the number of iterations. Duality gap: 952672.1875, tolerance: 1361.630859375\n",
      "  positive)\n",
      "C:\\ProgramData\\Anaconda3\\lib\\site-packages\\sklearn\\linear_model\\_coordinate_descent.py:532: ConvergenceWarning: Objective did not converge. You might want to increase the number of iterations. Duality gap: 873900.9375, tolerance: 1376.0655517578125\n",
      "  positive)\n",
      "C:\\ProgramData\\Anaconda3\\lib\\site-packages\\sklearn\\linear_model\\_coordinate_descent.py:532: ConvergenceWarning: Objective did not converge. You might want to increase the number of iterations. Duality gap: 996167.125, tolerance: 1340.749267578125\n",
      "  positive)\n",
      "C:\\ProgramData\\Anaconda3\\lib\\site-packages\\sklearn\\linear_model\\_coordinate_descent.py:532: ConvergenceWarning: Objective did not converge. You might want to increase the number of iterations. Duality gap: 942975.875, tolerance: 1378.01025390625\n",
      "  positive)\n",
      "C:\\ProgramData\\Anaconda3\\lib\\site-packages\\sklearn\\linear_model\\_coordinate_descent.py:532: ConvergenceWarning: Objective did not converge. You might want to increase the number of iterations. Duality gap: 946585.5, tolerance: 1368.3646240234375\n",
      "  positive)\n",
      "C:\\ProgramData\\Anaconda3\\lib\\site-packages\\sklearn\\linear_model\\_coordinate_descent.py:532: ConvergenceWarning: Objective did not converge. You might want to increase the number of iterations. Duality gap: 919842.125, tolerance: 1354.2628173828125\n",
      "  positive)\n",
      "C:\\ProgramData\\Anaconda3\\lib\\site-packages\\sklearn\\linear_model\\_coordinate_descent.py:532: ConvergenceWarning: Objective did not converge. You might want to increase the number of iterations. Duality gap: 952925.375, tolerance: 1367.8740234375\n",
      "  positive)\n"
     ]
    },
    {
     "data": {
      "image/png": "[encoded data removed]",
      "text/plain": [
       "<Figure size 432x288 with 1 Axes>"
      ]
     },
     "metadata": {
      "needs_background": "light"
     },
     "output_type": "display_data"
    }
   ],
   "source": [
    "# plot the result\n",
    "ax=plt.subplot(1, 1, 1)\n",
    "plt.plot(Tg[:5600],Tg_pred, 'b.')\n",
    "plt.plot(Tg[5600:],cross_val_predict(model, X_dataset_1[5600:], Tg[5600:], cv=cv), 'g.')\n",
    "plt.xlabel(\"True value of Tg (C)\",fontname=\"Times New Roman\", fontsize=15)\n",
    "plt.ylabel(\"Predicted value of Tg (C)\",fontname=\"Times New Roman\", fontsize=15)\n",
    "x0, x1 = -200, 500\n",
    "length = x1 - x0\n",
    "x_start, x_end = x0-0.1*length, x1+0.1*length\n",
    "plt.xlim([x_start, x_end])\n",
    "plt.ylim([x_start, x_end])\n",
    "ax.set_xticks([-200,-100,0,100,200,300,400,500])\n",
    "ax.set_yticks([-200,-100,0,100,200,300,400,500])\n",
    "plt.xticks(fontname=\"Times New Roman\", fontsize=15)\n",
    "plt.yticks(fontname=\"Times New Roman\", fontsize=15)\n",
    "plt.gca().set_aspect(\"equal\", adjustable=\"box\")\n",
    "# the unit line\n",
    "plt.plot(np.arange(x_start, x_end, 0.01*length),\n",
    "np.arange(x_start, x_end, 0.01*length), 'r-')\n",
    "#plt.text(x_end - 0.4*length, x_start + 0.10*length, \"$R^2={:.2f}$\".format(final_R2))\n",
    "#plt.text(x_end - 0.4*length, x_start + 0.05*length, \"MAE={:.2f}\".format(final_MAE))\n",
    "#plt.savefig(\"./LASSO_cv_fingerprint.png\", dpi=600, bbox_inches='tight')\n",
    "#plt.savefig(\"LASSO_cv_fingerprint.svg\", bbox_inches='tight')\n",
    "plt.show()"
   ]
  },
  {
   "cell_type": "code",
   "execution_count": 147,
   "metadata": {},
   "outputs": [
    {
     "name": "stdout",
     "output_type": "stream",
     "text": [
      "Training R2: 0.757379133063672\n",
      "Training MAE: 40.53283338748387\n"
     ]
    },
    {
     "name": "stderr",
     "output_type": "stream",
     "text": [
      "C:\\ProgramData\\Anaconda3\\lib\\site-packages\\sklearn\\linear_model\\_coordinate_descent.py:532: ConvergenceWarning: Objective did not converge. You might want to increase the number of iterations. Duality gap: 876765.6875, tolerance: 1393.517333984375\n",
      "  positive)\n",
      "C:\\ProgramData\\Anaconda3\\lib\\site-packages\\sklearn\\linear_model\\_coordinate_descent.py:532: ConvergenceWarning: Objective did not converge. You might want to increase the number of iterations. Duality gap: 986140.1875, tolerance: 1378.458740234375\n",
      "  positive)\n",
      "C:\\ProgramData\\Anaconda3\\lib\\site-packages\\sklearn\\linear_model\\_coordinate_descent.py:532: ConvergenceWarning: Objective did not converge. You might want to increase the number of iterations. Duality gap: 992522.4375, tolerance: 1363.5743408203125\n",
      "  positive)\n",
      "C:\\ProgramData\\Anaconda3\\lib\\site-packages\\sklearn\\linear_model\\_coordinate_descent.py:532: ConvergenceWarning: Objective did not converge. You might want to increase the number of iterations. Duality gap: 952672.1875, tolerance: 1361.630859375\n",
      "  positive)\n",
      "C:\\ProgramData\\Anaconda3\\lib\\site-packages\\sklearn\\linear_model\\_coordinate_descent.py:532: ConvergenceWarning: Objective did not converge. You might want to increase the number of iterations. Duality gap: 873900.9375, tolerance: 1376.0655517578125\n",
      "  positive)\n",
      "C:\\ProgramData\\Anaconda3\\lib\\site-packages\\sklearn\\linear_model\\_coordinate_descent.py:532: ConvergenceWarning: Objective did not converge. You might want to increase the number of iterations. Duality gap: 996167.125, tolerance: 1340.749267578125\n",
      "  positive)\n",
      "C:\\ProgramData\\Anaconda3\\lib\\site-packages\\sklearn\\linear_model\\_coordinate_descent.py:532: ConvergenceWarning: Objective did not converge. You might want to increase the number of iterations. Duality gap: 942975.875, tolerance: 1378.01025390625\n",
      "  positive)\n",
      "C:\\ProgramData\\Anaconda3\\lib\\site-packages\\sklearn\\linear_model\\_coordinate_descent.py:532: ConvergenceWarning: Objective did not converge. You might want to increase the number of iterations. Duality gap: 946585.5, tolerance: 1368.3646240234375\n",
      "  positive)\n",
      "C:\\ProgramData\\Anaconda3\\lib\\site-packages\\sklearn\\linear_model\\_coordinate_descent.py:532: ConvergenceWarning: Objective did not converge. You might want to increase the number of iterations. Duality gap: 919842.125, tolerance: 1354.2628173828125\n",
      "  positive)\n",
      "C:\\ProgramData\\Anaconda3\\lib\\site-packages\\sklearn\\linear_model\\_coordinate_descent.py:532: ConvergenceWarning: Objective did not converge. You might want to increase the number of iterations. Duality gap: 952925.375, tolerance: 1367.8740234375\n",
      "  positive)\n"
     ]
    },
    {
     "name": "stdout",
     "output_type": "stream",
     "text": [
      "Test R2: 0.6548335082418115\n"
     ]
    },
    {
     "name": "stderr",
     "output_type": "stream",
     "text": [
      "C:\\ProgramData\\Anaconda3\\lib\\site-packages\\sklearn\\linear_model\\_coordinate_descent.py:532: ConvergenceWarning: Objective did not converge. You might want to increase the number of iterations. Duality gap: 876765.6875, tolerance: 1393.517333984375\n",
      "  positive)\n",
      "C:\\ProgramData\\Anaconda3\\lib\\site-packages\\sklearn\\linear_model\\_coordinate_descent.py:532: ConvergenceWarning: Objective did not converge. You might want to increase the number of iterations. Duality gap: 986140.1875, tolerance: 1378.458740234375\n",
      "  positive)\n",
      "C:\\ProgramData\\Anaconda3\\lib\\site-packages\\sklearn\\linear_model\\_coordinate_descent.py:532: ConvergenceWarning: Objective did not converge. You might want to increase the number of iterations. Duality gap: 992522.4375, tolerance: 1363.5743408203125\n",
      "  positive)\n",
      "C:\\ProgramData\\Anaconda3\\lib\\site-packages\\sklearn\\linear_model\\_coordinate_descent.py:532: ConvergenceWarning: Objective did not converge. You might want to increase the number of iterations. Duality gap: 952672.1875, tolerance: 1361.630859375\n",
      "  positive)\n",
      "C:\\ProgramData\\Anaconda3\\lib\\site-packages\\sklearn\\linear_model\\_coordinate_descent.py:532: ConvergenceWarning: Objective did not converge. You might want to increase the number of iterations. Duality gap: 873900.9375, tolerance: 1376.0655517578125\n",
      "  positive)\n",
      "C:\\ProgramData\\Anaconda3\\lib\\site-packages\\sklearn\\linear_model\\_coordinate_descent.py:532: ConvergenceWarning: Objective did not converge. You might want to increase the number of iterations. Duality gap: 996167.125, tolerance: 1340.749267578125\n",
      "  positive)\n",
      "C:\\ProgramData\\Anaconda3\\lib\\site-packages\\sklearn\\linear_model\\_coordinate_descent.py:532: ConvergenceWarning: Objective did not converge. You might want to increase the number of iterations. Duality gap: 942975.875, tolerance: 1378.01025390625\n",
      "  positive)\n",
      "C:\\ProgramData\\Anaconda3\\lib\\site-packages\\sklearn\\linear_model\\_coordinate_descent.py:532: ConvergenceWarning: Objective did not converge. You might want to increase the number of iterations. Duality gap: 946585.5, tolerance: 1368.3646240234375\n",
      "  positive)\n",
      "C:\\ProgramData\\Anaconda3\\lib\\site-packages\\sklearn\\linear_model\\_coordinate_descent.py:532: ConvergenceWarning: Objective did not converge. You might want to increase the number of iterations. Duality gap: 919842.125, tolerance: 1354.2628173828125\n",
      "  positive)\n",
      "C:\\ProgramData\\Anaconda3\\lib\\site-packages\\sklearn\\linear_model\\_coordinate_descent.py:532: ConvergenceWarning: Objective did not converge. You might want to increase the number of iterations. Duality gap: 952925.375, tolerance: 1367.8740234375\n",
      "  positive)\n"
     ]
    },
    {
     "name": "stdout",
     "output_type": "stream",
     "text": [
      "Test MAE: 44.23118567757235\n"
     ]
    }
   ],
   "source": [
    "print('Training R2:',r2_score(Tg[:5600],Tg_pred[:5600]))\n",
    "print('Training MAE:',mean_absolute_error(Tg[:5600],Tg_pred[:5600]))\n",
    "print('Test R2:',r2_score(Tg[5600:],cross_val_predict(model, X_dataset_1[5600:], Tg[5600:], cv=cv)))\n",
    "print('Test MAE:',mean_absolute_error(Tg[5600:],cross_val_predict(model, X_dataset_1[5600:], Tg[5600:], cv=cv)))"
   ]
  },
  {
   "cell_type": "markdown",
   "metadata": {},
   "source": [
    "### GaussianProcessRegressor"
   ]
  },
  {
   "cell_type": "code",
   "execution_count": 132,
   "metadata": {},
   "outputs": [],
   "source": [
    "from sklearn.gaussian_process import GaussianProcessRegressor\n",
    "from sklearn.gaussian_process.kernels import DotProduct, WhiteKernel, RBF"
   ]
  },
  {
   "cell_type": "code",
   "execution_count": 137,
   "metadata": {},
   "outputs": [],
   "source": [
    "y = DF['Tg']\n",
    "X_train, X_test, y_train, y_test = train_test_split(X, y, \n",
    "                                                    test_size=0.2, \n",
    "                                                    random_state=2)"
   ]
  },
  {
   "cell_type": "code",
   "execution_count": 140,
   "metadata": {},
   "outputs": [],
   "source": [
    "kernel = RBF()"
   ]
  },
  {
   "cell_type": "code",
   "execution_count": 141,
   "metadata": {},
   "outputs": [
    {
     "name": "stderr",
     "output_type": "stream",
     "text": [
      "C:\\ProgramData\\Anaconda3\\lib\\site-packages\\sklearn\\gaussian_process\\kernels.py:409: ConvergenceWarning: The optimal value found for dimension 0 of parameter length_scale is close to the specified lower bound 1e-05. Decreasing the bound and calling fit again may find a better value.\n",
      "  ConvergenceWarning)\n"
     ]
    }
   ],
   "source": [
    "model = GaussianProcessRegressor(kernel=kernel,random_state=0).fit(X_train, y_train)"
   ]
  },
  {
   "cell_type": "code",
   "execution_count": 142,
   "metadata": {},
   "outputs": [
    {
     "name": "stdout",
     "output_type": "stream",
     "text": [
      "Train set R^2:  0.9999932818024658\n",
      "Train MAE score: 0.0108\n",
      "Test set R^2:  -1.5185858235420158\n",
      "Test MAE score: 145.6085\n"
     ]
    },
    {
     "data": {
      "text/plain": [
       "[<matplotlib.lines.Line2D at 0x27fc65554c8>]"
      ]
     },
     "execution_count": 142,
     "metadata": {},
     "output_type": "execute_result"
    },
    {
     "data": {
      "image/png": "[encoded data removed]",
      "text/plain": [
       "<Figure size 432x288 with 1 Axes>"
      ]
     },
     "metadata": {
      "needs_background": "light"
     },
     "output_type": "display_data"
    }
   ],
   "source": [
    "y_pred_train = model.predict((X_train))\n",
    "print(\"Train set R^2: \", r2_score(y_train, y_pred_train))\n",
    "print(\"Train MAE score: %.4f\" % mean_absolute_error(y_train, y_pred_train))\n",
    "\n",
    "y_pred_test = model.predict((X_test))\n",
    "print(\"Test set R^2: \", r2_score(y_test, y_pred_test))\n",
    "print(\"Test MAE score: %.4f\" % mean_absolute_error(y_test, y_pred_test))\n",
    "\n",
    "ax=plt.subplot(1, 1, 1)\n",
    "plt.plot(y_train, y_pred_train, 'b.') \n",
    "plt.plot(y_test, y_pred_test, 'g.') \n",
    " \n",
    "plt.xlabel(\"True value of Tg (C)\",fontname=\"Times New Roman\", fontsize=15)\n",
    "plt.ylabel(\"Predicted value of Tg (C)\",fontname=\"Times New Roman\", fontsize=15)\n",
    "x0, x1 = min(y_train), max(y_train)\n",
    "length = x1 - x0\n",
    "x_start, x_end = x0-0.1*length, x1+0.1*length\n",
    "plt.xlim([x_start, x_end])\n",
    "plt.ylim([x_start, x_end])\n",
    "ax.set_xticks([-200,-100,0,100,200,300,400,500])\n",
    "ax.set_yticks([-200,-100,0,100,200,300,400,500])\n",
    "plt.xticks(fontname=\"Times New Roman\", fontsize=15)\n",
    "plt.yticks(fontname=\"Times New Roman\", fontsize=15)\n",
    "plt.gca().set_aspect(\"equal\", adjustable=\"box\")\n",
    "# the unit line\n",
    "plt.plot(np.arange(x_start, x_end, 0.01*length),\n",
    "np.arange(x_start, x_end, 0.01*length), 'r-')"
   ]
  },
  {
   "cell_type": "code",
   "execution_count": null,
   "metadata": {},
   "outputs": [],
   "source": [
    "GPmodel = GridSearchCV(GaussianProcessRegressor(normalize_y=True), cv=20,\n",
    "              param_grid={\"alpha\": np.logspace(-15, -10, 30),}, scoring='neg_mean_absolute_error', n_jobs=-1)\n",
    "GPmodel = GPmodel.fit(X, y)"
   ]
  },
  {
   "cell_type": "markdown",
   "metadata": {},
   "source": [
    "### DNN"
   ]
  },
  {
   "cell_type": "code",
   "execution_count": 48,
   "metadata": {},
   "outputs": [],
   "source": [
    "y = DF['Tg']\n",
    "X_train, X_test, y_train, y_test = train_test_split(X, y, \n",
    "                                                    test_size=0.2, \n",
    "                                                    random_state=2)"
   ]
  },
  {
   "cell_type": "code",
   "execution_count": 49,
   "metadata": {
    "scrolled": true
   },
   "outputs": [
    {
     "name": "stdout",
     "output_type": "stream",
     "text": [
      "Epoch 1/100\n",
      "174/174 - 0s - loss: 26080.4512 - val_loss: 11667.5400\n",
      "Epoch 2/100\n",
      "174/174 - 0s - loss: 8273.1719 - val_loss: 7728.5146\n",
      "Epoch 3/100\n",
      "174/174 - 0s - loss: 7055.9053 - val_loss: 7062.9185\n",
      "Epoch 4/100\n",
      "174/174 - 0s - loss: 6087.4150 - val_loss: 5730.8013\n",
      "Epoch 5/100\n",
      "174/174 - 0s - loss: 5159.8828 - val_loss: 4977.6079\n",
      "Epoch 6/100\n",
      "174/174 - 0s - loss: 4633.5625 - val_loss: 4653.7627\n",
      "Epoch 7/100\n",
      "174/174 - 0s - loss: 4358.0894 - val_loss: 4311.4561\n",
      "Epoch 8/100\n",
      "174/174 - 0s - loss: 4171.2793 - val_loss: 4161.9307\n",
      "Epoch 9/100\n",
      "174/174 - 0s - loss: 4070.3647 - val_loss: 4072.7141\n",
      "Epoch 10/100\n",
      "174/174 - 0s - loss: 3983.0112 - val_loss: 4021.2012\n",
      "Epoch 11/100\n",
      "174/174 - 0s - loss: 3935.9949 - val_loss: 3930.5503\n",
      "Epoch 12/100\n",
      "174/174 - 0s - loss: 3885.3291 - val_loss: 3879.5227\n",
      "Epoch 13/100\n",
      "174/174 - 0s - loss: 3906.3521 - val_loss: 3841.0996\n",
      "Epoch 14/100\n",
      "174/174 - 0s - loss: 3796.0696 - val_loss: 3825.7717\n",
      "Epoch 15/100\n",
      "174/174 - 0s - loss: 3779.9011 - val_loss: 3783.4336\n",
      "Epoch 16/100\n",
      "174/174 - 0s - loss: 3749.0498 - val_loss: 3919.3899\n",
      "Epoch 17/100\n",
      "174/174 - 0s - loss: 3719.2632 - val_loss: 3714.1201\n",
      "Epoch 18/100\n",
      "174/174 - 0s - loss: 3675.4033 - val_loss: 3770.9915\n",
      "Epoch 19/100\n",
      "174/174 - 0s - loss: 3662.1785 - val_loss: 3671.0881\n",
      "Epoch 20/100\n",
      "174/174 - 0s - loss: 3630.1938 - val_loss: 3630.1018\n",
      "Epoch 21/100\n",
      "174/174 - 0s - loss: 3593.5164 - val_loss: 3574.0913\n",
      "Epoch 22/100\n",
      "174/174 - 0s - loss: 3561.3762 - val_loss: 3559.4775\n",
      "Epoch 23/100\n",
      "174/174 - 0s - loss: 3524.2478 - val_loss: 3507.6909\n",
      "Epoch 24/100\n",
      "174/174 - 0s - loss: 3498.8545 - val_loss: 3469.5632\n",
      "Epoch 25/100\n",
      "174/174 - 0s - loss: 3471.5891 - val_loss: 3461.1177\n",
      "Epoch 26/100\n",
      "174/174 - 0s - loss: 3447.9067 - val_loss: 3440.7942\n",
      "Epoch 27/100\n",
      "174/174 - 0s - loss: 3430.1123 - val_loss: 3407.0439\n",
      "Epoch 28/100\n",
      "174/174 - 0s - loss: 3433.7056 - val_loss: 3391.4661\n",
      "Epoch 29/100\n",
      "174/174 - 0s - loss: 3389.0671 - val_loss: 3405.1462\n",
      "Epoch 30/100\n",
      "174/174 - 0s - loss: 3381.0632 - val_loss: 3370.8147\n",
      "Epoch 31/100\n",
      "174/174 - 0s - loss: 3359.6619 - val_loss: 3370.0876\n",
      "Epoch 32/100\n",
      "174/174 - 0s - loss: 3330.6602 - val_loss: 3336.7178\n",
      "Epoch 33/100\n",
      "174/174 - 0s - loss: 3314.6638 - val_loss: 3330.6899\n",
      "Epoch 34/100\n",
      "174/174 - 0s - loss: 3302.6509 - val_loss: 3330.8550\n",
      "Epoch 35/100\n",
      "174/174 - 0s - loss: 3304.4609 - val_loss: 3321.1943\n",
      "Epoch 36/100\n",
      "174/174 - 0s - loss: 3272.6917 - val_loss: 3280.1343\n",
      "Epoch 37/100\n",
      "174/174 - 0s - loss: 3284.9346 - val_loss: 3271.5239\n",
      "Epoch 38/100\n",
      "174/174 - 0s - loss: 3254.6646 - val_loss: 3278.1182\n",
      "Epoch 39/100\n",
      "174/174 - 0s - loss: 3246.8569 - val_loss: 3309.7185\n",
      "Epoch 40/100\n",
      "174/174 - 0s - loss: 3233.3904 - val_loss: 3236.2544\n",
      "Epoch 41/100\n",
      "174/174 - 0s - loss: 3234.6316 - val_loss: 3243.1050\n",
      "Epoch 42/100\n",
      "174/174 - 0s - loss: 3239.3262 - val_loss: 3307.1592\n",
      "Epoch 43/100\n",
      "174/174 - 0s - loss: 3203.9041 - val_loss: 3226.1887\n",
      "Epoch 44/100\n",
      "174/174 - 0s - loss: 3202.8335 - val_loss: 3209.3687\n",
      "Epoch 45/100\n",
      "174/174 - 0s - loss: 3181.2224 - val_loss: 3216.3098\n",
      "Epoch 46/100\n",
      "174/174 - 0s - loss: 3176.4053 - val_loss: 3241.7488\n",
      "Epoch 47/100\n",
      "174/174 - 0s - loss: 3180.6121 - val_loss: 3188.1968\n",
      "Epoch 48/100\n",
      "174/174 - 0s - loss: 3172.2466 - val_loss: 3206.3530\n",
      "Epoch 49/100\n",
      "174/174 - 0s - loss: 3139.4138 - val_loss: 3170.5015\n",
      "Epoch 50/100\n",
      "174/174 - 0s - loss: 3153.2170 - val_loss: 3202.2256\n",
      "Epoch 51/100\n",
      "174/174 - 0s - loss: 3131.9563 - val_loss: 3170.4373\n",
      "Epoch 52/100\n",
      "174/174 - 0s - loss: 3132.3608 - val_loss: 3199.9019\n",
      "Epoch 53/100\n",
      "174/174 - 0s - loss: 3140.9685 - val_loss: 3189.0342\n",
      "Epoch 54/100\n",
      "174/174 - 0s - loss: 3120.8923 - val_loss: 3180.1982\n",
      "Epoch 55/100\n",
      "174/174 - 0s - loss: 3117.5969 - val_loss: 3158.9014\n",
      "Epoch 56/100\n",
      "174/174 - 0s - loss: 3085.6912 - val_loss: 3134.1099\n",
      "Epoch 57/100\n",
      "174/174 - 0s - loss: 3118.4199 - val_loss: 3110.3589\n",
      "Epoch 58/100\n",
      "174/174 - 0s - loss: 3104.3887 - val_loss: 3115.4946\n",
      "Epoch 59/100\n",
      "174/174 - 0s - loss: 3077.2085 - val_loss: 3108.6682\n",
      "Epoch 60/100\n",
      "174/174 - 0s - loss: 3047.4749 - val_loss: 3110.6782\n",
      "Epoch 61/100\n",
      "174/174 - 0s - loss: 3060.5571 - val_loss: 3104.0686\n",
      "Epoch 62/100\n",
      "174/174 - 0s - loss: 3056.1460 - val_loss: 3090.7517\n",
      "Epoch 63/100\n",
      "174/174 - 0s - loss: 3045.3196 - val_loss: 3078.3235\n",
      "Epoch 64/100\n",
      "174/174 - 0s - loss: 3048.5232 - val_loss: 3106.7148\n",
      "Epoch 65/100\n",
      "174/174 - 0s - loss: 3019.0579 - val_loss: 3085.5771\n",
      "Epoch 66/100\n",
      "174/174 - 0s - loss: 3007.7131 - val_loss: 3055.9990\n",
      "Epoch 67/100\n",
      "174/174 - 0s - loss: 3000.1780 - val_loss: 3066.2354\n",
      "Epoch 68/100\n",
      "174/174 - 0s - loss: 2996.8374 - val_loss: 3050.4768\n",
      "Epoch 69/100\n",
      "174/174 - 0s - loss: 2989.7292 - val_loss: 3070.6575\n",
      "Epoch 70/100\n",
      "174/174 - 0s - loss: 2987.8459 - val_loss: 3027.6833\n",
      "Epoch 71/100\n",
      "174/174 - 0s - loss: 2980.3386 - val_loss: 3037.0815\n",
      "Epoch 72/100\n",
      "174/174 - 0s - loss: 2972.5210 - val_loss: 3019.8225\n",
      "Epoch 73/100\n",
      "174/174 - 0s - loss: 2978.2847 - val_loss: 3120.2239\n",
      "Epoch 74/100\n",
      "174/174 - 0s - loss: 2980.0679 - val_loss: 3008.6545\n",
      "Epoch 75/100\n",
      "174/174 - 0s - loss: 2969.6409 - val_loss: 3011.2449\n",
      "Epoch 76/100\n",
      "174/174 - 0s - loss: 2949.1633 - val_loss: 3069.5793\n",
      "Epoch 77/100\n",
      "174/174 - 0s - loss: 2952.5391 - val_loss: 2997.3850\n",
      "Epoch 78/100\n",
      "174/174 - 0s - loss: 2922.4136 - val_loss: 2996.3247\n",
      "Epoch 79/100\n",
      "174/174 - 0s - loss: 2922.3867 - val_loss: 2990.8906\n",
      "Epoch 80/100\n",
      "174/174 - 0s - loss: 2923.6633 - val_loss: 2984.2705\n",
      "Epoch 81/100\n",
      "174/174 - 0s - loss: 2929.6072 - val_loss: 2981.0303\n",
      "Epoch 82/100\n",
      "174/174 - 0s - loss: 2890.9460 - val_loss: 2981.9941\n",
      "Epoch 83/100\n",
      "174/174 - 0s - loss: 2880.6731 - val_loss: 2969.4373\n",
      "Epoch 84/100\n",
      "174/174 - 0s - loss: 2886.0430 - val_loss: 2946.5317\n",
      "Epoch 85/100\n",
      "174/174 - 0s - loss: 2881.7161 - val_loss: 3004.6377\n",
      "Epoch 86/100\n",
      "174/174 - 0s - loss: 2880.5127 - val_loss: 2951.7051\n",
      "Epoch 87/100\n",
      "174/174 - 0s - loss: 2859.6760 - val_loss: 2936.8875\n",
      "Epoch 88/100\n",
      "174/174 - 0s - loss: 2863.2820 - val_loss: 3173.6091\n",
      "Epoch 89/100\n",
      "174/174 - 0s - loss: 2867.2454 - val_loss: 2983.1399\n",
      "Epoch 90/100\n",
      "174/174 - 0s - loss: 2828.5503 - val_loss: 2917.1794\n",
      "Epoch 91/100\n",
      "174/174 - 0s - loss: 2852.8076 - val_loss: 2975.3594\n",
      "Epoch 92/100\n",
      "174/174 - 0s - loss: 2820.8027 - val_loss: 2916.8137\n",
      "Epoch 93/100\n",
      "174/174 - 0s - loss: 2817.3088 - val_loss: 2892.2856\n",
      "Epoch 94/100\n",
      "174/174 - 0s - loss: 2809.1501 - val_loss: 2917.9597\n",
      "Epoch 95/100\n",
      "174/174 - 0s - loss: 2791.1079 - val_loss: 2921.0530\n",
      "Epoch 96/100\n",
      "174/174 - 0s - loss: 2805.3909 - val_loss: 2976.0032\n",
      "Epoch 97/100\n",
      "174/174 - 0s - loss: 2780.5520 - val_loss: 2866.0190\n",
      "Epoch 98/100\n",
      "174/174 - 0s - loss: 2776.7192 - val_loss: 2860.0000\n",
      "Epoch 99/100\n",
      "174/174 - 0s - loss: 2762.3606 - val_loss: 2848.6851\n",
      "Epoch 100/100\n",
      "174/174 - 0s - loss: 2768.1140 - val_loss: 2946.3713\n"
     ]
    }
   ],
   "source": [
    "model = keras.models.Sequential()\n",
    "model.add(Dense(units = 8, input_dim = X.shape[1],activation='relu'))\n",
    "model.add(Dense(units = 8, activation='relu'))\n",
    "model.add(Dense(units = 1))\n",
    " \n",
    "# model.summary()\n",
    "\n",
    "model.compile(loss = 'mean_squared_error',\n",
    "    optimizer = 'adam')\n",
    "history = model.fit((X_train), y_train, epochs = 100, batch_size = 32,\n",
    "    validation_data = ((X_test), y_test), verbose=2)"
   ]
  },
  {
   "cell_type": "code",
   "execution_count": 50,
   "metadata": {},
   "outputs": [
    {
     "name": "stdout",
     "output_type": "stream",
     "text": [
      "Train set R^2:  0.7618433743139\n",
      "Train MAE score: 40.2213\n",
      "Test set R^2:  0.760306930563054\n",
      "Test MAE score: 41.0237\n"
     ]
    },
    {
     "data": {
      "text/plain": [
       "[<matplotlib.lines.Line2D at 0x27fc7bc04c8>]"
      ]
     },
     "execution_count": 50,
     "metadata": {},
     "output_type": "execute_result"
    },
    {
     "data": {
      "image/png": "[encoded data removed]",
      "text/plain": [
       "<Figure size 432x288 with 1 Axes>"
      ]
     },
     "metadata": {
      "needs_background": "light"
     },
     "output_type": "display_data"
    }
   ],
   "source": [
    "y_pred_train = model.predict((X_train))\n",
    "print(\"Train set R^2: \", r2_score(y_train, y_pred_train))\n",
    "print(\"Train MAE score: %.4f\" % mean_absolute_error(y_train, y_pred_train))\n",
    "\n",
    "y_pred_test = model.predict((X_test))\n",
    "print(\"Test set R^2: \", r2_score(y_test, y_pred_test))\n",
    "print(\"Test MAE score: %.4f\" % mean_absolute_error(y_test, y_pred_test))\n",
    "\n",
    "ax=plt.subplot(1, 1, 1)\n",
    "plt.plot(y_train, y_pred_train, 'b.') \n",
    "plt.plot(y_test, y_pred_test, 'g.') \n",
    " \n",
    "plt.xlabel(\"True value of Tg (C)\",fontname=\"Times New Roman\", fontsize=15)\n",
    "plt.ylabel(\"Predicted value of Tg (C)\",fontname=\"Times New Roman\", fontsize=15)\n",
    "x0, x1 = min(y_train), max(y_train)\n",
    "length = x1 - x0\n",
    "x_start, x_end = x0-0.1*length, x1+0.1*length\n",
    "plt.xlim([x_start, x_end])\n",
    "plt.ylim([x_start, x_end])\n",
    "ax.set_xticks([-200,-100,0,100,200,300,400,500])\n",
    "ax.set_yticks([-200,-100,0,100,200,300,400,500])\n",
    "plt.xticks(fontname=\"Times New Roman\", fontsize=15)\n",
    "plt.yticks(fontname=\"Times New Roman\", fontsize=15)\n",
    "plt.gca().set_aspect(\"equal\", adjustable=\"box\")\n",
    "# the unit line\n",
    "plt.plot(np.arange(x_start, x_end, 0.01*length),\n",
    "np.arange(x_start, x_end, 0.01*length), 'r-')"
   ]
  },
  {
   "cell_type": "markdown",
   "metadata": {},
   "source": [
    "### CNN"
   ]
  },
  {
   "cell_type": "code",
   "execution_count": 80,
   "metadata": {},
   "outputs": [],
   "source": [
    "from keras import optimizers"
   ]
  },
  {
   "cell_type": "code",
   "execution_count": 95,
   "metadata": {},
   "outputs": [],
   "source": [
    "X = X.reshape((6923, 300, 1))"
   ]
  },
  {
   "cell_type": "code",
   "execution_count": 103,
   "metadata": {},
   "outputs": [],
   "source": [
    "y = DF['Tg']\n",
    "y = np.array(y).reshape((6923, 1))"
   ]
  },
  {
   "cell_type": "code",
   "execution_count": 104,
   "metadata": {},
   "outputs": [],
   "source": [
    "X_train, X_test, y_train, y_test = train_test_split(X, y, \n",
    "                                                    test_size=0.2, \n",
    "                                                    random_state=2)"
   ]
  },
  {
   "cell_type": "code",
   "execution_count": 105,
   "metadata": {},
   "outputs": [
    {
     "data": {
      "text/plain": [
       "(5538, 300, 1)"
      ]
     },
     "execution_count": 105,
     "metadata": {},
     "output_type": "execute_result"
    }
   ],
   "source": [
    "X_train.shape"
   ]
  },
  {
   "cell_type": "code",
   "execution_count": 106,
   "metadata": {},
   "outputs": [
    {
     "name": "stdout",
     "output_type": "stream",
     "text": [
      "Epoch 1/50\n",
      "277/277 [==============================] - ETA: 0s - loss: 123.139 - ETA: 0s - loss: 79.485 - ETA: 0s - loss: 72.70 - ETA: 0s - loss: 67.68 - ETA: 0s - loss: 64.27 - ETA: 0s - loss: 61.95 - ETA: 0s - loss: 60.36 - ETA: 0s - loss: 58.51 - ETA: 0s - loss: 57.18 - 1s 2ms/step - loss: 56.6061 - val_loss: 45.8964\n",
      "Epoch 2/50\n",
      "277/277 [==============================] - ETA: 0s - loss: 54.13 - ETA: 0s - loss: 46.98 - ETA: 0s - loss: 46.56 - ETA: 0s - loss: 45.43 - ETA: 0s - loss: 45.10 - ETA: 0s - loss: 45.27 - ETA: 0s - loss: 45.07 - ETA: 0s - loss: 44.73 - ETA: 0s - loss: 44.39 - 1s 2ms/step - loss: 44.5527 - val_loss: 46.5582\n",
      "Epoch 3/50\n",
      "277/277 [==============================] - ETA: 0s - loss: 44.06 - ETA: 0s - loss: 45.52 - ETA: 0s - loss: 43.19 - ETA: 0s - loss: 42.22 - ETA: 0s - loss: 41.33 - ETA: 0s - loss: 41.36 - ETA: 0s - loss: 41.25 - ETA: 0s - loss: 41.06 - ETA: 0s - loss: 41.05 - 1s 2ms/step - loss: 40.9848 - val_loss: 39.3150\n",
      "Epoch 4/50\n",
      "277/277 [==============================] - ETA: 0s - loss: 32.40 - ETA: 0s - loss: 39.51 - ETA: 0s - loss: 39.51 - ETA: 0s - loss: 38.82 - ETA: 0s - loss: 38.68 - ETA: 0s - loss: 38.91 - ETA: 0s - loss: 39.67 - ETA: 0s - loss: 39.76 - 0s 2ms/step - loss: 39.3325 - val_loss: 40.8885\n",
      "Epoch 5/50\n",
      "277/277 [==============================] - ETA: 0s - loss: 43.86 - ETA: 0s - loss: 37.79 - ETA: 0s - loss: 36.46 - ETA: 0s - loss: 37.20 - ETA: 0s - loss: 37.96 - ETA: 0s - loss: 38.14 - ETA: 0s - loss: 37.78 - ETA: 0s - loss: 37.79 - 0s 2ms/step - loss: 37.7120 - val_loss: 36.0593\n",
      "Epoch 6/50\n",
      "277/277 [==============================] - ETA: 0s - loss: 38.16 - ETA: 0s - loss: 37.13 - ETA: 0s - loss: 37.08 - ETA: 0s - loss: 36.96 - ETA: 0s - loss: 37.61 - ETA: 0s - loss: 37.50 - ETA: 0s - loss: 37.39 - ETA: 0s - loss: 37.38 - ETA: 0s - loss: 37.26 - 0s 2ms/step - loss: 37.2446 - val_loss: 36.0702\n",
      "Epoch 7/50\n",
      "277/277 [==============================] - ETA: 0s - loss: 32.46 - ETA: 0s - loss: 34.25 - ETA: 0s - loss: 38.04 - ETA: 0s - loss: 37.74 - ETA: 0s - loss: 37.14 - ETA: 0s - loss: 37.47 - ETA: 0s - loss: 37.02 - ETA: 0s - loss: 37.20 - 0s 2ms/step - loss: 37.0540 - val_loss: 35.7141\n",
      "Epoch 8/50\n",
      "277/277 [==============================] - ETA: 0s - loss: 32.56 - ETA: 0s - loss: 36.88 - ETA: 0s - loss: 37.66 - ETA: 0s - loss: 36.54 - ETA: 0s - loss: 36.49 - ETA: 0s - loss: 35.77 - ETA: 0s - loss: 36.15 - ETA: 0s - loss: 35.97 - ETA: 0s - loss: 36.06 - 0s 2ms/step - loss: 36.0673 - val_loss: 37.0867\n",
      "Epoch 9/50\n",
      "277/277 [==============================] - ETA: 0s - loss: 48.53 - ETA: 0s - loss: 35.92 - ETA: 0s - loss: 35.95 - ETA: 0s - loss: 35.40 - ETA: 0s - loss: 35.19 - ETA: 0s - loss: 35.10 - ETA: 0s - loss: 35.14 - ETA: 0s - loss: 34.84 - ETA: 0s - loss: 35.12 - 0s 2ms/step - loss: 35.1398 - val_loss: 37.4483\n",
      "Epoch 10/50\n",
      "277/277 [==============================] - ETA: 0s - loss: 35.24 - ETA: 0s - loss: 34.84 - ETA: 0s - loss: 34.28 - ETA: 0s - loss: 34.70 - ETA: 0s - loss: 34.49 - ETA: 0s - loss: 34.74 - ETA: 0s - loss: 34.86 - ETA: 0s - loss: 35.52 - ETA: 0s - loss: 35.62 - 0s 2ms/step - loss: 35.6663 - val_loss: 40.7269\n",
      "Epoch 11/50\n",
      "277/277 [==============================] - ETA: 0s - loss: 22.75 - ETA: 0s - loss: 34.72 - ETA: 0s - loss: 36.31 - ETA: 0s - loss: 36.55 - ETA: 0s - loss: 36.38 - ETA: 0s - loss: 36.01 - ETA: 0s - loss: 35.89 - ETA: 0s - loss: 35.91 - 0s 2ms/step - loss: 35.8667 - val_loss: 38.0005\n",
      "Epoch 12/50\n",
      "277/277 [==============================] - ETA: 0s - loss: 28.66 - ETA: 0s - loss: 36.67 - ETA: 0s - loss: 34.97 - ETA: 0s - loss: 35.24 - ETA: 0s - loss: 34.67 - ETA: 0s - loss: 34.58 - ETA: 0s - loss: 34.82 - ETA: 0s - loss: 35.51 - ETA: 0s - loss: 35.63 - 0s 2ms/step - loss: 35.6330 - val_loss: 37.2352\n",
      "Epoch 13/50\n",
      "277/277 [==============================] - ETA: 0s - loss: 29.03 - ETA: 0s - loss: 35.39 - ETA: 0s - loss: 33.43 - ETA: 0s - loss: 34.56 - ETA: 0s - loss: 34.29 - ETA: 0s - loss: 34.64 - ETA: 0s - loss: 34.99 - ETA: 0s - loss: 34.72 - ETA: 0s - loss: 34.69 - 1s 2ms/step - loss: 34.8074 - val_loss: 33.9101\n",
      "Epoch 14/50\n",
      "277/277 [==============================] - ETA: 0s - loss: 39.76 - ETA: 0s - loss: 34.15 - ETA: 0s - loss: 34.36 - ETA: 0s - loss: 34.38 - ETA: 0s - loss: 34.51 - ETA: 0s - loss: 34.77 - ETA: 0s - loss: 35.25 - ETA: 0s - loss: 35.36 - ETA: 0s - loss: 34.93 - 1s 2ms/step - loss: 34.9580 - val_loss: 34.7021\n",
      "Epoch 15/50\n",
      "277/277 [==============================] - ETA: 0s - loss: 37.35 - ETA: 0s - loss: 33.67 - ETA: 0s - loss: 33.55 - ETA: 0s - loss: 34.68 - ETA: 0s - loss: 35.16 - ETA: 0s - loss: 34.45 - ETA: 0s - loss: 34.36 - ETA: 0s - loss: 34.23 - ETA: 0s - loss: 33.96 - 0s 2ms/step - loss: 34.0045 - val_loss: 38.7768\n",
      "Epoch 16/50\n",
      "277/277 [==============================] - ETA: 0s - loss: 33.41 - ETA: 0s - loss: 36.00 - ETA: 0s - loss: 34.91 - ETA: 0s - loss: 35.53 - ETA: 0s - loss: 35.53 - ETA: 0s - loss: 35.49 - ETA: 0s - loss: 35.30 - ETA: 0s - loss: 34.99 - ETA: 0s - loss: 35.21 - 0s 2ms/step - loss: 35.2101 - val_loss: 34.9875\n",
      "Epoch 17/50\n",
      "277/277 [==============================] - ETA: 0s - loss: 50.61 - ETA: 0s - loss: 33.71 - ETA: 0s - loss: 34.60 - ETA: 0s - loss: 34.49 - ETA: 0s - loss: 34.70 - ETA: 0s - loss: 34.28 - ETA: 0s - loss: 34.75 - ETA: 0s - loss: 34.33 - ETA: 0s - loss: 34.32 - 0s 2ms/step - loss: 34.3158 - val_loss: 38.9428\n",
      "Epoch 18/50\n",
      "277/277 [==============================] - ETA: 0s - loss: 32.33 - ETA: 0s - loss: 36.21 - ETA: 0s - loss: 36.11 - ETA: 0s - loss: 35.16 - ETA: 0s - loss: 34.39 - ETA: 0s - loss: 34.69 - ETA: 0s - loss: 35.20 - ETA: 0s - loss: 34.57 - ETA: 0s - loss: 34.77 - 1s 2ms/step - loss: 34.7715 - val_loss: 35.4510\n",
      "Epoch 19/50\n",
      "277/277 [==============================] - ETA: 0s - loss: 36.31 - ETA: 0s - loss: 32.40 - ETA: 0s - loss: 32.57 - ETA: 0s - loss: 33.07 - ETA: 0s - loss: 34.55 - ETA: 0s - loss: 34.47 - ETA: 0s - loss: 34.13 - ETA: 0s - loss: 33.98 - ETA: 0s - loss: 34.25 - 1s 2ms/step - loss: 34.4957 - val_loss: 33.9154\n",
      "Epoch 20/50\n",
      "277/277 [==============================] - ETA: 0s - loss: 27.32 - ETA: 0s - loss: 32.53 - ETA: 0s - loss: 33.72 - ETA: 0s - loss: 33.19 - ETA: 0s - loss: 33.47 - ETA: 0s - loss: 33.73 - ETA: 0s - loss: 34.06 - ETA: 0s - loss: 34.16 - ETA: 0s - loss: 34.35 - 1s 2ms/step - loss: 34.3347 - val_loss: 33.9240\n",
      "Epoch 21/50\n",
      "277/277 [==============================] - ETA: 0s - loss: 39.69 - ETA: 0s - loss: 34.44 - ETA: 0s - loss: 34.09 - ETA: 0s - loss: 34.46 - ETA: 0s - loss: 33.71 - ETA: 0s - loss: 33.89 - ETA: 0s - loss: 33.86 - ETA: 0s - loss: 33.69 - ETA: 0s - loss: 34.07 - 0s 2ms/step - loss: 34.1259 - val_loss: 36.5999\n",
      "Epoch 22/50\n",
      "277/277 [==============================] - ETA: 0s - loss: 39.57 - ETA: 0s - loss: 33.88 - ETA: 0s - loss: 34.09 - ETA: 0s - loss: 34.54 - ETA: 0s - loss: 34.11 - ETA: 0s - loss: 34.32 - ETA: 0s - loss: 34.52 - ETA: 0s - loss: 34.37 - ETA: 0s - loss: 34.31 - 0s 2ms/step - loss: 34.3088 - val_loss: 35.9527\n",
      "Epoch 23/50\n",
      "277/277 [==============================] - ETA: 0s - loss: 36.70 - ETA: 0s - loss: 34.30 - ETA: 0s - loss: 35.01 - ETA: 0s - loss: 34.07 - ETA: 0s - loss: 34.33 - ETA: 0s - loss: 34.48 - ETA: 0s - loss: 34.51 - ETA: 0s - loss: 34.17 - ETA: 0s - loss: 34.22 - 1s 2ms/step - loss: 34.0790 - val_loss: 33.6857\n",
      "Epoch 24/50\n",
      "277/277 [==============================] - ETA: 0s - loss: 27.68 - ETA: 0s - loss: 32.09 - ETA: 0s - loss: 34.23 - ETA: 0s - loss: 32.97 - ETA: 0s - loss: 33.74 - ETA: 0s - loss: 34.02 - ETA: 0s - loss: 34.46 - ETA: 0s - loss: 34.19 - ETA: 0s - loss: 33.77 - 1s 2ms/step - loss: 33.9144 - val_loss: 32.9991\n",
      "Epoch 25/50\n",
      "277/277 [==============================] - ETA: 0s - loss: 38.22 - ETA: 0s - loss: 32.49 - ETA: 0s - loss: 33.70 - ETA: 0s - loss: 33.95 - ETA: 0s - loss: 34.06 - ETA: 0s - loss: 34.33 - ETA: 0s - loss: 34.30 - ETA: 0s - loss: 34.27 - 0s 2ms/step - loss: 33.9154 - val_loss: 33.9365\n",
      "Epoch 26/50\n",
      "277/277 [==============================] - ETA: 0s - loss: 40.81 - ETA: 0s - loss: 32.74 - ETA: 0s - loss: 34.17 - ETA: 0s - loss: 33.50 - ETA: 0s - loss: 33.96 - ETA: 0s - loss: 33.58 - ETA: 0s - loss: 33.37 - ETA: 0s - loss: 33.27 - ETA: 0s - loss: 33.47 - 0s 2ms/step - loss: 33.5199 - val_loss: 34.2177\n",
      "Epoch 27/50\n",
      "277/277 [==============================] - ETA: 0s - loss: 25.09 - ETA: 0s - loss: 33.18 - ETA: 0s - loss: 34.16 - ETA: 0s - loss: 34.03 - ETA: 0s - loss: 33.71 - ETA: 0s - loss: 33.81 - ETA: 0s - loss: 33.75 - ETA: 0s - loss: 33.74 - 0s 2ms/step - loss: 33.7565 - val_loss: 35.0059\n",
      "Epoch 28/50\n",
      "277/277 [==============================] - ETA: 0s - loss: 29.43 - ETA: 0s - loss: 33.57 - ETA: 0s - loss: 34.28 - ETA: 0s - loss: 34.04 - ETA: 0s - loss: 34.55 - ETA: 0s - loss: 34.11 - ETA: 0s - loss: 33.58 - ETA: 0s - loss: 33.37 - 0s 2ms/step - loss: 33.2901 - val_loss: 35.2199\n",
      "Epoch 29/50\n",
      "277/277 [==============================] - ETA: 0s - loss: 41.47 - ETA: 0s - loss: 31.84 - ETA: 0s - loss: 32.09 - ETA: 0s - loss: 34.66 - ETA: 0s - loss: 34.53 - ETA: 0s - loss: 34.92 - ETA: 0s - loss: 34.45 - ETA: 0s - loss: 34.07 - 0s 2ms/step - loss: 33.9540 - val_loss: 33.4773\n",
      "Epoch 30/50\n",
      "277/277 [==============================] - ETA: 0s - loss: 31.50 - ETA: 0s - loss: 32.77 - ETA: 0s - loss: 32.87 - ETA: 0s - loss: 33.32 - ETA: 0s - loss: 33.59 - ETA: 0s - loss: 34.40 - ETA: 0s - loss: 34.13 - ETA: 0s - loss: 33.81 - 0s 2ms/step - loss: 33.8681 - val_loss: 35.4053\n",
      "Epoch 31/50\n",
      "277/277 [==============================] - ETA: 0s - loss: 29.89 - ETA: 0s - loss: 32.60 - ETA: 0s - loss: 32.99 - ETA: 0s - loss: 33.35 - ETA: 0s - loss: 33.15 - ETA: 0s - loss: 33.53 - ETA: 0s - loss: 33.58 - ETA: 0s - loss: 33.26 - 0s 2ms/step - loss: 33.3132 - val_loss: 33.0273\n",
      "Epoch 32/50\n",
      "277/277 [==============================] - ETA: 0s - loss: 52.88 - ETA: 0s - loss: 36.10 - ETA: 0s - loss: 34.71 - ETA: 0s - loss: 34.59 - ETA: 0s - loss: 34.80 - ETA: 0s - loss: 34.29 - ETA: 0s - loss: 34.11 - ETA: 0s - loss: 33.98 - 0s 2ms/step - loss: 33.6981 - val_loss: 33.2528\n",
      "Epoch 33/50\n",
      "277/277 [==============================] - ETA: 0s - loss: 22.29 - ETA: 0s - loss: 34.30 - ETA: 0s - loss: 34.14 - ETA: 0s - loss: 34.83 - ETA: 0s - loss: 34.05 - ETA: 0s - loss: 33.25 - ETA: 0s - loss: 33.47 - ETA: 0s - loss: 33.57 - 0s 2ms/step - loss: 33.7245 - val_loss: 33.7244\n",
      "Epoch 34/50\n",
      "277/277 [==============================] - ETA: 0s - loss: 25.54 - ETA: 0s - loss: 30.82 - ETA: 0s - loss: 31.33 - ETA: 0s - loss: 33.45 - ETA: 0s - loss: 33.25 - ETA: 0s - loss: 33.24 - ETA: 0s - loss: 33.33 - ETA: 0s - loss: 33.40 - 0s 2ms/step - loss: 33.2326 - val_loss: 32.8895\n",
      "Epoch 35/50\n",
      "277/277 [==============================] - ETA: 0s - loss: 35.21 - ETA: 0s - loss: 31.20 - ETA: 0s - loss: 31.74 - ETA: 0s - loss: 33.27 - ETA: 0s - loss: 33.38 - ETA: 0s - loss: 33.24 - ETA: 0s - loss: 33.60 - ETA: 0s - loss: 33.81 - 0s 2ms/step - loss: 33.7404 - val_loss: 33.7113\n",
      "Epoch 36/50\n",
      "277/277 [==============================] - ETA: 0s - loss: 38.32 - ETA: 0s - loss: 32.37 - ETA: 0s - loss: 33.72 - ETA: 0s - loss: 33.64 - ETA: 0s - loss: 33.86 - ETA: 0s - loss: 33.86 - ETA: 0s - loss: 33.74 - ETA: 0s - loss: 33.94 - 0s 2ms/step - loss: 33.7292 - val_loss: 35.5045\n",
      "Epoch 37/50\n",
      "277/277 [==============================] - ETA: 0s - loss: 32.81 - ETA: 0s - loss: 34.90 - ETA: 0s - loss: 34.76 - ETA: 0s - loss: 34.18 - ETA: 0s - loss: 34.15 - ETA: 0s - loss: 33.47 - ETA: 0s - loss: 33.51 - ETA: 0s - loss: 33.51 - 0s 2ms/step - loss: 33.2257 - val_loss: 33.1175\n",
      "Epoch 38/50\n",
      "277/277 [==============================] - ETA: 0s - loss: 25.38 - ETA: 0s - loss: 32.11 - ETA: 0s - loss: 32.45 - ETA: 0s - loss: 33.19 - ETA: 0s - loss: 33.71 - ETA: 0s - loss: 33.68 - ETA: 0s - loss: 33.44 - ETA: 0s - loss: 33.36 - 0s 2ms/step - loss: 33.4142 - val_loss: 32.9050\n",
      "Epoch 39/50\n",
      "277/277 [==============================] - ETA: 0s - loss: 26.43 - ETA: 0s - loss: 32.20 - ETA: 0s - loss: 31.36 - ETA: 0s - loss: 31.83 - ETA: 0s - loss: 32.46 - ETA: 0s - loss: 32.78 - ETA: 0s - loss: 32.96 - ETA: 0s - loss: 33.07 - 0s 2ms/step - loss: 33.0138 - val_loss: 33.4971\n",
      "Epoch 40/50\n",
      "277/277 [==============================] - ETA: 0s - loss: 31.28 - ETA: 0s - loss: 32.95 - ETA: 0s - loss: 36.36 - ETA: 0s - loss: 34.75 - ETA: 0s - loss: 34.93 - ETA: 0s - loss: 34.33 - ETA: 0s - loss: 34.19 - ETA: 0s - loss: 34.01 - 0s 2ms/step - loss: 33.8852 - val_loss: 33.9324\n",
      "Epoch 41/50\n",
      "277/277 [==============================] - ETA: 0s - loss: 28.77 - ETA: 0s - loss: 33.26 - ETA: 0s - loss: 32.81 - ETA: 0s - loss: 32.64 - ETA: 0s - loss: 32.37 - ETA: 0s - loss: 32.70 - ETA: 0s - loss: 32.89 - ETA: 0s - loss: 33.16 - 0s 2ms/step - loss: 33.6562 - val_loss: 35.1678\n",
      "Epoch 42/50\n",
      "277/277 [==============================] - ETA: 0s - loss: 30.56 - ETA: 0s - loss: 33.88 - ETA: 0s - loss: 32.91 - ETA: 0s - loss: 33.78 - ETA: 0s - loss: 34.20 - ETA: 0s - loss: 34.00 - ETA: 0s - loss: 33.58 - ETA: 0s - loss: 33.23 - 0s 2ms/step - loss: 33.5204 - val_loss: 35.5338\n",
      "Epoch 43/50\n",
      "277/277 [==============================] - ETA: 0s - loss: 33.50 - ETA: 0s - loss: 33.79 - ETA: 0s - loss: 32.85 - ETA: 0s - loss: 32.68 - ETA: 0s - loss: 32.87 - ETA: 0s - loss: 33.14 - ETA: 0s - loss: 33.09 - ETA: 0s - loss: 33.08 - 0s 2ms/step - loss: 33.0687 - val_loss: 33.3988\n",
      "Epoch 44/50\n",
      "277/277 [==============================] - ETA: 0s - loss: 25.96 - ETA: 0s - loss: 35.05 - ETA: 0s - loss: 33.51 - ETA: 0s - loss: 33.82 - ETA: 0s - loss: 33.78 - ETA: 0s - loss: 33.58 - ETA: 0s - loss: 33.62 - ETA: 0s - loss: 33.32 - 0s 2ms/step - loss: 33.5138 - val_loss: 34.0835\n",
      "Epoch 45/50\n",
      "277/277 [==============================] - ETA: 0s - loss: 27.12 - ETA: 0s - loss: 32.70 - ETA: 0s - loss: 33.04 - ETA: 0s - loss: 32.81 - ETA: 0s - loss: 33.26 - ETA: 0s - loss: 33.09 - ETA: 0s - loss: 32.80 - ETA: 0s - loss: 32.95 - 0s 2ms/step - loss: 32.8953 - val_loss: 34.1024\n",
      "Epoch 46/50\n",
      "277/277 [==============================] - ETA: 0s - loss: 23.27 - ETA: 0s - loss: 31.78 - ETA: 0s - loss: 32.91 - ETA: 0s - loss: 32.75 - ETA: 0s - loss: 32.65 - ETA: 0s - loss: 32.93 - ETA: 0s - loss: 32.91 - ETA: 0s - loss: 33.08 - 0s 2ms/step - loss: 32.9944 - val_loss: 34.0728\n",
      "Epoch 47/50\n",
      "277/277 [==============================] - ETA: 0s - loss: 28.62 - ETA: 0s - loss: 35.60 - ETA: 0s - loss: 33.87 - ETA: 0s - loss: 34.11 - ETA: 0s - loss: 33.21 - ETA: 0s - loss: 32.92 - ETA: 0s - loss: 33.02 - ETA: 0s - loss: 32.77 - 0s 2ms/step - loss: 33.0872 - val_loss: 41.6374\n",
      "Epoch 48/50\n",
      "277/277 [==============================] - ETA: 0s - loss: 45.19 - ETA: 0s - loss: 31.78 - ETA: 0s - loss: 32.59 - ETA: 0s - loss: 33.25 - ETA: 0s - loss: 33.48 - ETA: 0s - loss: 33.62 - ETA: 0s - loss: 33.49 - ETA: 0s - loss: 33.45 - ETA: 0s - loss: 33.61 - 1s 2ms/step - loss: 33.4911 - val_loss: 33.4964\n",
      "Epoch 49/50\n",
      "277/277 [==============================] - ETA: 0s - loss: 31.68 - ETA: 0s - loss: 32.19 - ETA: 0s - loss: 32.96 - ETA: 0s - loss: 33.65 - ETA: 0s - loss: 33.46 - ETA: 0s - loss: 33.52 - ETA: 0s - loss: 33.34 - ETA: 0s - loss: 33.33 - 0s 2ms/step - loss: 33.1003 - val_loss: 32.7303\n",
      "Epoch 50/50\n",
      "277/277 [==============================] - ETA: 0s - loss: 19.77 - ETA: 0s - loss: 32.62 - ETA: 0s - loss: 33.58 - ETA: 0s - loss: 32.84 - ETA: 0s - loss: 33.14 - ETA: 0s - loss: 33.38 - ETA: 0s - loss: 32.83 - ETA: 0s - loss: 32.87 - 0s 2ms/step - loss: 32.9300 - val_loss: 33.6407\n"
     ]
    }
   ],
   "source": [
    "model = Sequential()\n",
    "model.add(Conv1D(filters=8, kernel_size=8, activation='relu', kernel_regularizer=\"l2\", input_shape=(300, 1)))\n",
    "#model.add(MaxPooling1D(pool_size=5))\n",
    "model.add(Dropout(0.1))\n",
    "model.add(Flatten())\n",
    "model.add(Dense(1))\n",
    "optimizer=keras.optimizers.Adam(lr=0.005)\n",
    "model.compile(optimizer=optimizer, loss='mean_absolute_error')\n",
    "Model=model.fit(x=X_train,y=y_train,epochs=50,batch_size=16,validation_split=0.2)"
   ]
  },
  {
   "cell_type": "code",
   "execution_count": 109,
   "metadata": {},
   "outputs": [
    {
     "name": "stdout",
     "output_type": "stream",
     "text": [
      "Model: \"sequential_9\"\n",
      "_________________________________________________________________\n",
      "Layer (type)                 Output Shape              Param #   \n",
      "=================================================================\n",
      "conv1d_8 (Conv1D)            (None, 293, 8)            72        \n",
      "_________________________________________________________________\n",
      "dropout_5 (Dropout)          (None, 293, 8)            0         \n",
      "_________________________________________________________________\n",
      "flatten_5 (Flatten)          (None, 2344)              0         \n",
      "_________________________________________________________________\n",
      "dense_8 (Dense)              (None, 1)                 2345      \n",
      "=================================================================\n",
      "Total params: 2,417\n",
      "Trainable params: 2,417\n",
      "Non-trainable params: 0\n",
      "_________________________________________________________________\n"
     ]
    }
   ],
   "source": [
    "model.summary()"
   ]
  },
  {
   "cell_type": "code",
   "execution_count": 110,
   "metadata": {},
   "outputs": [
    {
     "name": "stdout",
     "output_type": "stream",
     "text": [
      "Train set R^2:  0.8324161332372851\n",
      "Train MAE score: 31.0366\n",
      "Test set R^2:  0.8200907010315139\n",
      "Test MAE score: 33.3515\n"
     ]
    },
    {
     "data": {
      "text/plain": [
       "[<matplotlib.lines.Line2D at 0x27ffb5dc1c8>]"
      ]
     },
     "execution_count": 110,
     "metadata": {},
     "output_type": "execute_result"
    },
    {
     "data": {
      "image/png": "[encoded data removed]",
      "text/plain": [
       "<Figure size 432x288 with 1 Axes>"
      ]
     },
     "metadata": {
      "needs_background": "light"
     },
     "output_type": "display_data"
    }
   ],
   "source": [
    "y_pred_train = model.predict((X_train))\n",
    "print(\"Train set R^2: \", r2_score(y_train, y_pred_train))\n",
    "print(\"Train MAE score: %.4f\" % mean_absolute_error(y_train, y_pred_train))\n",
    "\n",
    "y_pred_test = model.predict((X_test))\n",
    "print(\"Test set R^2: \", r2_score(y_test, y_pred_test))\n",
    "print(\"Test MAE score: %.4f\" % mean_absolute_error(y_test, y_pred_test))\n",
    "\n",
    "ax=plt.subplot(1, 1, 1)\n",
    "plt.plot(y_train, y_pred_train, 'b.') \n",
    "plt.plot(y_test, y_pred_test, 'g.') \n",
    " \n",
    "plt.xlabel(\"True value of Tg (C)\",fontname=\"Times New Roman\", fontsize=15)\n",
    "plt.ylabel(\"Predicted value of Tg (C)\",fontname=\"Times New Roman\", fontsize=15)\n",
    "x0, x1 = min(y_train), max(y_train)\n",
    "length = x1 - x0\n",
    "x_start, x_end = x0-0.1*length, x1+0.1*length\n",
    "plt.xlim([x_start, x_end])\n",
    "plt.ylim([x_start, x_end])\n",
    "ax.set_xticks([-200,-100,0,100,200,300,400,500])\n",
    "ax.set_yticks([-200,-100,0,100,200,300,400,500])\n",
    "plt.xticks(fontname=\"Times New Roman\", fontsize=15)\n",
    "plt.yticks(fontname=\"Times New Roman\", fontsize=15)\n",
    "plt.gca().set_aspect(\"equal\", adjustable=\"box\")\n",
    "# the unit line\n",
    "plt.plot(np.arange(x_start, x_end, 0.01*length),\n",
    "np.arange(x_start, x_end, 0.01*length), 'r-')"
   ]
  },
  {
   "cell_type": "markdown",
   "metadata": {},
   "source": [
    "### SVM"
   ]
  },
  {
   "cell_type": "code",
   "execution_count": 54,
   "metadata": {},
   "outputs": [],
   "source": [
    "y = DF['Tg']\n",
    "X_train, X_test, y_train, y_test = train_test_split(X, y, \n",
    "                                                    test_size=0.2, \n",
    "                                                    random_state=2)"
   ]
  },
  {
   "cell_type": "code",
   "execution_count": 72,
   "metadata": {},
   "outputs": [
    {
     "data": {
      "text/plain": [
       "SVR(kernel='linear')"
      ]
     },
     "execution_count": 72,
     "metadata": {},
     "output_type": "execute_result"
    }
   ],
   "source": [
    "from sklearn.svm import SVR\n",
    "model = SVR(kernel = 'linear')\n",
    "model.fit(X_train, y_train)"
   ]
  },
  {
   "cell_type": "code",
   "execution_count": 73,
   "metadata": {},
   "outputs": [
    {
     "data": {
      "text/plain": [
       "{'C': 1.0,\n",
       " 'cache_size': 200,\n",
       " 'coef0': 0.0,\n",
       " 'degree': 3,\n",
       " 'epsilon': 0.1,\n",
       " 'gamma': 'scale',\n",
       " 'kernel': 'linear',\n",
       " 'max_iter': -1,\n",
       " 'shrinking': True,\n",
       " 'tol': 0.001,\n",
       " 'verbose': False}"
      ]
     },
     "execution_count": 73,
     "metadata": {},
     "output_type": "execute_result"
    }
   ],
   "source": [
    "model.get_params()"
   ]
  },
  {
   "cell_type": "code",
   "execution_count": 74,
   "metadata": {},
   "outputs": [
    {
     "name": "stdout",
     "output_type": "stream",
     "text": [
      "Train set R^2:  0.7797651887291073\n",
      "Train MAE score: 36.3532\n",
      "Test set R^2:  0.7503343106525535\n",
      "Test MAE score: 40.4017\n"
     ]
    },
    {
     "data": {
      "text/plain": [
       "[<matplotlib.lines.Line2D at 0x27fcac9dc08>]"
      ]
     },
     "execution_count": 74,
     "metadata": {},
     "output_type": "execute_result"
    },
    {
     "data": {
      "image/png": "[encoded data removed]",
      "text/plain": [
       "<Figure size 432x288 with 1 Axes>"
      ]
     },
     "metadata": {
      "needs_background": "light"
     },
     "output_type": "display_data"
    }
   ],
   "source": [
    "y_pred_train = model.predict((X_train))\n",
    "print(\"Train set R^2: \", r2_score(y_train, y_pred_train))\n",
    "print(\"Train MAE score: %.4f\" % mean_absolute_error(y_train, y_pred_train))\n",
    "\n",
    "y_pred_test = model.predict((X_test))\n",
    "print(\"Test set R^2: \", r2_score(y_test, y_pred_test))\n",
    "print(\"Test MAE score: %.4f\" % mean_absolute_error(y_test, y_pred_test))\n",
    "\n",
    "ax=plt.subplot(1, 1, 1)\n",
    "plt.plot(y_train, y_pred_train, 'b.') \n",
    "plt.plot(y_test, y_pred_test, 'g.') \n",
    " \n",
    "plt.xlabel(\"True value of Tg (C)\",fontname=\"Times New Roman\", fontsize=15)\n",
    "plt.ylabel(\"Predicted value of Tg (C)\",fontname=\"Times New Roman\", fontsize=15)\n",
    "x0, x1 = min(y_train), max(y_train)\n",
    "length = x1 - x0\n",
    "x_start, x_end = x0-0.1*length, x1+0.1*length\n",
    "plt.xlim([x_start, x_end])\n",
    "plt.ylim([x_start, x_end])\n",
    "ax.set_xticks([-200,-100,0,100,200,300,400,500])\n",
    "ax.set_yticks([-200,-100,0,100,200,300,400,500])\n",
    "plt.xticks(fontname=\"Times New Roman\", fontsize=15)\n",
    "plt.yticks(fontname=\"Times New Roman\", fontsize=15)\n",
    "plt.gca().set_aspect(\"equal\", adjustable=\"box\")\n",
    "# the unit line\n",
    "plt.plot(np.arange(x_start, x_end, 0.01*length),\n",
    "np.arange(x_start, x_end, 0.01*length), 'r-')"
   ]
  },
  {
   "cell_type": "markdown",
   "metadata": {},
   "source": [
    "### RandomForestRegressor"
   ]
  },
  {
   "cell_type": "code",
   "execution_count": 1,
   "metadata": {},
   "outputs": [],
   "source": [
    "from sklearn.ensemble import RandomForestRegressor"
   ]
  },
  {
   "cell_type": "code",
   "execution_count": 15,
   "metadata": {},
   "outputs": [],
   "source": [
    "y = DF['Tg']\n",
    "X_train, X_test, y_train, y_test = train_test_split(X, y, \n",
    "                                                    test_size=0.2, \n",
    "                                                    random_state=2)"
   ]
  },
  {
   "cell_type": "code",
   "execution_count": 25,
   "metadata": {},
   "outputs": [
    {
     "data": {
      "text/plain": [
       "RandomForestRegressor(random_state=0)"
      ]
     },
     "execution_count": 25,
     "metadata": {},
     "output_type": "execute_result"
    }
   ],
   "source": [
    "model = RandomForestRegressor(random_state=0)\n",
    "model.fit(X_train, y_train)"
   ]
  },
  {
   "cell_type": "code",
   "execution_count": 26,
   "metadata": {},
   "outputs": [
    {
     "data": {
      "text/plain": [
       "{'bootstrap': True,\n",
       " 'ccp_alpha': 0.0,\n",
       " 'criterion': 'mse',\n",
       " 'max_depth': None,\n",
       " 'max_features': 'auto',\n",
       " 'max_leaf_nodes': None,\n",
       " 'max_samples': None,\n",
       " 'min_impurity_decrease': 0.0,\n",
       " 'min_impurity_split': None,\n",
       " 'min_samples_leaf': 1,\n",
       " 'min_samples_split': 2,\n",
       " 'min_weight_fraction_leaf': 0.0,\n",
       " 'n_estimators': 100,\n",
       " 'n_jobs': None,\n",
       " 'oob_score': False,\n",
       " 'random_state': 0,\n",
       " 'verbose': 0,\n",
       " 'warm_start': False}"
      ]
     },
     "execution_count": 26,
     "metadata": {},
     "output_type": "execute_result"
    }
   ],
   "source": [
    "model.get_params()"
   ]
  },
  {
   "cell_type": "code",
   "execution_count": 27,
   "metadata": {},
   "outputs": [
    {
     "name": "stdout",
     "output_type": "stream",
     "text": [
      "Train set R^2:  0.9788803715005039\n",
      "Train MAE score: 10.9229\n",
      "Test set R^2:  0.8599919736850109\n",
      "Test MAE score: 29.0031\n"
     ]
    },
    {
     "data": {
      "text/plain": [
       "[<matplotlib.lines.Line2D at 0x27fc8791f08>]"
      ]
     },
     "execution_count": 27,
     "metadata": {},
     "output_type": "execute_result"
    },
    {
     "data": {
      "image/png": "[encoded data removed]",
      "text/plain": [
       "<Figure size 432x288 with 1 Axes>"
      ]
     },
     "metadata": {
      "needs_background": "light"
     },
     "output_type": "display_data"
    }
   ],
   "source": [
    "y_pred_train = model.predict((X_train))\n",
    "print(\"Train set R^2: \", r2_score(y_train, y_pred_train))\n",
    "print(\"Train MAE score: %.4f\" % mean_absolute_error(y_train, y_pred_train))\n",
    "\n",
    "y_pred_test = model.predict((X_test))\n",
    "print(\"Test set R^2: \", r2_score(y_test, y_pred_test))\n",
    "print(\"Test MAE score: %.4f\" % mean_absolute_error(y_test, y_pred_test))\n",
    "\n",
    "ax=plt.subplot(1, 1, 1)\n",
    "plt.plot(y_train, y_pred_train, 'b.') \n",
    "plt.plot(y_test, y_pred_test, 'g.') \n",
    " \n",
    "plt.xlabel(\"True value of Tg (C)\",fontname=\"Times New Roman\", fontsize=15)\n",
    "plt.ylabel(\"Predicted value of Tg (C)\",fontname=\"Times New Roman\", fontsize=15)\n",
    "x0, x1 = min(y_train), max(y_train)\n",
    "length = x1 - x0\n",
    "x_start, x_end = x0-0.1*length, x1+0.1*length\n",
    "plt.xlim([x_start, x_end])\n",
    "plt.ylim([x_start, x_end])\n",
    "ax.set_xticks([-200,-100,0,100,200,300,400,500])\n",
    "ax.set_yticks([-200,-100,0,100,200,300,400,500])\n",
    "plt.xticks(fontname=\"Times New Roman\", fontsize=15)\n",
    "plt.yticks(fontname=\"Times New Roman\", fontsize=15)\n",
    "plt.gca().set_aspect(\"equal\", adjustable=\"box\")\n",
    "# the unit line\n",
    "plt.plot(np.arange(x_start, x_end, 0.01*length),\n",
    "np.arange(x_start, x_end, 0.01*length), 'r-')"
   ]
  },
  {
   "cell_type": "code",
   "execution_count": null,
   "metadata": {},
   "outputs": [],
   "source": []
  }
 ],
 "metadata": {
  "kernelspec": {
   "display_name": "Python 3",
   "language": "python",
   "name": "python3"
  },
  "language_info": {
   "codemirror_mode": {
    "name": "ipython",
    "version": 3
   },
   "file_extension": ".py",
   "mimetype": "text/x-python",
   "name": "python",
   "nbconvert_exporter": "python",
   "pygments_lexer": "ipython3",
   "version": "3.7.4"
  }
 },
 "nbformat": 4,
 "nbformat_minor": 2
}
